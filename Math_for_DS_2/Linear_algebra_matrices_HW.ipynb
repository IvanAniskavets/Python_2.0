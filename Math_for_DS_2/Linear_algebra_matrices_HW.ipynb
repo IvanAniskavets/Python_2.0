{
 "cells": [
  {
   "cell_type": "markdown",
   "id": "civilian-membership",
   "metadata": {},
   "source": [
    "# Домашнее задание \"Линейная алгебра. Матрицы\".\n",
    "## Уровень 0:\n",
    "* Создайте матрицу 3 на 3, заполненную числами от 1 до 9  \n",
    "* Прибавьте к ней матрицу с единицами на диагонале  \n",
    "* Умножьте полученную матрицу на вектор (1, 2, 3)  \n",
    "* Посчитайте обратную матрицу к полученной в результате прибавления матрице  \n",
    "\n",
    "## Уровень 1:\n",
    "Дан объект в 2d пространстве:  \n",
    "\n",
    "import numpy as np  \n",
    "import matplotlib.pyplot as plt  \n",
    "\n",
    "A = [\n",
    "[-100, -100, 1],\n",
    "[-100, 100, 1],\n",
    "[100, 100, 1],\n",
    "[0, 0, 1],\n",
    "[100, -100, 1],\n",
    "[-100, -100, 1]\n",
    "]\n",
    "\n",
    "A = np.array(A)  \n",
    "x = A[:,0]  \n",
    "y = A[:,1]  \n",
    "\n",
    "plt.plot(x, y)  \n",
    "plt.ylim([-200, 200])  \n",
    "plt.xlim([-200, 200])  \n",
    "При помощи матричных операций выполните:  \n",
    "\n",
    "* Уменьшить объект в два раза\n",
    "* Повернуть на 130 градусов\n",
    "* Отразить объект относительно прямой y=x\n",
    "* Выполнить смещение объекта и масштабирование (применить 2 матрицы трансформаций). Смещение на (200, 300) и масштабирование на (0.5, 1.2)"
   ]
  },
  {
   "cell_type": "code",
   "execution_count": 29,
   "id": "naval-owner",
   "metadata": {},
   "outputs": [],
   "source": [
    "import numpy as np\n",
    "import matplotlib.pyplot as plt"
   ]
  },
  {
   "cell_type": "markdown",
   "id": "external-assignment",
   "metadata": {},
   "source": [
    "### Уровень 0"
   ]
  },
  {
   "cell_type": "code",
   "execution_count": 7,
   "id": "dated-christmas",
   "metadata": {},
   "outputs": [],
   "source": [
    "A = np.arange(1, 10).reshape(3,3)"
   ]
  },
  {
   "cell_type": "code",
   "execution_count": 8,
   "id": "enclosed-costs",
   "metadata": {},
   "outputs": [
    {
     "data": {
      "text/plain": [
       "array([[1, 2, 3],\n",
       "       [4, 5, 6],\n",
       "       [7, 8, 9]])"
      ]
     },
     "execution_count": 8,
     "metadata": {},
     "output_type": "execute_result"
    }
   ],
   "source": [
    "A"
   ]
  },
  {
   "cell_type": "code",
   "execution_count": 11,
   "id": "blond-engine",
   "metadata": {},
   "outputs": [
    {
     "data": {
      "text/plain": [
       "array([[1., 0., 0.],\n",
       "       [0., 1., 0.],\n",
       "       [0., 0., 1.]])"
      ]
     },
     "execution_count": 11,
     "metadata": {},
     "output_type": "execute_result"
    }
   ],
   "source": [
    "B = np.eye(3)\n",
    "B"
   ]
  },
  {
   "cell_type": "code",
   "execution_count": 18,
   "id": "working-worcester",
   "metadata": {},
   "outputs": [
    {
     "data": {
      "text/plain": [
       "array([[ 2.,  2.,  3.],\n",
       "       [ 4.,  6.,  6.],\n",
       "       [ 7.,  8., 10.]])"
      ]
     },
     "execution_count": 18,
     "metadata": {},
     "output_type": "execute_result"
    }
   ],
   "source": [
    "C = A + B\n",
    "C"
   ]
  },
  {
   "cell_type": "code",
   "execution_count": 13,
   "id": "convertible-shelf",
   "metadata": {},
   "outputs": [],
   "source": [
    "Vec = np.array([1, 2, 3])"
   ]
  },
  {
   "cell_type": "code",
   "execution_count": 19,
   "id": "cardiac-animal",
   "metadata": {},
   "outputs": [
    {
     "data": {
      "text/plain": [
       "array([15., 34., 53.])"
      ]
     },
     "execution_count": 19,
     "metadata": {},
     "output_type": "execute_result"
    }
   ],
   "source": [
    "D = C @ Vec\n",
    "D"
   ]
  },
  {
   "cell_type": "code",
   "execution_count": 24,
   "id": "laughing-christianity",
   "metadata": {},
   "outputs": [
    {
     "data": {
      "text/plain": [
       "array([[ 2.,  4.,  9.],\n",
       "       [ 4., 12., 18.],\n",
       "       [ 7., 16., 30.]])"
      ]
     },
     "execution_count": 24,
     "metadata": {},
     "output_type": "execute_result"
    }
   ],
   "source": [
    "# поэлементное перемножение матрицы\n",
    "\n",
    "D = C * Vec\n",
    "D"
   ]
  },
  {
   "cell_type": "code",
   "execution_count": 26,
   "id": "adverse-february",
   "metadata": {},
   "outputs": [
    {
     "data": {
      "text/plain": [
       "array([[-6.        , -2.        ,  3.        ],\n",
       "       [-0.5       ,  0.25      ,  0.        ],\n",
       "       [ 1.66666667,  0.33333333, -0.66666667]])"
      ]
     },
     "execution_count": 26,
     "metadata": {},
     "output_type": "execute_result"
    }
   ],
   "source": [
    "# обратная матрица матрицы D\n",
    "\n",
    "Inv_D = np.linalg.inv(D)\n",
    "Inv_D"
   ]
  },
  {
   "cell_type": "code",
   "execution_count": 27,
   "id": "overhead-usage",
   "metadata": {},
   "outputs": [
    {
     "data": {
      "text/plain": [
       "array([15., 34., 53.])"
      ]
     },
     "execution_count": 27,
     "metadata": {},
     "output_type": "execute_result"
    }
   ],
   "source": [
    "# скалярное произведение двумерных массивов\n",
    "\n",
    "D_dot = C @ Vec\n",
    "D_dot"
   ]
  },
  {
   "cell_type": "code",
   "execution_count": 28,
   "id": "daily-killing",
   "metadata": {},
   "outputs": [
    {
     "data": {
      "text/plain": [
       "array([15., 34., 53.])"
      ]
     },
     "execution_count": 28,
     "metadata": {},
     "output_type": "execute_result"
    }
   ],
   "source": [
    "# скалярное произведение двумерных массивов\n",
    "\n",
    "np.dot(C, Vec)"
   ]
  },
  {
   "cell_type": "markdown",
   "id": "authorized-lending",
   "metadata": {},
   "source": [
    "### Уровень 1\n"
   ]
  },
  {
   "cell_type": "code",
   "execution_count": 48,
   "id": "fixed-transcription",
   "metadata": {},
   "outputs": [],
   "source": [
    "A = [ [-100, -100, 1], [-100, 100, 1], [100, 100, 1], [0, 0, 1], [100, -100, 1], [-100, -100, 1] ]\n",
    "A = np.array(A)\n",
    "x = A[:,0]\n",
    "y = A[:,1]"
   ]
  },
  {
   "cell_type": "code",
   "execution_count": 49,
   "id": "corresponding-shareware",
   "metadata": {},
   "outputs": [
    {
     "data": {
      "text/plain": [
       "(-200.0, 200.0)"
      ]
     },
     "execution_count": 49,
     "metadata": {},
     "output_type": "execute_result"
    },
    {
     "data": {
      "image/png": "[encoded data removed]",
      "text/plain": [
       "<Figure size 432x288 with 1 Axes>"
      ]
     },
     "metadata": {
      "needs_background": "light"
     },
     "output_type": "display_data"
    }
   ],
   "source": [
    "plt.plot(x, y)\n",
    "plt.ylim([-200, 200])\n",
    "plt.xlim([-200, 200])"
   ]
  },
  {
   "cell_type": "markdown",
   "id": "accepting-sessions",
   "metadata": {},
   "source": [
    "### Уменьшить объект в два раза\n"
   ]
  },
  {
   "cell_type": "code",
   "execution_count": 89,
   "id": "tender-cologne",
   "metadata": {},
   "outputs": [
    {
     "data": {
      "text/plain": [
       "array([[-50. , -50. ,   0.5],\n",
       "       [-50. ,  50. ,   0.5],\n",
       "       [ 50. ,  50. ,   0.5],\n",
       "       [  0. ,   0. ,   0.5],\n",
       "       [ 50. , -50. ,   0.5],\n",
       "       [-50. , -50. ,   0.5]])"
      ]
     },
     "execution_count": 89,
     "metadata": {},
     "output_type": "execute_result"
    }
   ],
   "source": [
    "B = A / 2\n",
    "B"
   ]
  },
  {
   "cell_type": "code",
   "execution_count": 90,
   "id": "virgin-violin",
   "metadata": {},
   "outputs": [],
   "source": [
    "x = B[:,0]\n",
    "y = B[:,1]"
   ]
  },
  {
   "cell_type": "code",
   "execution_count": 91,
   "id": "dirty-sierra",
   "metadata": {},
   "outputs": [
    {
     "data": {
      "text/plain": [
       "(-200.0, 200.0)"
      ]
     },
     "execution_count": 91,
     "metadata": {},
     "output_type": "execute_result"
    },
    {
     "data": {
      "image/png": "[encoded data removed]",
      "text/plain": [
       "<Figure size 432x288 with 1 Axes>"
      ]
     },
     "metadata": {
      "needs_background": "light"
     },
     "output_type": "display_data"
    }
   ],
   "source": [
    "plt.plot(x, y)\n",
    "plt.ylim([-200, 200])\n",
    "plt.xlim([-200, 200])"
   ]
  },
  {
   "cell_type": "markdown",
   "id": "typical-public",
   "metadata": {},
   "source": [
    "### Повернуть объект на 130 градусов"
   ]
  },
  {
   "cell_type": "code",
   "execution_count": 93,
   "id": "rocky-pocket",
   "metadata": {},
   "outputs": [],
   "source": [
    "angle = 130.\n",
    "theta = (angle/180.) * np.pi\n",
    "\n",
    "M = [[1., 0., 0.], \n",
    "     [0., np.cos(theta), -np.sin(theta)], \n",
    "     [0., np.sin(theta),  np.cos(theta)]]\n",
    "M = np.array(M)"
   ]
  },
  {
   "cell_type": "code",
   "execution_count": 94,
   "id": "progressive-princess",
   "metadata": {},
   "outputs": [
    {
     "name": "stdout",
     "output_type": "stream",
     "text": [
      "[[-100.         -100.          100.            0.          100.\n",
      "  -100.        ]\n",
      " [  63.51271653  -65.04480541  -65.04480541   -0.76604444   63.51271653\n",
      "    63.51271653]\n",
      " [ -77.24723192   75.9616567    75.9616567    -0.64278761  -77.24723192\n",
      "   -77.24723192]]\n"
     ]
    }
   ],
   "source": [
    "# Умножение матрицы A на матрицу вращения вращает все столбцы по отдельности. \n",
    "# Транспонируем вперед, умножаем и транспонируем назад, чтобы повернуть все строки:\n",
    "\n",
    "print(A.dot(M.T).T)"
   ]
  },
  {
   "cell_type": "code",
   "execution_count": 95,
   "id": "artificial-donna",
   "metadata": {},
   "outputs": [
    {
     "data": {
      "text/plain": [
       "array([[-100.        , -100.        ,  100.        ,    0.        ,\n",
       "         100.        , -100.        ],\n",
       "       [  63.51271653,  -65.04480541,  -65.04480541,   -0.76604444,\n",
       "          63.51271653,   63.51271653],\n",
       "       [ -77.24723192,   75.9616567 ,   75.9616567 ,   -0.64278761,\n",
       "         -77.24723192,  -77.24723192]])"
      ]
     },
     "execution_count": 95,
     "metadata": {},
     "output_type": "execute_result"
    }
   ],
   "source": [
    "New_A = A.dot(M.T).T\n",
    "New_A"
   ]
  },
  {
   "cell_type": "code",
   "execution_count": 96,
   "id": "great-hardwood",
   "metadata": {},
   "outputs": [],
   "source": [
    "x = New_A[:,0]\n",
    "y = New_A[:,1]"
   ]
  },
  {
   "cell_type": "code",
   "execution_count": 97,
   "id": "maritime-infrared",
   "metadata": {},
   "outputs": [
    {
     "data": {
      "text/plain": [
       "(-200.0, 200.0)"
      ]
     },
     "execution_count": 97,
     "metadata": {},
     "output_type": "execute_result"
    },
    {
     "data": {
      "image/png": "[encoded data removed]",
      "text/plain": [
       "<Figure size 432x288 with 1 Axes>"
      ]
     },
     "metadata": {
      "needs_background": "light"
     },
     "output_type": "display_data"
    }
   ],
   "source": [
    "plt.plot(x, y)\n",
    "plt.ylim([-200, 200])\n",
    "plt.xlim([-200, 200])"
   ]
  },
  {
   "cell_type": "markdown",
   "id": "simplified-hughes",
   "metadata": {},
   "source": [
    "### Отразить объект относительно прямой y=x"
   ]
  },
  {
   "cell_type": "code",
   "execution_count": 84,
   "id": "american-ranking",
   "metadata": {},
   "outputs": [],
   "source": [
    "Inv = [[0, 1, 0], [1, 0, 0], [0, 0, 1]]\n",
    "Inv = np.array(Inv)"
   ]
  },
  {
   "cell_type": "code",
   "execution_count": 86,
   "id": "oriented-motel",
   "metadata": {},
   "outputs": [
    {
     "data": {
      "text/plain": [
       "array([[-100, -100,    1],\n",
       "       [ 100, -100,    1],\n",
       "       [ 100,  100,    1],\n",
       "       [   0,    0,    1],\n",
       "       [-100,  100,    1],\n",
       "       [-100, -100,    1]])"
      ]
     },
     "execution_count": 86,
     "metadata": {},
     "output_type": "execute_result"
    }
   ],
   "source": [
    "Inv_A = A @ Inv\n",
    "Inv_A"
   ]
  },
  {
   "cell_type": "code",
   "execution_count": 87,
   "id": "lesbian-location",
   "metadata": {},
   "outputs": [],
   "source": [
    "x = Inv_A[:,0]\n",
    "y = Inv_A[:,1]"
   ]
  },
  {
   "cell_type": "code",
   "execution_count": 88,
   "id": "incorporate-clearing",
   "metadata": {},
   "outputs": [
    {
     "data": {
      "text/plain": [
       "(-200.0, 200.0)"
      ]
     },
     "execution_count": 88,
     "metadata": {},
     "output_type": "execute_result"
    },
    {
     "data": {
      "image/png": "[encoded data removed]",
      "text/plain": [
       "<Figure size 432x288 with 1 Axes>"
      ]
     },
     "metadata": {
      "needs_background": "light"
     },
     "output_type": "display_data"
    }
   ],
   "source": [
    "plt.plot(x, y)\n",
    "plt.ylim([-200, 200])\n",
    "plt.xlim([-200, 200])"
   ]
  },
  {
   "cell_type": "markdown",
   "id": "spatial-temple",
   "metadata": {},
   "source": [
    "### Выполнить смещение объекта и масштабирование (применить 2 матрицы трансформаций). Смещение на (200, 300) и масштабирование на (0.5, 1.2)"
   ]
  },
  {
   "cell_type": "code",
   "execution_count": 98,
   "id": "satisfactory-separation",
   "metadata": {},
   "outputs": [
    {
     "data": {
      "text/plain": [
       "array([[-100, -100,    1],\n",
       "       [-100,  100,    1],\n",
       "       [ 100,  100,    1],\n",
       "       [   0,    0,    1],\n",
       "       [ 100, -100,    1],\n",
       "       [-100, -100,    1]])"
      ]
     },
     "execution_count": 98,
     "metadata": {},
     "output_type": "execute_result"
    }
   ],
   "source": [
    "A"
   ]
  },
  {
   "cell_type": "code",
   "execution_count": 109,
   "id": "outstanding-yorkshire",
   "metadata": {},
   "outputs": [],
   "source": [
    "# матрица сдвига, 1-ая трансформация\n",
    "\n",
    "Sdvig = np.array([200, 300, 0])"
   ]
  },
  {
   "cell_type": "code",
   "execution_count": 111,
   "id": "decent-madness",
   "metadata": {},
   "outputs": [
    {
     "data": {
      "text/plain": [
       "array([[100, 200,   1],\n",
       "       [100, 400,   1],\n",
       "       [300, 400,   1],\n",
       "       [200, 300,   1],\n",
       "       [300, 200,   1],\n",
       "       [100, 200,   1]])"
      ]
     },
     "execution_count": 111,
     "metadata": {},
     "output_type": "execute_result"
    }
   ],
   "source": [
    "# новая матрица А\n",
    "\n",
    "New_AA = A + Sdvig\n",
    "New_AA"
   ]
  },
  {
   "cell_type": "code",
   "execution_count": 114,
   "id": "pressed-station",
   "metadata": {},
   "outputs": [],
   "source": [
    "# матрица масштабирования\n",
    "\n",
    "scaling = np.array([0.5, 1.2, 1])"
   ]
  },
  {
   "cell_type": "code",
   "execution_count": 115,
   "id": "previous-scholarship",
   "metadata": {},
   "outputs": [
    {
     "data": {
      "text/plain": [
       "array([[ 50., 240.,   1.],\n",
       "       [ 50., 480.,   1.],\n",
       "       [150., 480.,   1.],\n",
       "       [100., 360.,   1.],\n",
       "       [150., 240.,   1.],\n",
       "       [ 50., 240.,   1.]])"
      ]
     },
     "execution_count": 115,
     "metadata": {},
     "output_type": "execute_result"
    }
   ],
   "source": [
    "# новая матрица А после первой и второй трансформации\n",
    "\n",
    "New_AAA = New_AA * scaling\n",
    "New_AAA"
   ]
  },
  {
   "cell_type": "code",
   "execution_count": 116,
   "id": "adverse-christopher",
   "metadata": {},
   "outputs": [],
   "source": [
    "x = New_AAA[:,0]\n",
    "y = New_AAA[:,1]"
   ]
  },
  {
   "cell_type": "code",
   "execution_count": 118,
   "id": "initial-weekly",
   "metadata": {},
   "outputs": [
    {
     "data": {
      "text/plain": [
       "(-500.0, 500.0)"
      ]
     },
     "execution_count": 118,
     "metadata": {},
     "output_type": "execute_result"
    },
    {
     "data": {
      "image/png": "[encoded data removed]",
      "text/plain": [
       "<Figure size 432x288 with 1 Axes>"
      ]
     },
     "metadata": {
      "needs_background": "light"
     },
     "output_type": "display_data"
    }
   ],
   "source": [
    "plt.plot(x, y)\n",
    "plt.ylim([-500, 500])\n",
    "plt.xlim([-500, 500])"
   ]
  },
  {
   "cell_type": "code",
   "execution_count": null,
   "id": "faced-competition",
   "metadata": {},
   "outputs": [],
   "source": []
  }
 ],
 "metadata": {
  "kernelspec": {
   "display_name": "Python 3",
   "language": "python",
   "name": "python3"
  },
  "language_info": {
   "codemirror_mode": {
    "name": "ipython",
    "version": 3
   },
   "file_extension": ".py",
   "mimetype": "text/x-python",
   "name": "python",
   "nbconvert_exporter": "python",
   "pygments_lexer": "ipython3",
   "version": "3.8.5"
  }
 },
 "nbformat": 4,
 "nbformat_minor": 5
}
