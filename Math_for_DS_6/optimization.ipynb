{
 "cells": [
  {
   "cell_type": "markdown",
   "id": "productive-attention",
   "metadata": {},
   "source": [
    "## Задание\n",
    "При фиксированном seed=42 поразбирайтесь и поэкспериментируйте с параметрами алгоритма дифференциальной эволюции: strategy, popsize, tol, mutation, recombination и updating.  \n",
    "Постройте графики количества итераций оптимизации функции ackley от значения параметра.  \n",
    "\n"
   ]
  },
  {
   "cell_type": "code",
   "execution_count": 2,
   "id": "mediterranean-colors",
   "metadata": {},
   "outputs": [],
   "source": [
    "import numpy as np\n",
    "from scipy.optimize import differential_evolution\n",
    "import matplotlib.pyplot as plt"
   ]
  },
  {
   "cell_type": "code",
   "execution_count": 3,
   "id": "stunning-rating",
   "metadata": {},
   "outputs": [
    {
     "data": {
      "text/plain": [
       "     fun: 4.440892098500626e-16\n",
       " message: 'Optimization terminated successfully.'\n",
       "    nfev: 2793\n",
       "     nit: 90\n",
       " success: True\n",
       "       x: array([0., 0.])"
      ]
     },
     "execution_count": 3,
     "metadata": {},
     "output_type": "execute_result"
    }
   ],
   "source": [
    "def ackley(x):\n",
    "    arg1 = -0.2 * np.sqrt(0.5 * (x[0] ** 2 + x[1] ** 2))\n",
    "    arg2 = 0.5 * (np.cos(2. * np.pi * x[0]) + np.cos(2. * np.pi * x[1]))\n",
    "    return -20. * np.exp(arg1) - np.exp(arg2) + 20. + np.e\n",
    "\n",
    "bounds = [(-10, 10), (-10, 10)]\n",
    "\n",
    "result = differential_evolution(ackley, bounds, seed=42)\n",
    "result"
   ]
  },
  {
   "cell_type": "code",
   "execution_count": 4,
   "id": "distinct-major",
   "metadata": {},
   "outputs": [
    {
     "data": {
      "text/plain": [
       "     fun: 4.440892098500626e-16\n",
       " message: 'Optimization terminated successfully.'\n",
       "    nfev: 2793\n",
       "     nit: 90\n",
       " success: True\n",
       "       x: array([0., 0.])"
      ]
     },
     "execution_count": 4,
     "metadata": {},
     "output_type": "execute_result"
    }
   ],
   "source": [
    "result_1 = differential_evolution(ackley, bounds, strategy='best1bin',\n",
    "                                popsize=15, tol=0.01, mutation=(0.5, 1), recombination=0.7, seed=42, updating='immediate')\n",
    "result_1"
   ]
  },
  {
   "cell_type": "code",
   "execution_count": 5,
   "id": "fluid-combine",
   "metadata": {},
   "outputs": [
    {
     "data": {
      "text/plain": [
       "     fun: 4.440892098500626e-16\n",
       " message: 'Optimization terminated successfully.'\n",
       "    nfev: 38713\n",
       "     nit: 772\n",
       " success: True\n",
       "       x: array([0., 0.])"
      ]
     },
     "execution_count": 5,
     "metadata": {},
     "output_type": "execute_result"
    }
   ],
   "source": [
    "result_2 = differential_evolution(ackley, bounds, strategy='randtobest1exp',\n",
    "                                popsize=25, tol=0.02, mutation=(1.5, 1.9), recombination=0.5, seed=42, updating='deferred')\n",
    "result_2"
   ]
  },
  {
   "cell_type": "code",
   "execution_count": 6,
   "id": "stunning-ocean",
   "metadata": {},
   "outputs": [
    {
     "data": {
      "text/plain": [
       "     fun: 4.440892098500626e-16\n",
       " message: 'Optimization terminated successfully.'\n",
       "    nfev: 10043\n",
       "     nit: 498\n",
       " success: True\n",
       "       x: array([0., 0.])"
      ]
     },
     "execution_count": 6,
     "metadata": {},
     "output_type": "execute_result"
    }
   ],
   "source": [
    "result_3 = differential_evolution(ackley, bounds, strategy='randtobest1exp',\n",
    "                                  popsize=10, tol=0.005, mutation=(0.5, 1.5), recombination=0.3, seed=42, updating='immediate')\n",
    "result_3"
   ]
  },
  {
   "cell_type": "code",
   "execution_count": 8,
   "id": "selective-measurement",
   "metadata": {},
   "outputs": [
    {
     "data": {
      "text/plain": [
       "     fun: 4.440892098500626e-16\n",
       " message: 'Optimization terminated successfully.'\n",
       "    nfev: 2883\n",
       "     nit: 93\n",
       " success: True\n",
       "       x: array([0., 0.])"
      ]
     },
     "execution_count": 8,
     "metadata": {},
     "output_type": "execute_result"
    }
   ],
   "source": [
    "result_4 = differential_evolution(ackley, bounds, strategy='randtobest1exp', \n",
    "                                    popsize=15, tol=0.005, mutation=(0.1, 0.7), recombination=1.5, seed=42, updating='deferred')\n",
    "result_4"
   ]
  },
  {
   "cell_type": "code",
   "execution_count": 10,
   "id": "underlying-sister",
   "metadata": {},
   "outputs": [
    {
     "data": {
      "text/plain": [
       "     fun: 4.440892098500626e-16\n",
       " message: 'Optimization terminated successfully.'\n",
       "    nfev: 3423\n",
       "     nit: 83\n",
       " success: True\n",
       "       x: array([0., 0.])"
      ]
     },
     "execution_count": 10,
     "metadata": {},
     "output_type": "execute_result"
    }
   ],
   "source": [
    "result_5 = differential_evolution(ackley, bounds, strategy='randtobest1exp', \n",
    "                               popsize=20, tol=0.005, mutation=(0.1, 0.5), recombination=2, seed=42, updating='deferred')\n",
    "result_5"
   ]
  },
  {
   "cell_type": "code",
   "execution_count": 11,
   "id": "narrow-fellow",
   "metadata": {},
   "outputs": [
    {
     "data": {
      "text/plain": [
       "     fun: 4.440892098500626e-16\n",
       " message: 'Optimization terminated successfully.'\n",
       "    nfev: 3703\n",
       "     nit: 90\n",
       " success: True\n",
       "       x: array([0., 0.])"
      ]
     },
     "execution_count": 11,
     "metadata": {},
     "output_type": "execute_result"
    }
   ],
   "source": [
    "result_6 = differential_evolution(ackley, bounds, strategy='randtobest1exp',\n",
    "                                popsize=20, tol=0.005, mutation=(0.1, 0.3), recombination=2, seed=42, updating='deferred')\n",
    "result_6"
   ]
  },
  {
   "cell_type": "code",
   "execution_count": 14,
   "id": "large-flesh",
   "metadata": {},
   "outputs": [
    {
     "data": {
      "image/png": "[encoded data removed]",
      "text/plain": [
       "<Figure size 432x288 with 1 Axes>"
      ]
     },
     "metadata": {
      "needs_background": "light"
     },
     "output_type": "display_data"
    }
   ],
   "source": [
    "list_count_nit = []\n",
    "popsize = [x for x in range(1, 36)]\n",
    "\n",
    "for n in range(1, 36):\n",
    "    result_X = differential_evolution(ackley, bounds, strategy='best1bin',\n",
    "                          popsize=n, tol=0.01, mutation=(0.5, 1), recombination=0.7, seed=42, updating='immediate')\n",
    "    list_count_nit.append(result_X.nit)\n",
    "    \n",
    "plt.title('График количества итераций от параметра popsize', fontdict={'fontsize':18}, pad=16)\n",
    "plt.plot(popsize, list_count_nit, label = 'value of popsize' )\n",
    "plt.grid(True)\n",
    "plt.xlabel(\"popsize\")\n",
    "plt.ylabel(\"number of iterations\")\n",
    "plt.legend()\n",
    "plt.show()"
   ]
  },
  {
   "cell_type": "code",
   "execution_count": 15,
   "id": "athletic-peeing",
   "metadata": {},
   "outputs": [
    {
     "data": {
      "image/png": "[encoded data removed]",
      "text/plain": [
       "<Figure size 432x288 with 1 Axes>"
      ]
     },
     "metadata": {
      "needs_background": "light"
     },
     "output_type": "display_data"
    }
   ],
   "source": [
    "list_count_nit = []\n",
    "tol = [x for x in np.arange(0.0005, 1.0, 0.005)]\n",
    "\n",
    "for n in np.arange(0.0005, 1.0, 0.005):\n",
    "    result_X = differential_evolution(ackley, bounds, strategy='best1bin',\n",
    "       popsize=10, tol=n, mutation=(0.5, 1), recombination=0.7, seed=42, updating='immediate')\n",
    "    list_count_nit.append(result_X.nit)\n",
    "\n",
    "plt.title('График количества итераций от параметра tol', fontdict={'fontsize':18}, pad=16)\n",
    "plt.plot(tol, list_count_nit, label = 'value of tol' )\n",
    "plt.grid(True)\n",
    "plt.xlabel(\"tol\")\n",
    "plt.ylabel(\"number of iterations\")\n",
    "plt.legend()\n",
    "plt.show()"
   ]
  },
  {
   "cell_type": "code",
   "execution_count": 20,
   "id": "exterior-criminal",
   "metadata": {},
   "outputs": [
    {
     "data": {
      "image/png": "[encoded data removed]",
      "text/plain": [
       "<Figure size 432x288 with 1 Axes>"
      ]
     },
     "metadata": {
      "needs_background": "light"
     },
     "output_type": "display_data"
    }
   ],
   "source": [
    "list_count_nit = []\n",
    "recombination = [x for x in np.arange(0., 1., 0.05)]\n",
    "\n",
    "for n in np.arange(0., 1., 0.05):\n",
    "    result_X = differential_evolution(ackley, bounds, strategy='best1bin', \n",
    "                                      popsize=10, tol=0.4, mutation=(0.5, 1), recombination=n, seed=42, updating='immediate')\n",
    "    list_count_nit.append(result_X.nit)\n",
    "\n",
    "plt.title('График количества итераций от параметра recombination', fontdict={'fontsize':18}, pad=16) \n",
    "plt.plot(recombination, list_count_nit, label = 'value of recombination' )\n",
    "plt.grid(True)\n",
    "plt.xlabel(\"recombination\")\n",
    "plt.ylabel(\"number of iterations\")\n",
    "plt.legend()\n",
    "plt.show()"
   ]
  },
  {
   "cell_type": "markdown",
   "id": "coral-bulgaria",
   "metadata": {},
   "source": [
    "## Дополнительное задание\n",
    "Найти множество параметров (strategy=..., ..., updating=...), которые требуют минимального количества итераций.\n",
    "   "
   ]
  },
  {
   "cell_type": "code",
   "execution_count": 22,
   "id": "suitable-poultry",
   "metadata": {},
   "outputs": [],
   "source": [
    "# popsize = [x for x in range(1, 36)]\\n\",\n",
    "# tol_list = [x for x in np.arange(0.0005, 1.0, 0.005)]\\n\",\n",
    "# recombination = [x for x in np.arange(0., 1., 0.05)] \\n\",\n",
    "updating_list = ['immediate', 'deferred']\n",
    "strategy_list = ['best1bin', 'best1exp', 'rand1exp', 'randtobest1exp', 'currenttobest1exp', 'best2exp', \n",
    "                 'rand2exp', 'randtobest1bin', 'currenttobest1bin', 'best2bin', 'rand2bin', 'rand1bin']"
   ]
  },
  {
   "cell_type": "code",
   "execution_count": 23,
   "id": "radical-measurement",
   "metadata": {},
   "outputs": [],
   "source": [
    "def ackley(x):\n",
    "    arg1 = -0.2 * np.sqrt(0.5 * (x[0] ** 2 + x[1] ** 2))\n",
    "    arg2 = 0.5 * (np.cos(2. * np.pi * x[0]) + np.cos(2. * np.pi * x[1]))\n",
    "    return -20. * np.exp(arg1) - np.exp(arg2) + 20. + np.e\n",
    "\n",
    "bounds = [(-10, 10), (-10, 10)]"
   ]
  },
  {
   "cell_type": "code",
   "execution_count": 25,
   "id": "removable-ticket",
   "metadata": {},
   "outputs": [
    {
     "ename": "ValueError",
     "evalue": "not enough values to unpack (expected 5, got 4)",
     "output_type": "error",
     "traceback": [
      "\u001b[1;31m---------------------------------------------------------------------------\u001b[0m",
      "\u001b[1;31mValueError\u001b[0m                                Traceback (most recent call last)",
      "\u001b[1;32m<ipython-input-25-ad6064c65df3>\u001b[0m in \u001b[0;36m<module>\u001b[1;34m\u001b[0m\n\u001b[0;32m      7\u001b[0m             \u001b[1;32mfor\u001b[0m \u001b[0mupdating\u001b[0m \u001b[1;32min\u001b[0m \u001b[0mupdating_list\u001b[0m\u001b[1;33m:\u001b[0m\u001b[1;33m\u001b[0m\u001b[1;33m\u001b[0m\u001b[0m\n\u001b[0;32m      8\u001b[0m                 \u001b[1;32mfor\u001b[0m \u001b[0mstrategy\u001b[0m \u001b[1;32min\u001b[0m \u001b[0mstrategy_list\u001b[0m\u001b[1;33m:\u001b[0m\u001b[1;33m\u001b[0m\u001b[1;33m\u001b[0m\u001b[0m\n\u001b[1;32m----> 9\u001b[1;33m                     result_X = differential_evolution(ackley, bounds, strategy = strategy, popsize = popsize, \n\u001b[0m\u001b[0;32m     10\u001b[0m                                                       tol = tol, mutation = (0.1, 1.9), recombination = recombination, seed = 42, updating = updating)\n\u001b[0;32m     11\u001b[0m                     \u001b[0mn\u001b[0m \u001b[1;33m=\u001b[0m \u001b[0mint\u001b[0m\u001b[1;33m(\u001b[0m\u001b[0mresult_X\u001b[0m\u001b[1;33m.\u001b[0m\u001b[0mnit\u001b[0m\u001b[1;33m)\u001b[0m\u001b[1;33m\u001b[0m\u001b[1;33m\u001b[0m\u001b[0m\n",
      "\u001b[1;32m~\\anaconda3\\lib\\site-packages\\scipy\\optimize\\_differentialevolution.py\u001b[0m in \u001b[0;36mdifferential_evolution\u001b[1;34m(func, bounds, args, strategy, maxiter, popsize, tol, mutation, recombination, seed, callback, disp, polish, init, atol, updating, workers, constraints)\u001b[0m\n\u001b[0;32m    306\u001b[0m                                      \u001b[0mworkers\u001b[0m\u001b[1;33m=\u001b[0m\u001b[0mworkers\u001b[0m\u001b[1;33m,\u001b[0m\u001b[1;33m\u001b[0m\u001b[1;33m\u001b[0m\u001b[0m\n\u001b[0;32m    307\u001b[0m                                      constraints=constraints) as solver:\n\u001b[1;32m--> 308\u001b[1;33m         \u001b[0mret\u001b[0m \u001b[1;33m=\u001b[0m \u001b[0msolver\u001b[0m\u001b[1;33m.\u001b[0m\u001b[0msolve\u001b[0m\u001b[1;33m(\u001b[0m\u001b[1;33m)\u001b[0m\u001b[1;33m\u001b[0m\u001b[1;33m\u001b[0m\u001b[0m\n\u001b[0m\u001b[0;32m    309\u001b[0m \u001b[1;33m\u001b[0m\u001b[0m\n\u001b[0;32m    310\u001b[0m     \u001b[1;32mreturn\u001b[0m \u001b[0mret\u001b[0m\u001b[1;33m\u001b[0m\u001b[1;33m\u001b[0m\u001b[0m\n",
      "\u001b[1;32m~\\anaconda3\\lib\\site-packages\\scipy\\optimize\\_differentialevolution.py\u001b[0m in \u001b[0;36msolve\u001b[1;34m(self)\u001b[0m\n\u001b[0;32m    757\u001b[0m             \u001b[1;31m# evolve the population by a generation\u001b[0m\u001b[1;33m\u001b[0m\u001b[1;33m\u001b[0m\u001b[1;33m\u001b[0m\u001b[0m\n\u001b[0;32m    758\u001b[0m             \u001b[1;32mtry\u001b[0m\u001b[1;33m:\u001b[0m\u001b[1;33m\u001b[0m\u001b[1;33m\u001b[0m\u001b[0m\n\u001b[1;32m--> 759\u001b[1;33m                 \u001b[0mnext\u001b[0m\u001b[1;33m(\u001b[0m\u001b[0mself\u001b[0m\u001b[1;33m)\u001b[0m\u001b[1;33m\u001b[0m\u001b[1;33m\u001b[0m\u001b[0m\n\u001b[0m\u001b[0;32m    760\u001b[0m             \u001b[1;32mexcept\u001b[0m \u001b[0mStopIteration\u001b[0m\u001b[1;33m:\u001b[0m\u001b[1;33m\u001b[0m\u001b[1;33m\u001b[0m\u001b[0m\n\u001b[0;32m    761\u001b[0m                 \u001b[0mwarning_flag\u001b[0m \u001b[1;33m=\u001b[0m \u001b[1;32mTrue\u001b[0m\u001b[1;33m\u001b[0m\u001b[1;33m\u001b[0m\u001b[0m\n",
      "\u001b[1;32m~\\anaconda3\\lib\\site-packages\\scipy\\optimize\\_differentialevolution.py\u001b[0m in \u001b[0;36m__next__\u001b[1;34m(self)\u001b[0m\n\u001b[0;32m   1046\u001b[0m \u001b[1;33m\u001b[0m\u001b[0m\n\u001b[0;32m   1047\u001b[0m                 \u001b[1;31m# create a trial solution\u001b[0m\u001b[1;33m\u001b[0m\u001b[1;33m\u001b[0m\u001b[1;33m\u001b[0m\u001b[0m\n\u001b[1;32m-> 1048\u001b[1;33m                 \u001b[0mtrial\u001b[0m \u001b[1;33m=\u001b[0m \u001b[0mself\u001b[0m\u001b[1;33m.\u001b[0m\u001b[0m_mutate\u001b[0m\u001b[1;33m(\u001b[0m\u001b[0mcandidate\u001b[0m\u001b[1;33m)\u001b[0m\u001b[1;33m\u001b[0m\u001b[1;33m\u001b[0m\u001b[0m\n\u001b[0m\u001b[0;32m   1049\u001b[0m \u001b[1;33m\u001b[0m\u001b[0m\n\u001b[0;32m   1050\u001b[0m                 \u001b[1;31m# ensuring that it's in the range [0, 1)\u001b[0m\u001b[1;33m\u001b[0m\u001b[1;33m\u001b[0m\u001b[1;33m\u001b[0m\u001b[0m\n",
      "\u001b[1;32m~\\anaconda3\\lib\\site-packages\\scipy\\optimize\\_differentialevolution.py\u001b[0m in \u001b[0;36m_mutate\u001b[1;34m(self, candidate)\u001b[0m\n\u001b[0;32m   1161\u001b[0m                                         self._select_samples(candidate, 5))\n\u001b[0;32m   1162\u001b[0m         \u001b[1;32melse\u001b[0m\u001b[1;33m:\u001b[0m\u001b[1;33m\u001b[0m\u001b[1;33m\u001b[0m\u001b[0m\n\u001b[1;32m-> 1163\u001b[1;33m             \u001b[0mbprime\u001b[0m \u001b[1;33m=\u001b[0m \u001b[0mself\u001b[0m\u001b[1;33m.\u001b[0m\u001b[0mmutation_func\u001b[0m\u001b[1;33m(\u001b[0m\u001b[0mself\u001b[0m\u001b[1;33m.\u001b[0m\u001b[0m_select_samples\u001b[0m\u001b[1;33m(\u001b[0m\u001b[0mcandidate\u001b[0m\u001b[1;33m,\u001b[0m \u001b[1;36m5\u001b[0m\u001b[1;33m)\u001b[0m\u001b[1;33m)\u001b[0m\u001b[1;33m\u001b[0m\u001b[1;33m\u001b[0m\u001b[0m\n\u001b[0m\u001b[0;32m   1164\u001b[0m \u001b[1;33m\u001b[0m\u001b[0m\n\u001b[0;32m   1165\u001b[0m         \u001b[1;32mif\u001b[0m \u001b[0mself\u001b[0m\u001b[1;33m.\u001b[0m\u001b[0mstrategy\u001b[0m \u001b[1;32min\u001b[0m \u001b[0mself\u001b[0m\u001b[1;33m.\u001b[0m\u001b[0m_binomial\u001b[0m\u001b[1;33m:\u001b[0m\u001b[1;33m\u001b[0m\u001b[1;33m\u001b[0m\u001b[0m\n",
      "\u001b[1;32m~\\anaconda3\\lib\\site-packages\\scipy\\optimize\\_differentialevolution.py\u001b[0m in \u001b[0;36m_rand2\u001b[1;34m(self, samples)\u001b[0m\n\u001b[0;32m   1225\u001b[0m     \u001b[1;32mdef\u001b[0m \u001b[0m_rand2\u001b[0m\u001b[1;33m(\u001b[0m\u001b[0mself\u001b[0m\u001b[1;33m,\u001b[0m \u001b[0msamples\u001b[0m\u001b[1;33m)\u001b[0m\u001b[1;33m:\u001b[0m\u001b[1;33m\u001b[0m\u001b[1;33m\u001b[0m\u001b[0m\n\u001b[0;32m   1226\u001b[0m         \u001b[1;34m\"\"\"rand2bin, rand2exp\"\"\"\u001b[0m\u001b[1;33m\u001b[0m\u001b[1;33m\u001b[0m\u001b[0m\n\u001b[1;32m-> 1227\u001b[1;33m         \u001b[0mr0\u001b[0m\u001b[1;33m,\u001b[0m \u001b[0mr1\u001b[0m\u001b[1;33m,\u001b[0m \u001b[0mr2\u001b[0m\u001b[1;33m,\u001b[0m \u001b[0mr3\u001b[0m\u001b[1;33m,\u001b[0m \u001b[0mr4\u001b[0m \u001b[1;33m=\u001b[0m \u001b[0msamples\u001b[0m\u001b[1;33m\u001b[0m\u001b[1;33m\u001b[0m\u001b[0m\n\u001b[0m\u001b[0;32m   1228\u001b[0m         bprime = (self.population[r0] + self.scale *\n\u001b[0;32m   1229\u001b[0m                   (self.population[r1] + self.population[r2] -\n",
      "\u001b[1;31mValueError\u001b[0m: not enough values to unpack (expected 5, got 4)"
     ]
    }
   ],
   "source": [
    "params = {}\n",
    "nit = 100\n",
    "\n",
    "for popsize in range(1, 36):\n",
    "    for tol in np.arange(0.0005, 1.0, 0.005):\n",
    "        for recombination in np.arange(0., 1., 0.05):\n",
    "            for updating in updating_list:\n",
    "                for strategy in strategy_list:\n",
    "                    result_X = differential_evolution(ackley, bounds, strategy = strategy, popsize = popsize, \n",
    "                                                      tol = tol, mutation = (0.1, 1.9), recombination = recombination, seed = 42, updating = updating)\n",
    "                    n = int(result_X.nit)\n",
    "                    if n < nit:\n",
    "                        nit = n\n",
    "                        params['nit'] = n\n",
    "                        params['popsize'] = popsize\n",
    "                        params['tol'] = tol\n",
    "                        params['recombination'] = recombination\n",
    "                        params['updating'] = updating\n",
    "                        params['strategy'] = strategy\n",
    "                    else:\n",
    "                        continue\n"
   ]
  },
  {
   "cell_type": "markdown",
   "id": "further-devon",
   "metadata": {},
   "source": [
    "# Вопросы:\n",
    "\n",
    "1. Какие пути контроля глобалоного оптимума функции Ackley ?\n",
    "   - как это осуществляется ? если можно пример или статью ?\n",
    "2. Реализовать путем вложенных циклов доп. часть задания не удалось, буду благодарен за разбор этой части\n",
    "\n",
    "Спасибо"
   ]
  },
  {
   "cell_type": "code",
   "execution_count": null,
   "id": "amazing-hobby",
   "metadata": {},
   "outputs": [],
   "source": []
  }
 ],
 "metadata": {
  "kernelspec": {
   "display_name": "Python 3",
   "language": "python",
   "name": "python3"
  },
  "language_info": {
   "codemirror_mode": {
    "name": "ipython",
    "version": 3
   },
   "file_extension": ".py",
   "mimetype": "text/x-python",
   "name": "python",
   "nbconvert_exporter": "python",
   "pygments_lexer": "ipython3",
   "version": "3.8.5"
  }
 },
 "nbformat": 4,
 "nbformat_minor": 5
}
