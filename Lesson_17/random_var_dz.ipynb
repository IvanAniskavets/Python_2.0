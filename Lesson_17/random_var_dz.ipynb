{
 "cells": [
  {
   "cell_type": "code",
   "execution_count": null,
   "id": "excited-internship",
   "metadata": {},
   "outputs": [],
   "source": []
  },
  {
   "cell_type": "code",
   "execution_count": 2,
   "id": "loved-portuguese",
   "metadata": {},
   "outputs": [],
   "source": [
    "import numpy as np"
   ]
  },
  {
   "cell_type": "markdown",
   "id": "annual-latitude",
   "metadata": {},
   "source": [
    "# Задание\n",
    "\n",
    "Смоделировать игру против лотерейного автомата типа “777”. Игрок платит 1 руб., после чего выпадает случайное целое число, равномерно распределенное от 0 до 999. При некоторых значениях числа игрок получает выигрыш (см. справа).  \n",
    "\n",
    "Выгодна ли игра игроку?  \n",
    "\n",
    "Сколько в среднем приобретает  \n",
    "или теряет игрок за одну игру?  \n",
    "\n",
    "777: 200 руб.  \n",
    "999: 100 руб.  \n",
    "555: 50 руб.  \n",
    "333: 15 руб.  \n",
    "111: 10 руб.  \n",
    "*77: 5 руб.  \n",
    "**7: 3 руб.  \n",
    "*00: 2 руб.  \n",
    "**0: 1 руб.  \n",
    "\n",
    "* – любая цифра  \n",
    "Дополнительное задание повышенной сложности. Теоретически рассчитать средний выигрыш (проигрыш) и сравнить с результатами моделирования  "
   ]
  },
  {
   "cell_type": "code",
   "execution_count": 13,
   "id": "exposed-google",
   "metadata": {},
   "outputs": [
    {
     "name": "stdout",
     "output_type": "stream",
     "text": [
      "Ваш выигрыш составил: 798246 руб.\n",
      "Количество побед: 203754. Проигрыш: 796246 руб.. Ставка: 1000000 руб.\n",
      "Теоретическая вероятность: 0.204. Вероятность из моделирования: 0.203754. Средний выигрыш за одну игру: 80 копеек.\n",
      "Средняя потеря за одну игру: 20 копеек\n"
     ]
    }
   ],
   "source": [
    "money_total = 1000000   # Количество попыток, оно же сумма ставок \n",
    "win = 0    # Количество успехов\n",
    "loss = 0   # Количество проигрышей\n",
    "\n",
    "#money_total = int(input('Введите сумму оплаты лотереи'))\n",
    "\n",
    "winning_amount = 0\n",
    "\n",
    "for i in range(money_total):\n",
    "    random_score = np.random.randint(0, 1000)    # Случайное количество очков от 1 до 999\n",
    "    if random_score == 777:   # 1 число\n",
    "        win += 1\n",
    "        winning_amount += 200\n",
    "    elif random_score == 999: # 1 число\n",
    "        win += 1\n",
    "        winning_amount += 100\n",
    "    elif random_score == 555: # 1 число \n",
    "        win += 1\n",
    "        winning_amount += 50\n",
    "    elif random_score == 333: # 1 число\n",
    "        win += 1\n",
    "        winning_amount += 15\n",
    "    elif random_score == 111: # 1 число\n",
    "        win += 1\n",
    "        winning_amount += 10\n",
    "    elif random_score%100 == 77 and random_score != 777: # 9 чисел\n",
    "        win += 1\n",
    "        winning_amount += 5\n",
    "    elif random_score%10 == 7: # 90 чисел\n",
    "        win += 1\n",
    "        winning_amount += 3\n",
    "    elif random_score%100 == 0: # 10 чисел\n",
    "        win += 1\n",
    "        winning_amount += 2\n",
    "    elif random_score%10 == 0: # 90 чисел\n",
    "        win += 1\n",
    "        winning_amount += 1\n",
    "    else:\n",
    "        loss += 1\n",
    "\n",
    "if winning_amount > 0:\n",
    "    print('Ваш выигрыш составил:', winning_amount, 'руб.')\n",
    "else:\n",
    "    print('Вы проиграли:(')\n",
    "\n",
    "p = 204 / 1000                                  # Теоретическая вероятность\n",
    "p_monte_carlo = win / money_total             # Вероятность из моделирования\n",
    "winning_model = winning_amount / money_total  # средний выигрыш за одну игру\n",
    "\n",
    "\n",
    "print(f'Количество побед: {win}. Проигрыш: {loss} руб.. Ставка: {money_total} руб.')\n",
    "print(f'Теоретическая вероятность: {p}. Вероятность из моделирования: {p_monte_carlo}. Средний выигрыш за одну игру: {round(100*winning_model)} копеек.') \n",
    "print(f'Средняя потеря за одну игру: {round(100*(1-winning_model))} копеек')"
   ]
  },
  {
   "cell_type": "code",
   "execution_count": 14,
   "id": "valued-hughes",
   "metadata": {},
   "outputs": [],
   "source": [
    "def shoot():\n",
    "    return np.random.randint(0, 1000)"
   ]
  },
  {
   "cell_type": "code",
   "execution_count": 15,
   "id": "fifteen-information",
   "metadata": {},
   "outputs": [
    {
     "data": {
      "text/plain": [
       "(array([ 91., 108.,  97.,  84., 108., 121.,  98., 102.,  91., 100.]),\n",
       " array([  1. , 100.8, 200.6, 300.4, 400.2, 500. , 599.8, 699.6, 799.4,\n",
       "        899.2, 999. ]),\n",
       " <BarContainer object of 10 artists>)"
      ]
     },
     "execution_count": 15,
     "metadata": {},
     "output_type": "execute_result"
    },
    {
     "data": {
      "image/png": "[encoded data removed]",
      "text/plain": [
       "<Figure size 432x288 with 1 Axes>"
      ]
     },
     "metadata": {
      "needs_background": "light"
     },
     "output_type": "display_data"
    }
   ],
   "source": [
    "# Построим  график выпадения чисел от 0 до 999:\n",
    "\n",
    "from matplotlib import pyplot as plt\n",
    "%matplotlib inline\n",
    "y = [ shoot() for v in range(1000) ]\n",
    "plt.hist(y)"
   ]
  },
  {
   "cell_type": "markdown",
   "id": "double-steam",
   "metadata": {},
   "source": [
    "# Выводы:\n",
    "\n",
    "### Вопрос 1: Выгодна ли игроку игра?\n",
    "Ответ: Игра игроку не выгодна.\n",
    "\n",
    "### Вопрос 2: Сколько в среднем приобретает или теряет игрок за одну игру?\n",
    "Ответ: Игрок за одну игру теряет сумму платы за игру, то есть 1 рубль потери за каждую проигрышную игру. Игрок ничего не приобретает за одну игру так как для одной игры вероятность выигрыша сильно мала."
   ]
  },
  {
   "cell_type": "markdown",
   "id": "deadly-inclusion",
   "metadata": {},
   "source": [
    "# Дополнительное задание\n",
    "Теоретически рассчитать средний\n",
    "выигрыш (проигрыш) и сравнить с результатами\n",
    "моделирования"
   ]
  },
  {
   "cell_type": "code",
   "execution_count": 16,
   "id": "restricted-algeria",
   "metadata": {},
   "outputs": [
    {
     "name": "stdout",
     "output_type": "stream",
     "text": [
      "78.74399999999999\n"
     ]
    }
   ],
   "source": [
    "# среднее значение выигрыша\n",
    "\n",
    "winning_sum = [200, 100, 50, 15, 10, 5, 3, 2, 1]\n",
    "winning=0\n",
    "\n",
    "for i in winning_sum:\n",
    "    x = p * i + (1-p)*0\n",
    "    winning += x\n",
    "print(winning)"
   ]
  },
  {
   "cell_type": "code",
   "execution_count": 17,
   "id": "interracial-disorder",
   "metadata": {},
   "outputs": [
    {
     "name": "stdout",
     "output_type": "stream",
     "text": [
      "307.256\n"
     ]
    }
   ],
   "source": [
    "# среднее значение проигрыша\n",
    "winning_sum = [200, 100, 50, 15, 10, 5, 3, 2, 1]\n",
    "lossing=0\n",
    "p_2 = 1-p\n",
    "\n",
    "for i in winning_sum:\n",
    "    x = p_2 * 0 + (1-p) * i\n",
    "    lossing += x\n",
    "print(lossing)"
   ]
  },
  {
   "cell_type": "code",
   "execution_count": 18,
   "id": "associate-delight",
   "metadata": {},
   "outputs": [
    {
     "name": "stdout",
     "output_type": "stream",
     "text": [
      "Средний выигрыш за одну игру: 80 копеек.\n"
     ]
    }
   ],
   "source": [
    "# среднее значение выигрыша при моделировании \n",
    "winning_model = winning_amount / money_total\n",
    "print(f'Средний выигрыш за одну игру: {round(100*winning_model)} копеек.')"
   ]
  },
  {
   "cell_type": "code",
   "execution_count": 19,
   "id": "frequent-metro",
   "metadata": {},
   "outputs": [
    {
     "name": "stdout",
     "output_type": "stream",
     "text": [
      "Средняя потеря за одну игру: 20 копеек\n"
     ]
    }
   ],
   "source": [
    "# среднее значение проигрыша при моделировании \n",
    "print(f'Средняя потеря за одну игру: {round(100*(1-winning_model))} копеек')"
   ]
  },
  {
   "cell_type": "code",
   "execution_count": 21,
   "id": "intense-brother",
   "metadata": {},
   "outputs": [
    {
     "data": {
      "text/plain": [
       "0.7999999999999999"
      ]
     },
     "execution_count": 21,
     "metadata": {},
     "output_type": "execute_result"
    }
   ],
   "source": [
    "#определим вероятность каждого выигрышного исхода и воспользуемся формулой P1*X1 + P2*X2 + ... + Pn*Xn  :\n",
    "\n",
    "victory = 0.001*(200 + 100 + 50 + 15 + 10) + (9/1000)*5 + (10/1000)*2 + ((99-9)/1000)*3 + ((100-10)/1000)*1\n",
    "victory"
   ]
  },
  {
   "cell_type": "code",
   "execution_count": null,
   "id": "basic-queensland",
   "metadata": {},
   "outputs": [],
   "source": []
  }
 ],
 "metadata": {
  "kernelspec": {
   "display_name": "Python 3",
   "language": "python",
   "name": "python3"
  },
  "language_info": {
   "codemirror_mode": {
    "name": "ipython",
    "version": 3
   },
   "file_extension": ".py",
   "mimetype": "text/x-python",
   "name": "python",
   "nbconvert_exporter": "python",
   "pygments_lexer": "ipython3",
   "version": "3.8.5"
  }
 },
 "nbformat": 4,
 "nbformat_minor": 5
}
