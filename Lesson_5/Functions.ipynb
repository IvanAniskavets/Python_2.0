{
 "cells": [
  {
   "cell_type": "markdown",
   "id": "hollow-infrastructure",
   "metadata": {},
   "source": [
    "# Оглавление\n",
    "\n",
    "1. [Задание 1 - Основная функция](#task1)  \n",
    "    1.1 [Пункт 1 - Подфункция](#subtask1)  \n",
    "    1.2 [Пункт 2 - Подфункция](#subtask2)  \n",
    "    1.3 [Пункт 3 - Подфункция](#subtask3)   \n",
    "    1.4 [Пункт 4 - Подфункция](#subtask4)  \n",
    "    1.5 [Пункт 5 - Подфункция](#subtask5)  \n",
    "2. [Задание 2](#task2)  \n",
    "    2.1 [Пункт 1 - Подфункция](#subtask21)    \n",
    "    2.2 [Пункт 2 - Подфункция](#subtask22)    \n",
    "    2.3 [Пункт 3 - Подфункция](#subtask23)     \n",
    " "
   ]
  },
  {
   "cell_type": "markdown",
   "id": "allied-small",
   "metadata": {},
   "source": [
    "# Предусловие\n",
    "Вам нужно помочь секретарю автоматизировать работу. Для этого нужно написать программу, которая будет на основе хранимых данных исполнять пользовательские команды.\n",
    "\n",
    "Исходные данные имеют следующую структуру:\n",
    "\n",
    "1. перечень всех документов\n",
    "\n",
    "documents = [\n",
    "{‘type’: ‘passport’, ‘number’: ‘2207 876234’, ‘name’: ‘Василий Гупкин’},\n",
    "{‘type’: ‘invoice’, ‘number’: ‘11-2’, ‘name’: ‘Геннадий Покемонов’},\n",
    "{‘type’: ‘insurance’, ‘number’: ‘10006’, ‘name’: ‘Аристарх Павлов’}\n",
    "]\n",
    "\n",
    "2.перечень полок, на которых хранятся документы (если документ есть в documents, то он обязательно должен быть и в directories)\n",
    "\n",
    "directories = {\n",
    "‘1’: [‘2207 876234’, ‘11-2’],\n",
    "‘2’: [‘10006’],\n",
    "‘3’: []\n",
    "}\n",
    "\n",
    "Общие требования к программе:\n",
    "\n",
    "код должен быть грамотно декомпозирован (каждая функция отвечает за свою конкретную задачу, дублирующийся функционал переиспользуется, а его код не повторяется);\n",
    "в коде отсутствуют глобальные переменные (за исключением documents и directories);\n",
    "пользовательский ввод обрабатывается в цикле while до тех пор, пока пользователь явно не завершит программу (вводом команды “q”)."
   ]
  },
  {
   "cell_type": "markdown",
   "id": "comfortable-catch",
   "metadata": {},
   "source": [
    "# Условие \n",
    "Задание 1\n",
    "\n",
    "Пункт 1. Пользователь по команде “p” может узнать владельца документа по его номеру\n",
    "Примеры работы:\n",
    "\n",
    "Введите команду:\n",
    "p\n",
    "\n",
    "Введите номер документа:\n",
    "10006\n",
    "\n",
    "Результат:\n",
    "Владелец документа: Аристарх Павлов\n",
    "\n",
    "Введите команду:\n",
    "p\n",
    "\n",
    "Введите номер документа:\n",
    "12345\n",
    "\n",
    "Результат:\n",
    "Документ не найден в базе\n",
    "\n",
    "Пункт 2. Пользователь по команде “s” может по номеру документа узнать на какой полке он хранится\n",
    "Примеры работы:\n",
    "\n",
    "Введите команду:\n",
    "s\n",
    "\n",
    "Введите номер документа:\n",
    "10006\n",
    "\n",
    "Результат:\n",
    "Документ хранится на полке: 2\n",
    "\n",
    "Введите команду:\n",
    "p\n",
    "\n",
    "Введите номер документа:\n",
    "12345\n",
    "\n",
    "Результат:\n",
    "Документ не найден в базе\n",
    "\n",
    "Пункт 3. Пользователь по команде “l” может увидеть полную информацию по всем документам\n",
    "Пример работы:\n",
    "\n",
    "Введите команду:\n",
    "l\n",
    "Результат:\n",
    "\n",
    "№: 2207 876234, тип: passport, владелец: Василий Гупкин, полка хранения: 1\n",
    "№: 11-2, тип: invoice, владелец: Геннадий Покемонов, полка хранения: 1\n",
    "№: 10006, тип: insurance, владелец: Аристарх Павлов, полка хранения: 2\n",
    "\n",
    "Пункт 4. Пользователь по команде “as” может добавить новую полку\n",
    "Примеры работы:\n",
    "\n",
    "Введите команду:\n",
    "as\n",
    "\n",
    "Введите номер полки:\n",
    "10\n",
    "\n",
    "Результат:\n",
    "Полка добавлена. Текущий перечень полок: 1, 2, 3, 10.\n",
    "\n",
    "Введите команду:\n",
    "as\n",
    "\n",
    "Введите номер полки:\n",
    "1\n",
    "\n",
    "Результат:\n",
    "Такая полка уже существует. Текущий перечень полок: 1, 2, 3.\n",
    "\n",
    "Пункт 5. Пользователь по команде “ds” может удалить существующую полку из данных (только если она пустая)\n",
    "Примеры работы:\n",
    "\n",
    "Введите команду:\n",
    "ds\n",
    "\n",
    "Введите номер полки:\n",
    "3\n",
    "Результат:\n",
    "Полка удалена. Текущий перечень полок: 1, 2.\n",
    "\n",
    "Введите команду:\n",
    "ds\n",
    "\n",
    "Введите номер полки:\n",
    "1\n",
    "Результат:\n",
    "На полке есть документа, удалите их перед удалением полки. Текущий перечень полок: 1, 2, 3.\n",
    "\n",
    "Введите команду:\n",
    "ds\n",
    "\n",
    "Введите номер полки:\n",
    "4\n",
    "Результат:\n",
    "Такой полки не существует. Текущий перечень полок: 1, 2, 3.\n"
   ]
  },
  {
   "cell_type": "code",
   "execution_count": 47,
   "id": "confidential-discussion",
   "metadata": {},
   "outputs": [],
   "source": [
    "documents = [\n",
    " {'type': 'passport', 'number': '2207 876234', 'name': 'Василий Гупкин'},\n",
    " {'type': 'invoice', 'number': '11-2', 'name': 'Геннадий Покемонов'},\n",
    " {'type': 'insurance', 'number': '10006', 'name': 'Аристарх Павлов'}\n",
    "]\n"
   ]
  },
  {
   "cell_type": "code",
   "execution_count": 48,
   "id": "international-maker",
   "metadata": {},
   "outputs": [],
   "source": [
    "directories = {\n",
    " '1': ['2207 876234', '11-2'],\n",
    " '2': ['10006'],\n",
    " '3': []\n",
    "}"
   ]
  },
  {
   "cell_type": "markdown",
   "id": "editorial-demonstration",
   "metadata": {},
   "source": [
    "## Решение \n",
    "\n",
    "## Задание 1\n",
    "<a id='task1'></a>"
   ]
  },
  {
   "cell_type": "code",
   "execution_count": 46,
   "id": "primary-mountain",
   "metadata": {},
   "outputs": [],
   "source": [
    "# Код итоговая главнай функции\n",
    "\n",
    "def main():\n",
    "    print('Программа запущена и готова к работе')\n",
    "    while True:\n",
    "        user_input = input('Введите команду: ')\n",
    "        if user_input == 'p':\n",
    "            print('Результат:')\n",
    "            name_owner()\n",
    "        elif user_input == 's':\n",
    "            print('Результат:')\n",
    "            number_directory()\n",
    "        elif user_input == 'l':\n",
    "            print('Результат:')\n",
    "            info_total()\n",
    "        elif user_input == 'ads':\n",
    "            print('Результат:')\n",
    "            get_directory()\n",
    "        elif user_input == 'ds':\n",
    "            print('Результат:')\n",
    "            delete_directory()\n",
    "        elif user_input == 'ad':\n",
    "            print('Результат:')\n",
    "            get_document()\n",
    "        elif user_input == 'd':\n",
    "            print('Результат:')\n",
    "            delete_document()\n",
    "        elif user_input == 'm':\n",
    "            print('Результат:')\n",
    "            move_doc()\n",
    "        elif user_input == 'q':\n",
    "            print('Работа завершена.')\n",
    "            break\n",
    "        else:\n",
    "            print('Введена неверная команда.')"
   ]
  },
  {
   "cell_type": "code",
   "execution_count": 38,
   "id": "included-national",
   "metadata": {},
   "outputs": [
    {
     "name": "stdout",
     "output_type": "stream",
     "text": [
      "Программа запущена и готова к работе\n",
      "Введите команду: й\n",
      "Введена неверная команда.\n",
      "Введите команду: q\n",
      "Работа завершена.\n"
     ]
    }
   ],
   "source": [
    "# Вызов итоговой главной функции\n",
    "\n",
    "main()"
   ]
  },
  {
   "cell_type": "markdown",
   "id": "deluxe-proceeding",
   "metadata": {},
   "source": [
    "## Пункт 1\n",
    "<a id='subtask1'></a>"
   ]
  },
  {
   "cell_type": "code",
   "execution_count": 22,
   "id": "engaged-paint",
   "metadata": {},
   "outputs": [
    {
     "name": "stdout",
     "output_type": "stream",
     "text": [
      "Введите номер документа: 10006\n",
      "Владелец документа: Аристарх Павлов\n"
     ]
    }
   ],
   "source": [
    "def name_owner():\n",
    "    user_input = input('Введите номер документа: ')\n",
    "    for document in documents:\n",
    "        number = document['number']\n",
    "        name = document['name']\n",
    "        if user_input == number:\n",
    "            name = name\n",
    "            break\n",
    "        else:\n",
    "            name = None\n",
    "    if name != None:\n",
    "        print(f'Владелец документа: {name}')\n",
    "    else:\n",
    "        print('Владелец документа не найден')\n",
    "\n",
    "name_owner()"
   ]
  },
  {
   "cell_type": "markdown",
   "id": "economic-latex",
   "metadata": {},
   "source": [
    "## Пункт 2\n",
    "<a id='subtask2'></a>"
   ]
  },
  {
   "cell_type": "code",
   "execution_count": 14,
   "id": "correct-holder",
   "metadata": {},
   "outputs": [
    {
     "name": "stdout",
     "output_type": "stream",
     "text": [
      "Введите номер документа: 10006\n",
      "Документ хранится на полке: 2\n"
     ]
    }
   ],
   "source": [
    "def number_directory():\n",
    "    user_input = input('Введите номер документа: ')\n",
    "    for key, value in directories.items():\n",
    "        if user_input in value:\n",
    "            key = key\n",
    "            break\n",
    "        else:\n",
    "            key = None\n",
    "    if key != None:\n",
    "        print(f'Документ хранится на полке: {key}')\n",
    "    else:\n",
    "        print('Документ не найден или некорретный номер документа')\n",
    "        \n",
    "number_directory()"
   ]
  },
  {
   "cell_type": "markdown",
   "id": "other-giant",
   "metadata": {},
   "source": [
    "## Пункт 3\n",
    "<a id='subtask3'></a>"
   ]
  },
  {
   "cell_type": "code",
   "execution_count": 18,
   "id": "upset-prerequisite",
   "metadata": {},
   "outputs": [
    {
     "name": "stdout",
     "output_type": "stream",
     "text": [
      "№: 2207 876234, тип: passport, владелец: Василий Гупкин, полка хранения: 3\n",
      "№: 11-2, тип: invoice, владелец: Геннадий Покемонов, полка хранения: 3\n",
      "№: 10006, тип: insurance, владелец: Аристарх Павлов, полка хранения: 3\n"
     ]
    }
   ],
   "source": [
    "def info_total():\n",
    "    for document in documents:\n",
    "                type_doc = document['type']\n",
    "                doc_num = document['number']\n",
    "                name_own =  document['name']\n",
    "                for key, value in directories.items():\n",
    "                    if document['number'] in value:\n",
    "                        key = key\n",
    "                print(f'№: {doc_num}, тип: {type_doc}, владелец: {name_own}, полка хранения: {key}')\n",
    "                \n",
    "info_total()"
   ]
  },
  {
   "cell_type": "markdown",
   "id": "strategic-grade",
   "metadata": {},
   "source": [
    "## Пункт 4\n",
    "<a id='subtask4'></a>"
   ]
  },
  {
   "cell_type": "code",
   "execution_count": 31,
   "id": "uniform-tokyo",
   "metadata": {},
   "outputs": [
    {
     "name": "stdout",
     "output_type": "stream",
     "text": [
      "Введите номер полки: 3\n",
      "Полка добавлена. Текущий перечень полок: 1, 2, 3 .\n"
     ]
    }
   ],
   "source": [
    "def get_directory():\n",
    "    user_input = input('Введите номер полки: ')\n",
    "    for key in directories.keys():\n",
    "        key\n",
    "    if user_input not in directories:\n",
    "        directories[user_input] = []\n",
    "        print('Полка добавлена. Текущий перечень полок:', ', '.join(directories.keys()), '.')        \n",
    "    else:\n",
    "        print('Такая полка уже существует. Текущий перечень полок:', ', '.join(directories.keys()), '.')\n",
    "    \n",
    "get_directory()"
   ]
  },
  {
   "cell_type": "markdown",
   "id": "broke-sudan",
   "metadata": {},
   "source": [
    "## Пункт 5\n",
    "<a id='subtask5'></a>"
   ]
  },
  {
   "cell_type": "code",
   "execution_count": 41,
   "id": "ahead-toddler",
   "metadata": {},
   "outputs": [
    {
     "name": "stdout",
     "output_type": "stream",
     "text": [
      "Введите номер полки1\n",
      "На полке есть документы, удалите их перед удалением полки.Текущий перечень полок: 1, 2, 3 .\n"
     ]
    }
   ],
   "source": [
    "def delete_directory():\n",
    "    user_input = input('Введите номер полки')\n",
    "    if user_input in list(directories.keys()) and directories[user_input] == [] :\n",
    "        del(directories[user_input])\n",
    "        print('Полка удалена.Текущий перечень полок:', ', '.join(directories.keys()), '.')\n",
    "    elif user_input in list(directories.keys()) and directories[user_input] != [] :\n",
    "        print('На полке есть документы, удалите их перед удалением полки.Текущий перечень полок:', ', '.join(directories.keys()), '.')\n",
    "    else:\n",
    "        print('Такой полки не существует. Текущий перечень полок:', ', '.join(directories.keys()), '.')\n",
    "    \n",
    "        \n",
    "delete_directory()"
   ]
  },
  {
   "cell_type": "markdown",
   "id": "comprehensive-memorabilia",
   "metadata": {},
   "source": [
    "## Решение Задание 2\n",
    "<a id='task2'></a>"
   ]
  },
  {
   "cell_type": "markdown",
   "id": "sharing-filename",
   "metadata": {},
   "source": [
    "## Пункт 1\n",
    "<a id='subtask21'></a>"
   ]
  },
  {
   "cell_type": "code",
   "execution_count": 40,
   "id": "political-pennsylvania",
   "metadata": {},
   "outputs": [
    {
     "name": "stdout",
     "output_type": "stream",
     "text": [
      "Введите номер документа: 025070\n",
      "Введите тип документа: pasport\n",
      "Введите владельца документа: Aniskavets Ivan\n",
      "Введите полку для хранения: 3\n",
      "Документ добавлен. Текущий список документов:\n",
      "№: 2207 876234, тип: passport, владелец: Василий Гупкин, полка хранения: 3\n",
      "№: 11-2, тип: invoice, владелец: Геннадий Покемонов, полка хранения: 3\n",
      "№: 10006, тип: insurance, владелец: Аристарх Павлов, полка хранения: 3\n",
      "№: 025070, тип: pasport, владелец: Aniskavets Ivan, полка хранения: 3\n"
     ]
    }
   ],
   "source": [
    "def get_document():\n",
    "    user_input = input('Введите номер документа: ')\n",
    "    number_doc = user_input\n",
    "    user_input_2 = input('Введите тип документа: ')\n",
    "    type_doc = user_input_2\n",
    "    user_input_3 = input('Введите владельца документа: ')\n",
    "    owner_doc = user_input_3\n",
    "    user_input_key = input('Введите полку для хранения: ')\n",
    "    key = user_input_key\n",
    "    if key in directories.keys():\n",
    "        res = {}\n",
    "        res['type'] = type_doc\n",
    "        res['number'] = number_doc\n",
    "        res['name'] = owner_doc\n",
    "        documents.append(res)\n",
    "        directories[key].append(number_doc)\n",
    "        print('Документ добавлен. Текущий список документов:')\n",
    "        info_total()\n",
    "    else:\n",
    "        print('Такой полки не существует. Добавьте полку командой as.')\n",
    "        info_total()\n",
    "        \n",
    "get_document()"
   ]
  },
  {
   "cell_type": "markdown",
   "id": "convenient-afternoon",
   "metadata": {},
   "source": [
    "## Пункт 2\n",
    "<a id='subtask22'></a>"
   ]
  },
  {
   "cell_type": "code",
   "execution_count": null,
   "id": "international-machine",
   "metadata": {},
   "outputs": [],
   "source": [
    "def delete_document():\n",
    "    user_input = input('Введите номер документа')\n",
    "    for value in documents:\n",
    "        if user_input in list(value.values()):\n",
    "            documents.remove(value)\n",
    "            print('Документ удален.')\n",
    "            print('Текущий список документов:')\n",
    "            info_total()\n",
    "            return\n",
    "    for key, value in directories.items():\n",
    "        if user_input in value:\n",
    "            value.remove(user_input)\n",
    "            return\n",
    "    print('Документ не найден в базе.')\n",
    "    print('Текущий список документов:')\n",
    "    info_total()\n",
    "    return\n",
    "                \n",
    "delete_document()"
   ]
  },
  {
   "cell_type": "markdown",
   "id": "exciting-memorabilia",
   "metadata": {},
   "source": [
    "## Пункт 3\n",
    "<a id='subtask23'></a>"
   ]
  },
  {
   "cell_type": "code",
   "execution_count": 45,
   "id": "rolled-taylor",
   "metadata": {},
   "outputs": [
    {
     "name": "stdout",
     "output_type": "stream",
     "text": [
      "Введите номер документа: 10006\n",
      "Введите номер полки:3\n",
      "Документ перемещен\n",
      "Текущий список документов:\n",
      "№: 2207 876234, тип: passport, владелец: Василий Гупкин, полка хранения: 3\n",
      "№: 11-2, тип: invoice, владелец: Геннадий Покемонов, полка хранения: 3\n",
      "№: 10006, тип: insurance, владелец: Аристарх Павлов, полка хранения: 3\n"
     ]
    }
   ],
   "source": [
    "def move_doc():\n",
    "    doc_number = input('Введите номер документа: ')\n",
    "    number_directory = input('Введите номер полки:')\n",
    "    if number_directory not in directories:\n",
    "        print('Такой полки не существует. Текущий перечень полок:', ', '.join(directories.keys()), '.')\n",
    "        return\n",
    "    for key, value in directories.items():\n",
    "        if doc_number in value:\n",
    "            directories[number_directory] += [doc_number]\n",
    "            value.remove(doc_number)\n",
    "            print('Документ перемещен')\n",
    "            print('Текущий список документов:')\n",
    "            info_total()\n",
    "            return\n",
    "    print('Документ не найден в базе.')\n",
    "    print('Текущий список документов:')\n",
    "    info_total()\n",
    "    return\n",
    "\n",
    "move_doc()"
   ]
  },
  {
   "cell_type": "code",
   "execution_count": null,
   "id": "emerging-supervisor",
   "metadata": {},
   "outputs": [],
   "source": []
  }
 ],
 "metadata": {
  "kernelspec": {
   "display_name": "Python 3",
   "language": "python",
   "name": "python3"
  },
  "language_info": {
   "codemirror_mode": {
    "name": "ipython",
    "version": 3
   },
   "file_extension": ".py",
   "mimetype": "text/x-python",
   "name": "python",
   "nbconvert_exporter": "python",
   "pygments_lexer": "ipython3",
   "version": "3.8.5"
  }
 },
 "nbformat": 4,
 "nbformat_minor": 5
}
