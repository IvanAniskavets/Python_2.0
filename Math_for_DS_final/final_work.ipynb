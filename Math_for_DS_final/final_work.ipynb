{
 "cells": [
  {
   "cell_type": "code",
   "execution_count": 255,
   "id": "elder-tackle",
   "metadata": {},
   "outputs": [],
   "source": [
    "import matplotlib.pyplot as plt\n",
    "import numpy as np\n",
    "from numpy import linalg as LA\n",
    "from sympy import *\n",
    "from scipy.optimize import minimize\n",
    "from scipy.optimize import differential_evolution\n",
    "%matplotlib inline"
   ]
  },
  {
   "cell_type": "markdown",
   "id": "announced-visit",
   "metadata": {},
   "source": [
    "# Задание 1\n",
    "Дана матрица рейтингов фильмов (строки - пользователи (10 человек), столбцы - фильмы (15 фильмов))"
   ]
  },
  {
   "cell_type": "code",
   "execution_count": 182,
   "id": "lucky-guide",
   "metadata": {},
   "outputs": [],
   "source": [
    "raitings = np.array([[ 4,  4,  9,  4,  1,  6, 10,  7,  9,  6,  9,  2,  8,  6,  6],\n",
    "                     [ 9,  2,  5, 10,  7,  8, 10,  5,  6,  2,  1,  6,  8,  9,  7],\n",
    "                     [ 1,  6,  8,  8,  4,  9,  3,  8, 10,  5,  2,  6,  8,  1,  6],\n",
    "                     [ 6,  1,  9,  7,  7,  9,  2,  3,  5,  1,  6,  6,  3,  2,  7],\n",
    "                     [ 3,  7,  3,  5,  7,  9,  9,  6,  2,  9,  1,  2,  8, 10,  6],\n",
    "                     [ 8,  3,  7,  3,  8,  6,  1,  8,  8,  6,  1,  9,  4, 10,  1],\n",
    "                     [ 9,  8,  4,  8,  8, 10,  6,  1,  1,  2,  9,  5,  2,  7,  2],\n",
    "                     [ 4,  1,  6,  4,  3, 10,  4,  4,  2,  8,  7,  9,  3,  8,  3],\n",
    "                     [ 2,  7,  7,  6, 10,  6,  8,  9,  8,  6, 10,  1,  7, 10,  4],\n",
    "                     [ 5, 10,  8,  8,  9,  7,  2,  9,  9, 10,  8,  8,  8,  6, 10]])"
   ]
  },
  {
   "cell_type": "markdown",
   "id": "instrumental-bachelor",
   "metadata": {},
   "source": [
    "a) Необходимо найти наиболее похожего пользователя по косинусной метрике для каждого из (ответ: 10 пар вида (x, y), где y - наиболее похожий пользователь на пользователя x).\n",
    "\n",
    "b) Предположим, вы захотели сжать признаковые описания пользователя с 15 фильмов, до, скажем, 5-ти признаков, как вы это сделаете?"
   ]
  },
  {
   "cell_type": "code",
   "execution_count": 183,
   "id": "checked-supply",
   "metadata": {},
   "outputs": [],
   "source": [
    "# a) решение\n",
    "\n",
    "from scipy.spatial.distance import cosine\n",
    "\n",
    "dists = []\n",
    "lines = len(raitings)\n",
    "i = 0\n",
    "\n",
    "\n",
    "for i in range(lines):\n",
    "    index = [x for x in range(len(raitings))]\n",
    "    index.pop(i)\n",
    "    for j in index:\n",
    "        dists.append({\"number_user\": i, \"distance\": round(cosine(raitings[i], raitings[j]), 2), \"number_similar_user\": j})\n"
   ]
  },
  {
   "cell_type": "code",
   "execution_count": 192,
   "id": "northern-princeton",
   "metadata": {},
   "outputs": [
    {
     "name": "stdout",
     "output_type": "stream",
     "text": [
      "Пара схожих пользователей: 0 - 8, значение косинусной метрики: 0.09 .\n",
      "Пара схожих пользователей: 1 - 4, значение косинусной метрики: 0.13 .\n",
      "Пара схожих пользователей: 2 - 9, значение косинусной метрики: 0.08 .\n",
      "Пара схожих пользователей: 3 - 9, значение косинусной метрики: 0.14 .\n",
      "Пара схожих пользователей: 4 - 8, значение косинусной метрики: 0.12 .\n",
      "Пара схожих пользователей: 5 - 9, значение косинусной метрики: 0.14 .\n",
      "Пара схожих пользователей: 6 - 1, значение косинусной метрики: 0.17 .\n",
      "Пара схожих пользователей: 6 - 3, значение косинусной метрики: 0.17 .\n",
      "Пара схожих пользователей: 6 - 7, значение косинусной метрики: 0.17 .\n",
      "Пара схожих пользователей: 7 - 5, значение косинусной метрики: 0.16 .\n",
      "Пара схожих пользователей: 7 - 9, значение косинусной метрики: 0.16 .\n",
      "Пара схожих пользователей: 8 - 0, значение косинусной метрики: 0.09 .\n",
      "Пара схожих пользователей: 9 - 2, значение косинусной метрики: 0.08 .\n"
     ]
    }
   ],
   "source": [
    "for element in dists:\n",
    "    for i in range(lines):\n",
    "        if element['number_user'] == i and element['distance'] == min([el['distance'] for el in dists if el['number_user'] == i]):\n",
    "            print(f\"Пара схожих пользователей: {element['number_user']} - {element['number_similar_user']}, значение косинусной метрики: {element['distance']} .\")\n",
    "        "
   ]
  },
  {
   "cell_type": "code",
   "execution_count": 180,
   "id": "binding-electric",
   "metadata": {},
   "outputs": [
    {
     "data": {
      "text/plain": [
       "0.09"
      ]
     },
     "execution_count": 180,
     "metadata": {},
     "output_type": "execute_result"
    }
   ],
   "source": [
    "min([el['distance'] for el in dists if el['number_user'] == 0])"
   ]
  },
  {
   "cell_type": "code",
   "execution_count": 134,
   "id": "suspected-stage",
   "metadata": {},
   "outputs": [
    {
     "data": {
      "text/plain": [
       "array([[-5.30986101,  1.92919845, -4.93300027,  2.70188013,  5.50497886],\n",
       "       [ 2.87763403,  2.71659559,  1.40592782,  7.26325751, -4.50322291],\n",
       "       [-4.94010408, -6.68861167, -0.94550184,  3.61556661, -0.68969272],\n",
       "       [ 5.14939908, -6.28027284, -4.65978558,  1.09024004, -1.01471112],\n",
       "       [-1.37488691,  7.54357985,  4.00834369,  2.1284001 , -0.16324949],\n",
       "       [ 2.65341956, -3.77075601,  8.58430748, -1.46628319,  1.67401769],\n",
       "       [ 8.61573944,  3.78603335, -4.02721027, -4.37582577, -3.13880277],\n",
       "       [ 5.39658258, -1.0170466 ,  1.01456742, -1.89512837,  6.54883538],\n",
       "       [-5.7843488 ,  5.29857107, -1.48083611, -3.71295542,  0.21312695],\n",
       "       [-7.2835739 , -3.51729118,  1.03318766, -5.34915166, -4.43127987]])"
      ]
     },
     "execution_count": 134,
     "metadata": {},
     "output_type": "execute_result"
    }
   ],
   "source": [
    "# b) для понижение размерности можем использовать метод минимальных компонент\n",
    "\n",
    "from sklearn.decomposition import PCA\n",
    "\n",
    "pca = PCA(n_components=5) # создаем модель PCA\n",
    "\n",
    "\"\"\"Уменьшаем количество атрибутов матрицы, проецируя все атрибуты в новое пространство, \n",
    "составленное методом минимальных компонент (всего выбрано 5 самых важных признака для пространства)\"\"\"\n",
    "\n",
    "raitings_5 = pca.fit_transform(raitings)\n",
    "\n",
    "# получаем матрицу новой размерности\n",
    "raitings_5"
   ]
  },
  {
   "cell_type": "code",
   "execution_count": 135,
   "id": "banner-honor",
   "metadata": {},
   "outputs": [
    {
     "data": {
      "text/plain": [
       "array([[23.41982063, -5.36092136,  3.83196779, -4.06950174,  1.10267269],\n",
       "       [24.76774917,  4.52188701,  1.35815965,  1.58128545,  8.59912002],\n",
       "       [22.27728589, -6.96492049, -4.84461485, -0.47661647,  3.37152266],\n",
       "       [19.4257757 ,  2.64575227, -6.86014009, -4.76604765,  1.96075707],\n",
       "       [22.8146354 ,  0.51464093,  7.70180188,  4.42379773,  1.29124163],\n",
       "       [21.76961656,  1.94294987, -4.56934779,  8.32306487, -2.21887359],\n",
       "       [21.23427453,  9.78047778,  1.16340271, -4.86074521, -2.60815471],\n",
       "       [19.97476815,  4.00048677, -1.67456316,  1.1512346 , -3.5637169 ],\n",
       "       [26.39306998, -3.03090482,  5.86422753, -1.67503491, -3.71500141],\n",
       "       [29.94016844, -4.82012297, -3.48912415,  0.05527083, -3.62526487]])"
      ]
     },
     "execution_count": 135,
     "metadata": {},
     "output_type": "execute_result"
    }
   ],
   "source": [
    "# b) для понижение размерности можем использовать метод сингулярного разложения\n",
    "\n",
    "from sklearn.decomposition import TruncatedSVD\n",
    "svd = TruncatedSVD(n_components=5, n_iter=7, random_state=42)\n",
    "\n",
    "raitings_5_SVD = svd.fit_transform(raitings)\n",
    "raitings_5_SVD"
   ]
  },
  {
   "cell_type": "markdown",
   "id": "rubber-chart",
   "metadata": {},
   "source": [
    "# Задание 2\n",
    "Вычислите производную $tg^2(sin(x) + cos(2x+3))$ в точке $x_0=1$ (на python и на бумаге)."
   ]
  },
  {
   "cell_type": "code",
   "execution_count": 197,
   "id": "atmospheric-kruger",
   "metadata": {},
   "outputs": [
    {
     "name": "stdout",
     "output_type": "stream",
     "text": [
      "Первая производная : 2*(-2*sin(2*x + 3) + cos(x))*(tan(sin(x) + cos(2*x + 3))**2 + 1)*tan(sin(x) + cos(2*x + 3))\n"
     ]
    }
   ],
   "source": [
    "x, y = symbols('x y')\n",
    "function = tan(sin(x) + cos(2*x + 3))**2\n",
    "dif_1 = diff(function, x)\n",
    "print(\"Первая производная : {}\".format(dif_1))"
   ]
  },
  {
   "cell_type": "code",
   "execution_count": 202,
   "id": "promotional-sculpture",
   "metadata": {},
   "outputs": [
    {
     "name": "stdout",
     "output_type": "stream",
     "text": [
      "Значение первой производная : 55.386\n"
     ]
    }
   ],
   "source": [
    "x = symbols('x')\n",
    "dif_1 = round(diff(function, x).evalf(subs={'x':1}), 3)\n",
    "print(\"Значение первой производная : {}\".format(dif_1))"
   ]
  },
  {
   "cell_type": "markdown",
   "id": "weighted-board",
   "metadata": {},
   "source": [
    "# Задание 3\n",
    "Дана функция с неизвестными параметрами a и b, вам также известны значения функции fx в точках x. Найдите оптимальные параметры a, b, минимизирующие абсолютную ошибку error."
   ]
  },
  {
   "cell_type": "code",
   "execution_count": 203,
   "id": "changing-ceiling",
   "metadata": {},
   "outputs": [],
   "source": [
    "def f(x, a, b):\n",
    "    return np.e**a * np.sin(b*x) + x"
   ]
  },
  {
   "cell_type": "code",
   "execution_count": 204,
   "id": "finite-campus",
   "metadata": {},
   "outputs": [],
   "source": [
    "x = np.array([0.        , 0.26315789, 0.52631579, 0.78947368, 1.05263158,\n",
    "              1.31578947, 1.57894737, 1.84210526, 2.10526316, 2.36842105,\n",
    "              2.63157895, 2.89473684, 3.15789474, 3.42105263, 3.68421053,\n",
    "              3.94736842, 4.21052632, 4.47368421, 4.73684211, 5.        ])"
   ]
  },
  {
   "cell_type": "code",
   "execution_count": 205,
   "id": "informational-chain",
   "metadata": {},
   "outputs": [],
   "source": [
    "fx = np.array([  0.        , -12.01819092, -18.90968634, -17.68786571,\n",
    "                -8.7529108 ,   4.27524517,  16.06801336,  21.81250213,\n",
    "                19.22059845,   9.48411207,  -3.22273056, -13.48576488,\n",
    "               -16.91096359, -11.95866834,  -0.58630088,  12.56873816,\n",
    "                22.12489421,  24.20292139,  18.04522521,   6.33211092])"
   ]
  },
  {
   "cell_type": "code",
   "execution_count": 207,
   "id": "cooperative-metropolitan",
   "metadata": {},
   "outputs": [
    {
     "data": {
      "image/png": "[encoded data removed]",
      "text/plain": [
       "<Figure size 432x288 with 1 Axes>"
      ]
     },
     "metadata": {
      "needs_background": "light"
     },
     "output_type": "display_data"
    }
   ],
   "source": [
    "plt.plot(x, fx)\n",
    "plt.grid(True)\n",
    "plt.show()"
   ]
  },
  {
   "cell_type": "code",
   "execution_count": 208,
   "id": "least-repeat",
   "metadata": {},
   "outputs": [],
   "source": [
    "def error(params):\n",
    "    return np.sum(np.abs(fx - f(x, params[0], params[1])))"
   ]
  },
  {
   "cell_type": "code",
   "execution_count": 231,
   "id": "crucial-joint",
   "metadata": {},
   "outputs": [
    {
     "name": "stdout",
     "output_type": "stream",
     "text": [
      "     fun: 0.07674566111565184\n",
      "   maxcv: 0.0\n",
      " message: 'Optimization terminated successfully.'\n",
      "    nfev: 135\n",
      "  status: 1\n",
      " success: True\n",
      "       x: array([ 3.00018796, -2.50008926])\n"
     ]
    }
   ],
   "source": [
    "# используем метод COBYLA\n",
    "\n",
    "print(minimize(error, [0, 0], method='COBYLA'))"
   ]
  },
  {
   "cell_type": "code",
   "execution_count": 237,
   "id": "educated-honey",
   "metadata": {},
   "outputs": [
    {
     "name": "stdout",
     "output_type": "stream",
     "text": [
      "differential_evolution step 1: f(x)= 148.713\n",
      "differential_evolution step 2: f(x)= 148.713\n",
      "differential_evolution step 3: f(x)= 148.713\n",
      "differential_evolution step 4: f(x)= 42.2738\n",
      "differential_evolution step 5: f(x)= 5.43072\n",
      "differential_evolution step 6: f(x)= 5.43072\n",
      "differential_evolution step 7: f(x)= 5.43072\n",
      "differential_evolution step 8: f(x)= 5.43072\n",
      "differential_evolution step 9: f(x)= 5.43072\n",
      "differential_evolution step 10: f(x)= 5.43072\n",
      "differential_evolution step 11: f(x)= 2.4073\n",
      "differential_evolution step 12: f(x)= 2.4073\n",
      "differential_evolution step 13: f(x)= 1.74925\n",
      "differential_evolution step 14: f(x)= 1.74925\n",
      "differential_evolution step 15: f(x)= 0.704266\n",
      "differential_evolution step 16: f(x)= 0.435165\n",
      "differential_evolution step 17: f(x)= 0.435165\n",
      "differential_evolution step 18: f(x)= 0.435165\n",
      "differential_evolution step 19: f(x)= 0.0834435\n",
      "differential_evolution step 20: f(x)= 0.0834435\n",
      "differential_evolution step 21: f(x)= 0.0562245\n",
      "differential_evolution step 22: f(x)= 0.0518457\n",
      "differential_evolution step 23: f(x)= 0.0518457\n",
      "differential_evolution step 24: f(x)= 0.0443907\n",
      "differential_evolution step 25: f(x)= 0.0344369\n",
      "differential_evolution step 26: f(x)= 0.0344369\n",
      "differential_evolution step 27: f(x)= 0.00877136\n",
      "differential_evolution step 28: f(x)= 0.00877136\n",
      "differential_evolution step 29: f(x)= 0.00756125\n",
      "differential_evolution step 30: f(x)= 0.0058948\n",
      "differential_evolution step 31: f(x)= 0.00398729\n",
      "differential_evolution step 32: f(x)= 0.00361853\n",
      "differential_evolution step 33: f(x)= 0.00361853\n",
      "differential_evolution step 34: f(x)= 0.00325664\n",
      "differential_evolution step 35: f(x)= 0.000410696\n",
      "differential_evolution step 36: f(x)= 0.000410696\n",
      "differential_evolution step 37: f(x)= 0.000410696\n",
      "differential_evolution step 38: f(x)= 0.000410696\n",
      "differential_evolution step 39: f(x)= 4.65826e-05\n",
      "differential_evolution step 40: f(x)= 4.65826e-05\n",
      "differential_evolution step 41: f(x)= 4.65826e-05\n",
      "differential_evolution step 42: f(x)= 4.65826e-05\n",
      "differential_evolution step 43: f(x)= 4.65826e-05\n",
      "differential_evolution step 44: f(x)= 4.65826e-05\n",
      "differential_evolution step 45: f(x)= 4.65826e-05\n",
      "differential_evolution step 46: f(x)= 4.65826e-05\n",
      "differential_evolution step 47: f(x)= 3.04063e-05\n",
      "differential_evolution step 48: f(x)= 3.04063e-05\n",
      "differential_evolution step 49: f(x)= 1.78921e-05\n",
      "differential_evolution step 50: f(x)= 1.78921e-05\n",
      "differential_evolution step 51: f(x)= 1.78921e-05\n",
      "differential_evolution step 52: f(x)= 9.36694e-06\n",
      "differential_evolution step 53: f(x)= 7.82107e-06\n",
      "differential_evolution step 54: f(x)= 5.4537e-06\n",
      "differential_evolution step 55: f(x)= 2.54426e-06\n",
      "differential_evolution step 56: f(x)= 2.54426e-06\n",
      "differential_evolution step 57: f(x)= 2.54426e-06\n",
      "differential_evolution step 58: f(x)= 2.54426e-06\n",
      "differential_evolution step 59: f(x)= 2.25815e-06\n",
      "differential_evolution step 60: f(x)= 1.63234e-06\n",
      "differential_evolution step 61: f(x)= 1.53818e-06\n",
      "differential_evolution step 62: f(x)= 1.52127e-06\n",
      "differential_evolution step 63: f(x)= 1.52127e-06\n",
      "differential_evolution step 64: f(x)= 1.51996e-06\n",
      "differential_evolution step 65: f(x)= 1.51996e-06\n",
      "differential_evolution step 66: f(x)= 1.51691e-06\n",
      "differential_evolution step 67: f(x)= 1.51691e-06\n",
      "differential_evolution step 68: f(x)= 1.51515e-06\n",
      "differential_evolution step 69: f(x)= 1.51421e-06\n"
     ]
    },
    {
     "data": {
      "text/plain": [
       "     fun: 1.5142140235013812e-06\n",
       " message: 'Optimization terminated successfully.'\n",
       "    nfev: 2163\n",
       "     nit: 69\n",
       " success: True\n",
       "       x: array([ 3. , -2.5])"
      ]
     },
     "execution_count": 237,
     "metadata": {},
     "output_type": "execute_result"
    }
   ],
   "source": [
    "res = differential_evolution(error, [(-3, 3), (-3, 3)], disp=True)\n",
    "res"
   ]
  },
  {
   "cell_type": "code",
   "execution_count": 241,
   "id": "dominant-surprise",
   "metadata": {},
   "outputs": [
    {
     "data": {
      "text/plain": [
       "(array([ 3. , -2.5]), 1.51002890103058e-06)"
      ]
     },
     "execution_count": 241,
     "metadata": {},
     "output_type": "execute_result"
    }
   ],
   "source": [
    "bounds = [(-5, 5), (-25, 25)]\n",
    "result = differential_evolution(error, bounds)\n",
    "result.x, result.fun"
   ]
  },
  {
   "cell_type": "markdown",
   "id": "sweet-composition",
   "metadata": {},
   "source": [
    "### Иные подходы "
   ]
  },
  {
   "cell_type": "code",
   "execution_count": 227,
   "id": "enormous-jurisdiction",
   "metadata": {},
   "outputs": [
    {
     "name": "stdout",
     "output_type": "stream",
     "text": [
      "      fun: 235.780576107677\n",
      " hess_inv: array([[ 0.02102185, -0.01394762],\n",
      "       [-0.01394762,  0.009254  ]])\n",
      "      jac: array([-0.14583778,  9.27736664])\n",
      "  message: 'Desired error not necessarily achieved due to precision loss.'\n",
      "     nfev: 373\n",
      "      nit: 8\n",
      "     njev: 122\n",
      "   status: 2\n",
      "  success: False\n",
      "        x: array([2.42995925, 0.20160452])\n"
     ]
    }
   ],
   "source": [
    "print(minimize(error, [0, 0]))"
   ]
  },
  {
   "cell_type": "code",
   "execution_count": 228,
   "id": "moral-amateur",
   "metadata": {},
   "outputs": [
    {
     "name": "stdout",
     "output_type": "stream",
     "text": [
      "      fun: 235.780576107677\n",
      " hess_inv: array([[ 0.02102185, -0.01394762],\n",
      "       [-0.01394762,  0.009254  ]])\n",
      "      jac: array([-0.14583778,  9.27736664])\n",
      "  message: 'Desired error not necessarily achieved due to precision loss.'\n",
      "     nfev: 373\n",
      "      nit: 8\n",
      "     njev: 122\n",
      "   status: 2\n",
      "  success: False\n",
      "        x: array([2.42995925, 0.20160452])\n"
     ]
    }
   ],
   "source": [
    "print(minimize(error, [0, 0], method='BFGS'))"
   ]
  },
  {
   "cell_type": "code",
   "execution_count": 229,
   "id": "casual-domestic",
   "metadata": {},
   "outputs": [
    {
     "name": "stdout",
     "output_type": "stream",
     "text": [
      " final_simplex: (array([[3.57553805, 0.06176556],\n",
      "       [3.57396564, 0.06186185],\n",
      "       [3.57000894, 0.06211407]]), array([234.98593543, 234.98624915, 234.98634789]))\n",
      "           fun: 234.98593543245534\n",
      "       message: 'Maximum number of function evaluations has been exceeded.'\n",
      "          nfev: 400\n",
      "           nit: 223\n",
      "        status: 1\n",
      "       success: False\n",
      "             x: array([3.57553805, 0.06176556])\n"
     ]
    }
   ],
   "source": [
    "print(minimize(error, [0, 0], method='Nelder-Mead'))"
   ]
  },
  {
   "cell_type": "markdown",
   "id": "concerned-belief",
   "metadata": {},
   "source": [
    "# Задание 4\n",
    "Создайте собственную дискретную случайную величину с 20 значениями. Сгенерируйте 1000 выборок размера 50. Посчитайте среднее для каждой выборки. Постройте гистограмму распределения средних."
   ]
  },
  {
   "cell_type": "code",
   "execution_count": 252,
   "id": "checked-stopping",
   "metadata": {},
   "outputs": [
    {
     "data": {
      "text/plain": [
       "array([ 92, 107, 178, 218, 157, 182,  77,   9,   0, 169, 123, 167,   7,\n",
       "       121,  41, 171,  51,  62,  85,  40])"
      ]
     },
     "execution_count": 252,
     "metadata": {},
     "output_type": "execute_result"
    }
   ],
   "source": [
    "def y():\n",
    "    return np.random.randint(0, 250, size = 20)\n",
    "\n",
    "y()"
   ]
  },
  {
   "cell_type": "code",
   "execution_count": 270,
   "id": "victorian-death",
   "metadata": {},
   "outputs": [
    {
     "data": {
      "text/plain": [
       "(array([  4.,  15.,  49., 164., 249., 258., 152.,  84.,  18.,   7.]),\n",
       " array([ 89.06 ,  96.082, 103.104, 110.126, 117.148, 124.17 , 131.192,\n",
       "        138.214, 145.236, 152.258, 159.28 ]),\n",
       " <BarContainer object of 10 artists>)"
      ]
     },
     "execution_count": 270,
     "metadata": {},
     "output_type": "execute_result"
    },
    {
     "data": {
      "image/png": "[encoded data removed]",
      "text/plain": [
       "<Figure size 432x288 with 1 Axes>"
      ]
     },
     "metadata": {
      "needs_background": "light"
     },
     "output_type": "display_data"
    }
   ],
   "source": [
    "# Построим  график распределения ДСВ:\n",
    "\n",
    "y_mean = [ np.mean(np.random.randint(0, 250, size = 50)) for v in range(1000) ]\n",
    "plt.grid()\n",
    "plt.hist(y_mean)\n"
   ]
  },
  {
   "cell_type": "markdown",
   "id": "threaded-agreement",
   "metadata": {},
   "source": [
    "# Задание 5\n",
    "Найдите собственные значения и собственные вектора матрицы (на python и на бумаге):"
   ]
  },
  {
   "cell_type": "code",
   "execution_count": 258,
   "id": "unable-sally",
   "metadata": {},
   "outputs": [
    {
     "name": "stdout",
     "output_type": "stream",
     "text": [
      "[[1 4]\n",
      " [1 1]]\n"
     ]
    }
   ],
   "source": [
    "m = np.array([[1, 4],\n",
    "              [1, 1]])\n",
    "print(m)"
   ]
  },
  {
   "cell_type": "code",
   "execution_count": 264,
   "id": "necessary-holmes",
   "metadata": {},
   "outputs": [],
   "source": [
    "# собственные числа (значения) и собственные векторы квадратной матрицы\n",
    "w, v = LA.eig(m)"
   ]
  },
  {
   "cell_type": "code",
   "execution_count": 265,
   "id": "sophisticated-dispute",
   "metadata": {},
   "outputs": [
    {
     "data": {
      "text/plain": [
       "array([ 3., -1.])"
      ]
     },
     "execution_count": 265,
     "metadata": {},
     "output_type": "execute_result"
    }
   ],
   "source": [
    "# собственные числа (значения) квадратной матрицы\n",
    "w"
   ]
  },
  {
   "cell_type": "code",
   "execution_count": 266,
   "id": "widespread-fault",
   "metadata": {},
   "outputs": [
    {
     "data": {
      "text/plain": [
       "array([[ 0.89442719, -0.89442719],\n",
       "       [ 0.4472136 ,  0.4472136 ]])"
      ]
     },
     "execution_count": 266,
     "metadata": {},
     "output_type": "execute_result"
    }
   ],
   "source": [
    "#  собственные векторы квадратной матрицы\n",
    "v"
   ]
  },
  {
   "cell_type": "code",
   "execution_count": 267,
   "id": "figured-fleet",
   "metadata": {},
   "outputs": [
    {
     "data": {
      "text/plain": [
       "array([[ 2.68328157,  0.89442719],\n",
       "       [ 1.34164079, -0.4472136 ]])"
      ]
     },
     "execution_count": 267,
     "metadata": {},
     "output_type": "execute_result"
    }
   ],
   "source": [
    "# проверка\n",
    "\n",
    "np.dot(m, v)"
   ]
  },
  {
   "cell_type": "code",
   "execution_count": 268,
   "id": "referenced-noise",
   "metadata": {},
   "outputs": [
    {
     "data": {
      "text/plain": [
       "array([[ 2.68328157,  0.89442719],\n",
       "       [ 1.34164079, -0.4472136 ]])"
      ]
     },
     "execution_count": 268,
     "metadata": {},
     "output_type": "execute_result"
    }
   ],
   "source": [
    "# проверка\n",
    "\n",
    "w * v"
   ]
  },
  {
   "cell_type": "code",
   "execution_count": null,
   "id": "broke-premiere",
   "metadata": {},
   "outputs": [],
   "source": []
  },
  {
   "cell_type": "code",
   "execution_count": null,
   "id": "reduced-sunset",
   "metadata": {},
   "outputs": [],
   "source": []
  },
  {
   "cell_type": "code",
   "execution_count": null,
   "id": "virgin-facing",
   "metadata": {},
   "outputs": [],
   "source": []
  },
  {
   "cell_type": "code",
   "execution_count": null,
   "id": "acquired-stress",
   "metadata": {},
   "outputs": [],
   "source": []
  },
  {
   "cell_type": "markdown",
   "id": "meaningful-coast",
   "metadata": {},
   "source": [
    "# Сохраненный код для себя\n",
    "\n",
    "Данный код не нужно проверять, элементы кода использовались при поиски решения, код сохранен для дальнейшего изучения"
   ]
  },
  {
   "cell_type": "code",
   "execution_count": 193,
   "id": "recorded-creator",
   "metadata": {},
   "outputs": [],
   "source": [
    "# задание 1"
   ]
  },
  {
   "cell_type": "code",
   "execution_count": null,
   "id": "declared-sydney",
   "metadata": {},
   "outputs": [],
   "source": [
    "from sklearn.metrics.pairwise import pairwise_distances\n",
    "\n",
    "list_cosine = pairwise_distances(raitings, raitings, metric='cosine')\n",
    "\n",
    "list_cosine"
   ]
  },
  {
   "cell_type": "code",
   "execution_count": null,
   "id": "delayed-patch",
   "metadata": {},
   "outputs": [],
   "source": [
    "index_min = []\n",
    "for i in range(lines):\n",
    "    non_zero_a = np.nonzero(list_cosine[i])\n",
    "    index_min.append(np.argmin(list_cosine[i][non_zero_a]))"
   ]
  },
  {
   "cell_type": "code",
   "execution_count": null,
   "id": "decreased-graph",
   "metadata": {},
   "outputs": [],
   "source": [
    "non_zero_a = np.nonzero(list_cosine[0])\n",
    "non_zero_a"
   ]
  },
  {
   "cell_type": "code",
   "execution_count": null,
   "id": "together-chain",
   "metadata": {},
   "outputs": [],
   "source": [
    "index_min"
   ]
  },
  {
   "cell_type": "code",
   "execution_count": null,
   "id": "latter-leonard",
   "metadata": {},
   "outputs": [],
   "source": [
    "list_cosine[non_zero_a]"
   ]
  }
 ],
 "metadata": {
  "kernelspec": {
   "display_name": "Python 3",
   "language": "python",
   "name": "python3"
  },
  "language_info": {
   "codemirror_mode": {
    "name": "ipython",
    "version": 3
   },
   "file_extension": ".py",
   "mimetype": "text/x-python",
   "name": "python",
   "nbconvert_exporter": "python",
   "pygments_lexer": "ipython3",
   "version": "3.8.5"
  }
 },
 "nbformat": 4,
 "nbformat_minor": 5
}
