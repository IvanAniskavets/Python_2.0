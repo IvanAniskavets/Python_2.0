{
 "cells": [
  {
   "cell_type": "markdown",
   "id": "recreational-course",
   "metadata": {},
   "source": [
    "## Задание 1\n",
    "Дана переменная, в которой хранится слово из латинских букв. Напишите код, который выводит на экран:\n",
    "\n",
    "* среднюю букву, если число букв в слове нечетное;\n",
    "* две средних буквы, если число букв четное."
   ]
  },
  {
   "cell_type": "code",
   "execution_count": 11,
   "id": "stylish-amount",
   "metadata": {},
   "outputs": [
    {
     "name": "stdout",
     "output_type": "stream",
     "text": [
      "Введите слово:  test\n",
      "es\n"
     ]
    }
   ],
   "source": [
    "word = input('Введите слово:  ')\n",
    "\n",
    "if len(word)%2 == 0:\n",
    "    # a = len(word)//2\n",
    "    # b = a + 2\n",
    "    print(word[len(word)//2-1:(len(word)//2)+1])\n",
    "else:\n",
    "    # a = (len(word)//2) + 1\n",
    "    print(word[(len(word)//2)])\n",
    "    "
   ]
  },
  {
   "cell_type": "markdown",
   "id": "ranking-sphere",
   "metadata": {},
   "source": [
    "## Задание 2\n",
    "Напишите программу, которая последовательно запрашивает у пользователя числа (по одному за раз) и после первого нуля выводит сумму всех ранее введенных чисел."
   ]
  },
  {
   "cell_type": "code",
   "execution_count": 15,
   "id": "acknowledged-antigua",
   "metadata": {},
   "outputs": [
    {
     "name": "stdout",
     "output_type": "stream",
     "text": [
      "Введите число: 1\n",
      "Введите число: 2\n",
      "Введите число: 3\n",
      "Введите число: 4\n",
      "Введите число: 5\n",
      "Введите число: 0\n",
      "Сумма всех ранее введенных чисел равна 15\n",
      "Конец программы\n"
     ]
    }
   ],
   "source": [
    "number =  int(input('Введите число: '))\n",
    "i = 0\n",
    "while number != 0:\n",
    "    i += number\n",
    "    number =  int(input('Введите число: '))\n",
    "print(f'Сумма всех ранее введенных чисел равна {i}')\n",
    "print('Конец программы')"
   ]
  },
  {
   "cell_type": "markdown",
   "id": "adapted-appendix",
   "metadata": {},
   "source": [
    "## Задание 3\n",
    "\n",
    "Мы делаем MVP dating-сервиса, и у нас есть список парней и девушек.\n",
    "Выдвигаем гипотезу: лучшие рекомендации мы получим, если просто отсортируем имена по алфавиту и познакомим людей с одинаковыми индексами после сортировки! Но мы не будем никого знакомить, если кто-то может остаться без пары:\n",
    "\n",
    "Примеры работы программы:\n",
    "\n",
    "* boys = ['Peter', 'Alex', 'John', 'Arthur', 'Richard']\n",
    "* girls = ['Kate', 'Liza', 'Kira', 'Emma', 'Trisha']\n",
    "\n",
    "\n",
    "Результат:\n",
    "\n",
    "Идеальные пары:  \n",
    "Alex и Emma  \n",
    "Arthur и Kate  \n",
    "John и Kira  \n",
    "Peter и Liza  \n",
    "Richard и Trisha\n",
    "\n",
    "* boys = ['Peter', 'Alex', 'John', 'Arthur', 'Richard', 'Michael']\n",
    "* girls = ['Kate', 'Liza', 'Kira', 'Emma', 'Trisha']\n",
    "\n",
    "Результат:\n",
    "\n",
    "*Внимание, кто-то может остаться без пары!"
   ]
  },
  {
   "cell_type": "code",
   "execution_count": 16,
   "id": "opposite-lambda",
   "metadata": {},
   "outputs": [
    {
     "name": "stdout",
     "output_type": "stream",
     "text": [
      "Идеальные пары:\n",
      "Alex и Emma\n",
      "Arthur и Kate\n",
      "John и Kira\n",
      "Peter и Liza\n",
      "Richard и Trisha\n"
     ]
    }
   ],
   "source": [
    "# задание № 3 часть 1 одинаковое количество парней и девушек\n",
    "\n",
    "boys = ['Peter', 'Alex', 'John', 'Arthur', 'Richard']\n",
    "girls = ['Kate', 'Liza', 'Kira', 'Emma', 'Trisha']\n",
    "\n",
    "if len(boys) == len(girls):\n",
    "    boys_by_girls = zip(sorted(boys), sorted(girls))\n",
    "    print('Идеальные пары:')\n",
    "    for couples in boys_by_girls:\n",
    "        print(couples[0], 'и',couples[1])\n",
    "else:\n",
    "    print('Внимание, кто-то может остаться без пары!')"
   ]
  },
  {
   "cell_type": "code",
   "execution_count": 17,
   "id": "virgin-classic",
   "metadata": {},
   "outputs": [
    {
     "name": "stdout",
     "output_type": "stream",
     "text": [
      "Внимание, кто-то может остаться без пары!\n"
     ]
    }
   ],
   "source": [
    "# задание 3 часть 2, парни четное количество , девушки нечетное\n",
    "\n",
    "boys = ['Peter', 'Alex', 'John', 'Arthur', 'Richard', 'Michael']\n",
    "girls = ['Kate', 'Liza', 'Kira', 'Emma', 'Trisha']\n",
    "\n",
    "if len(boys) == len(girls):\n",
    "    boys_by_girls = zip(sorted(boys), sorted(girls))\n",
    "    print('Идеальные пары:')\n",
    "    for couples in boys_by_girls:\n",
    "        print(couples[0], 'и',couples[1])\n",
    "else:\n",
    "    print('Внимание, кто-то может остаться без пары!')"
   ]
  },
  {
   "cell_type": "markdown",
   "id": "geographic-burns",
   "metadata": {},
   "source": [
    "## Задание 4\n",
    "\n",
    "У нас есть список, содержащий информацию о среднедневной температуре в Фаренгейтах за произвольный период по странам (структура данных в примере). Необходимо написать код, который рассчитает среднюю температуру за период в Цельсиях(!) для каждой страны."
   ]
  },
  {
   "cell_type": "code",
   "execution_count": 20,
   "id": "ranging-surgery",
   "metadata": {},
   "outputs": [
    {
     "name": "stdout",
     "output_type": "stream",
     "text": [
      "Средняя температура в странах\n",
      "Thailand - 23.86 градусов Цельсия\n",
      "Germany - 13.8 градусов Цельсия\n",
      "Russia - 3.71 градусов Цельсия\n",
      "Poland - 12.0 градусов Цельсия\n"
     ]
    }
   ],
   "source": [
    "countries_temperature = [\n",
    "['Thailand', [75.2, 77, 78.8, 73.4, 68, 75.2, 77]],\n",
    "['Germany', [57.2, 55.4, 59, 59, 53.6]],\n",
    "['Russia', [35.6, 37.4, 39.2, 41, 42.8, 39.2, 35.6]],\n",
    "['Poland', [50, 50, 53.6, 57.2, 55.4, 55.4]]\n",
    "]\n",
    "\n",
    "print('Средняя температура в странах')\n",
    "for temperature in countries_temperature:\n",
    "        print(f'{temperature[0]} - {round((sum(temperature[1])/len(temperature[1])-32)/1.8, 2)} градусов Цельсия')"
   ]
  },
  {
   "cell_type": "markdown",
   "id": "seven-karaoke",
   "metadata": {},
   "source": [
    "## Задание 5\n",
    "\n",
    "Дан поток логов по количеству просмотренных страниц для каждого пользователя. Вам необходимо написать алгоритм, который считает среднее значение просмотров на пользователя. Т. е. надо посчитать отношение суммы всех просмотров к количеству уникальных пользователей.\n",
    "\n",
    "stream = [\n",
    "    '2018-01-01,user1,3',\n",
    "    '2018-01-07,user1,4',\n",
    "    '2018-03-29,user1,1',\n",
    "    '2018-04-04,user1,13',\n",
    "    '2018-01-05,user2,7',\n",
    "    '2018-06-14,user3,4',\n",
    "    '2018-07-02,user3,10',\n",
    "    '2018-03-21,user4,19',\n",
    "    '2018-03-22,user4,4',\n",
    "    '2018-04-22,user4,8',\n",
    "    '2018-05-03,user4,9',\n",
    "    '2018-05-11,user4,11',\n",
    "]\n",
    "\n",
    "* Результат:\n",
    "Среднее количество просмотров на уникального пользователя: 23.25\n",
    "\n",
    "stream = [\n",
    "    '2018-01-01,user100,150',\n",
    "    '2018-01-07,user99,205',\n",
    "    '2018-03-29,user1001,81'\n",
    "]\n",
    "* Результат:\n",
    "Среднее количество просмотров на уникального пользователя: 145.33"
   ]
  },
  {
   "cell_type": "code",
   "execution_count": 36,
   "id": "built-covering",
   "metadata": {},
   "outputs": [],
   "source": [
    "stream = [\n",
    "    '2018-01-01,user1,3',\n",
    "    '2018-01-07,user1,4',\n",
    "    '2018-03-29,user1,1',\n",
    "    '2018-04-04,user1,13',\n",
    "    '2018-01-05,user2,7',\n",
    "    '2018-06-14,user3,4',\n",
    "    '2018-07-02,user3,10',\n",
    "    '2018-03-21,user4,19',\n",
    "    '2018-03-22,user4,4',\n",
    "    '2018-04-22,user4,8',\n",
    "    '2018-05-03,user4,9',\n",
    "    '2018-05-11,user4,11',\n",
    "]"
   ]
  },
  {
   "cell_type": "code",
   "execution_count": 38,
   "id": "million-yesterday",
   "metadata": {},
   "outputs": [],
   "source": [
    "stream = [\n",
    "    '2018-01-01,user100,150',\n",
    "    '2018-01-07,user99,205',\n",
    "    '2018-03-29,user1001,81'\n",
    "]"
   ]
  },
  {
   "cell_type": "code",
   "execution_count": 39,
   "id": "extra-jaguar",
   "metadata": {},
   "outputs": [
    {
     "name": "stdout",
     "output_type": "stream",
     "text": [
      "Среднее количество просмотров на уникального пользователя: 145.33\n"
     ]
    }
   ],
   "source": [
    "users = []\n",
    "marks = []\n",
    "for element in stream:\n",
    "    users.append(element.split(',')[1])\n",
    "    marks.append(int(element.split(',')[2]))\n",
    "print(f'Среднее количество просмотров на уникального пользователя: {round(sum(marks)/len(set(users)), 2)}')"
   ]
  },
  {
   "cell_type": "markdown",
   "id": "removable-hometown",
   "metadata": {},
   "source": [
    "## Задание 6\n",
    "\n",
    "Необходимо у пользователя запрашивать набор чисел разделенных пробелом. В результате в отсортированном порядке должны выводиться числа, которые повторяются в вводе более одного раза.\n"
   ]
  },
  {
   "cell_type": "code",
   "execution_count": 48,
   "id": "virgin-negotiation",
   "metadata": {},
   "outputs": [
    {
     "name": "stdout",
     "output_type": "stream",
     "text": [
      "Введите набор числе разделенных пробелом:  3 4 5 5 6 1 1 1 2 3 4\n",
      "1 3 4 5\n"
     ]
    }
   ],
   "source": [
    "user_input = str(input('Введите набор числе разделенных пробелом:  '))\n",
    "my_list = user_input.split()\n",
    "res = []\n",
    "for element in my_list:\n",
    "    if my_list.count(element) > 1 and element not in res:\n",
    "        res.append(element)\n",
    "        \n",
    "print(' '.join(sorted(res)))"
   ]
  },
  {
   "cell_type": "code",
   "execution_count": 47,
   "id": "adjacent-helmet",
   "metadata": {},
   "outputs": [],
   "source": [
    "my_str = '1 1 1 3 4 5 5 5 6 7 4 4 4'\n",
    "my_list = my_str.split()"
   ]
  },
  {
   "cell_type": "code",
   "execution_count": 45,
   "id": "uniform-reducing",
   "metadata": {},
   "outputs": [
    {
     "name": "stdout",
     "output_type": "stream",
     "text": [
      "[1, 4, 5]\n"
     ]
    }
   ],
   "source": [
    "user_input = str(input('Введите набор числе разделенных пробелом:  '))\n",
    "res = []\n",
    "for element in my_list:\n",
    "    if my_list.count(element) > 1:\n",
    "        element = int(element)\n",
    "        if element not in res:\n",
    "            res.append(element)\n",
    "        \n",
    "print(res)"
   ]
  },
  {
   "cell_type": "code",
   "execution_count": null,
   "id": "hollywood-database",
   "metadata": {},
   "outputs": [],
   "source": []
  }
 ],
 "metadata": {
  "kernelspec": {
   "display_name": "Python 3",
   "language": "python",
   "name": "python3"
  },
  "language_info": {
   "codemirror_mode": {
    "name": "ipython",
    "version": 3
   },
   "file_extension": ".py",
   "mimetype": "text/x-python",
   "name": "python",
   "nbconvert_exporter": "python",
   "pygments_lexer": "ipython3",
   "version": "3.8.5"
  }
 },
 "nbformat": 4,
 "nbformat_minor": 5
}
