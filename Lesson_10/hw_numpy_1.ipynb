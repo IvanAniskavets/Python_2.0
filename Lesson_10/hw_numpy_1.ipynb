{
 "cells": [
  {
   "cell_type": "code",
   "execution_count": 1,
   "id": "black-april",
   "metadata": {},
   "outputs": [],
   "source": [
    "import numpy as np\n",
    "from numpy import linalg"
   ]
  },
  {
   "cell_type": "markdown",
   "id": "undefined-course",
   "metadata": {},
   "source": [
    "# Задание 1\n",
    "Создайте numpy array с элементами от числа N до 0 (например, для N = 10 это будет array([9, 8, 7, 6, 5, 4, 3, 2, 1, 0]))."
   ]
  },
  {
   "cell_type": "code",
   "execution_count": 2,
   "id": "unable-measurement",
   "metadata": {},
   "outputs": [
    {
     "name": "stdout",
     "output_type": "stream",
     "text": [
      "3\n",
      "<class 'numpy.ndarray'>\n",
      "[3 2 1 0]\n"
     ]
    }
   ],
   "source": [
    "n = int(input())\n",
    "\n",
    "matrix = np.arange(n, -1, -1)\n",
    "print(type(matrix))\n",
    "print(matrix)"
   ]
  },
  {
   "cell_type": "markdown",
   "id": "complex-magic",
   "metadata": {},
   "source": [
    "# Задание 2\n",
    "Создайте диагональную матрицу с элементами от N до 0. Посчитайте сумму ее значений на диагонали."
   ]
  },
  {
   "cell_type": "code",
   "execution_count": 13,
   "id": "south-viking",
   "metadata": {},
   "outputs": [
    {
     "name": "stdout",
     "output_type": "stream",
     "text": [
      "10\n",
      "[[10  0  0  0  0  0  0  0  0  0  0]\n",
      " [ 0  9  0  0  0  0  0  0  0  0  0]\n",
      " [ 0  0  8  0  0  0  0  0  0  0  0]\n",
      " [ 0  0  0  7  0  0  0  0  0  0  0]\n",
      " [ 0  0  0  0  6  0  0  0  0  0  0]\n",
      " [ 0  0  0  0  0  5  0  0  0  0  0]\n",
      " [ 0  0  0  0  0  0  4  0  0  0  0]\n",
      " [ 0  0  0  0  0  0  0  3  0  0  0]\n",
      " [ 0  0  0  0  0  0  0  0  2  0  0]\n",
      " [ 0  0  0  0  0  0  0  0  0  1  0]\n",
      " [ 0  0  0  0  0  0  0  0  0  0  0]]\n"
     ]
    }
   ],
   "source": [
    "n = int(input())\n",
    "\n",
    "matrix_1 = np.diag(np.flip(np.arange(0, n+1)), k = 0)\n",
    "print(matrix_1)"
   ]
  },
  {
   "cell_type": "code",
   "execution_count": 15,
   "id": "superb-stylus",
   "metadata": {},
   "outputs": [
    {
     "data": {
      "text/plain": [
       "array([ 0,  1,  2,  3,  4,  5,  6,  7,  8,  9, 10])"
      ]
     },
     "execution_count": 15,
     "metadata": {},
     "output_type": "execute_result"
    }
   ],
   "source": [
    "m = np.arange(0, n+1)\n",
    "m"
   ]
  },
  {
   "cell_type": "code",
   "execution_count": 16,
   "id": "clean-vision",
   "metadata": {},
   "outputs": [
    {
     "data": {
      "text/plain": [
       "array([10,  9,  8,  7,  6,  5,  4,  3,  2,  1,  0])"
      ]
     },
     "execution_count": 16,
     "metadata": {},
     "output_type": "execute_result"
    }
   ],
   "source": [
    "np.flip(m)"
   ]
  },
  {
   "cell_type": "code",
   "execution_count": 11,
   "id": "outer-entity",
   "metadata": {},
   "outputs": [
    {
     "name": "stdout",
     "output_type": "stream",
     "text": [
      "55\n",
      "55\n"
     ]
    }
   ],
   "source": [
    "print(matrix_1.sum())\n",
    "print(np.trace(matrix_1))"
   ]
  },
  {
   "cell_type": "markdown",
   "id": "successful-tumor",
   "metadata": {},
   "source": [
    "# Задание 3\n",
    "Решите систему уравнений:  \n",
    "\n",
    "4x + 2y + z = 4  \n",
    "\n",
    "x + 3y = 12  \n",
    "\n",
    "5y + 4z = -3  \n"
   ]
  },
  {
   "cell_type": "code",
   "execution_count": 35,
   "id": "latin-locking",
   "metadata": {},
   "outputs": [],
   "source": [
    "a = np.array([[4, 2, 1], [1, 3, 0], [0, 5, 4]])\n",
    "b = np.array([4, 12, -3])"
   ]
  },
  {
   "cell_type": "code",
   "execution_count": 37,
   "id": "speaking-kidney",
   "metadata": {},
   "outputs": [
    {
     "data": {
      "text/plain": [
       "array([ 0.46666667,  3.84444444, -5.55555556])"
      ]
     },
     "execution_count": 37,
     "metadata": {},
     "output_type": "execute_result"
    }
   ],
   "source": [
    "# решение 1\n",
    "linalg.solve(a, b)"
   ]
  },
  {
   "cell_type": "code",
   "execution_count": 39,
   "id": "unlikely-destiny",
   "metadata": {},
   "outputs": [
    {
     "data": {
      "text/plain": [
       "array([37, 40, 48])"
      ]
     },
     "execution_count": 39,
     "metadata": {},
     "output_type": "execute_result"
    }
   ],
   "source": [
    "np.dot(a, b)"
   ]
  },
  {
   "cell_type": "code",
   "execution_count": 42,
   "id": "split-reception",
   "metadata": {},
   "outputs": [
    {
     "data": {
      "text/plain": [
       "array([ 0.46666667,  3.84444444, -5.55555556])"
      ]
     },
     "execution_count": 42,
     "metadata": {},
     "output_type": "execute_result"
    }
   ],
   "source": [
    "# решение 2\n",
    "from scipy.linalg import solve\n",
    "\n",
    "solve(a, b)"
   ]
  },
  {
   "cell_type": "code",
   "execution_count": 43,
   "id": "aware-toolbox",
   "metadata": {},
   "outputs": [
    {
     "name": "stdout",
     "output_type": "stream",
     "text": [
      "True\n",
      "True\n"
     ]
    }
   ],
   "source": [
    "print(np.allclose(np.dot(a, linalg.solve(a, b)), b))\n",
    "print(np.allclose(np.dot(a, solve(a, b)), b))"
   ]
  },
  {
   "cell_type": "markdown",
   "id": "stuffed-credit",
   "metadata": {},
   "source": [
    "# Задание 4\n",
    "\n",
    "Имеется матрица покупок в интернет-магазине. Столбец А - ID пользователя.     \n",
    "Остальные столбцы - количество покупок категорий товаров этим пользователем:  \n",
    "\n",
    "Матрица в виде numpy array"
   ]
  },
  {
   "cell_type": "code",
   "execution_count": 2,
   "id": "wanted-slide",
   "metadata": {},
   "outputs": [],
   "source": [
    "users_stats = np.array(\n",
    "    [\n",
    "        [2, 1, 0, 0, 0, 0],\n",
    "        [1, 1, 2, 1, 0, 0],\n",
    "        [2, 0, 1, 0, 0, 0],\n",
    "        [1, 1, 2, 1, 0, 1],\n",
    "        [0, 0, 1, 2, 0, 0],\n",
    "        [0, 0, 0, 0, 0, 5],\n",
    "        [1, 0, 0, 0, 0, 0],\n",
    "        [0, 1, 1, 0, 0, 0],\n",
    "        [0, 0, 0, 1, 1, 3],\n",
    "        [1, 0, 0, 2, 1, 4]\n",
    "    ], \n",
    "    np.int32\n",
    ")"
   ]
  },
  {
   "cell_type": "markdown",
   "id": "union-lloyd",
   "metadata": {},
   "source": [
    "На сайт заходит очередной посетитель, о покупках которого известно следующее:"
   ]
  },
  {
   "cell_type": "code",
   "execution_count": 3,
   "id": "revolutionary-excitement",
   "metadata": {},
   "outputs": [],
   "source": [
    "next_user_stats = np.array([0, 1, 2, 0, 0, 0])"
   ]
  },
  {
   "cell_type": "markdown",
   "id": "acquired-partner",
   "metadata": {},
   "source": [
    "Найдите самого похожего пользователя.   \n",
    "Т. е. посчитайте косинусное сходство между этим пользователем и всеми пользователями из массива users_stats"
   ]
  },
  {
   "cell_type": "markdown",
   "id": "optional-expression",
   "metadata": {},
   "source": [
    "# Решение через модуль Numpy"
   ]
  },
  {
   "cell_type": "code",
   "execution_count": 10,
   "id": "terminal-buffalo",
   "metadata": {},
   "outputs": [],
   "source": [
    "dists = []\n",
    "lines = len(users_stats)\n",
    "i = 0\n",
    "for i in range(lines):\n",
    "    \"\"\"\n",
    "    Подсчет косинуса угла между векторами a, b по их координатам\n",
    "    \"\"\"\n",
    "    # длины векторов\n",
    "    aLength = np.linalg.norm(users_stats[i])\n",
    "    bLength = np.linalg.norm(next_user_stats)\n",
    "    cosine = round(np.dot(users_stats[i], next_user_stats) / (aLength * bLength), 2)\n",
    "    dists.append({\"index_user\": i, \"distance\": float(cosine), \"vector\": users_stats[i]}) \n",
    "    \"\"\"\n",
    "    создание результирующщего словаря из которого будет найдено max значение косинусного сходства между user'ами\n",
    "    \"\"\"\n",
    "    i += 1"
   ]
  },
  {
   "cell_type": "code",
   "execution_count": 11,
   "id": "bronze-supply",
   "metadata": {},
   "outputs": [
    {
     "data": {
      "text/plain": [
       "[{'index_user': 0, 'distance': 0.2, 'vector': array([2, 1, 0, 0, 0, 0])},\n",
       " {'index_user': 1, 'distance': 0.85, 'vector': array([1, 1, 2, 1, 0, 0])},\n",
       " {'index_user': 2, 'distance': 0.4, 'vector': array([2, 0, 1, 0, 0, 0])},\n",
       " {'index_user': 3, 'distance': 0.79, 'vector': array([1, 1, 2, 1, 0, 1])},\n",
       " {'index_user': 4, 'distance': 0.4, 'vector': array([0, 0, 1, 2, 0, 0])},\n",
       " {'index_user': 5, 'distance': 0.0, 'vector': array([0, 0, 0, 0, 0, 5])},\n",
       " {'index_user': 6, 'distance': 0.0, 'vector': array([1, 0, 0, 0, 0, 0])},\n",
       " {'index_user': 7, 'distance': 0.95, 'vector': array([0, 1, 1, 0, 0, 0])},\n",
       " {'index_user': 8, 'distance': 0.0, 'vector': array([0, 0, 0, 1, 1, 3])},\n",
       " {'index_user': 9, 'distance': 0.0, 'vector': array([1, 0, 0, 2, 1, 4])}]"
      ]
     },
     "execution_count": 11,
     "metadata": {},
     "output_type": "execute_result"
    }
   ],
   "source": [
    "dists"
   ]
  },
  {
   "cell_type": "markdown",
   "id": "decreased-jacket",
   "metadata": {},
   "source": [
    "### Ответ: юзер с индесом 7, вектор [0, 1, 1, 0, 0, 0]"
   ]
  },
  {
   "cell_type": "markdown",
   "id": "gorgeous-review",
   "metadata": {},
   "source": [
    "# Решение через модуль Scipy"
   ]
  },
  {
   "cell_type": "code",
   "execution_count": 16,
   "id": "smaller-anatomy",
   "metadata": {},
   "outputs": [],
   "source": [
    "from scipy.spatial.distance import cosine"
   ]
  },
  {
   "cell_type": "code",
   "execution_count": 122,
   "id": "written-champagne",
   "metadata": {},
   "outputs": [],
   "source": [
    "dists = []\n",
    "lines = len(users_stats)\n",
    "i = 0\n",
    "for i in range(lines):\n",
    "    dists.append({\"index_user\": i, \"distance\": round(cosine(users_stats[i], next_user_stats), 2)})\n",
    "    i += 1"
   ]
  },
  {
   "cell_type": "code",
   "execution_count": 123,
   "id": "positive-gambling",
   "metadata": {},
   "outputs": [
    {
     "data": {
      "text/plain": [
       "[{'index_user': 0, 'distance': 0.8},\n",
       " {'index_user': 1, 'distance': 0.15},\n",
       " {'index_user': 2, 'distance': 0.6},\n",
       " {'index_user': 3, 'distance': 0.21},\n",
       " {'index_user': 4, 'distance': 0.6},\n",
       " {'index_user': 5, 'distance': 1.0},\n",
       " {'index_user': 6, 'distance': 1.0},\n",
       " {'index_user': 7, 'distance': 0.05},\n",
       " {'index_user': 8, 'distance': 1.0},\n",
       " {'index_user': 9, 'distance': 1.0}]"
      ]
     },
     "execution_count": 123,
     "metadata": {},
     "output_type": "execute_result"
    }
   ],
   "source": [
    "dists"
   ]
  },
  {
   "cell_type": "markdown",
   "id": "brazilian-reflection",
   "metadata": {},
   "source": [
    "### Ответ: юзер с индесом 7, вектор [0, 1, 1, 0, 0, 0]"
   ]
  },
  {
   "cell_type": "code",
   "execution_count": 21,
   "id": "bound-tattoo",
   "metadata": {},
   "outputs": [],
   "source": [
    "def cosine(users_stats, next_user_stats):\n",
    "    aLength = np.linalg.norm(users_stats, axis = 1)\n",
    "    bLength = np.linalg.norm(next_user_stats)\n",
    "    cosine = np.dot(users_stats, next_user_stats) / (aLength * bLength)\n",
    "    return cosine"
   ]
  },
  {
   "cell_type": "code",
   "execution_count": 22,
   "id": "extraordinary-lounge",
   "metadata": {},
   "outputs": [
    {
     "data": {
      "text/plain": [
       "array([0.2       , 0.84515425, 0.4       , 0.79056942, 0.4       ,\n",
       "       0.        , 0.        , 0.9486833 , 0.        , 0.        ])"
      ]
     },
     "execution_count": 22,
     "metadata": {},
     "output_type": "execute_result"
    }
   ],
   "source": [
    "cosine(users_stats, next_user_stats)"
   ]
  },
  {
   "cell_type": "code",
   "execution_count": 19,
   "id": "indirect-ferry",
   "metadata": {},
   "outputs": [
    {
     "data": {
      "text/plain": [
       "array([1, 5, 2, 5, 2, 0, 0, 3, 0, 0])"
      ]
     },
     "execution_count": 19,
     "metadata": {},
     "output_type": "execute_result"
    }
   ],
   "source": [
    "np.dot(users_stats, next_user_stats)"
   ]
  },
  {
   "cell_type": "code",
   "execution_count": 20,
   "id": "logical-privilege",
   "metadata": {},
   "outputs": [
    {
     "data": {
      "text/plain": [
       "10.488088481701517"
      ]
     },
     "execution_count": 20,
     "metadata": {},
     "output_type": "execute_result"
    }
   ],
   "source": [
    "(aLength * bLength)"
   ]
  },
  {
   "cell_type": "code",
   "execution_count": null,
   "id": "specified-whole",
   "metadata": {},
   "outputs": [],
   "source": []
  }
 ],
 "metadata": {
  "kernelspec": {
   "display_name": "Python 3",
   "language": "python",
   "name": "python3"
  },
  "language_info": {
   "codemirror_mode": {
    "name": "ipython",
    "version": 3
   },
   "file_extension": ".py",
   "mimetype": "text/x-python",
   "name": "python",
   "nbconvert_exporter": "python",
   "pygments_lexer": "ipython3",
   "version": "3.8.5"
  }
 },
 "nbformat": 4,
 "nbformat_minor": 5
}
