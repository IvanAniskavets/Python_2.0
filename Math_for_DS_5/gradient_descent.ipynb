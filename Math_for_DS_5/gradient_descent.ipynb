{
 "cells": [
  {
   "cell_type": "code",
   "execution_count": 2,
   "id": "cardiac-madness",
   "metadata": {},
   "outputs": [],
   "source": [
    "import numpy as np\n",
    "from scipy.optimize import approx_fprime\n",
    "from sympy import *\n",
    "from scipy.misc import derivative"
   ]
  },
  {
   "cell_type": "markdown",
   "id": "posted-appeal",
   "metadata": {},
   "source": [
    "## Уровень 0:  \n",
    "Посчитайте частные производные функций:\n",
    "\n",
    "1) $f(x,y)=2x^2y^3 + 1/x + y^2x + 7$, а для этой функции также градиент в точке $(1,2)$\n",
    "\n",
    "2) $f(x,y)=x^2y - sin(xy) + cos(x^2) + 6y$"
   ]
  },
  {
   "cell_type": "code",
   "execution_count": 14,
   "id": "charged-floor",
   "metadata": {},
   "outputs": [
    {
     "name": "stdout",
     "output_type": "stream",
     "text": [
      "Частная производная по Y: 6*x**2*y**2 + 2*x*y\n",
      "Частная производная по X: 4*x*y**3 + y**2 - 1/x**2\n"
     ]
    }
   ],
   "source": [
    "# первая функция\n",
    "\n",
    "x, y = symbols('x y')\n",
    "function = 2 * x**2 * y**3 + 1 / x + y**2 * x + 7\n",
    "dif_1 = diff(function, y)\n",
    "dif_2 = diff(function, x)\n",
    "print(f\"Частная производная по Y: {dif_1}\")\n",
    "print(f\"Частная производная по X: {dif_2}\")"
   ]
  },
  {
   "cell_type": "code",
   "execution_count": 39,
   "id": "cognitive-barbados",
   "metadata": {},
   "outputs": [],
   "source": [
    "# первая функция\n",
    "\n",
    "def func(x):\n",
    "    return 2 * x[0]**2 * x[1]**3 + 1 / x[0] + x[1]**2 * x[0]+ 7"
   ]
  },
  {
   "cell_type": "code",
   "execution_count": 40,
   "id": "experienced-disabled",
   "metadata": {},
   "outputs": [
    {
     "data": {
      "text/plain": [
       "array([35.00000024, 28.00000024])"
      ]
     },
     "execution_count": 40,
     "metadata": {},
     "output_type": "execute_result"
    }
   ],
   "source": [
    "# градиент\n",
    "\n",
    "x = np.array([1, 2])\n",
    "eps = np.sqrt(np.finfo(float).eps)\n",
    "approx_fprime(x, func, [eps, eps])"
   ]
  },
  {
   "cell_type": "code",
   "execution_count": 13,
   "id": "seventh-terminology",
   "metadata": {},
   "outputs": [
    {
     "name": "stdout",
     "output_type": "stream",
     "text": [
      "Частная производная по Y: x**2 - x*cos(x*y) + 6\n",
      "Частная производная по X: 2*x*y - 2*x*sin(x**2) - y*cos(x*y)\n"
     ]
    }
   ],
   "source": [
    "# вторая функция\n",
    "\n",
    "x, y = symbols('x y')\n",
    "function = x**2 * y - sin(x * y) + cos(x**2) + 6 * y\n",
    "dif_1 = diff(function, y)\n",
    "dif_2 = diff(function, x)\n",
    "print(f\"Частная производная по Y: {dif_1}\")\n",
    "print(f\"Частная производная по X: {dif_2}\")"
   ]
  },
  {
   "cell_type": "markdown",
   "id": "unlikely-importance",
   "metadata": {},
   "source": [
    "## Уровень 1:\n",
    "Градиентный спуск своими руками:"
   ]
  },
  {
   "cell_type": "code",
   "execution_count": 104,
   "id": "roman-rendering",
   "metadata": {},
   "outputs": [],
   "source": [
    "def f(x):\n",
    "    return (x[0]**2) + (x[1]**2)"
   ]
  },
  {
   "cell_type": "code",
   "execution_count": 105,
   "id": "approximate-mozambique",
   "metadata": {},
   "outputs": [],
   "source": [
    "x = np.array([100, 200])\n",
    "learning_rate = 0.1"
   ]
  },
  {
   "cell_type": "code",
   "execution_count": 106,
   "id": "internal-madison",
   "metadata": {},
   "outputs": [],
   "source": [
    "for i in range(100):\n",
    "    # Calculate gradient\n",
    "    eps = np.sqrt(np.finfo(float).eps)\n",
    "    grad = approx_fprime(x, f, [eps, eps]) # Your code here (функция для вычисления градиента есть в лекционном ноутбуке)\n",
    "    \n",
    "    # Update x with gradient\n",
    "    x = x - learning_rate * grad # Your code here (смотри слайд презентации про градиентный спуск)\n",
    "    #print(grad)"
   ]
  },
  {
   "cell_type": "code",
   "execution_count": 107,
   "id": "optional-liberia",
   "metadata": {},
   "outputs": [
    {
     "name": "stdout",
     "output_type": "stream",
     "text": [
      "Минимум достигается в:  [1.29197811e-08 3.32901401e-08]\n",
      "Значение функции в минимуме:  1.2751541739575584e-15\n"
     ]
    }
   ],
   "source": [
    "print(\"Минимум достигается в: \", x)\n",
    "print(\"Значение функции в минимуме: \", f(x))"
   ]
  },
  {
   "cell_type": "markdown",
   "id": "second-puppy",
   "metadata": {},
   "source": [
    "Проверка с помощью встроенной функции numpy:"
   ]
  },
  {
   "cell_type": "code",
   "execution_count": 108,
   "id": "harmful-mitchell",
   "metadata": {},
   "outputs": [
    {
     "name": "stdout",
     "output_type": "stream",
     "text": [
      "Optimization terminated successfully.\n",
      "         Current function value: 0.000000\n",
      "         Iterations: 85\n",
      "         Function evaluations: 164\n"
     ]
    },
    {
     "data": {
      "text/plain": [
       " final_simplex: (array([[ 3.31391559e-09, -1.82888492e-09],\n",
       "       [-3.91522747e-09, -3.79451217e-09],\n",
       "       [-4.97134432e-09,  7.91645290e-09]]), array([1.43268566e-17, 2.97273287e-17, 8.73844908e-17]))\n",
       "           fun: 1.4326856592347756e-17\n",
       "       message: 'Optimization terminated successfully.'\n",
       "          nfev: 164\n",
       "           nit: 85\n",
       "        status: 0\n",
       "       success: True\n",
       "             x: array([ 3.31391559e-09, -1.82888492e-09])"
      ]
     },
     "execution_count": 108,
     "metadata": {},
     "output_type": "execute_result"
    }
   ],
   "source": [
    "from scipy.optimize import minimize\n",
    "\n",
    "initial_x = np.array([100, 200])\n",
    "minimize(f, initial_x, method = 'nelder-mead' , options = { 'xtol' : 1e-8 , 'disp' : True })"
   ]
  },
  {
   "cell_type": "code",
   "execution_count": null,
   "id": "nasty-possibility",
   "metadata": {},
   "outputs": [],
   "source": []
  }
 ],
 "metadata": {
  "kernelspec": {
   "display_name": "Python 3",
   "language": "python",
   "name": "python3"
  },
  "language_info": {
   "codemirror_mode": {
    "name": "ipython",
    "version": 3
   },
   "file_extension": ".py",
   "mimetype": "text/x-python",
   "name": "python",
   "nbconvert_exporter": "python",
   "pygments_lexer": "ipython3",
   "version": "3.8.5"
  }
 },
 "nbformat": 4,
 "nbformat_minor": 5
}
