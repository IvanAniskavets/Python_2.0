{
 "cells": [
  {
   "cell_type": "code",
   "execution_count": 1,
   "id": "fatal-division",
   "metadata": {},
   "outputs": [],
   "source": [
    "from datetime import datetime"
   ]
  },
  {
   "cell_type": "markdown",
   "id": "listed-baking",
   "metadata": {},
   "source": [
    "# Задание 1\n",
    "Печатные газеты использовали свой формат дат для каждого выпуска. Для каждой газеты из списка напишите формат указанной даты для перевода в объект datetime:  \n",
    "    The Moscow Times - Wednesday, October 2, 2002  \n",
    "    The Guardian - Friday, 11.10.13  \n",
    "    Daily News - Thursday, 18 August 1977  "
   ]
  },
  {
   "cell_type": "code",
   "execution_count": 2,
   "id": "driven-hazard",
   "metadata": {},
   "outputs": [
    {
     "name": "stdout",
     "output_type": "stream",
     "text": [
      "The Moscow Times - 2002-10-02 00:00:00\n",
      "The Guardian - 2013-10-11 00:00:00\n",
      "Daily News - 1977-08-18 00:00:00\n"
     ]
    }
   ],
   "source": [
    "newspaper_name_1 = 'The Moscow Times'\n",
    "newspaper_name_2 = 'The Guardian'\n",
    "newspaper_name_3 = 'Daily News'\n",
    "\n",
    "newspaper_date_1 = 'Wednesday, October 2, 2002'\n",
    "newspaper_date_2 = 'Friday, 11.10.13'\n",
    "newspaper_date_3 = 'Thursday, 18 August 1977'\n",
    "\n",
    "datetime_1 = datetime.strptime(newspaper_date_1, '%A, %B %d, %Y')\n",
    "datetime_2 = datetime.strptime(newspaper_date_2, '%A, %d.%m.%y')\n",
    "datetime_3 = datetime.strptime(newspaper_date_3, '%A, %d %B %Y')\n",
    "\n",
    "print(f'{newspaper_name_1} - {datetime_1}')\n",
    "print(f'{newspaper_name_2} - {datetime_2}')\n",
    "print(f'{newspaper_name_3} - {datetime_3}')"
   ]
  },
  {
   "cell_type": "markdown",
   "id": "expensive-hospital",
   "metadata": {},
   "source": [
    "# Задание 2\n",
    "Дан поток дат в формате YYYY-MM-DD, в которых встречаются некорректные значения:\n",
    "stream = [‘2018-04-02’, ‘2018-02-29’, ‘2018-19-02’]\n",
    "\n",
    "Напишите функцию, которая проверяет эти даты на корректность. Т. е. для каждой даты возвращает True (дата корректна) или False (некорректная дата)."
   ]
  },
  {
   "cell_type": "code",
   "execution_count": 4,
   "id": "european-intervention",
   "metadata": {},
   "outputs": [
    {
     "name": "stdout",
     "output_type": "stream",
     "text": [
      "True дата корректна.\n",
      "False некорректная дата.\n",
      "False некорректная дата.\n"
     ]
    }
   ],
   "source": [
    "stream = ['2018-04-02', '2018-02-29', '2018-19-02']\n",
    "\n",
    "for line in stream:\n",
    "    try:\n",
    "        line_date = datetime.strptime(line, '%Y-%m-%d')\n",
    "        print (f'{True} дата корректна.')\n",
    "    except:\n",
    "        print (f'{False} некорректная дата.')"
   ]
  },
  {
   "cell_type": "markdown",
   "id": "educational-feeding",
   "metadata": {},
   "source": [
    "# Задание 3\n",
    "\n",
    "Напишите функцию date_range, которая возвращает список дат за период от start_date до end_date. Даты должны вводиться в формате YYYY-MM-DD. В случае неверного формата или при start_date > end_date должен возвращаться пустой список."
   ]
  },
  {
   "cell_type": "code",
   "execution_count": 19,
   "id": "imperial-store",
   "metadata": {},
   "outputs": [],
   "source": [
    "from datetime import timedelta"
   ]
  },
  {
   "cell_type": "code",
   "execution_count": 24,
   "id": "periodic-treaty",
   "metadata": {},
   "outputs": [],
   "source": [
    "def date_range():\n",
    "    start_date = input('Введите дату в формате YYYY-MM-DD: ')\n",
    "    end_date = input('Введите дату в формате YYYY-MM-DD: ')\n",
    "    date_list = []\n",
    "    try:\n",
    "        start_date_dt = datetime.strptime(start_date, '%Y-%m-%d')\n",
    "        end_date_dt = datetime.strptime(end_date, '%Y-%m-%d')\n",
    "        if start_date <= end_date:\n",
    "            date_list = [(start_date_dt + timedelta(days = x)).strftime('%Y-%m-%d') for x in range(0, (end_date_dt - start_date_dt).days)]\n",
    "            date_list.append(end_date_dt.strftime('%Y-%m-%d'))\n",
    "            print('Список дат:')\n",
    "            print('\\n'.join(date_list))\n",
    "        else:\n",
    "            print('Некорретный ввод. Список пуст.')\n",
    "            print(date_list)\n",
    "    except ValueError:\n",
    "            print('Некорретный ввод. Список пуст.')\n",
    "            print(date_list)\n",
    "        "
   ]
  },
  {
   "cell_type": "code",
   "execution_count": 25,
   "id": "vocational-bible",
   "metadata": {},
   "outputs": [
    {
     "name": "stdout",
     "output_type": "stream",
     "text": [
      "Введите дату в формате YYYY-MM-DD: 2021-01-01\n",
      "Введите дату в формате YYYY-MM-DD: 2021-02-29\n",
      "Некорретный ввод. Некорретный ввод. Список пуст.\n",
      "[]\n"
     ]
    }
   ],
   "source": [
    "date_range()"
   ]
  },
  {
   "cell_type": "markdown",
   "id": "conditional-albania",
   "metadata": {},
   "source": [
    "# Задание 4\n",
    "Ваш коллега прислал код функции:  \n",
    "\n",
    "DEFAULT_USER_COUNT = 3  \n",
    "\n",
    "def delete_and_return_last_user(region, default_list=[‘A100’, ‘A101’, ‘A102’]):  \n",
    "\"\"“\n",
    "Удаляет из списка default_list последнего пользователя  \n",
    "и возвращает ID нового последнего пользователя.  \n",
    "”\"\"  \n",
    "element_to_delete = default_list[-1]  \n",
    "default_list.remove(element_to_delete)  \n",
    "\n",
    "return default_list[DEFAULT_USER_COUNT-2]  \n",
    "При однократном вызове этой функции все работает корректно:  \n",
    "delete_and_return_last_user(1)  \n",
    "‘A101’  \n",
    "\n",
    "Однако, при повторном вызове получается ошибка IndexError: list index out of range.  \n",
    "\n",
    "Задание:  \n",
    "\n",
    "Что значит ошибка list index out of range?  \n",
    "Почему при первом запуске функция работает корректно, а при втором - нет?  "
   ]
  },
  {
   "cell_type": "code",
   "execution_count": 26,
   "id": "separated-calculator",
   "metadata": {},
   "outputs": [
    {
     "data": {
      "text/plain": [
       "'A101'"
      ]
     },
     "execution_count": 26,
     "metadata": {},
     "output_type": "execute_result"
    }
   ],
   "source": [
    "DEFAULT_USER_COUNT = 3\n",
    "\n",
    "def delete_and_return_last_user(region, default_list=['A100', 'A101', 'A102']):\n",
    "    element_to_delete = default_list[-1]\n",
    "    default_list.remove(element_to_delete)\n",
    "    return default_list[DEFAULT_USER_COUNT-2]\n",
    "    \n",
    "delete_and_return_last_user(1)"
   ]
  },
  {
   "cell_type": "code",
   "execution_count": 27,
   "id": "monthly-greene",
   "metadata": {},
   "outputs": [
    {
     "ename": "IndexError",
     "evalue": "list index out of range",
     "output_type": "error",
     "traceback": [
      "\u001b[1;31m---------------------------------------------------------------------------\u001b[0m",
      "\u001b[1;31mIndexError\u001b[0m                                Traceback (most recent call last)",
      "\u001b[1;32m<ipython-input-27-bfb6c4f8c48e>\u001b[0m in \u001b[0;36m<module>\u001b[1;34m\u001b[0m\n\u001b[1;32m----> 1\u001b[1;33m \u001b[0mdelete_and_return_last_user\u001b[0m\u001b[1;33m(\u001b[0m\u001b[1;36m1\u001b[0m\u001b[1;33m)\u001b[0m\u001b[1;33m\u001b[0m\u001b[1;33m\u001b[0m\u001b[0m\n\u001b[0m",
      "\u001b[1;32m<ipython-input-26-d150fcf924ef>\u001b[0m in \u001b[0;36mdelete_and_return_last_user\u001b[1;34m(region, default_list)\u001b[0m\n\u001b[0;32m      4\u001b[0m     \u001b[0melement_to_delete\u001b[0m \u001b[1;33m=\u001b[0m \u001b[0mdefault_list\u001b[0m\u001b[1;33m[\u001b[0m\u001b[1;33m-\u001b[0m\u001b[1;36m1\u001b[0m\u001b[1;33m]\u001b[0m\u001b[1;33m\u001b[0m\u001b[1;33m\u001b[0m\u001b[0m\n\u001b[0;32m      5\u001b[0m     \u001b[0mdefault_list\u001b[0m\u001b[1;33m.\u001b[0m\u001b[0mremove\u001b[0m\u001b[1;33m(\u001b[0m\u001b[0melement_to_delete\u001b[0m\u001b[1;33m)\u001b[0m\u001b[1;33m\u001b[0m\u001b[1;33m\u001b[0m\u001b[0m\n\u001b[1;32m----> 6\u001b[1;33m     \u001b[1;32mreturn\u001b[0m \u001b[0mdefault_list\u001b[0m\u001b[1;33m[\u001b[0m\u001b[0mDEFAULT_USER_COUNT\u001b[0m\u001b[1;33m-\u001b[0m\u001b[1;36m2\u001b[0m\u001b[1;33m]\u001b[0m\u001b[1;33m\u001b[0m\u001b[1;33m\u001b[0m\u001b[0m\n\u001b[0m\u001b[0;32m      7\u001b[0m \u001b[1;33m\u001b[0m\u001b[0m\n\u001b[0;32m      8\u001b[0m \u001b[0mdelete_and_return_last_user\u001b[0m\u001b[1;33m(\u001b[0m\u001b[1;36m1\u001b[0m\u001b[1;33m)\u001b[0m\u001b[1;33m\u001b[0m\u001b[1;33m\u001b[0m\u001b[0m\n",
      "\u001b[1;31mIndexError\u001b[0m: list index out of range"
     ]
    }
   ],
   "source": [
    "delete_and_return_last_user(1)"
   ]
  },
  {
   "cell_type": "markdown",
   "id": "legendary-lease",
   "metadata": {},
   "source": [
    "## Ответ:\n",
    "1. Что значит ошибка list index out of range?  \n",
    "Потому, что при повторном обращении мы обращаемся к индексу элемента, которого уже нет в нашем списке. \n",
    "У нас изменился список, он сократился.\n",
    "\n",
    "\n",
    "2. Почему при первом запуске функция работает корректно, а при втором - нет?  \n",
    "При первом обращении к функции - мы изменили список и скоратили его, у нас было три элементы и их индексы: 0, 1 и 2, на выходе мы получили список из двух элементов и соответственно два индекса 0 и 1.\n",
    "Если при повторном обращении к функции мы не изменим DEFAULT_USER_COUNT на верное количество элементов и не укажем верный индекс, то на выходе мы получим ошибку.\n",
    "После того как, мы обратились к функции в первый раз, список изменился: в списке остались два элемента с индексами 0 и 1."
   ]
  },
  {
   "cell_type": "markdown",
   "id": "coated-fiction",
   "metadata": {},
   "source": [
    "# Вопрос:\n",
    "Задание 3  \n",
    "В конструкцию try-except не следует добавлять много строчек кода, \n",
    "Пытался реализовать без это конструкции - не получилось, так как не удавалось предосмотреть ошибку несуществующей даты.\n",
    "Если исключить строки из конструкции, то код начинает работать и выдает ошибку при несуществующей дате.\n",
    "В итоге сократить строки не удалось.\n",
    "Буду презнателен за решение с меньшим количеством строк, для самостоятельного разбора."
   ]
  },
  {
   "cell_type": "code",
   "execution_count": null,
   "id": "incoming-breeding",
   "metadata": {},
   "outputs": [],
   "source": []
  }
 ],
 "metadata": {
  "kernelspec": {
   "display_name": "Python 3",
   "language": "python",
   "name": "python3"
  },
  "language_info": {
   "codemirror_mode": {
    "name": "ipython",
    "version": 3
   },
   "file_extension": ".py",
   "mimetype": "text/x-python",
   "name": "python",
   "nbconvert_exporter": "python",
   "pygments_lexer": "ipython3",
   "version": "3.8.5"
  }
 },
 "nbformat": 4,
 "nbformat_minor": 5
}
