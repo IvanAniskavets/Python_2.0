{
 "cells": [
  {
   "cell_type": "code",
   "execution_count": 1,
   "id": "revolutionary-machinery",
   "metadata": {},
   "outputs": [],
   "source": [
    "import json"
   ]
  },
  {
   "cell_type": "code",
   "execution_count": 2,
   "id": "prostate-level",
   "metadata": {},
   "outputs": [],
   "source": [
    "import os"
   ]
  },
  {
   "cell_type": "code",
   "execution_count": 3,
   "id": "tracked-import",
   "metadata": {},
   "outputs": [],
   "source": [
    "import csv"
   ]
  },
  {
   "cell_type": "markdown",
   "id": "domestic-carrier",
   "metadata": {},
   "source": [
    "# Задание 1\n",
    "Переведите содержимое файла purchase_log.txt в словарь purchases вида:\n",
    "{‘1840e0b9d4’: ‘Продукты’, …}"
   ]
  },
  {
   "cell_type": "code",
   "execution_count": 7,
   "id": "unique-print",
   "metadata": {},
   "outputs": [],
   "source": [
    "purchases = {}\n",
    "\n",
    "root = 'C:/Netology'\n",
    "for file in os.listdir('C:/Netology'):\n",
    "    if 'purchase_log' in file:\n",
    "        file_name = root + '/' + file\n",
    "        with open(file_name, encoding='utf-8') as f:\n",
    "            first_line = f.readline()\n",
    "            my_first_line = json.loads(first_line)\n",
    "            for line in f:\n",
    "                my_dict = json.loads(line)\n",
    "                key = my_dict['user_id']\n",
    "                value = my_dict['category']\n",
    "                purchases[key] = value"
   ]
  },
  {
   "cell_type": "code",
   "execution_count": 8,
   "id": "simplified-oracle",
   "metadata": {},
   "outputs": [
    {
     "name": "stdout",
     "output_type": "stream",
     "text": [
      "1840e0b9d4\n",
      "4e4f90fcfb\n",
      "afea8d72fc\n",
      "373a6055fe\n",
      "9b2ab046f3\n"
     ]
    }
   ],
   "source": [
    "a = 0\n",
    "for key in purchases:\n",
    "    print(key)\n",
    "    a += 1\n",
    "    if a > 4:\n",
    "        break"
   ]
  },
  {
   "cell_type": "code",
   "execution_count": 18,
   "id": "electronic-court",
   "metadata": {},
   "outputs": [
    {
     "name": "stdout",
     "output_type": "stream",
     "text": [
      "1840e0b9d4 Продукты\n",
      "4e4f90fcfb Электроника\n",
      "afea8d72fc Электроника\n",
      "373a6055fe Бытовая техника\n",
      "9b2ab046f3 Электроника\n",
      "9f39d307c3 Электроника\n",
      "44edeffc91 Продукты\n",
      "704474fa2d Продукты\n",
      "1de31be403 Бытовая техника\n",
      "b71f36a5e4 Продукты\n",
      "79843a685a Продукты\n"
     ]
    }
   ],
   "source": [
    "i = 0\n",
    "for key, value in purchases.items():\n",
    "    print(key, value)\n",
    "    i += 1\n",
    "    if i > 10:\n",
    "        break"
   ]
  },
  {
   "cell_type": "code",
   "execution_count": 19,
   "id": "talented-conviction",
   "metadata": {},
   "outputs": [
    {
     "data": {
      "text/plain": [
       "99517"
      ]
     },
     "execution_count": 19,
     "metadata": {},
     "output_type": "execute_result"
    }
   ],
   "source": [
    "len(purchases)"
   ]
  },
  {
   "cell_type": "markdown",
   "id": "official-oakland",
   "metadata": {},
   "source": [
    "# Задание 2\n",
    "Для каждого user_id в файле visit_log.csv определите третий столбец с категорией покупки (если покупка была, сам файл visit_log.csv изменять не надо). Запишите в файл funnel.csv визиты из файла visit_log.csv, в которых были покупки с указанием категории.\n",
    "Учтите условия на данные:\n",
    "содержимое purchase_log.txt помещается в оперативную память компьютера\n",
    "содержимое visit_log.csv - нет; используйте только построчную обработку этого файла"
   ]
  },
  {
   "cell_type": "code",
   "execution_count": 9,
   "id": "arabic-diesel",
   "metadata": {},
   "outputs": [],
   "source": [
    "root = 'C:/Netology'\n",
    "for file in os.listdir('C:/Netology'):\n",
    "    if 'visit_log' in file:\n",
    "        file_name = root + '/' + file\n",
    "        with open(file_name, 'r') as file_2:\n",
    "            with open('funnel.csv', 'w', encoding='utf-8') as file_write:\n",
    "                for line_2 in file_2:\n",
    "                    el = line_2.strip().split(',')\n",
    "                    if  my_first_line['user_id'] == el[0]:\n",
    "                        a = my_first_line['category']\n",
    "                        file_write.write(f'{el[0]},{el[1]},{a}\\n')\n",
    "                    elif purchases.get(el[0]) != None and el[1] != None:\n",
    "                        b =  purchases.get(el[0])\n",
    "                        file_write.write(f'{el[0]},{el[1]},{b}\\n')"
   ]
  },
  {
   "cell_type": "markdown",
   "id": "burning-botswana",
   "metadata": {},
   "source": [
    "# Вопрос:\n",
    "\n",
    "Подскажи пожалуйста, как можно реализовать такой же подход как в коде по чтению файла, но без явного указания пути,\n",
    "Например как это было в предзаписанном видео, по названию папки директории, в целом доводилось подобное делать на Маке,\n",
    "Но на виндовс не получилось, так как была ошибка \"файл не существует\", плюс наклонная черта на винде иная,\n",
    "И получает, что путь к файлу все же идет явный, но хотелось бы понять реализацию без явного пути к файлу, а только по названию нужного файла или расширения.\n",
    "\n",
    "Заранее спасибо."
   ]
  },
  {
   "cell_type": "code",
   "execution_count": null,
   "id": "provincial-disco",
   "metadata": {},
   "outputs": [],
   "source": []
  }
 ],
 "metadata": {
  "kernelspec": {
   "display_name": "Python 3",
   "language": "python",
   "name": "python3"
  },
  "language_info": {
   "codemirror_mode": {
    "name": "ipython",
    "version": 3
   },
   "file_extension": ".py",
   "mimetype": "text/x-python",
   "name": "python",
   "nbconvert_exporter": "python",
   "pygments_lexer": "ipython3",
   "version": "3.8.5"
  }
 },
 "nbformat": 4,
 "nbformat_minor": 5
}
