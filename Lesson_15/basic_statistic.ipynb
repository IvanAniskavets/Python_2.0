{
 "cells": [
  {
   "cell_type": "markdown",
   "id": "existing-destiny",
   "metadata": {},
   "source": [
    "# Оглавление\n",
    "\n",
    "1. [Задание 1](#task1)       \n",
    "2. [Задание 2](#task2)  \n",
    "    2.1 [Info](#subtask1)  \n",
    "    2.2 [Describe](#subtask2)  \n",
    "    2.3 [Общие выводы](#subtask3)  \n",
    "    2.4 [Выбросы](#subtask4)  \n",
    "    2.5 [Выводы о выбросах](#subtask5)  \n",
    "3. [Задание 3](#task3)  \n",
    "    3.1 [Вывод о наличии пропусков](#subtask6)  \n",
    "    3.2 [Гипотезы](#subtask7)  \n",
    "    3.3 [Итоговый датафрей](#subtask8)  "
   ]
  },
  {
   "cell_type": "code",
   "execution_count": 1,
   "id": "spiritual-teens",
   "metadata": {},
   "outputs": [],
   "source": [
    "import os\n",
    "import pandas as pd\n",
    "import numpy as np"
   ]
  },
  {
   "cell_type": "markdown",
   "id": "stunning-timer",
   "metadata": {},
   "source": [
    "# Задание 1. Загрузка данных\n",
    "<a id='task1'></a>\n",
    "Изучить представленный набор данных на основе описания его столбцов, загрузить его и оставить 8 столбцов для дальнейшего изучения: surgery?, Age, rectal temperature, pulse, respiratory rate, temperature of extremities, pain, outcome."
   ]
  },
  {
   "cell_type": "code",
   "execution_count": 2,
   "id": "prime-efficiency",
   "metadata": {},
   "outputs": [],
   "source": [
    "list_columns = ['surgery?', 'Age', 'rectal_temperature', 'pulse', 'respiratory_rate', \n",
    "                'temperature_of_extremities', 'pain', 'outcome']\n",
    "\n",
    "data_horses = pd.read_csv(os.path.join('C:', os.sep, 'Netology', 'practice_and_dz_stat', 'horse_data.csv'), header=None, \n",
    "                          na_values='?', usecols = [0, 1, 3, 4, 5, 6, 10, 22], names = list_columns)"
   ]
  },
  {
   "cell_type": "code",
   "execution_count": 3,
   "id": "bigger-return",
   "metadata": {},
   "outputs": [
    {
     "data": {
      "text/html": [
       "<div>\n",
       "<style scoped>\n",
       "    .dataframe tbody tr th:only-of-type {\n",
       "        vertical-align: middle;\n",
       "    }\n",
       "\n",
       "    .dataframe tbody tr th {\n",
       "        vertical-align: top;\n",
       "    }\n",
       "\n",
       "    .dataframe thead th {\n",
       "        text-align: right;\n",
       "    }\n",
       "</style>\n",
       "<table border=\"1\" class=\"dataframe\">\n",
       "  <thead>\n",
       "    <tr style=\"text-align: right;\">\n",
       "      <th></th>\n",
       "      <th>surgery?</th>\n",
       "      <th>Age</th>\n",
       "      <th>rectal_temperature</th>\n",
       "      <th>pulse</th>\n",
       "      <th>respiratory_rate</th>\n",
       "      <th>temperature_of_extremities</th>\n",
       "      <th>pain</th>\n",
       "      <th>outcome</th>\n",
       "    </tr>\n",
       "  </thead>\n",
       "  <tbody>\n",
       "    <tr>\n",
       "      <th>0</th>\n",
       "      <td>2.0</td>\n",
       "      <td>1</td>\n",
       "      <td>38.5</td>\n",
       "      <td>66.0</td>\n",
       "      <td>28.0</td>\n",
       "      <td>3.0</td>\n",
       "      <td>5.0</td>\n",
       "      <td>2.0</td>\n",
       "    </tr>\n",
       "    <tr>\n",
       "      <th>1</th>\n",
       "      <td>1.0</td>\n",
       "      <td>1</td>\n",
       "      <td>39.2</td>\n",
       "      <td>88.0</td>\n",
       "      <td>20.0</td>\n",
       "      <td>NaN</td>\n",
       "      <td>3.0</td>\n",
       "      <td>3.0</td>\n",
       "    </tr>\n",
       "    <tr>\n",
       "      <th>2</th>\n",
       "      <td>2.0</td>\n",
       "      <td>1</td>\n",
       "      <td>38.3</td>\n",
       "      <td>40.0</td>\n",
       "      <td>24.0</td>\n",
       "      <td>1.0</td>\n",
       "      <td>3.0</td>\n",
       "      <td>1.0</td>\n",
       "    </tr>\n",
       "    <tr>\n",
       "      <th>3</th>\n",
       "      <td>1.0</td>\n",
       "      <td>9</td>\n",
       "      <td>39.1</td>\n",
       "      <td>164.0</td>\n",
       "      <td>84.0</td>\n",
       "      <td>4.0</td>\n",
       "      <td>2.0</td>\n",
       "      <td>2.0</td>\n",
       "    </tr>\n",
       "    <tr>\n",
       "      <th>4</th>\n",
       "      <td>2.0</td>\n",
       "      <td>1</td>\n",
       "      <td>37.3</td>\n",
       "      <td>104.0</td>\n",
       "      <td>35.0</td>\n",
       "      <td>NaN</td>\n",
       "      <td>NaN</td>\n",
       "      <td>2.0</td>\n",
       "    </tr>\n",
       "  </tbody>\n",
       "</table>\n",
       "</div>"
      ],
      "text/plain": [
       "   surgery?  Age  rectal_temperature  pulse  respiratory_rate  \\\n",
       "0       2.0    1                38.5   66.0              28.0   \n",
       "1       1.0    1                39.2   88.0              20.0   \n",
       "2       2.0    1                38.3   40.0              24.0   \n",
       "3       1.0    9                39.1  164.0              84.0   \n",
       "4       2.0    1                37.3  104.0              35.0   \n",
       "\n",
       "   temperature_of_extremities  pain  outcome  \n",
       "0                         3.0   5.0      2.0  \n",
       "1                         NaN   3.0      3.0  \n",
       "2                         1.0   3.0      1.0  \n",
       "3                         4.0   2.0      2.0  \n",
       "4                         NaN   NaN      2.0  "
      ]
     },
     "execution_count": 3,
     "metadata": {},
     "output_type": "execute_result"
    }
   ],
   "source": [
    "data_horses.head()"
   ]
  },
  {
   "cell_type": "markdown",
   "id": "stupid-ocean",
   "metadata": {},
   "source": [
    "Столбец Age является вторым в описании и имеет значения 1 = Adult horse и 2 = Young (< 6 months).\n",
    "В Python, нумерация начинается с 0, то есть столбец Age имеет порядковый номер 1, \n",
    "при изучении содержимого столбца установлено, что в столбце содержатся значения 1 и 9, что не соответсвует значениям в описании ввиду чего, делаем вывод, что наличие значения 9 является ошибкой и соответсвует значению 2, ввиду чего производим замену 9 на 2."
   ]
  },
  {
   "cell_type": "code",
   "execution_count": 4,
   "id": "verified-apparatus",
   "metadata": {},
   "outputs": [
    {
     "data": {
      "text/html": [
       "<div>\n",
       "<style scoped>\n",
       "    .dataframe tbody tr th:only-of-type {\n",
       "        vertical-align: middle;\n",
       "    }\n",
       "\n",
       "    .dataframe tbody tr th {\n",
       "        vertical-align: top;\n",
       "    }\n",
       "\n",
       "    .dataframe thead th {\n",
       "        text-align: right;\n",
       "    }\n",
       "</style>\n",
       "<table border=\"1\" class=\"dataframe\">\n",
       "  <thead>\n",
       "    <tr style=\"text-align: right;\">\n",
       "      <th></th>\n",
       "      <th>surgery?</th>\n",
       "      <th>Age</th>\n",
       "      <th>rectal_temperature</th>\n",
       "      <th>pulse</th>\n",
       "      <th>respiratory_rate</th>\n",
       "      <th>temperature_of_extremities</th>\n",
       "      <th>pain</th>\n",
       "      <th>outcome</th>\n",
       "    </tr>\n",
       "  </thead>\n",
       "  <tbody>\n",
       "    <tr>\n",
       "      <th>0</th>\n",
       "      <td>2.0</td>\n",
       "      <td>1</td>\n",
       "      <td>38.5</td>\n",
       "      <td>66.0</td>\n",
       "      <td>28.0</td>\n",
       "      <td>3.0</td>\n",
       "      <td>5.0</td>\n",
       "      <td>2.0</td>\n",
       "    </tr>\n",
       "    <tr>\n",
       "      <th>1</th>\n",
       "      <td>1.0</td>\n",
       "      <td>1</td>\n",
       "      <td>39.2</td>\n",
       "      <td>88.0</td>\n",
       "      <td>20.0</td>\n",
       "      <td>NaN</td>\n",
       "      <td>3.0</td>\n",
       "      <td>3.0</td>\n",
       "    </tr>\n",
       "    <tr>\n",
       "      <th>2</th>\n",
       "      <td>2.0</td>\n",
       "      <td>1</td>\n",
       "      <td>38.3</td>\n",
       "      <td>40.0</td>\n",
       "      <td>24.0</td>\n",
       "      <td>1.0</td>\n",
       "      <td>3.0</td>\n",
       "      <td>1.0</td>\n",
       "    </tr>\n",
       "    <tr>\n",
       "      <th>3</th>\n",
       "      <td>1.0</td>\n",
       "      <td>2</td>\n",
       "      <td>39.1</td>\n",
       "      <td>164.0</td>\n",
       "      <td>84.0</td>\n",
       "      <td>4.0</td>\n",
       "      <td>2.0</td>\n",
       "      <td>2.0</td>\n",
       "    </tr>\n",
       "    <tr>\n",
       "      <th>4</th>\n",
       "      <td>2.0</td>\n",
       "      <td>1</td>\n",
       "      <td>37.3</td>\n",
       "      <td>104.0</td>\n",
       "      <td>35.0</td>\n",
       "      <td>NaN</td>\n",
       "      <td>NaN</td>\n",
       "      <td>2.0</td>\n",
       "    </tr>\n",
       "  </tbody>\n",
       "</table>\n",
       "</div>"
      ],
      "text/plain": [
       "   surgery?  Age  rectal_temperature  pulse  respiratory_rate  \\\n",
       "0       2.0    1                38.5   66.0              28.0   \n",
       "1       1.0    1                39.2   88.0              20.0   \n",
       "2       2.0    1                38.3   40.0              24.0   \n",
       "3       1.0    2                39.1  164.0              84.0   \n",
       "4       2.0    1                37.3  104.0              35.0   \n",
       "\n",
       "   temperature_of_extremities  pain  outcome  \n",
       "0                         3.0   5.0      2.0  \n",
       "1                         NaN   3.0      3.0  \n",
       "2                         1.0   3.0      1.0  \n",
       "3                         4.0   2.0      2.0  \n",
       "4                         NaN   NaN      2.0  "
      ]
     },
     "execution_count": 4,
     "metadata": {},
     "output_type": "execute_result"
    }
   ],
   "source": [
    "data_horses['Age'] = data_horses['Age'].replace(9, 2)\n",
    "data_horses.head()"
   ]
  },
  {
   "cell_type": "markdown",
   "id": "simple-illustration",
   "metadata": {},
   "source": [
    "# Задание 2. Первичное изучение данных\n",
    "<a id='task2'></a>\n",
    "Проанализировать значения по столбцам, рассчитать базовые статистики, найти выбросы."
   ]
  },
  {
   "cell_type": "markdown",
   "id": "bibliographic-massage",
   "metadata": {},
   "source": [
    "### Info\n",
    "<a id='subtask1'></a>"
   ]
  },
  {
   "cell_type": "code",
   "execution_count": 5,
   "id": "endangered-boulder",
   "metadata": {},
   "outputs": [
    {
     "name": "stdout",
     "output_type": "stream",
     "text": [
      "<class 'pandas.core.frame.DataFrame'>\n",
      "RangeIndex: 300 entries, 0 to 299\n",
      "Data columns (total 8 columns):\n",
      " #   Column                      Non-Null Count  Dtype  \n",
      "---  ------                      --------------  -----  \n",
      " 0   surgery?                    299 non-null    float64\n",
      " 1   Age                         300 non-null    int64  \n",
      " 2   rectal_temperature          240 non-null    float64\n",
      " 3   pulse                       276 non-null    float64\n",
      " 4   respiratory_rate            242 non-null    float64\n",
      " 5   temperature_of_extremities  244 non-null    float64\n",
      " 6   pain                        245 non-null    float64\n",
      " 7   outcome                     299 non-null    float64\n",
      "dtypes: float64(7), int64(1)\n",
      "memory usage: 18.9 KB\n"
     ]
    }
   ],
   "source": [
    "data_horses.info()"
   ]
  },
  {
   "cell_type": "markdown",
   "id": "annual-arabic",
   "metadata": {},
   "source": [
    "### Describe\n",
    "<a id='subtask2'></a>"
   ]
  },
  {
   "cell_type": "code",
   "execution_count": 6,
   "id": "periodic-circle",
   "metadata": {},
   "outputs": [
    {
     "name": "stdout",
     "output_type": "stream",
     "text": [
      "===========================================================\n",
      "Основные статистики:\n"
     ]
    },
    {
     "data": {
      "text/html": [
       "<div>\n",
       "<style scoped>\n",
       "    .dataframe tbody tr th:only-of-type {\n",
       "        vertical-align: middle;\n",
       "    }\n",
       "\n",
       "    .dataframe tbody tr th {\n",
       "        vertical-align: top;\n",
       "    }\n",
       "\n",
       "    .dataframe thead th {\n",
       "        text-align: right;\n",
       "    }\n",
       "</style>\n",
       "<table border=\"1\" class=\"dataframe\">\n",
       "  <thead>\n",
       "    <tr style=\"text-align: right;\">\n",
       "      <th></th>\n",
       "      <th>surgery?</th>\n",
       "      <th>Age</th>\n",
       "      <th>rectal_temperature</th>\n",
       "      <th>pulse</th>\n",
       "      <th>respiratory_rate</th>\n",
       "      <th>temperature_of_extremities</th>\n",
       "      <th>pain</th>\n",
       "      <th>outcome</th>\n",
       "    </tr>\n",
       "  </thead>\n",
       "  <tbody>\n",
       "    <tr>\n",
       "      <th>count</th>\n",
       "      <td>299.000000</td>\n",
       "      <td>300.000000</td>\n",
       "      <td>240.000000</td>\n",
       "      <td>276.000000</td>\n",
       "      <td>242.000000</td>\n",
       "      <td>244.000000</td>\n",
       "      <td>245.00000</td>\n",
       "      <td>299.000000</td>\n",
       "    </tr>\n",
       "    <tr>\n",
       "      <th>mean</th>\n",
       "      <td>1.397993</td>\n",
       "      <td>1.080000</td>\n",
       "      <td>38.167917</td>\n",
       "      <td>71.913043</td>\n",
       "      <td>30.417355</td>\n",
       "      <td>2.348361</td>\n",
       "      <td>2.95102</td>\n",
       "      <td>1.551839</td>\n",
       "    </tr>\n",
       "    <tr>\n",
       "      <th>std</th>\n",
       "      <td>0.490305</td>\n",
       "      <td>0.271746</td>\n",
       "      <td>0.732289</td>\n",
       "      <td>28.630557</td>\n",
       "      <td>17.642231</td>\n",
       "      <td>1.045054</td>\n",
       "      <td>1.30794</td>\n",
       "      <td>0.737187</td>\n",
       "    </tr>\n",
       "    <tr>\n",
       "      <th>min</th>\n",
       "      <td>1.000000</td>\n",
       "      <td>1.000000</td>\n",
       "      <td>35.400000</td>\n",
       "      <td>30.000000</td>\n",
       "      <td>8.000000</td>\n",
       "      <td>1.000000</td>\n",
       "      <td>1.00000</td>\n",
       "      <td>1.000000</td>\n",
       "    </tr>\n",
       "    <tr>\n",
       "      <th>25%</th>\n",
       "      <td>1.000000</td>\n",
       "      <td>1.000000</td>\n",
       "      <td>37.800000</td>\n",
       "      <td>48.000000</td>\n",
       "      <td>18.500000</td>\n",
       "      <td>1.000000</td>\n",
       "      <td>2.00000</td>\n",
       "      <td>1.000000</td>\n",
       "    </tr>\n",
       "    <tr>\n",
       "      <th>50%</th>\n",
       "      <td>1.000000</td>\n",
       "      <td>1.000000</td>\n",
       "      <td>38.200000</td>\n",
       "      <td>64.000000</td>\n",
       "      <td>24.500000</td>\n",
       "      <td>3.000000</td>\n",
       "      <td>3.00000</td>\n",
       "      <td>1.000000</td>\n",
       "    </tr>\n",
       "    <tr>\n",
       "      <th>75%</th>\n",
       "      <td>2.000000</td>\n",
       "      <td>1.000000</td>\n",
       "      <td>38.500000</td>\n",
       "      <td>88.000000</td>\n",
       "      <td>36.000000</td>\n",
       "      <td>3.000000</td>\n",
       "      <td>4.00000</td>\n",
       "      <td>2.000000</td>\n",
       "    </tr>\n",
       "    <tr>\n",
       "      <th>max</th>\n",
       "      <td>2.000000</td>\n",
       "      <td>2.000000</td>\n",
       "      <td>40.800000</td>\n",
       "      <td>184.000000</td>\n",
       "      <td>96.000000</td>\n",
       "      <td>4.000000</td>\n",
       "      <td>5.00000</td>\n",
       "      <td>3.000000</td>\n",
       "    </tr>\n",
       "  </tbody>\n",
       "</table>\n",
       "</div>"
      ],
      "text/plain": [
       "         surgery?         Age  rectal_temperature       pulse  \\\n",
       "count  299.000000  300.000000          240.000000  276.000000   \n",
       "mean     1.397993    1.080000           38.167917   71.913043   \n",
       "std      0.490305    0.271746            0.732289   28.630557   \n",
       "min      1.000000    1.000000           35.400000   30.000000   \n",
       "25%      1.000000    1.000000           37.800000   48.000000   \n",
       "50%      1.000000    1.000000           38.200000   64.000000   \n",
       "75%      2.000000    1.000000           38.500000   88.000000   \n",
       "max      2.000000    2.000000           40.800000  184.000000   \n",
       "\n",
       "       respiratory_rate  temperature_of_extremities       pain     outcome  \n",
       "count        242.000000                  244.000000  245.00000  299.000000  \n",
       "mean          30.417355                    2.348361    2.95102    1.551839  \n",
       "std           17.642231                    1.045054    1.30794    0.737187  \n",
       "min            8.000000                    1.000000    1.00000    1.000000  \n",
       "25%           18.500000                    1.000000    2.00000    1.000000  \n",
       "50%           24.500000                    3.000000    3.00000    1.000000  \n",
       "75%           36.000000                    3.000000    4.00000    2.000000  \n",
       "max           96.000000                    4.000000    5.00000    3.000000  "
      ]
     },
     "execution_count": 6,
     "metadata": {},
     "output_type": "execute_result"
    }
   ],
   "source": [
    "print('===========================================================')\n",
    "print('Основные статистики:')\n",
    "data_horses.describe()"
   ]
  },
  {
   "cell_type": "code",
   "execution_count": 7,
   "id": "useful-civilization",
   "metadata": {},
   "outputs": [
    {
     "name": "stdout",
     "output_type": "stream",
     "text": [
      "===========================================================\n",
      "Значение моды и медианны по столбцу: rectal temperature\n",
      "Моды 38.0\n",
      "Медианны 38.2\n",
      "\n",
      "\n",
      "===========================================================\n",
      "Значение моды и медианны по столбцу: pulse\n",
      "Моды 48.0\n",
      "Медианны 64.0\n",
      "\n",
      "\n",
      "===========================================================\n",
      "Значение моды и медианны по столбцу: respiratory rate\n",
      "Моды 20.0\n",
      "Медианны 24.5\n",
      "\n",
      "\n",
      "===========================================================\n"
     ]
    }
   ],
   "source": [
    "print('===========================================================')\n",
    "print('Значение моды и медианны по столбцу: ' + 'rectal temperature')\n",
    "print('Моды', data_horses.rectal_temperature.round().mode()[0])\n",
    "print('Медианны', data_horses.rectal_temperature.median())\n",
    "print('\\n')\n",
    "print('===========================================================')\n",
    "print('Значение моды и медианны по столбцу: ' + 'pulse')\n",
    "print('Моды', data_horses.pulse.round().mode()[0])\n",
    "print('Медианны', data_horses.pulse.median())\n",
    "print('\\n')\n",
    "print('===========================================================')\n",
    "print('Значение моды и медианны по столбцу: ' + 'respiratory rate')\n",
    "print('Моды', data_horses.respiratory_rate.round().mode()[0])\n",
    "print('Медианны', data_horses.respiratory_rate.median())\n",
    "print('\\n')\n",
    "print('===========================================================')"
   ]
  },
  {
   "cell_type": "code",
   "execution_count": 8,
   "id": "dramatic-belgium",
   "metadata": {},
   "outputs": [
    {
     "data": {
      "text/plain": [
       "1.0    180\n",
       "2.0    119\n",
       "Name: surgery?, dtype: int64"
      ]
     },
     "execution_count": 8,
     "metadata": {},
     "output_type": "execute_result"
    }
   ],
   "source": [
    "# оценим распределние животных по лечению с хирургической опирацией и без нее\n",
    "\n",
    "data_horses['surgery?'].value_counts().head()"
   ]
  },
  {
   "cell_type": "code",
   "execution_count": 9,
   "id": "ultimate-house",
   "metadata": {},
   "outputs": [
    {
     "data": {
      "text/plain": [
       "1    276\n",
       "2     24\n",
       "Name: Age, dtype: int64"
      ]
     },
     "execution_count": 9,
     "metadata": {},
     "output_type": "execute_result"
    }
   ],
   "source": [
    "# оценим распределние животных по возрасту\n",
    "\n",
    "data_horses['Age'].value_counts().head()"
   ]
  },
  {
   "cell_type": "code",
   "execution_count": 10,
   "id": "numerical-chaos",
   "metadata": {},
   "outputs": [
    {
     "data": {
      "text/plain": [
       "3.0    109\n",
       "1.0     78\n",
       "2.0     30\n",
       "4.0     27\n",
       "Name: temperature_of_extremities, dtype: int64"
      ]
     },
     "execution_count": 10,
     "metadata": {},
     "output_type": "execute_result"
    }
   ],
   "source": [
    "# оценим распределние животных по температуре конечностей (крови)\n",
    "\n",
    "data_horses['temperature_of_extremities'].value_counts().head()"
   ]
  },
  {
   "cell_type": "code",
   "execution_count": 11,
   "id": "european-chapel",
   "metadata": {},
   "outputs": [
    {
     "data": {
      "text/plain": [
       "3.0    67\n",
       "2.0    59\n",
       "5.0    42\n",
       "4.0    39\n",
       "1.0    38\n",
       "Name: pain, dtype: int64"
      ]
     },
     "execution_count": 11,
     "metadata": {},
     "output_type": "execute_result"
    }
   ],
   "source": [
    "# оценим распределние животных по уровню предполагаемого болевого синдрома животного\n",
    "\n",
    "data_horses['pain'].value_counts().head()"
   ]
  },
  {
   "cell_type": "code",
   "execution_count": 12,
   "id": "removable-prototype",
   "metadata": {},
   "outputs": [
    {
     "data": {
      "text/plain": [
       "1.0    178\n",
       "2.0     77\n",
       "3.0     44\n",
       "Name: outcome, dtype: int64"
      ]
     },
     "execution_count": 12,
     "metadata": {},
     "output_type": "execute_result"
    }
   ],
   "source": [
    "# оценим распределние животных по выживаемости\n",
    "\n",
    "data_horses['outcome'].value_counts().head()"
   ]
  },
  {
   "cell_type": "markdown",
   "id": "tamil-aging",
   "metadata": {},
   "source": [
    "### Общие вывод:\n",
    "<a id='subtask3'></a>\n",
    "* Большенство ислледуемых животных являются взрослые особи.\n",
    "* Больше половины животных проходили лечение включающее хирургическое вмешательство, была операция.\n",
    "* Показатели среднего значения и моды ректальной температуры незначительно отклонены от нормы 37.8, тем не менее являются в переделах допустимого.\n",
    "* Показатель среднего значения пульса, значительно выше нормы, показатель моды также превышает значение нормы 30-40, по показателю моды можем предположить, что на момент проведения исследования животные испытывали стресс и находились незначительном шоковом состоянии, тем не менее значительное отклонение среднего начения пульса от нормы говорит о наличии выброса в данных, либо присутвия в выборке больных животных испытывающих сильный болевой синдром, данные параметр требует дополнительного исследования.\n",
    "* Менее у трети животных показатели температуры конечностей относятся к нормельным, также у трети животных имеелась повышенная температура конечностей, что коррелирует с ректальной температурой, у небольшого числа животных была пониженная температура конечностей, повышенний и пониженный показатель объясняются шоком и возможным болевым синдромом у животных.\n",
    "* Лижь у не значительной части выборки ивотных отсутвовала тревога и боль на момент исследования, большая часть животных имела болевой синдром разной степени проявления.\n",
    "* Более половины животных в выборе выжили после проведенного исследования, менее 1\\6 части выборки были усыплены, менее трети от выборки животных скончалось."
   ]
  },
  {
   "cell_type": "markdown",
   "id": "danish-license",
   "metadata": {},
   "source": [
    "### Выбросы\n",
    "<a id='subtask4'></a>"
   ]
  },
  {
   "cell_type": "code",
   "execution_count": 13,
   "id": "equipped-value",
   "metadata": {},
   "outputs": [
    {
     "name": "stdout",
     "output_type": "stream",
     "text": [
      "===========================================================\n",
      "Данные по столбцу: rectal_temperature\n",
      "Первый квантиль (25-й процентиль) 37.8\n",
      "Третий квантиль (75-й процентиль) 38.5\n",
      "Межквартильный размах 0.7000000000000028\n",
      "===========================================================\n",
      "\n",
      "Выборосы в данных:\n"
     ]
    },
    {
     "data": {
      "text/plain": [
       "20     39.9\n",
       "44     35.4\n",
       "54     40.3\n",
       "75     39.7\n",
       "80     36.4\n",
       "91     40.3\n",
       "99     39.6\n",
       "118    36.5\n",
       "141    36.0\n",
       "238    36.1\n",
       "251    36.6\n",
       "259    40.8\n",
       "281    40.0\n",
       "298    36.5\n",
       "Name: rectal_temperature, dtype: float64"
      ]
     },
     "execution_count": 13,
     "metadata": {},
     "output_type": "execute_result"
    }
   ],
   "source": [
    "print('===========================================================')\n",
    "print('Данные по столбцу: ' + 'rectal_temperature')\n",
    "q1 = data_horses['rectal_temperature'].quantile(0.25)\n",
    "q3 = data_horses['rectal_temperature'].quantile(0.75)\n",
    "iqr = q3 - q1\n",
    "lower_bound = q1 - (1.5 * iqr) \n",
    "upper_bound = q3 + (1.5 * iqr)\n",
    "print('Первый квантиль (25-й процентиль)', q1)\n",
    "print('Третий квантиль (75-й процентиль)', q3)\n",
    "print('Межквартильный размах', iqr)\n",
    "print('===========================================================')\n",
    "remove_outliers = data_horses[data_horses['rectal_temperature'].between(lower_bound, upper_bound, inclusive=True)].sort_values('rectal_temperature')\n",
    "print('\\nВыборосы в данных:')\n",
    "result_outliers = pd.concat([data_horses, remove_outliers]).drop_duplicates(keep=False)\n",
    "result_outliers['rectal_temperature'].loc[result_outliers['rectal_temperature'] > 0]"
   ]
  },
  {
   "cell_type": "code",
   "execution_count": 14,
   "id": "spanish-survey",
   "metadata": {},
   "outputs": [
    {
     "name": "stdout",
     "output_type": "stream",
     "text": [
      "===========================================================\n",
      "Данные по столбцу: pulse\n",
      "Первый квантиль (25-й процентиль) 48.0\n",
      "Третий квантиль (75-й процентиль) 88.0\n",
      "Межквартильный размах 40.0\n",
      "===========================================================\n",
      "\n",
      "Выборосы в данных:\n"
     ]
    },
    {
     "data": {
      "text/plain": [
       "3      164.0\n",
       "41     150.0\n",
       "55     160.0\n",
       "255    184.0\n",
       "275    150.0\n",
       "Name: pulse, dtype: float64"
      ]
     },
     "execution_count": 14,
     "metadata": {},
     "output_type": "execute_result"
    }
   ],
   "source": [
    "print('===========================================================')\n",
    "print('Данные по столбцу: ' + 'pulse')\n",
    "q1 = data_horses['pulse'].quantile(0.25)\n",
    "q3 = data_horses['pulse'].quantile(0.75)\n",
    "iqr = q3 - q1\n",
    "lower_bound = q1 - (1.5 * iqr) \n",
    "upper_bound = q3 + (1.5 * iqr)\n",
    "print('Первый квантиль (25-й процентиль)', q1)\n",
    "print('Третий квантиль (75-й процентиль)', q3)\n",
    "print('Межквартильный размах', iqr)\n",
    "print('===========================================================')\n",
    "remove_outliers = data_horses[data_horses['pulse'].between(lower_bound, upper_bound, inclusive=True)].sort_values('pulse')\n",
    "print('\\nВыборосы в данных:')\n",
    "result_outliers = pd.concat([data_horses, remove_outliers]).drop_duplicates(keep=False)\n",
    "result_outliers['pulse'].loc[result_outliers['pulse'] > 0]"
   ]
  },
  {
   "cell_type": "code",
   "execution_count": 15,
   "id": "sapphire-radio",
   "metadata": {},
   "outputs": [
    {
     "name": "stdout",
     "output_type": "stream",
     "text": [
      "===========================================================\n",
      "Данные по столбцу: respiratory_rate\n",
      "Первый квантиль (25-й процентиль) 18.5\n",
      "Третий квантиль (75-й процентиль) 36.0\n",
      "Межквартильный размах 17.5\n",
      "===========================================================\n",
      "\n",
      "Выборосы в данных:\n"
     ]
    },
    {
     "data": {
      "text/plain": [
       "3      84.0\n",
       "39     96.0\n",
       "41     72.0\n",
       "82     80.0\n",
       "84     80.0\n",
       "103    68.0\n",
       "106    96.0\n",
       "120    66.0\n",
       "125    68.0\n",
       "208    80.0\n",
       "229    70.0\n",
       "244    88.0\n",
       "255    84.0\n",
       "265    68.0\n",
       "295    70.0\n",
       "Name: respiratory_rate, dtype: float64"
      ]
     },
     "execution_count": 15,
     "metadata": {},
     "output_type": "execute_result"
    }
   ],
   "source": [
    "print('===========================================================')\n",
    "print('Данные по столбцу: ' + 'respiratory_rate')\n",
    "q1 = data_horses['respiratory_rate'].quantile(0.25)\n",
    "q3 = data_horses['respiratory_rate'].quantile(0.75)\n",
    "iqr = q3 - q1\n",
    "lower_bound = q1 - (1.5 * iqr) \n",
    "upper_bound = q3 + (1.5 * iqr)\n",
    "print('Первый квантиль (25-й процентиль)', q1)\n",
    "print('Третий квантиль (75-й процентиль)', q3)\n",
    "print('Межквартильный размах', iqr)\n",
    "print('===========================================================')\n",
    "remove_outliers = data_horses[data_horses['respiratory_rate'].between(lower_bound, upper_bound, inclusive=True)].sort_values('respiratory_rate')\n",
    "print('\\nВыборосы в данных:')\n",
    "result_outliers = pd.concat([data_horses, remove_outliers]).drop_duplicates(keep=False)\n",
    "result_outliers['respiratory_rate'].loc[result_outliers['respiratory_rate'] > 0]"
   ]
  },
  {
   "cell_type": "markdown",
   "id": "italic-oasis",
   "metadata": {},
   "source": [
    "### Выводы о выбросах:\n",
    "<a id='subtask5'></a>\n",
    "Как видно, количество экстремальных значений незначительно от общего числа выобрки, учитывая показатели здоровья описанные в предыдущих выводах и то, что на момент исследования животные могли испытывать стресс и шок, а также иметь болевой синдром и ухудшевшееся состояния здоровья по причине болезни, делаем вывод о том, что сильно отклоняющиеся значения пульса, дыхания и ректальной температуры носят естественный характер."
   ]
  },
  {
   "cell_type": "markdown",
   "id": "american-summary",
   "metadata": {},
   "source": [
    "# Задание 3. Работа с пропусками\n",
    "<a id='task3'></a>\n",
    "Рассчитать количество пропусков для всех выбранных столбцов. Принять и обосновать решение о методе заполнения пропусков по каждому столбцу на основе рассчитанных статистик и возможной взаимосвязи значений в них. Сформировать датафрейм, в котором пропуски будут отсутствовать."
   ]
  },
  {
   "cell_type": "code",
   "execution_count": 16,
   "id": "regulation-looking",
   "metadata": {},
   "outputs": [
    {
     "data": {
      "text/html": [
       "<div>\n",
       "<style scoped>\n",
       "    .dataframe tbody tr th:only-of-type {\n",
       "        vertical-align: middle;\n",
       "    }\n",
       "\n",
       "    .dataframe tbody tr th {\n",
       "        vertical-align: top;\n",
       "    }\n",
       "\n",
       "    .dataframe thead th {\n",
       "        text-align: right;\n",
       "    }\n",
       "</style>\n",
       "<table border=\"1\" class=\"dataframe\">\n",
       "  <thead>\n",
       "    <tr style=\"text-align: right;\">\n",
       "      <th></th>\n",
       "      <th>surgery?</th>\n",
       "      <th>Age</th>\n",
       "      <th>rectal_temperature</th>\n",
       "      <th>pulse</th>\n",
       "      <th>respiratory_rate</th>\n",
       "      <th>temperature_of_extremities</th>\n",
       "      <th>pain</th>\n",
       "      <th>outcome</th>\n",
       "    </tr>\n",
       "  </thead>\n",
       "  <tbody>\n",
       "    <tr>\n",
       "      <th>0</th>\n",
       "      <td>2.0</td>\n",
       "      <td>1</td>\n",
       "      <td>38.5</td>\n",
       "      <td>66.0</td>\n",
       "      <td>28.0</td>\n",
       "      <td>3.0</td>\n",
       "      <td>5.0</td>\n",
       "      <td>2.0</td>\n",
       "    </tr>\n",
       "    <tr>\n",
       "      <th>1</th>\n",
       "      <td>1.0</td>\n",
       "      <td>1</td>\n",
       "      <td>39.2</td>\n",
       "      <td>88.0</td>\n",
       "      <td>20.0</td>\n",
       "      <td>NaN</td>\n",
       "      <td>3.0</td>\n",
       "      <td>3.0</td>\n",
       "    </tr>\n",
       "    <tr>\n",
       "      <th>2</th>\n",
       "      <td>2.0</td>\n",
       "      <td>1</td>\n",
       "      <td>38.3</td>\n",
       "      <td>40.0</td>\n",
       "      <td>24.0</td>\n",
       "      <td>1.0</td>\n",
       "      <td>3.0</td>\n",
       "      <td>1.0</td>\n",
       "    </tr>\n",
       "    <tr>\n",
       "      <th>3</th>\n",
       "      <td>1.0</td>\n",
       "      <td>2</td>\n",
       "      <td>39.1</td>\n",
       "      <td>164.0</td>\n",
       "      <td>84.0</td>\n",
       "      <td>4.0</td>\n",
       "      <td>2.0</td>\n",
       "      <td>2.0</td>\n",
       "    </tr>\n",
       "    <tr>\n",
       "      <th>4</th>\n",
       "      <td>2.0</td>\n",
       "      <td>1</td>\n",
       "      <td>37.3</td>\n",
       "      <td>104.0</td>\n",
       "      <td>35.0</td>\n",
       "      <td>NaN</td>\n",
       "      <td>NaN</td>\n",
       "      <td>2.0</td>\n",
       "    </tr>\n",
       "  </tbody>\n",
       "</table>\n",
       "</div>"
      ],
      "text/plain": [
       "   surgery?  Age  rectal_temperature  pulse  respiratory_rate  \\\n",
       "0       2.0    1                38.5   66.0              28.0   \n",
       "1       1.0    1                39.2   88.0              20.0   \n",
       "2       2.0    1                38.3   40.0              24.0   \n",
       "3       1.0    2                39.1  164.0              84.0   \n",
       "4       2.0    1                37.3  104.0              35.0   \n",
       "\n",
       "   temperature_of_extremities  pain  outcome  \n",
       "0                         3.0   5.0      2.0  \n",
       "1                         NaN   3.0      3.0  \n",
       "2                         1.0   3.0      1.0  \n",
       "3                         4.0   2.0      2.0  \n",
       "4                         NaN   NaN      2.0  "
      ]
     },
     "execution_count": 16,
     "metadata": {},
     "output_type": "execute_result"
    }
   ],
   "source": [
    "data_horses.head()"
   ]
  },
  {
   "cell_type": "code",
   "execution_count": 17,
   "id": "hindu-television",
   "metadata": {},
   "outputs": [
    {
     "name": "stdout",
     "output_type": "stream",
     "text": [
      "<class 'pandas.core.frame.DataFrame'>\n",
      "RangeIndex: 300 entries, 0 to 299\n",
      "Data columns (total 8 columns):\n",
      " #   Column                      Non-Null Count  Dtype  \n",
      "---  ------                      --------------  -----  \n",
      " 0   surgery?                    299 non-null    float64\n",
      " 1   Age                         300 non-null    int64  \n",
      " 2   rectal_temperature          240 non-null    float64\n",
      " 3   pulse                       276 non-null    float64\n",
      " 4   respiratory_rate            242 non-null    float64\n",
      " 5   temperature_of_extremities  244 non-null    float64\n",
      " 6   pain                        245 non-null    float64\n",
      " 7   outcome                     299 non-null    float64\n",
      "dtypes: float64(7), int64(1)\n",
      "memory usage: 18.9 KB\n"
     ]
    }
   ],
   "source": [
    "data_horses.info()"
   ]
  },
  {
   "cell_type": "code",
   "execution_count": 18,
   "id": "checked-better",
   "metadata": {},
   "outputs": [
    {
     "name": "stdout",
     "output_type": "stream",
     "text": [
      "===========================================================\n",
      "Пропуски в данных:\n",
      "Название столбца: surgery?, наличие пропусков 0.33 %\n",
      "Название столбца: Age, наличие пропусков 0.0 %\n",
      "Название столбца: rectal_temperature, наличие пропусков 20.0 %\n",
      "Название столбца: pulse, наличие пропусков 8.0 %\n",
      "Название столбца: respiratory_rate, наличие пропусков 19.33 %\n",
      "Название столбца: temperature_of_extremities, наличие пропусков 18.67 %\n",
      "Название столбца: pain, наличие пропусков 18.33 %\n",
      "Название столбца: outcome, наличие пропусков 0.33 %\n",
      "===========================================================\n"
     ]
    }
   ],
   "source": [
    "print('===========================================================')\n",
    "print('Пропуски в данных:')\n",
    "for column, item in zip(list_columns, (data_horses.isna().mean() * 100).round(2)):\n",
    "    print(f'Название столбца: {column}, наличие пропусков {item} %')\n",
    "print('===========================================================')"
   ]
  },
  {
   "cell_type": "code",
   "execution_count": 19,
   "id": "soviet-nursery",
   "metadata": {},
   "outputs": [],
   "source": [
    "# предположим, мы хотим удалить только те строки, в которых как минимум 7/8 значений заполнено\n",
    "update_data = data_horses.dropna(thresh=7)"
   ]
  },
  {
   "cell_type": "code",
   "execution_count": 20,
   "id": "powered-plasma",
   "metadata": {},
   "outputs": [
    {
     "name": "stdout",
     "output_type": "stream",
     "text": [
      "===========================================================\n",
      "Пропуски в данных:\n",
      "Название столбца: surgery?, наличие пропусков 0.0 %\n",
      "Название столбца: Age, наличие пропусков 0.0 %\n",
      "Название столбца: rectal_temperature, наличие пропусков 9.96 %\n",
      "Название столбца: pulse, наличие пропусков 1.3 %\n",
      "Название столбца: respiratory_rate, наличие пропусков 9.09 %\n",
      "Название столбца: temperature_of_extremities, наличие пропусков 6.49 %\n",
      "Название столбца: pain, наличие пропусков 6.49 %\n",
      "Название столбца: outcome, наличие пропусков 0.0 %\n",
      "===========================================================\n"
     ]
    }
   ],
   "source": [
    "print('===========================================================')\n",
    "print('Пропуски в данных:')\n",
    "for column, item in zip(list_columns, (update_data.isna().mean() * 100).round(2)):\n",
    "    print(f'Название столбца: {column}, наличие пропусков {item} %')\n",
    "print('===========================================================')"
   ]
  },
  {
   "cell_type": "markdown",
   "id": "social-valve",
   "metadata": {},
   "source": [
    "### Вывод о наличии пропусков:\n",
    "<a id='subtask6'></a>\n",
    "Как видим, количество пропусков сократилось, ввиду наличия пустных строк, предположим, что наличие пропусков объясняется невозможностью обследовать животное."
   ]
  },
  {
   "cell_type": "code",
   "execution_count": 21,
   "id": "opponent-lyric",
   "metadata": {},
   "outputs": [
    {
     "name": "stdout",
     "output_type": "stream",
     "text": [
      "Количество теряемых данных при исключении строк, в которых как минимум 7/8 значений заполнено: 23.0 %\n"
     ]
    }
   ],
   "source": [
    "print(f'Количество теряемых данных при исключении строк, в которых как минимум 7/8 значений заполнено: {100 - len(update_data)/len(data_horses) * 100} %')"
   ]
  },
  {
   "cell_type": "markdown",
   "id": "precise-luther",
   "metadata": {},
   "source": [
    "Мы сохраняем 77 % данных, принимая решение о том, что это большая потеря для нашего исследования."
   ]
  },
  {
   "cell_type": "code",
   "execution_count": 22,
   "id": "outdoor-tonight",
   "metadata": {},
   "outputs": [
    {
     "data": {
      "text/html": [
       "<div>\n",
       "<style scoped>\n",
       "    .dataframe tbody tr th:only-of-type {\n",
       "        vertical-align: middle;\n",
       "    }\n",
       "\n",
       "    .dataframe tbody tr th {\n",
       "        vertical-align: top;\n",
       "    }\n",
       "\n",
       "    .dataframe thead th {\n",
       "        text-align: right;\n",
       "    }\n",
       "</style>\n",
       "<table border=\"1\" class=\"dataframe\">\n",
       "  <thead>\n",
       "    <tr style=\"text-align: right;\">\n",
       "      <th></th>\n",
       "      <th>surgery?</th>\n",
       "      <th>Age</th>\n",
       "      <th>rectal_temperature</th>\n",
       "      <th>pulse</th>\n",
       "      <th>respiratory_rate</th>\n",
       "      <th>temperature_of_extremities</th>\n",
       "      <th>pain</th>\n",
       "      <th>outcome</th>\n",
       "    </tr>\n",
       "  </thead>\n",
       "  <tbody>\n",
       "    <tr>\n",
       "      <th>surgery?</th>\n",
       "      <td>1.000000</td>\n",
       "      <td>-0.136751</td>\n",
       "      <td>0.046091</td>\n",
       "      <td>-0.244711</td>\n",
       "      <td>-0.222719</td>\n",
       "      <td>-0.096500</td>\n",
       "      <td>-0.335052</td>\n",
       "      <td>-0.117550</td>\n",
       "    </tr>\n",
       "    <tr>\n",
       "      <th>Age</th>\n",
       "      <td>-0.136751</td>\n",
       "      <td>1.000000</td>\n",
       "      <td>0.144884</td>\n",
       "      <td>0.551941</td>\n",
       "      <td>0.376876</td>\n",
       "      <td>-0.044850</td>\n",
       "      <td>0.066234</td>\n",
       "      <td>0.048753</td>\n",
       "    </tr>\n",
       "    <tr>\n",
       "      <th>rectal_temperature</th>\n",
       "      <td>0.046091</td>\n",
       "      <td>0.144884</td>\n",
       "      <td>1.000000</td>\n",
       "      <td>0.168683</td>\n",
       "      <td>0.260113</td>\n",
       "      <td>0.080454</td>\n",
       "      <td>-0.106532</td>\n",
       "      <td>-0.055739</td>\n",
       "    </tr>\n",
       "    <tr>\n",
       "      <th>pulse</th>\n",
       "      <td>-0.244711</td>\n",
       "      <td>0.551941</td>\n",
       "      <td>0.168683</td>\n",
       "      <td>1.000000</td>\n",
       "      <td>0.447817</td>\n",
       "      <td>0.304836</td>\n",
       "      <td>0.286517</td>\n",
       "      <td>0.357030</td>\n",
       "    </tr>\n",
       "    <tr>\n",
       "      <th>respiratory_rate</th>\n",
       "      <td>-0.222719</td>\n",
       "      <td>0.376876</td>\n",
       "      <td>0.260113</td>\n",
       "      <td>0.447817</td>\n",
       "      <td>1.000000</td>\n",
       "      <td>0.102315</td>\n",
       "      <td>0.143980</td>\n",
       "      <td>0.103425</td>\n",
       "    </tr>\n",
       "    <tr>\n",
       "      <th>temperature_of_extremities</th>\n",
       "      <td>-0.096500</td>\n",
       "      <td>-0.044850</td>\n",
       "      <td>0.080454</td>\n",
       "      <td>0.304836</td>\n",
       "      <td>0.102315</td>\n",
       "      <td>1.000000</td>\n",
       "      <td>0.201947</td>\n",
       "      <td>0.326925</td>\n",
       "    </tr>\n",
       "    <tr>\n",
       "      <th>pain</th>\n",
       "      <td>-0.335052</td>\n",
       "      <td>0.066234</td>\n",
       "      <td>-0.106532</td>\n",
       "      <td>0.286517</td>\n",
       "      <td>0.143980</td>\n",
       "      <td>0.201947</td>\n",
       "      <td>1.000000</td>\n",
       "      <td>0.280683</td>\n",
       "    </tr>\n",
       "    <tr>\n",
       "      <th>outcome</th>\n",
       "      <td>-0.117550</td>\n",
       "      <td>0.048753</td>\n",
       "      <td>-0.055739</td>\n",
       "      <td>0.357030</td>\n",
       "      <td>0.103425</td>\n",
       "      <td>0.326925</td>\n",
       "      <td>0.280683</td>\n",
       "      <td>1.000000</td>\n",
       "    </tr>\n",
       "  </tbody>\n",
       "</table>\n",
       "</div>"
      ],
      "text/plain": [
       "                            surgery?       Age  rectal_temperature     pulse  \\\n",
       "surgery?                    1.000000 -0.136751            0.046091 -0.244711   \n",
       "Age                        -0.136751  1.000000            0.144884  0.551941   \n",
       "rectal_temperature          0.046091  0.144884            1.000000  0.168683   \n",
       "pulse                      -0.244711  0.551941            0.168683  1.000000   \n",
       "respiratory_rate           -0.222719  0.376876            0.260113  0.447817   \n",
       "temperature_of_extremities -0.096500 -0.044850            0.080454  0.304836   \n",
       "pain                       -0.335052  0.066234           -0.106532  0.286517   \n",
       "outcome                    -0.117550  0.048753           -0.055739  0.357030   \n",
       "\n",
       "                            respiratory_rate  temperature_of_extremities  \\\n",
       "surgery?                           -0.222719                   -0.096500   \n",
       "Age                                 0.376876                   -0.044850   \n",
       "rectal_temperature                  0.260113                    0.080454   \n",
       "pulse                               0.447817                    0.304836   \n",
       "respiratory_rate                    1.000000                    0.102315   \n",
       "temperature_of_extremities          0.102315                    1.000000   \n",
       "pain                                0.143980                    0.201947   \n",
       "outcome                             0.103425                    0.326925   \n",
       "\n",
       "                                pain   outcome  \n",
       "surgery?                   -0.335052 -0.117550  \n",
       "Age                         0.066234  0.048753  \n",
       "rectal_temperature         -0.106532 -0.055739  \n",
       "pulse                       0.286517  0.357030  \n",
       "respiratory_rate            0.143980  0.103425  \n",
       "temperature_of_extremities  0.201947  0.326925  \n",
       "pain                        1.000000  0.280683  \n",
       "outcome                     0.280683  1.000000  "
      ]
     },
     "execution_count": 22,
     "metadata": {},
     "output_type": "execute_result"
    }
   ],
   "source": [
    "# изучим корреляцию данных\n",
    "\n",
    "update_data.corr()"
   ]
  },
  {
   "cell_type": "markdown",
   "id": "tutorial-onion",
   "metadata": {},
   "source": [
    "### Гипотезы:\n",
    "<a id='subtask7'></a>\n",
    "* Делаем предположение, что показатели пусльса и частоты дыхания зависят от возрастной группы животного\n",
    "* Делаем предположение, что болевой синдром зависит от была ли проведена операция животному во время лечепния\n",
    "* Делаем предположение, что показатель ректальной температуры у животных носят естественный характер на момент исследования\n",
    "* Делаем предположение, что показатель температуры конечностей(крови) носит естественный характер и объясняется стрессом и шоком, которые животное могло испытывать на момент исследования или как реакция на болевой синдром от течения болезни"
   ]
  },
  {
   "cell_type": "code",
   "execution_count": 23,
   "id": "otherwise-movement",
   "metadata": {},
   "outputs": [],
   "source": [
    "fill_data_horses = data_horses"
   ]
  },
  {
   "cell_type": "code",
   "execution_count": 24,
   "id": "boolean-village",
   "metadata": {},
   "outputs": [
    {
     "data": {
      "text/html": [
       "<div>\n",
       "<style scoped>\n",
       "    .dataframe tbody tr th:only-of-type {\n",
       "        vertical-align: middle;\n",
       "    }\n",
       "\n",
       "    .dataframe tbody tr th {\n",
       "        vertical-align: top;\n",
       "    }\n",
       "\n",
       "    .dataframe thead th {\n",
       "        text-align: right;\n",
       "    }\n",
       "</style>\n",
       "<table border=\"1\" class=\"dataframe\">\n",
       "  <thead>\n",
       "    <tr style=\"text-align: right;\">\n",
       "      <th></th>\n",
       "      <th>surgery?</th>\n",
       "      <th>Age</th>\n",
       "      <th>rectal_temperature</th>\n",
       "      <th>pulse</th>\n",
       "      <th>respiratory_rate</th>\n",
       "      <th>temperature_of_extremities</th>\n",
       "      <th>pain</th>\n",
       "      <th>outcome</th>\n",
       "    </tr>\n",
       "  </thead>\n",
       "  <tbody>\n",
       "    <tr>\n",
       "      <th>0</th>\n",
       "      <td>2.0</td>\n",
       "      <td>1</td>\n",
       "      <td>38.5</td>\n",
       "      <td>66.0</td>\n",
       "      <td>28.0</td>\n",
       "      <td>3.0</td>\n",
       "      <td>5.0</td>\n",
       "      <td>2.0</td>\n",
       "    </tr>\n",
       "    <tr>\n",
       "      <th>1</th>\n",
       "      <td>1.0</td>\n",
       "      <td>1</td>\n",
       "      <td>39.2</td>\n",
       "      <td>88.0</td>\n",
       "      <td>20.0</td>\n",
       "      <td>NaN</td>\n",
       "      <td>3.0</td>\n",
       "      <td>3.0</td>\n",
       "    </tr>\n",
       "    <tr>\n",
       "      <th>2</th>\n",
       "      <td>2.0</td>\n",
       "      <td>1</td>\n",
       "      <td>38.3</td>\n",
       "      <td>40.0</td>\n",
       "      <td>24.0</td>\n",
       "      <td>1.0</td>\n",
       "      <td>3.0</td>\n",
       "      <td>1.0</td>\n",
       "    </tr>\n",
       "    <tr>\n",
       "      <th>3</th>\n",
       "      <td>1.0</td>\n",
       "      <td>2</td>\n",
       "      <td>39.1</td>\n",
       "      <td>164.0</td>\n",
       "      <td>84.0</td>\n",
       "      <td>4.0</td>\n",
       "      <td>2.0</td>\n",
       "      <td>2.0</td>\n",
       "    </tr>\n",
       "    <tr>\n",
       "      <th>4</th>\n",
       "      <td>2.0</td>\n",
       "      <td>1</td>\n",
       "      <td>37.3</td>\n",
       "      <td>104.0</td>\n",
       "      <td>35.0</td>\n",
       "      <td>NaN</td>\n",
       "      <td>NaN</td>\n",
       "      <td>2.0</td>\n",
       "    </tr>\n",
       "  </tbody>\n",
       "</table>\n",
       "</div>"
      ],
      "text/plain": [
       "   surgery?  Age  rectal_temperature  pulse  respiratory_rate  \\\n",
       "0       2.0    1                38.5   66.0              28.0   \n",
       "1       1.0    1                39.2   88.0              20.0   \n",
       "2       2.0    1                38.3   40.0              24.0   \n",
       "3       1.0    2                39.1  164.0              84.0   \n",
       "4       2.0    1                37.3  104.0              35.0   \n",
       "\n",
       "   temperature_of_extremities  pain  outcome  \n",
       "0                         3.0   5.0      2.0  \n",
       "1                         NaN   3.0      3.0  \n",
       "2                         1.0   3.0      1.0  \n",
       "3                         4.0   2.0      2.0  \n",
       "4                         NaN   NaN      2.0  "
      ]
     },
     "execution_count": 24,
     "metadata": {},
     "output_type": "execute_result"
    }
   ],
   "source": [
    "fill_data_horses.head()"
   ]
  },
  {
   "cell_type": "code",
   "execution_count": 25,
   "id": "ethical-links",
   "metadata": {},
   "outputs": [],
   "source": [
    "# заполняем столбец пульса и частоты дыхания согласно нашей гипотезе, с учетом возрастной группы животного\n",
    "\n",
    "fill_data_horses['pulse'].fillna(data_horses.groupby('Age')['pulse'].transform('median'), inplace=True)\n",
    "fill_data_horses['respiratory_rate'].fillna(data_horses.groupby('Age')['respiratory_rate'].transform('median'), inplace=True)"
   ]
  },
  {
   "cell_type": "code",
   "execution_count": 26,
   "id": "responsible-hospital",
   "metadata": {},
   "outputs": [],
   "source": [
    "# заполняем столбец ректальной температуры и температуры конечностей согласно нашей гипотезе\n",
    "\n",
    "fill_data_horses['temperature_of_extremities'].fillna(fill_data_horses.temperature_of_extremities.median(), inplace=True)\n",
    "fill_data_horses['rectal_temperature'].fillna(fill_data_horses.temperature_of_extremities.median(), inplace=True)"
   ]
  },
  {
   "cell_type": "code",
   "execution_count": 27,
   "id": "chicken-mainland",
   "metadata": {},
   "outputs": [],
   "source": [
    "# в столбце о уровне боли, производим замену значения NaN на 0, для удобства дальнейше работы\n",
    "\n",
    "fill_data_horses.pain.fillna(0, inplace=True)"
   ]
  },
  {
   "cell_type": "code",
   "execution_count": 28,
   "id": "premium-cyprus",
   "metadata": {},
   "outputs": [],
   "source": [
    "# заполняем столбец уровня боли согласно нашей гипотезе, с учетом наличия операции в лечении животного\n",
    "\n",
    "\n",
    "fill_data_horses['pain'].loc[fill_data_horses['surgery?'] == 1.].fillna(data_horses['pain'].loc[data_horses['surgery?'] == 1.].mode()[0], inplace=True)\n",
    "fill_data_horses['pain'].loc[fill_data_horses['surgery?'] != 1.].fillna(data_horses['pain'].loc[data_horses['surgery?'] != 1.].mode()[0], inplace=True)"
   ]
  },
  {
   "cell_type": "code",
   "execution_count": 29,
   "id": "bacterial-freeware",
   "metadata": {},
   "outputs": [
    {
     "name": "stdout",
     "output_type": "stream",
     "text": [
      "<class 'pandas.core.frame.DataFrame'>\n",
      "Int64Index: 299 entries, 0 to 299\n",
      "Data columns (total 8 columns):\n",
      " #   Column                      Non-Null Count  Dtype  \n",
      "---  ------                      --------------  -----  \n",
      " 0   surgery?                    299 non-null    float64\n",
      " 1   Age                         299 non-null    int64  \n",
      " 2   rectal_temperature          299 non-null    float64\n",
      " 3   pulse                       299 non-null    float64\n",
      " 4   respiratory_rate            299 non-null    float64\n",
      " 5   temperature_of_extremities  299 non-null    float64\n",
      " 6   pain                        299 non-null    float64\n",
      " 7   outcome                     299 non-null    float64\n",
      "dtypes: float64(7), int64(1)\n",
      "memory usage: 21.0 KB\n"
     ]
    }
   ],
   "source": [
    "# оставшееся количество пустых строк не значительно, они не повлияют на наше исследования, принимаем решение об удалении 1 строки\n",
    "\n",
    "fill_data_horses.dropna().info()"
   ]
  },
  {
   "cell_type": "markdown",
   "id": "photographic-michael",
   "metadata": {},
   "source": [
    "### Итоговый датафрей\n",
    "<a id='subtask8'></a>"
   ]
  },
  {
   "cell_type": "code",
   "execution_count": 30,
   "id": "corrected-seminar",
   "metadata": {},
   "outputs": [
    {
     "data": {
      "text/html": [
       "<div>\n",
       "<style scoped>\n",
       "    .dataframe tbody tr th:only-of-type {\n",
       "        vertical-align: middle;\n",
       "    }\n",
       "\n",
       "    .dataframe tbody tr th {\n",
       "        vertical-align: top;\n",
       "    }\n",
       "\n",
       "    .dataframe thead th {\n",
       "        text-align: right;\n",
       "    }\n",
       "</style>\n",
       "<table border=\"1\" class=\"dataframe\">\n",
       "  <thead>\n",
       "    <tr style=\"text-align: right;\">\n",
       "      <th></th>\n",
       "      <th>surgery?</th>\n",
       "      <th>Age</th>\n",
       "      <th>rectal_temperature</th>\n",
       "      <th>pulse</th>\n",
       "      <th>respiratory_rate</th>\n",
       "      <th>temperature_of_extremities</th>\n",
       "      <th>pain</th>\n",
       "      <th>outcome</th>\n",
       "    </tr>\n",
       "  </thead>\n",
       "  <tbody>\n",
       "    <tr>\n",
       "      <th>0</th>\n",
       "      <td>2.0</td>\n",
       "      <td>1</td>\n",
       "      <td>38.5</td>\n",
       "      <td>66.0</td>\n",
       "      <td>28.0</td>\n",
       "      <td>3.0</td>\n",
       "      <td>5.0</td>\n",
       "      <td>2.0</td>\n",
       "    </tr>\n",
       "    <tr>\n",
       "      <th>1</th>\n",
       "      <td>1.0</td>\n",
       "      <td>1</td>\n",
       "      <td>39.2</td>\n",
       "      <td>88.0</td>\n",
       "      <td>20.0</td>\n",
       "      <td>3.0</td>\n",
       "      <td>3.0</td>\n",
       "      <td>3.0</td>\n",
       "    </tr>\n",
       "    <tr>\n",
       "      <th>2</th>\n",
       "      <td>2.0</td>\n",
       "      <td>1</td>\n",
       "      <td>38.3</td>\n",
       "      <td>40.0</td>\n",
       "      <td>24.0</td>\n",
       "      <td>1.0</td>\n",
       "      <td>3.0</td>\n",
       "      <td>1.0</td>\n",
       "    </tr>\n",
       "    <tr>\n",
       "      <th>3</th>\n",
       "      <td>1.0</td>\n",
       "      <td>2</td>\n",
       "      <td>39.1</td>\n",
       "      <td>164.0</td>\n",
       "      <td>84.0</td>\n",
       "      <td>4.0</td>\n",
       "      <td>2.0</td>\n",
       "      <td>2.0</td>\n",
       "    </tr>\n",
       "    <tr>\n",
       "      <th>4</th>\n",
       "      <td>2.0</td>\n",
       "      <td>1</td>\n",
       "      <td>37.3</td>\n",
       "      <td>104.0</td>\n",
       "      <td>35.0</td>\n",
       "      <td>3.0</td>\n",
       "      <td>0.0</td>\n",
       "      <td>2.0</td>\n",
       "    </tr>\n",
       "    <tr>\n",
       "      <th>5</th>\n",
       "      <td>2.0</td>\n",
       "      <td>1</td>\n",
       "      <td>3.0</td>\n",
       "      <td>60.0</td>\n",
       "      <td>24.0</td>\n",
       "      <td>2.0</td>\n",
       "      <td>2.0</td>\n",
       "      <td>1.0</td>\n",
       "    </tr>\n",
       "    <tr>\n",
       "      <th>6</th>\n",
       "      <td>1.0</td>\n",
       "      <td>1</td>\n",
       "      <td>37.9</td>\n",
       "      <td>48.0</td>\n",
       "      <td>16.0</td>\n",
       "      <td>1.0</td>\n",
       "      <td>3.0</td>\n",
       "      <td>1.0</td>\n",
       "    </tr>\n",
       "    <tr>\n",
       "      <th>7</th>\n",
       "      <td>1.0</td>\n",
       "      <td>1</td>\n",
       "      <td>3.0</td>\n",
       "      <td>60.0</td>\n",
       "      <td>24.0</td>\n",
       "      <td>3.0</td>\n",
       "      <td>0.0</td>\n",
       "      <td>2.0</td>\n",
       "    </tr>\n",
       "    <tr>\n",
       "      <th>8</th>\n",
       "      <td>2.0</td>\n",
       "      <td>1</td>\n",
       "      <td>3.0</td>\n",
       "      <td>80.0</td>\n",
       "      <td>36.0</td>\n",
       "      <td>3.0</td>\n",
       "      <td>4.0</td>\n",
       "      <td>3.0</td>\n",
       "    </tr>\n",
       "    <tr>\n",
       "      <th>9</th>\n",
       "      <td>2.0</td>\n",
       "      <td>2</td>\n",
       "      <td>38.3</td>\n",
       "      <td>90.0</td>\n",
       "      <td>49.0</td>\n",
       "      <td>1.0</td>\n",
       "      <td>5.0</td>\n",
       "      <td>1.0</td>\n",
       "    </tr>\n",
       "    <tr>\n",
       "      <th>10</th>\n",
       "      <td>1.0</td>\n",
       "      <td>1</td>\n",
       "      <td>38.1</td>\n",
       "      <td>66.0</td>\n",
       "      <td>12.0</td>\n",
       "      <td>3.0</td>\n",
       "      <td>3.0</td>\n",
       "      <td>1.0</td>\n",
       "    </tr>\n",
       "    <tr>\n",
       "      <th>11</th>\n",
       "      <td>2.0</td>\n",
       "      <td>1</td>\n",
       "      <td>39.1</td>\n",
       "      <td>72.0</td>\n",
       "      <td>52.0</td>\n",
       "      <td>2.0</td>\n",
       "      <td>2.0</td>\n",
       "      <td>1.0</td>\n",
       "    </tr>\n",
       "    <tr>\n",
       "      <th>12</th>\n",
       "      <td>1.0</td>\n",
       "      <td>1</td>\n",
       "      <td>37.2</td>\n",
       "      <td>42.0</td>\n",
       "      <td>12.0</td>\n",
       "      <td>2.0</td>\n",
       "      <td>3.0</td>\n",
       "      <td>1.0</td>\n",
       "    </tr>\n",
       "    <tr>\n",
       "      <th>13</th>\n",
       "      <td>2.0</td>\n",
       "      <td>2</td>\n",
       "      <td>38.0</td>\n",
       "      <td>92.0</td>\n",
       "      <td>28.0</td>\n",
       "      <td>1.0</td>\n",
       "      <td>1.0</td>\n",
       "      <td>2.0</td>\n",
       "    </tr>\n",
       "    <tr>\n",
       "      <th>14</th>\n",
       "      <td>1.0</td>\n",
       "      <td>1</td>\n",
       "      <td>38.2</td>\n",
       "      <td>76.0</td>\n",
       "      <td>28.0</td>\n",
       "      <td>3.0</td>\n",
       "      <td>3.0</td>\n",
       "      <td>1.0</td>\n",
       "    </tr>\n",
       "  </tbody>\n",
       "</table>\n",
       "</div>"
      ],
      "text/plain": [
       "    surgery?  Age  rectal_temperature  pulse  respiratory_rate  \\\n",
       "0        2.0    1                38.5   66.0              28.0   \n",
       "1        1.0    1                39.2   88.0              20.0   \n",
       "2        2.0    1                38.3   40.0              24.0   \n",
       "3        1.0    2                39.1  164.0              84.0   \n",
       "4        2.0    1                37.3  104.0              35.0   \n",
       "5        2.0    1                 3.0   60.0              24.0   \n",
       "6        1.0    1                37.9   48.0              16.0   \n",
       "7        1.0    1                 3.0   60.0              24.0   \n",
       "8        2.0    1                 3.0   80.0              36.0   \n",
       "9        2.0    2                38.3   90.0              49.0   \n",
       "10       1.0    1                38.1   66.0              12.0   \n",
       "11       2.0    1                39.1   72.0              52.0   \n",
       "12       1.0    1                37.2   42.0              12.0   \n",
       "13       2.0    2                38.0   92.0              28.0   \n",
       "14       1.0    1                38.2   76.0              28.0   \n",
       "\n",
       "    temperature_of_extremities  pain  outcome  \n",
       "0                          3.0   5.0      2.0  \n",
       "1                          3.0   3.0      3.0  \n",
       "2                          1.0   3.0      1.0  \n",
       "3                          4.0   2.0      2.0  \n",
       "4                          3.0   0.0      2.0  \n",
       "5                          2.0   2.0      1.0  \n",
       "6                          1.0   3.0      1.0  \n",
       "7                          3.0   0.0      2.0  \n",
       "8                          3.0   4.0      3.0  \n",
       "9                          1.0   5.0      1.0  \n",
       "10                         3.0   3.0      1.0  \n",
       "11                         2.0   2.0      1.0  \n",
       "12                         2.0   3.0      1.0  \n",
       "13                         1.0   1.0      2.0  \n",
       "14                         3.0   3.0      1.0  "
      ]
     },
     "execution_count": 30,
     "metadata": {},
     "output_type": "execute_result"
    }
   ],
   "source": [
    "fill_data_horses.head(15)"
   ]
  },
  {
   "cell_type": "code",
   "execution_count": null,
   "id": "satellite-maintenance",
   "metadata": {},
   "outputs": [],
   "source": []
  }
 ],
 "metadata": {
  "kernelspec": {
   "display_name": "Python 3",
   "language": "python",
   "name": "python3"
  },
  "language_info": {
   "codemirror_mode": {
    "name": "ipython",
    "version": 3
   },
   "file_extension": ".py",
   "mimetype": "text/x-python",
   "name": "python",
   "nbconvert_exporter": "python",
   "pygments_lexer": "ipython3",
   "version": "3.8.5"
  }
 },
 "nbformat": 4,
 "nbformat_minor": 5
}
