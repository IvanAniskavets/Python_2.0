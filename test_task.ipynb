{
 "cells": [
  {
   "cell_type": "markdown",
   "id": "separated-latvia",
   "metadata": {},
   "source": [
    "# Тестовое задание: \n",
    "* Используя данные представленные по ссылке Train_Data_200k создать модель, нацеленную на прогнозирование значений параметров Target_1...4 по значениям Tag_1...79.\n",
    "* После получения модели применить ее к тестовой выборке представленной в архиве ML_Data в файле test_data_100k и на основании значений Tag_1...79 получить прогнозы для параметров Target_1...4.\n",
    "* Полученные прогнозы и топ-10 значимых тэгов направить в качестве результата в ответном письме.\n",
    "* Вложить рабочую тетрадь"
   ]
  },
  {
   "cell_type": "code",
   "execution_count": 45,
   "id": "decent-blend",
   "metadata": {},
   "outputs": [],
   "source": [
    "import pandas as pd\n",
    "from sklearn.linear_model import LinearRegression\n",
    "from sklearn.model_selection import train_test_split\n",
    "from sklearn import svm"
   ]
  },
  {
   "cell_type": "markdown",
   "id": "capable-horror",
   "metadata": {},
   "source": [
    "# Train data"
   ]
  },
  {
   "cell_type": "code",
   "execution_count": 2,
   "id": "informational-madness",
   "metadata": {},
   "outputs": [],
   "source": [
    "df_train = pd.read_csv('C:/Netology/test_task/train_data_200k.csv', encoding='utf-8')"
   ]
  },
  {
   "cell_type": "code",
   "execution_count": 3,
   "id": "incoming-terminology",
   "metadata": {},
   "outputs": [
    {
     "data": {
      "text/html": [
       "<div>\n",
       "<style scoped>\n",
       "    .dataframe tbody tr th:only-of-type {\n",
       "        vertical-align: middle;\n",
       "    }\n",
       "\n",
       "    .dataframe tbody tr th {\n",
       "        vertical-align: top;\n",
       "    }\n",
       "\n",
       "    .dataframe thead th {\n",
       "        text-align: right;\n",
       "    }\n",
       "</style>\n",
       "<table border=\"1\" class=\"dataframe\">\n",
       "  <thead>\n",
       "    <tr style=\"text-align: right;\">\n",
       "      <th></th>\n",
       "      <th>Unnamed: 0</th>\n",
       "      <th>tag1</th>\n",
       "      <th>tag2</th>\n",
       "      <th>tag3</th>\n",
       "      <th>tag4</th>\n",
       "      <th>tag5</th>\n",
       "      <th>tag6</th>\n",
       "      <th>tag7</th>\n",
       "      <th>tag8</th>\n",
       "      <th>tag9</th>\n",
       "      <th>...</th>\n",
       "      <th>tag74</th>\n",
       "      <th>tag75</th>\n",
       "      <th>tag76</th>\n",
       "      <th>tag77</th>\n",
       "      <th>tag78</th>\n",
       "      <th>tag79</th>\n",
       "      <th>target1</th>\n",
       "      <th>target2</th>\n",
       "      <th>target3</th>\n",
       "      <th>target4</th>\n",
       "    </tr>\n",
       "  </thead>\n",
       "  <tbody>\n",
       "    <tr>\n",
       "      <th>0</th>\n",
       "      <td>2016-08-18 00:00:00</td>\n",
       "      <td>15.78042</td>\n",
       "      <td>NaN</td>\n",
       "      <td>NaN</td>\n",
       "      <td>NaN</td>\n",
       "      <td>NaN</td>\n",
       "      <td>NaN</td>\n",
       "      <td>NaN</td>\n",
       "      <td>NaN</td>\n",
       "      <td>NaN</td>\n",
       "      <td>...</td>\n",
       "      <td>53.02723</td>\n",
       "      <td>66.30531</td>\n",
       "      <td>55.10297</td>\n",
       "      <td>73.65612</td>\n",
       "      <td>NaN</td>\n",
       "      <td>NaN</td>\n",
       "      <td>NaN</td>\n",
       "      <td>NaN</td>\n",
       "      <td>NaN</td>\n",
       "      <td>NaN</td>\n",
       "    </tr>\n",
       "    <tr>\n",
       "      <th>1</th>\n",
       "      <td>2016-08-18 00:01:00</td>\n",
       "      <td>15.80157</td>\n",
       "      <td>NaN</td>\n",
       "      <td>NaN</td>\n",
       "      <td>NaN</td>\n",
       "      <td>NaN</td>\n",
       "      <td>NaN</td>\n",
       "      <td>53.06440</td>\n",
       "      <td>NaN</td>\n",
       "      <td>NaN</td>\n",
       "      <td>...</td>\n",
       "      <td>53.05109</td>\n",
       "      <td>66.30098</td>\n",
       "      <td>55.11534</td>\n",
       "      <td>NaN</td>\n",
       "      <td>NaN</td>\n",
       "      <td>NaN</td>\n",
       "      <td>NaN</td>\n",
       "      <td>NaN</td>\n",
       "      <td>NaN</td>\n",
       "      <td>NaN</td>\n",
       "    </tr>\n",
       "    <tr>\n",
       "      <th>2</th>\n",
       "      <td>2016-08-18 00:02:00</td>\n",
       "      <td>15.68913</td>\n",
       "      <td>NaN</td>\n",
       "      <td>NaN</td>\n",
       "      <td>NaN</td>\n",
       "      <td>NaN</td>\n",
       "      <td>NaN</td>\n",
       "      <td>NaN</td>\n",
       "      <td>NaN</td>\n",
       "      <td>NaN</td>\n",
       "      <td>...</td>\n",
       "      <td>53.06495</td>\n",
       "      <td>66.30359</td>\n",
       "      <td>55.09395</td>\n",
       "      <td>NaN</td>\n",
       "      <td>NaN</td>\n",
       "      <td>55.07365</td>\n",
       "      <td>NaN</td>\n",
       "      <td>NaN</td>\n",
       "      <td>NaN</td>\n",
       "      <td>NaN</td>\n",
       "    </tr>\n",
       "    <tr>\n",
       "      <th>3</th>\n",
       "      <td>2016-08-18 00:03:00</td>\n",
       "      <td>15.75101</td>\n",
       "      <td>NaN</td>\n",
       "      <td>20.26209</td>\n",
       "      <td>NaN</td>\n",
       "      <td>NaN</td>\n",
       "      <td>NaN</td>\n",
       "      <td>52.95166</td>\n",
       "      <td>NaN</td>\n",
       "      <td>NaN</td>\n",
       "      <td>...</td>\n",
       "      <td>53.06760</td>\n",
       "      <td>66.28421</td>\n",
       "      <td>55.12513</td>\n",
       "      <td>NaN</td>\n",
       "      <td>92.46913</td>\n",
       "      <td>NaN</td>\n",
       "      <td>NaN</td>\n",
       "      <td>NaN</td>\n",
       "      <td>NaN</td>\n",
       "      <td>NaN</td>\n",
       "    </tr>\n",
       "    <tr>\n",
       "      <th>4</th>\n",
       "      <td>2016-08-18 00:04:00</td>\n",
       "      <td>15.57773</td>\n",
       "      <td>NaN</td>\n",
       "      <td>NaN</td>\n",
       "      <td>NaN</td>\n",
       "      <td>NaN</td>\n",
       "      <td>NaN</td>\n",
       "      <td>NaN</td>\n",
       "      <td>NaN</td>\n",
       "      <td>NaN</td>\n",
       "      <td>...</td>\n",
       "      <td>53.09679</td>\n",
       "      <td>66.26472</td>\n",
       "      <td>55.15526</td>\n",
       "      <td>73.67016</td>\n",
       "      <td>NaN</td>\n",
       "      <td>NaN</td>\n",
       "      <td>NaN</td>\n",
       "      <td>NaN</td>\n",
       "      <td>NaN</td>\n",
       "      <td>NaN</td>\n",
       "    </tr>\n",
       "  </tbody>\n",
       "</table>\n",
       "<p>5 rows × 84 columns</p>\n",
       "</div>"
      ],
      "text/plain": [
       "            Unnamed: 0      tag1  tag2      tag3  tag4  tag5  tag6      tag7  \\\n",
       "0  2016-08-18 00:00:00  15.78042   NaN       NaN   NaN   NaN   NaN       NaN   \n",
       "1  2016-08-18 00:01:00  15.80157   NaN       NaN   NaN   NaN   NaN  53.06440   \n",
       "2  2016-08-18 00:02:00  15.68913   NaN       NaN   NaN   NaN   NaN       NaN   \n",
       "3  2016-08-18 00:03:00  15.75101   NaN  20.26209   NaN   NaN   NaN  52.95166   \n",
       "4  2016-08-18 00:04:00  15.57773   NaN       NaN   NaN   NaN   NaN       NaN   \n",
       "\n",
       "   tag8  tag9  ...     tag74     tag75     tag76     tag77     tag78  \\\n",
       "0   NaN   NaN  ...  53.02723  66.30531  55.10297  73.65612       NaN   \n",
       "1   NaN   NaN  ...  53.05109  66.30098  55.11534       NaN       NaN   \n",
       "2   NaN   NaN  ...  53.06495  66.30359  55.09395       NaN       NaN   \n",
       "3   NaN   NaN  ...  53.06760  66.28421  55.12513       NaN  92.46913   \n",
       "4   NaN   NaN  ...  53.09679  66.26472  55.15526  73.67016       NaN   \n",
       "\n",
       "      tag79  target1  target2  target3  target4  \n",
       "0       NaN      NaN      NaN      NaN      NaN  \n",
       "1       NaN      NaN      NaN      NaN      NaN  \n",
       "2  55.07365      NaN      NaN      NaN      NaN  \n",
       "3       NaN      NaN      NaN      NaN      NaN  \n",
       "4       NaN      NaN      NaN      NaN      NaN  \n",
       "\n",
       "[5 rows x 84 columns]"
      ]
     },
     "execution_count": 3,
     "metadata": {},
     "output_type": "execute_result"
    }
   ],
   "source": [
    "df_train.head()"
   ]
  },
  {
   "cell_type": "code",
   "execution_count": 4,
   "id": "technical-metro",
   "metadata": {
    "scrolled": true
   },
   "outputs": [
    {
     "name": "stdout",
     "output_type": "stream",
     "text": [
      "<class 'pandas.core.frame.DataFrame'>\n",
      "RangeIndex: 200000 entries, 0 to 199999\n",
      "Data columns (total 84 columns):\n",
      " #   Column      Non-Null Count   Dtype  \n",
      "---  ------      --------------   -----  \n",
      " 0   Unnamed: 0  200000 non-null  object \n",
      " 1   tag1        199934 non-null  float64\n",
      " 2   tag2        109370 non-null  float64\n",
      " 3   tag3        109456 non-null  float64\n",
      " 4   tag4        85 non-null      float64\n",
      " 5   tag5        9736 non-null    float64\n",
      " 6   tag6        373 non-null     float64\n",
      " 7   tag7        88122 non-null   float64\n",
      " 8   tag8        16777 non-null   float64\n",
      " 9   tag9        407 non-null     float64\n",
      " 10  tag10       199837 non-null  float64\n",
      " 11  tag11       199867 non-null  float64\n",
      " 12  tag12       199875 non-null  float64\n",
      " 13  tag13       199875 non-null  float64\n",
      " 14  tag14       199875 non-null  float64\n",
      " 15  tag15       199875 non-null  float64\n",
      " 16  tag16       199875 non-null  float64\n",
      " 17  tag17       199875 non-null  float64\n",
      " 18  tag18       199875 non-null  float64\n",
      " 19  tag19       100168 non-null  float64\n",
      " 20  tag20       199867 non-null  float64\n",
      " 21  tag21       199867 non-null  float64\n",
      " 22  tag22       199867 non-null  float64\n",
      " 23  tag23       199867 non-null  float64\n",
      " 24  tag24       199867 non-null  float64\n",
      " 25  tag25       199867 non-null  float64\n",
      " 26  tag26       199867 non-null  float64\n",
      " 27  tag27       199867 non-null  float64\n",
      " 28  tag28       199867 non-null  float64\n",
      " 29  tag29       199867 non-null  float64\n",
      " 30  tag30       199867 non-null  float64\n",
      " 31  tag31       199867 non-null  float64\n",
      " 32  tag32       199867 non-null  float64\n",
      " 33  tag33       199867 non-null  float64\n",
      " 34  tag34       199867 non-null  float64\n",
      " 35  tag35       199867 non-null  float64\n",
      " 36  tag36       39220 non-null   float64\n",
      " 37  tag37       38048 non-null   float64\n",
      " 38  tag38       158308 non-null  float64\n",
      " 39  tag39       152970 non-null  float64\n",
      " 40  tag40       15578 non-null   float64\n",
      " 41  tag41       1407 non-null    float64\n",
      " 42  tag42       199863 non-null  float64\n",
      " 43  tag43       199867 non-null  float64\n",
      " 44  tag44       111725 non-null  float64\n",
      " 45  tag45       113800 non-null  float64\n",
      " 46  tag46       98410 non-null   float64\n",
      " 47  tag47       199867 non-null  float64\n",
      " 48  tag48       132355 non-null  float64\n",
      " 49  tag49       199866 non-null  float64\n",
      " 50  tag50       78120 non-null   float64\n",
      " 51  tag51       14722 non-null   float64\n",
      " 52  tag52       101792 non-null  float64\n",
      " 53  tag53       84189 non-null   float64\n",
      " 54  tag54       59443 non-null   float64\n",
      " 55  tag55       199867 non-null  float64\n",
      " 56  tag56       199837 non-null  float64\n",
      " 57  tag57       199867 non-null  float64\n",
      " 58  tag58       199837 non-null  float64\n",
      " 59  tag59       199119 non-null  float64\n",
      " 60  tag60       199875 non-null  float64\n",
      " 61  tag61       35810 non-null   float64\n",
      " 62  tag62       36726 non-null   float64\n",
      " 63  tag63       199875 non-null  float64\n",
      " 64  tag64       199867 non-null  float64\n",
      " 65  tag65       199867 non-null  float64\n",
      " 66  tag66       199867 non-null  float64\n",
      " 67  tag67       199867 non-null  float64\n",
      " 68  tag68       199867 non-null  float64\n",
      " 69  tag69       37652 non-null   float64\n",
      " 70  tag70       199867 non-null  float64\n",
      " 71  tag71       199867 non-null  float64\n",
      " 72  tag72       199867 non-null  float64\n",
      " 73  tag73       35087 non-null   float64\n",
      " 74  tag74       199867 non-null  float64\n",
      " 75  tag75       199867 non-null  float64\n",
      " 76  tag76       199867 non-null  float64\n",
      " 77  tag77       48803 non-null   float64\n",
      " 78  tag78       48673 non-null   float64\n",
      " 79  tag79       48558 non-null   float64\n",
      " 80  target1     199991 non-null  float64\n",
      " 81  target2     199991 non-null  float64\n",
      " 82  target3     199991 non-null  float64\n",
      " 83  target4     199991 non-null  float64\n",
      "dtypes: float64(83), object(1)\n",
      "memory usage: 128.2+ MB\n"
     ]
    }
   ],
   "source": [
    "df_train.info()"
   ]
  },
  {
   "cell_type": "code",
   "execution_count": 5,
   "id": "broad-merit",
   "metadata": {},
   "outputs": [
    {
     "data": {
      "text/plain": [
       "Index(['Unnamed: 0', 'tag1', 'tag2', 'tag3', 'tag4', 'tag5', 'tag6', 'tag7',\n",
       "       'tag8', 'tag9', 'tag10', 'tag11', 'tag12', 'tag13', 'tag14', 'tag15',\n",
       "       'tag16', 'tag17', 'tag18', 'tag19', 'tag20', 'tag21', 'tag22', 'tag23',\n",
       "       'tag24', 'tag25', 'tag26', 'tag27', 'tag28', 'tag29', 'tag30', 'tag31',\n",
       "       'tag32', 'tag33', 'tag34', 'tag35', 'tag36', 'tag37', 'tag38', 'tag39',\n",
       "       'tag40', 'tag41', 'tag42', 'tag43', 'tag44', 'tag45', 'tag46', 'tag47',\n",
       "       'tag48', 'tag49', 'tag50', 'tag51', 'tag52', 'tag53', 'tag54', 'tag55',\n",
       "       'tag56', 'tag57', 'tag58', 'tag59', 'tag60', 'tag61', 'tag62', 'tag63',\n",
       "       'tag64', 'tag65', 'tag66', 'tag67', 'tag68', 'tag69', 'tag70', 'tag71',\n",
       "       'tag72', 'tag73', 'tag74', 'tag75', 'tag76', 'tag77', 'tag78', 'tag79',\n",
       "       'target1', 'target2', 'target3', 'target4'],\n",
       "      dtype='object')"
      ]
     },
     "execution_count": 5,
     "metadata": {},
     "output_type": "execute_result"
    }
   ],
   "source": [
    "df_train.columns"
   ]
  },
  {
   "cell_type": "code",
   "execution_count": 6,
   "id": "terminal-affairs",
   "metadata": {},
   "outputs": [],
   "source": [
    "df_train.fillna(0, inplace=True)"
   ]
  },
  {
   "cell_type": "code",
   "execution_count": 7,
   "id": "determined-paradise",
   "metadata": {},
   "outputs": [
    {
     "data": {
      "text/html": [
       "<div>\n",
       "<style scoped>\n",
       "    .dataframe tbody tr th:only-of-type {\n",
       "        vertical-align: middle;\n",
       "    }\n",
       "\n",
       "    .dataframe tbody tr th {\n",
       "        vertical-align: top;\n",
       "    }\n",
       "\n",
       "    .dataframe thead th {\n",
       "        text-align: right;\n",
       "    }\n",
       "</style>\n",
       "<table border=\"1\" class=\"dataframe\">\n",
       "  <thead>\n",
       "    <tr style=\"text-align: right;\">\n",
       "      <th></th>\n",
       "      <th>Unnamed: 0</th>\n",
       "      <th>tag1</th>\n",
       "      <th>tag2</th>\n",
       "      <th>tag3</th>\n",
       "      <th>tag4</th>\n",
       "      <th>tag5</th>\n",
       "      <th>tag6</th>\n",
       "      <th>tag7</th>\n",
       "      <th>tag8</th>\n",
       "      <th>tag9</th>\n",
       "      <th>...</th>\n",
       "      <th>tag74</th>\n",
       "      <th>tag75</th>\n",
       "      <th>tag76</th>\n",
       "      <th>tag77</th>\n",
       "      <th>tag78</th>\n",
       "      <th>tag79</th>\n",
       "      <th>target1</th>\n",
       "      <th>target2</th>\n",
       "      <th>target3</th>\n",
       "      <th>target4</th>\n",
       "    </tr>\n",
       "  </thead>\n",
       "  <tbody>\n",
       "    <tr>\n",
       "      <th>0</th>\n",
       "      <td>2016-08-18 00:00:00</td>\n",
       "      <td>15.78042</td>\n",
       "      <td>0.0</td>\n",
       "      <td>0.00000</td>\n",
       "      <td>0.0</td>\n",
       "      <td>0.0</td>\n",
       "      <td>0.0</td>\n",
       "      <td>0.00000</td>\n",
       "      <td>0.0</td>\n",
       "      <td>0.0</td>\n",
       "      <td>...</td>\n",
       "      <td>53.02723</td>\n",
       "      <td>66.30531</td>\n",
       "      <td>55.10297</td>\n",
       "      <td>73.65612</td>\n",
       "      <td>0.00000</td>\n",
       "      <td>0.00000</td>\n",
       "      <td>0.0</td>\n",
       "      <td>0.0</td>\n",
       "      <td>0.0</td>\n",
       "      <td>0.0</td>\n",
       "    </tr>\n",
       "    <tr>\n",
       "      <th>1</th>\n",
       "      <td>2016-08-18 00:01:00</td>\n",
       "      <td>15.80157</td>\n",
       "      <td>0.0</td>\n",
       "      <td>0.00000</td>\n",
       "      <td>0.0</td>\n",
       "      <td>0.0</td>\n",
       "      <td>0.0</td>\n",
       "      <td>53.06440</td>\n",
       "      <td>0.0</td>\n",
       "      <td>0.0</td>\n",
       "      <td>...</td>\n",
       "      <td>53.05109</td>\n",
       "      <td>66.30098</td>\n",
       "      <td>55.11534</td>\n",
       "      <td>0.00000</td>\n",
       "      <td>0.00000</td>\n",
       "      <td>0.00000</td>\n",
       "      <td>0.0</td>\n",
       "      <td>0.0</td>\n",
       "      <td>0.0</td>\n",
       "      <td>0.0</td>\n",
       "    </tr>\n",
       "    <tr>\n",
       "      <th>2</th>\n",
       "      <td>2016-08-18 00:02:00</td>\n",
       "      <td>15.68913</td>\n",
       "      <td>0.0</td>\n",
       "      <td>0.00000</td>\n",
       "      <td>0.0</td>\n",
       "      <td>0.0</td>\n",
       "      <td>0.0</td>\n",
       "      <td>0.00000</td>\n",
       "      <td>0.0</td>\n",
       "      <td>0.0</td>\n",
       "      <td>...</td>\n",
       "      <td>53.06495</td>\n",
       "      <td>66.30359</td>\n",
       "      <td>55.09395</td>\n",
       "      <td>0.00000</td>\n",
       "      <td>0.00000</td>\n",
       "      <td>55.07365</td>\n",
       "      <td>0.0</td>\n",
       "      <td>0.0</td>\n",
       "      <td>0.0</td>\n",
       "      <td>0.0</td>\n",
       "    </tr>\n",
       "    <tr>\n",
       "      <th>3</th>\n",
       "      <td>2016-08-18 00:03:00</td>\n",
       "      <td>15.75101</td>\n",
       "      <td>0.0</td>\n",
       "      <td>20.26209</td>\n",
       "      <td>0.0</td>\n",
       "      <td>0.0</td>\n",
       "      <td>0.0</td>\n",
       "      <td>52.95166</td>\n",
       "      <td>0.0</td>\n",
       "      <td>0.0</td>\n",
       "      <td>...</td>\n",
       "      <td>53.06760</td>\n",
       "      <td>66.28421</td>\n",
       "      <td>55.12513</td>\n",
       "      <td>0.00000</td>\n",
       "      <td>92.46913</td>\n",
       "      <td>0.00000</td>\n",
       "      <td>0.0</td>\n",
       "      <td>0.0</td>\n",
       "      <td>0.0</td>\n",
       "      <td>0.0</td>\n",
       "    </tr>\n",
       "    <tr>\n",
       "      <th>4</th>\n",
       "      <td>2016-08-18 00:04:00</td>\n",
       "      <td>15.57773</td>\n",
       "      <td>0.0</td>\n",
       "      <td>0.00000</td>\n",
       "      <td>0.0</td>\n",
       "      <td>0.0</td>\n",
       "      <td>0.0</td>\n",
       "      <td>0.00000</td>\n",
       "      <td>0.0</td>\n",
       "      <td>0.0</td>\n",
       "      <td>...</td>\n",
       "      <td>53.09679</td>\n",
       "      <td>66.26472</td>\n",
       "      <td>55.15526</td>\n",
       "      <td>73.67016</td>\n",
       "      <td>0.00000</td>\n",
       "      <td>0.00000</td>\n",
       "      <td>0.0</td>\n",
       "      <td>0.0</td>\n",
       "      <td>0.0</td>\n",
       "      <td>0.0</td>\n",
       "    </tr>\n",
       "  </tbody>\n",
       "</table>\n",
       "<p>5 rows × 84 columns</p>\n",
       "</div>"
      ],
      "text/plain": [
       "            Unnamed: 0      tag1  tag2      tag3  tag4  tag5  tag6      tag7  \\\n",
       "0  2016-08-18 00:00:00  15.78042   0.0   0.00000   0.0   0.0   0.0   0.00000   \n",
       "1  2016-08-18 00:01:00  15.80157   0.0   0.00000   0.0   0.0   0.0  53.06440   \n",
       "2  2016-08-18 00:02:00  15.68913   0.0   0.00000   0.0   0.0   0.0   0.00000   \n",
       "3  2016-08-18 00:03:00  15.75101   0.0  20.26209   0.0   0.0   0.0  52.95166   \n",
       "4  2016-08-18 00:04:00  15.57773   0.0   0.00000   0.0   0.0   0.0   0.00000   \n",
       "\n",
       "   tag8  tag9  ...     tag74     tag75     tag76     tag77     tag78  \\\n",
       "0   0.0   0.0  ...  53.02723  66.30531  55.10297  73.65612   0.00000   \n",
       "1   0.0   0.0  ...  53.05109  66.30098  55.11534   0.00000   0.00000   \n",
       "2   0.0   0.0  ...  53.06495  66.30359  55.09395   0.00000   0.00000   \n",
       "3   0.0   0.0  ...  53.06760  66.28421  55.12513   0.00000  92.46913   \n",
       "4   0.0   0.0  ...  53.09679  66.26472  55.15526  73.67016   0.00000   \n",
       "\n",
       "      tag79  target1  target2  target3  target4  \n",
       "0   0.00000      0.0      0.0      0.0      0.0  \n",
       "1   0.00000      0.0      0.0      0.0      0.0  \n",
       "2  55.07365      0.0      0.0      0.0      0.0  \n",
       "3   0.00000      0.0      0.0      0.0      0.0  \n",
       "4   0.00000      0.0      0.0      0.0      0.0  \n",
       "\n",
       "[5 rows x 84 columns]"
      ]
     },
     "execution_count": 7,
     "metadata": {},
     "output_type": "execute_result"
    }
   ],
   "source": [
    "df_train.head()"
   ]
  },
  {
   "cell_type": "code",
   "execution_count": 8,
   "id": "alternate-trial",
   "metadata": {},
   "outputs": [
    {
     "name": "stdout",
     "output_type": "stream",
     "text": [
      "<class 'pandas.core.frame.DataFrame'>\n",
      "RangeIndex: 200000 entries, 0 to 199999\n",
      "Data columns (total 84 columns):\n",
      " #   Column      Non-Null Count   Dtype  \n",
      "---  ------      --------------   -----  \n",
      " 0   Unnamed: 0  200000 non-null  object \n",
      " 1   tag1        200000 non-null  float64\n",
      " 2   tag2        200000 non-null  float64\n",
      " 3   tag3        200000 non-null  float64\n",
      " 4   tag4        200000 non-null  float64\n",
      " 5   tag5        200000 non-null  float64\n",
      " 6   tag6        200000 non-null  float64\n",
      " 7   tag7        200000 non-null  float64\n",
      " 8   tag8        200000 non-null  float64\n",
      " 9   tag9        200000 non-null  float64\n",
      " 10  tag10       200000 non-null  float64\n",
      " 11  tag11       200000 non-null  float64\n",
      " 12  tag12       200000 non-null  float64\n",
      " 13  tag13       200000 non-null  float64\n",
      " 14  tag14       200000 non-null  float64\n",
      " 15  tag15       200000 non-null  float64\n",
      " 16  tag16       200000 non-null  float64\n",
      " 17  tag17       200000 non-null  float64\n",
      " 18  tag18       200000 non-null  float64\n",
      " 19  tag19       200000 non-null  float64\n",
      " 20  tag20       200000 non-null  float64\n",
      " 21  tag21       200000 non-null  float64\n",
      " 22  tag22       200000 non-null  float64\n",
      " 23  tag23       200000 non-null  float64\n",
      " 24  tag24       200000 non-null  float64\n",
      " 25  tag25       200000 non-null  float64\n",
      " 26  tag26       200000 non-null  float64\n",
      " 27  tag27       200000 non-null  float64\n",
      " 28  tag28       200000 non-null  float64\n",
      " 29  tag29       200000 non-null  float64\n",
      " 30  tag30       200000 non-null  float64\n",
      " 31  tag31       200000 non-null  float64\n",
      " 32  tag32       200000 non-null  float64\n",
      " 33  tag33       200000 non-null  float64\n",
      " 34  tag34       200000 non-null  float64\n",
      " 35  tag35       200000 non-null  float64\n",
      " 36  tag36       200000 non-null  float64\n",
      " 37  tag37       200000 non-null  float64\n",
      " 38  tag38       200000 non-null  float64\n",
      " 39  tag39       200000 non-null  float64\n",
      " 40  tag40       200000 non-null  float64\n",
      " 41  tag41       200000 non-null  float64\n",
      " 42  tag42       200000 non-null  float64\n",
      " 43  tag43       200000 non-null  float64\n",
      " 44  tag44       200000 non-null  float64\n",
      " 45  tag45       200000 non-null  float64\n",
      " 46  tag46       200000 non-null  float64\n",
      " 47  tag47       200000 non-null  float64\n",
      " 48  tag48       200000 non-null  float64\n",
      " 49  tag49       200000 non-null  float64\n",
      " 50  tag50       200000 non-null  float64\n",
      " 51  tag51       200000 non-null  float64\n",
      " 52  tag52       200000 non-null  float64\n",
      " 53  tag53       200000 non-null  float64\n",
      " 54  tag54       200000 non-null  float64\n",
      " 55  tag55       200000 non-null  float64\n",
      " 56  tag56       200000 non-null  float64\n",
      " 57  tag57       200000 non-null  float64\n",
      " 58  tag58       200000 non-null  float64\n",
      " 59  tag59       200000 non-null  float64\n",
      " 60  tag60       200000 non-null  float64\n",
      " 61  tag61       200000 non-null  float64\n",
      " 62  tag62       200000 non-null  float64\n",
      " 63  tag63       200000 non-null  float64\n",
      " 64  tag64       200000 non-null  float64\n",
      " 65  tag65       200000 non-null  float64\n",
      " 66  tag66       200000 non-null  float64\n",
      " 67  tag67       200000 non-null  float64\n",
      " 68  tag68       200000 non-null  float64\n",
      " 69  tag69       200000 non-null  float64\n",
      " 70  tag70       200000 non-null  float64\n",
      " 71  tag71       200000 non-null  float64\n",
      " 72  tag72       200000 non-null  float64\n",
      " 73  tag73       200000 non-null  float64\n",
      " 74  tag74       200000 non-null  float64\n",
      " 75  tag75       200000 non-null  float64\n",
      " 76  tag76       200000 non-null  float64\n",
      " 77  tag77       200000 non-null  float64\n",
      " 78  tag78       200000 non-null  float64\n",
      " 79  tag79       200000 non-null  float64\n",
      " 80  target1     200000 non-null  float64\n",
      " 81  target2     200000 non-null  float64\n",
      " 82  target3     200000 non-null  float64\n",
      " 83  target4     200000 non-null  float64\n",
      "dtypes: float64(83), object(1)\n",
      "memory usage: 128.2+ MB\n"
     ]
    }
   ],
   "source": [
    "df_train.info()"
   ]
  },
  {
   "cell_type": "markdown",
   "id": "growing-sampling",
   "metadata": {},
   "source": [
    "# Данные для моделей\n"
   ]
  },
  {
   "cell_type": "code",
   "execution_count": 9,
   "id": "handed-distribution",
   "metadata": {},
   "outputs": [],
   "source": [
    "X = df_train[['tag1', 'tag2', 'tag3', 'tag4', 'tag5', 'tag6', 'tag7', 'tag8', 'tag9', 'tag10', \n",
    "                    'tag11', 'tag12', 'tag13', 'tag14', 'tag15', 'tag16', 'tag17', 'tag18', 'tag19', \n",
    "                    'tag20', 'tag21', 'tag22', 'tag23', 'tag24', 'tag25', 'tag26', 'tag27', 'tag28', 'tag29', \n",
    "                    'tag30', 'tag31', 'tag32', 'tag33', 'tag34', 'tag35', 'tag36', 'tag37', 'tag38', 'tag39', \n",
    "                    'tag40', 'tag41', 'tag42', 'tag43', 'tag44', 'tag45', 'tag46', 'tag47', 'tag48', 'tag49', \n",
    "                    'tag50', 'tag51', 'tag52', 'tag53', 'tag54', 'tag55', 'tag56', 'tag57', 'tag58', 'tag59', \n",
    "                    'tag60', 'tag61', 'tag62', 'tag63', 'tag64', 'tag65', 'tag66', 'tag67', 'tag68', 'tag69', \n",
    "                    'tag70', 'tag71', 'tag72', 'tag73', 'tag74', 'tag75', 'tag76', 'tag77', 'tag78', 'tag79']]\n",
    "y_target_1 = df_train['target1']\n",
    "y_target_2 = df_train['target2']\n",
    "y_target_3 = df_train['target3']\n",
    "y_target_4 = df_train['target4']"
   ]
  },
  {
   "cell_type": "markdown",
   "id": "marine-penalty",
   "metadata": {},
   "source": [
    "# Модель линейной регрессия"
   ]
  },
  {
   "cell_type": "markdown",
   "id": "australian-health",
   "metadata": {},
   "source": [
    "## Target 1"
   ]
  },
  {
   "cell_type": "code",
   "execution_count": 11,
   "id": "municipal-encyclopedia",
   "metadata": {},
   "outputs": [],
   "source": [
    "X_train_1, X_test_1, y_train_1, y_test_1 = train_test_split(X, y_target_1, test_size=0.30, random_state=42)"
   ]
  },
  {
   "cell_type": "code",
   "execution_count": 12,
   "id": "continuous-secretariat",
   "metadata": {},
   "outputs": [
    {
     "data": {
      "text/plain": [
       "(140000, 79)"
      ]
     },
     "execution_count": 12,
     "metadata": {},
     "output_type": "execute_result"
    }
   ],
   "source": [
    "X_train_1.shape"
   ]
  },
  {
   "cell_type": "code",
   "execution_count": 13,
   "id": "fallen-beads",
   "metadata": {},
   "outputs": [
    {
     "data": {
      "text/plain": [
       "(140000,)"
      ]
     },
     "execution_count": 13,
     "metadata": {},
     "output_type": "execute_result"
    }
   ],
   "source": [
    "y_train_1.shape"
   ]
  },
  {
   "cell_type": "code",
   "execution_count": 14,
   "id": "exterior-exemption",
   "metadata": {},
   "outputs": [
    {
     "data": {
      "text/plain": [
       "LinearRegression()"
      ]
     },
     "execution_count": 14,
     "metadata": {},
     "output_type": "execute_result"
    }
   ],
   "source": [
    "model_target_1 = LinearRegression()\n",
    "model_target_1.fit(X_train_1, y_train_1)  # метод обучается на данных и подбирает оптимальные коэффициенты"
   ]
  },
  {
   "cell_type": "code",
   "execution_count": 15,
   "id": "outside-glossary",
   "metadata": {},
   "outputs": [
    {
     "data": {
      "text/plain": [
       "array([-1.31454418e-06,  2.04199293e-05,  3.00532720e-07,  6.47944336e-07,\n",
       "        6.91730313e-08,  4.96570143e-08, -2.03482788e-08,  7.72709857e-08,\n",
       "        1.72883227e-07,  7.62331555e-07,  6.68964114e-08,  3.82489677e-04,\n",
       "       -4.64551156e-04,  1.17314892e-02, -5.63166001e-02, -9.03753132e-02,\n",
       "        7.04367685e-03, -2.74728359e-03, -3.68352342e-07,  1.07891691e-07,\n",
       "        4.83676140e-07, -6.67112706e-08,  7.74468844e-06, -7.02485899e-07,\n",
       "        1.40397828e-06,  5.96219632e-07, -2.80354996e-06,  1.65535651e-06,\n",
       "        2.40654094e-06, -3.03048332e-06,  1.15589183e-07,  2.22286170e-06,\n",
       "        1.26941630e-07, -1.32072570e-06,  7.60978517e-07, -1.74768539e-07,\n",
       "       -2.43334730e-07, -8.21296019e-09, -4.87333745e-09, -1.56439274e-08,\n",
       "       -5.35936932e-07,  2.39941553e-05, -1.99227226e-06, -5.74477544e-08,\n",
       "        1.91775085e-06, -3.86509001e-13, -2.50074382e-06, -1.00627532e-09,\n",
       "        1.21134353e-05, -2.39268491e-08,  4.86619381e-08, -1.03682138e-08,\n",
       "       -2.00924073e-08,  4.32212856e-09,  1.95129038e-05,  7.62332854e-07,\n",
       "        6.68960569e-08,  1.03967989e-04,  2.37486098e-05, -5.04314809e-06,\n",
       "       -4.78236847e-06, -9.25775882e-07,  2.66519290e-04, -2.31275105e-07,\n",
       "        1.03522011e-06, -8.16870531e-06, -1.95414635e-05,  4.68698771e-06,\n",
       "       -2.33369688e-07,  2.00742265e-06, -1.34899429e-05,  7.04703924e-06,\n",
       "       -1.67503904e-07, -1.10433018e-05, -2.64882625e-05,  1.82307882e-06,\n",
       "       -1.73792905e-09,  3.07141386e-09, -4.96102550e-09])"
      ]
     },
     "execution_count": 15,
     "metadata": {},
     "output_type": "execute_result"
    }
   ],
   "source": [
    "model_target_1.coef_"
   ]
  },
  {
   "cell_type": "code",
   "execution_count": 16,
   "id": "offensive-looking",
   "metadata": {},
   "outputs": [
    {
     "data": {
      "text/plain": [
       "0.0010701004461318383"
      ]
     },
     "execution_count": 16,
     "metadata": {},
     "output_type": "execute_result"
    }
   ],
   "source": [
    "model_target_1.intercept_"
   ]
  },
  {
   "cell_type": "code",
   "execution_count": 17,
   "id": "extreme-witch",
   "metadata": {},
   "outputs": [
    {
     "data": {
      "text/plain": [
       "0.8565595199135708"
      ]
     },
     "execution_count": 17,
     "metadata": {},
     "output_type": "execute_result"
    }
   ],
   "source": [
    "model_target_1.score(X_test_1, y_test_1) # метод возвращает значение коэффициента детерминации"
   ]
  },
  {
   "cell_type": "code",
   "execution_count": 46,
   "id": "cooperative-change",
   "metadata": {},
   "outputs": [
    {
     "ename": "ValueError",
     "evalue": "Unknown label type: 'continuous'",
     "output_type": "error",
     "traceback": [
      "\u001b[1;31m---------------------------------------------------------------------------\u001b[0m",
      "\u001b[1;31mValueError\u001b[0m                                Traceback (most recent call last)",
      "\u001b[1;32m<ipython-input-46-23a332ec28f3>\u001b[0m in \u001b[0;36m<module>\u001b[1;34m\u001b[0m\n\u001b[1;32m----> 1\u001b[1;33m \u001b[0mclf\u001b[0m \u001b[1;33m=\u001b[0m \u001b[0msvm\u001b[0m\u001b[1;33m.\u001b[0m\u001b[0mSVC\u001b[0m\u001b[1;33m(\u001b[0m\u001b[0mkernel\u001b[0m\u001b[1;33m=\u001b[0m\u001b[1;34m'linear'\u001b[0m\u001b[1;33m,\u001b[0m \u001b[0mC\u001b[0m\u001b[1;33m=\u001b[0m\u001b[1;36m1\u001b[0m\u001b[1;33m)\u001b[0m\u001b[1;33m.\u001b[0m\u001b[0mfit\u001b[0m\u001b[1;33m(\u001b[0m\u001b[0mX_train_1\u001b[0m\u001b[1;33m,\u001b[0m \u001b[0my_train_1\u001b[0m\u001b[1;33m)\u001b[0m\u001b[1;33m\u001b[0m\u001b[1;33m\u001b[0m\u001b[0m\n\u001b[0m\u001b[0;32m      2\u001b[0m \u001b[0mclf\u001b[0m\u001b[1;33m.\u001b[0m\u001b[0mscore\u001b[0m\u001b[1;33m(\u001b[0m\u001b[0mX_test_1\u001b[0m\u001b[1;33m,\u001b[0m \u001b[0my_test_1\u001b[0m\u001b[1;33m)\u001b[0m\u001b[1;33m\u001b[0m\u001b[1;33m\u001b[0m\u001b[0m\n",
      "\u001b[1;32m~\\anaconda3\\lib\\site-packages\\sklearn\\svm\\_base.py\u001b[0m in \u001b[0;36mfit\u001b[1;34m(self, X, y, sample_weight)\u001b[0m\n\u001b[0;32m    162\u001b[0m                                        accept_large_sparse=False)\n\u001b[0;32m    163\u001b[0m \u001b[1;33m\u001b[0m\u001b[0m\n\u001b[1;32m--> 164\u001b[1;33m         \u001b[0my\u001b[0m \u001b[1;33m=\u001b[0m \u001b[0mself\u001b[0m\u001b[1;33m.\u001b[0m\u001b[0m_validate_targets\u001b[0m\u001b[1;33m(\u001b[0m\u001b[0my\u001b[0m\u001b[1;33m)\u001b[0m\u001b[1;33m\u001b[0m\u001b[1;33m\u001b[0m\u001b[0m\n\u001b[0m\u001b[0;32m    165\u001b[0m \u001b[1;33m\u001b[0m\u001b[0m\n\u001b[0;32m    166\u001b[0m         sample_weight = np.asarray([]\n",
      "\u001b[1;32m~\\anaconda3\\lib\\site-packages\\sklearn\\svm\\_base.py\u001b[0m in \u001b[0;36m_validate_targets\u001b[1;34m(self, y)\u001b[0m\n\u001b[0;32m    542\u001b[0m     \u001b[1;32mdef\u001b[0m \u001b[0m_validate_targets\u001b[0m\u001b[1;33m(\u001b[0m\u001b[0mself\u001b[0m\u001b[1;33m,\u001b[0m \u001b[0my\u001b[0m\u001b[1;33m)\u001b[0m\u001b[1;33m:\u001b[0m\u001b[1;33m\u001b[0m\u001b[1;33m\u001b[0m\u001b[0m\n\u001b[0;32m    543\u001b[0m         \u001b[0my_\u001b[0m \u001b[1;33m=\u001b[0m \u001b[0mcolumn_or_1d\u001b[0m\u001b[1;33m(\u001b[0m\u001b[0my\u001b[0m\u001b[1;33m,\u001b[0m \u001b[0mwarn\u001b[0m\u001b[1;33m=\u001b[0m\u001b[1;32mTrue\u001b[0m\u001b[1;33m)\u001b[0m\u001b[1;33m\u001b[0m\u001b[1;33m\u001b[0m\u001b[0m\n\u001b[1;32m--> 544\u001b[1;33m         \u001b[0mcheck_classification_targets\u001b[0m\u001b[1;33m(\u001b[0m\u001b[0my\u001b[0m\u001b[1;33m)\u001b[0m\u001b[1;33m\u001b[0m\u001b[1;33m\u001b[0m\u001b[0m\n\u001b[0m\u001b[0;32m    545\u001b[0m         \u001b[0mcls\u001b[0m\u001b[1;33m,\u001b[0m \u001b[0my\u001b[0m \u001b[1;33m=\u001b[0m \u001b[0mnp\u001b[0m\u001b[1;33m.\u001b[0m\u001b[0munique\u001b[0m\u001b[1;33m(\u001b[0m\u001b[0my_\u001b[0m\u001b[1;33m,\u001b[0m \u001b[0mreturn_inverse\u001b[0m\u001b[1;33m=\u001b[0m\u001b[1;32mTrue\u001b[0m\u001b[1;33m)\u001b[0m\u001b[1;33m\u001b[0m\u001b[1;33m\u001b[0m\u001b[0m\n\u001b[0;32m    546\u001b[0m         self.class_weight_ = compute_class_weight(self.class_weight,\n",
      "\u001b[1;32m~\\anaconda3\\lib\\site-packages\\sklearn\\utils\\multiclass.py\u001b[0m in \u001b[0;36mcheck_classification_targets\u001b[1;34m(y)\u001b[0m\n\u001b[0;32m    170\u001b[0m     if y_type not in ['binary', 'multiclass', 'multiclass-multioutput',\n\u001b[0;32m    171\u001b[0m                       'multilabel-indicator', 'multilabel-sequences']:\n\u001b[1;32m--> 172\u001b[1;33m         \u001b[1;32mraise\u001b[0m \u001b[0mValueError\u001b[0m\u001b[1;33m(\u001b[0m\u001b[1;34m\"Unknown label type: %r\"\u001b[0m \u001b[1;33m%\u001b[0m \u001b[0my_type\u001b[0m\u001b[1;33m)\u001b[0m\u001b[1;33m\u001b[0m\u001b[1;33m\u001b[0m\u001b[0m\n\u001b[0m\u001b[0;32m    173\u001b[0m \u001b[1;33m\u001b[0m\u001b[0m\n\u001b[0;32m    174\u001b[0m \u001b[1;33m\u001b[0m\u001b[0m\n",
      "\u001b[1;31mValueError\u001b[0m: Unknown label type: 'continuous'"
     ]
    }
   ],
   "source": [
    "clf = svm.SVC(kernel='linear', C=1).fit(X_train_1, y_train_1)\n",
    "clf.score(X_test_1, y_test_1)"
   ]
  },
  {
   "cell_type": "markdown",
   "id": "intended-locking",
   "metadata": {},
   "source": [
    "## Target 2"
   ]
  },
  {
   "cell_type": "code",
   "execution_count": 18,
   "id": "auburn-amazon",
   "metadata": {},
   "outputs": [],
   "source": [
    "X_train_2, X_test_2, y_train_2, y_test_2 = train_test_split(X, y_target_2, test_size=0.30, random_state=42)"
   ]
  },
  {
   "cell_type": "code",
   "execution_count": 19,
   "id": "operating-schedule",
   "metadata": {},
   "outputs": [
    {
     "name": "stdout",
     "output_type": "stream",
     "text": [
      "(140000, 79)\n",
      "(140000,)\n"
     ]
    }
   ],
   "source": [
    "print(X_train_2.shape)\n",
    "print(y_train_2.shape)"
   ]
  },
  {
   "cell_type": "code",
   "execution_count": 20,
   "id": "processed-season",
   "metadata": {},
   "outputs": [
    {
     "data": {
      "text/plain": [
       "LinearRegression()"
      ]
     },
     "execution_count": 20,
     "metadata": {},
     "output_type": "execute_result"
    }
   ],
   "source": [
    "model_target_2 = LinearRegression()\n",
    "model_target_2.fit(X_train_2, y_train_2)  # метод обучается на данных и подбирает оптимальные коэффициенты"
   ]
  },
  {
   "cell_type": "code",
   "execution_count": 21,
   "id": "inclusive-pennsylvania",
   "metadata": {},
   "outputs": [
    {
     "data": {
      "text/plain": [
       "array([-5.65581047e-05,  8.81286872e-04,  1.30102994e-05,  2.79293574e-05,\n",
       "        2.98464841e-06,  2.13272480e-06, -8.74118728e-07,  3.33341935e-06,\n",
       "        7.47335134e-06,  3.28489978e-05,  2.88396533e-06,  1.61281829e-02,\n",
       "       -2.00789576e-02,  5.05657296e-01, -2.42315194e+00, -3.89367686e+00,\n",
       "        3.00939294e-01, -1.18272881e-01, -1.58813375e-05,  4.67797311e-06,\n",
       "        2.07686652e-05, -2.89899835e-06,  3.34544810e-04, -3.01918935e-05,\n",
       "        6.05433447e-05,  2.56868066e-05, -1.20883690e-04,  7.13221994e-05,\n",
       "        1.03590155e-04, -1.30504112e-04,  5.03252856e-06,  9.57773763e-05,\n",
       "        5.37399666e-06, -5.69241090e-05,  3.27646520e-05, -7.53952840e-06,\n",
       "       -1.04960776e-05, -3.53896832e-07, -2.09366634e-07, -6.71669602e-07,\n",
       "       -2.31073948e-05,  1.03440980e-03, -8.59276174e-05, -2.48479409e-06,\n",
       "        8.27754254e-05, -1.66361835e-11, -1.07766023e-04, -4.39996460e-08,\n",
       "        5.21798412e-04, -1.02878405e-06,  2.10572434e-06, -4.47060441e-07,\n",
       "       -8.63759982e-07,  1.86013817e-07,  8.40540031e-04,  3.28490538e-05,\n",
       "        2.88395007e-06,  4.48139914e-03,  1.02326338e-03, -2.17109391e-04,\n",
       "       -2.06404781e-04, -3.97479633e-05,  1.14838999e-02, -9.96858946e-06,\n",
       "        4.46420455e-05, -3.52074002e-04, -8.41827016e-04,  2.01583297e-04,\n",
       "       -1.00643113e-05,  8.64568799e-05, -5.82175745e-04,  3.01480876e-04,\n",
       "       -7.22502714e-06, -4.74273298e-04, -1.14106407e-03,  7.96807551e-05,\n",
       "       -7.50866417e-08,  1.32638156e-07, -2.14375811e-07])"
      ]
     },
     "execution_count": 21,
     "metadata": {},
     "output_type": "execute_result"
    }
   ],
   "source": [
    "model_target_2.coef_"
   ]
  },
  {
   "cell_type": "code",
   "execution_count": 22,
   "id": "entertaining-adobe",
   "metadata": {},
   "outputs": [
    {
     "data": {
      "text/plain": [
       "0.046122634236028"
      ]
     },
     "execution_count": 22,
     "metadata": {},
     "output_type": "execute_result"
    }
   ],
   "source": [
    "model_target_2.intercept_"
   ]
  },
  {
   "cell_type": "code",
   "execution_count": 23,
   "id": "motivated-homework",
   "metadata": {},
   "outputs": [
    {
     "data": {
      "text/plain": [
       "0.8566074251274788"
      ]
     },
     "execution_count": 23,
     "metadata": {},
     "output_type": "execute_result"
    }
   ],
   "source": [
    "model_target_2.score(X_test_2, y_test_2) # метод возвращает значение коэффициента детерминации"
   ]
  },
  {
   "cell_type": "markdown",
   "id": "stunning-right",
   "metadata": {},
   "source": [
    "## Target 3"
   ]
  },
  {
   "cell_type": "code",
   "execution_count": 24,
   "id": "prescription-asset",
   "metadata": {},
   "outputs": [],
   "source": [
    "X_train_3, X_test_3, y_train_3, y_test_3 = train_test_split(X, y_target_3, test_size=0.30, random_state=42)"
   ]
  },
  {
   "cell_type": "code",
   "execution_count": 25,
   "id": "practical-universal",
   "metadata": {},
   "outputs": [
    {
     "name": "stdout",
     "output_type": "stream",
     "text": [
      "(140000, 79)\n",
      "(140000,)\n"
     ]
    }
   ],
   "source": [
    "print(X_train_3.shape)\n",
    "print(y_train_3.shape)"
   ]
  },
  {
   "cell_type": "code",
   "execution_count": 26,
   "id": "demanding-polymer",
   "metadata": {},
   "outputs": [
    {
     "data": {
      "text/plain": [
       "LinearRegression()"
      ]
     },
     "execution_count": 26,
     "metadata": {},
     "output_type": "execute_result"
    }
   ],
   "source": [
    "model_target_3 = LinearRegression()\n",
    "model_target_3.fit(X_train_3, y_train_3)  # метод обучается на данных и подбирает оптимальные коэффициенты"
   ]
  },
  {
   "cell_type": "code",
   "execution_count": 27,
   "id": "foreign-cincinnati",
   "metadata": {},
   "outputs": [
    {
     "data": {
      "text/plain": [
       "array([-2.78883174e-05, -1.11181959e-05, -3.31708440e-05, -1.14504121e-05,\n",
       "       -2.93430297e-06, -1.04634382e-06,  9.70605295e-08, -4.05262498e-06,\n",
       "       -6.71143371e-06,  8.99099573e-07,  6.33038836e-06, -2.18591588e-02,\n",
       "        6.70985720e-02, -2.33920465e-01,  3.00014611e+00,  1.93193974e+00,\n",
       "        1.30002852e+00,  1.07232554e-01, -4.39817101e-06,  3.75064803e-06,\n",
       "        1.05335806e-06,  1.75821118e-05, -6.13788176e-04,  2.79968394e-05,\n",
       "       -6.23464913e-05, -1.07899435e-04,  7.11577762e-05, -1.29013452e-04,\n",
       "       -8.81391393e-06,  1.03458093e-04,  2.12517211e-04, -1.01514551e-04,\n",
       "       -3.36500530e-05,  7.63970347e-05, -1.46095639e-04,  6.30141661e-06,\n",
       "        9.51581613e-06,  1.33233813e-07,  9.19785250e-07,  2.67796763e-07,\n",
       "        3.76656220e-06, -1.02715834e-03,  6.93043356e-05,  1.71070551e-05,\n",
       "       -1.04512624e-04, -2.35317777e-12,  1.08894410e-04, -6.33715193e-07,\n",
       "       -5.21619583e-04,  1.11825125e-06, -1.03941519e-06,  1.71557663e-08,\n",
       "        3.40120878e-07,  4.52983876e-08, -7.12252253e-04,  8.99041497e-07,\n",
       "        6.33045996e-06, -4.73824056e-03, -6.78039989e-03, -8.44007273e-05,\n",
       "        1.69051964e-04,  2.45912125e-05, -1.01735274e-02, -7.02567912e-06,\n",
       "       -9.29569861e-05,  3.58979498e-04,  8.00173167e-04, -2.28055788e-04,\n",
       "        7.81740510e-06,  5.94110342e-05,  8.52002345e-04, -3.55899694e-04,\n",
       "        5.68294914e-06,  4.17592713e-04,  1.50258845e-03, -4.52971191e-04,\n",
       "        3.03008395e-07, -2.49659891e-07, -3.97373414e-08])"
      ]
     },
     "execution_count": 27,
     "metadata": {},
     "output_type": "execute_result"
    }
   ],
   "source": [
    "model_target_3.coef_"
   ]
  },
  {
   "cell_type": "code",
   "execution_count": 28,
   "id": "smart-harris",
   "metadata": {},
   "outputs": [
    {
     "data": {
      "text/plain": [
       "0.9474863499947176"
      ]
     },
     "execution_count": 28,
     "metadata": {},
     "output_type": "execute_result"
    }
   ],
   "source": [
    "model_target_3.intercept_"
   ]
  },
  {
   "cell_type": "code",
   "execution_count": 29,
   "id": "married-performer",
   "metadata": {},
   "outputs": [
    {
     "data": {
      "text/plain": [
       "0.21814581582915082"
      ]
     },
     "execution_count": 29,
     "metadata": {},
     "output_type": "execute_result"
    }
   ],
   "source": [
    "model_target_3.score(X_test_3, y_test_3) # метод возвращает значение коэффициента детерминации"
   ]
  },
  {
   "cell_type": "markdown",
   "id": "comic-lecture",
   "metadata": {},
   "source": [
    "## Target 4"
   ]
  },
  {
   "cell_type": "code",
   "execution_count": 30,
   "id": "creative-quarter",
   "metadata": {},
   "outputs": [],
   "source": [
    "X_train_4, X_test_4, y_train_4, y_test_4 = train_test_split(X, y_target_4, test_size=0.30, random_state=42)"
   ]
  },
  {
   "cell_type": "code",
   "execution_count": 31,
   "id": "occupied-blackjack",
   "metadata": {},
   "outputs": [
    {
     "name": "stdout",
     "output_type": "stream",
     "text": [
      "(140000, 79)\n",
      "(140000,)\n"
     ]
    }
   ],
   "source": [
    "print(X_train_4.shape)\n",
    "print(y_train_4.shape)"
   ]
  },
  {
   "cell_type": "code",
   "execution_count": 32,
   "id": "permanent-cricket",
   "metadata": {},
   "outputs": [
    {
     "data": {
      "text/plain": [
       "LinearRegression()"
      ]
     },
     "execution_count": 32,
     "metadata": {},
     "output_type": "execute_result"
    }
   ],
   "source": [
    "model_target_4 = LinearRegression()\n",
    "model_target_4.fit(X_train_4, y_train_4)  # метод обучается на данных и подбирает оптимальные коэффициенты"
   ]
  },
  {
   "cell_type": "code",
   "execution_count": 33,
   "id": "meaning-fetish",
   "metadata": {},
   "outputs": [
    {
     "data": {
      "text/plain": [
       "array([ 4.88288018e-06, -9.85527443e-05, -1.85588738e-06, -1.13546225e-05,\n",
       "        1.39172480e-06, -1.69894731e-06,  5.93144512e-07, -9.82029251e-07,\n",
       "        2.67921841e-06, -2.63874063e-05, -5.83954447e-06, -1.91317786e-04,\n",
       "       -1.59920076e-02, -5.23677144e-02,  8.14779961e-03, -6.33685268e-02,\n",
       "       -9.60302282e-01,  4.08196674e-03,  8.21811915e-06, -5.33023170e-06,\n",
       "       -2.22791402e-05, -6.06502467e-06,  1.80488380e-04,  1.88557506e-05,\n",
       "        4.38212537e-05,  1.90983816e-05, -3.27308882e-05,  1.64521479e-05,\n",
       "       -3.22915657e-05, -2.23135277e-05, -3.15258799e-05, -8.74566522e-06,\n",
       "        2.22383633e-05, -9.05087308e-06,  3.57645203e-05,  1.42308336e-06,\n",
       "        1.29807458e-06,  3.07989033e-07,  1.04451248e-07, -8.18521207e-07,\n",
       "        1.21368363e-05,  8.60686135e-06,  5.47678469e-06,  3.03081027e-06,\n",
       "        5.14089289e-05,  6.04420390e-12, -7.30471371e-07,  1.28837402e-07,\n",
       "       -2.36135965e-05,  3.39533191e-07, -3.11842198e-07, -2.05589301e-07,\n",
       "        9.74836061e-08,  6.44885980e-08, -2.38068000e-04, -2.63873927e-05,\n",
       "       -5.83956302e-06,  3.99875794e-04,  5.88267454e-03,  2.49121673e-04,\n",
       "        4.27740792e-05,  1.51358266e-05, -1.10139948e-03, -8.15882771e-07,\n",
       "        3.45687251e-07, -5.12748244e-06,  2.43678189e-04,  1.67231817e-05,\n",
       "        2.12067330e-06, -1.77478516e-05,  9.27280609e-05, -8.50826421e-05,\n",
       "        1.55884337e-06,  3.99485832e-05,  1.54596385e-06, -1.53491634e-04,\n",
       "        3.70212119e-08, -3.87399368e-08,  4.33582714e-08])"
      ]
     },
     "execution_count": 33,
     "metadata": {},
     "output_type": "execute_result"
    }
   ],
   "source": [
    "model_target_4.coef_"
   ]
  },
  {
   "cell_type": "code",
   "execution_count": 34,
   "id": "approximate-integral",
   "metadata": {},
   "outputs": [
    {
     "data": {
      "text/plain": [
       "0.0065025628756973375"
      ]
     },
     "execution_count": 34,
     "metadata": {},
     "output_type": "execute_result"
    }
   ],
   "source": [
    "model_target_4.intercept_"
   ]
  },
  {
   "cell_type": "code",
   "execution_count": 35,
   "id": "sensitive-brief",
   "metadata": {},
   "outputs": [
    {
     "data": {
      "text/plain": [
       "0.7288612245016246"
      ]
     },
     "execution_count": 35,
     "metadata": {},
     "output_type": "execute_result"
    }
   ],
   "source": [
    "model_target_4.score(X_test_4, y_test_4) # метод возвращает значение коэффициента детерминации"
   ]
  },
  {
   "cell_type": "markdown",
   "id": "first-container",
   "metadata": {},
   "source": [
    "# Test data"
   ]
  },
  {
   "cell_type": "code",
   "execution_count": 36,
   "id": "nearby-radiation",
   "metadata": {},
   "outputs": [],
   "source": [
    "df_test = pd.read_csv('C:/Netology/test_task/test_data_100k.csv', encoding='utf-8')"
   ]
  },
  {
   "cell_type": "code",
   "execution_count": 37,
   "id": "agricultural-popularity",
   "metadata": {},
   "outputs": [],
   "source": [
    "df_test.fillna(0, inplace=True)"
   ]
  },
  {
   "cell_type": "code",
   "execution_count": 38,
   "id": "separate-drinking",
   "metadata": {},
   "outputs": [
    {
     "data": {
      "text/html": [
       "<div>\n",
       "<style scoped>\n",
       "    .dataframe tbody tr th:only-of-type {\n",
       "        vertical-align: middle;\n",
       "    }\n",
       "\n",
       "    .dataframe tbody tr th {\n",
       "        vertical-align: top;\n",
       "    }\n",
       "\n",
       "    .dataframe thead th {\n",
       "        text-align: right;\n",
       "    }\n",
       "</style>\n",
       "<table border=\"1\" class=\"dataframe\">\n",
       "  <thead>\n",
       "    <tr style=\"text-align: right;\">\n",
       "      <th></th>\n",
       "      <th>Unnamed: 0</th>\n",
       "      <th>tag1</th>\n",
       "      <th>tag2</th>\n",
       "      <th>tag3</th>\n",
       "      <th>tag4</th>\n",
       "      <th>tag5</th>\n",
       "      <th>tag6</th>\n",
       "      <th>tag7</th>\n",
       "      <th>tag8</th>\n",
       "      <th>tag9</th>\n",
       "      <th>...</th>\n",
       "      <th>tag70</th>\n",
       "      <th>tag71</th>\n",
       "      <th>tag72</th>\n",
       "      <th>tag73</th>\n",
       "      <th>tag74</th>\n",
       "      <th>tag75</th>\n",
       "      <th>tag76</th>\n",
       "      <th>tag77</th>\n",
       "      <th>tag78</th>\n",
       "      <th>tag79</th>\n",
       "    </tr>\n",
       "  </thead>\n",
       "  <tbody>\n",
       "    <tr>\n",
       "      <th>0</th>\n",
       "      <td>2017-01-03 21:21:00</td>\n",
       "      <td>12.59972</td>\n",
       "      <td>0.0</td>\n",
       "      <td>0.0</td>\n",
       "      <td>0.0</td>\n",
       "      <td>0.00000</td>\n",
       "      <td>0.0</td>\n",
       "      <td>45.27993</td>\n",
       "      <td>43.13644</td>\n",
       "      <td>0.0</td>\n",
       "      <td>...</td>\n",
       "      <td>37.63644</td>\n",
       "      <td>40.64410</td>\n",
       "      <td>53.44470</td>\n",
       "      <td>0.0</td>\n",
       "      <td>36.59567</td>\n",
       "      <td>64.47523</td>\n",
       "      <td>45.08920</td>\n",
       "      <td>0.00000</td>\n",
       "      <td>0.00000</td>\n",
       "      <td>0.00000</td>\n",
       "    </tr>\n",
       "    <tr>\n",
       "      <th>1</th>\n",
       "      <td>2017-01-03 21:22:00</td>\n",
       "      <td>12.65850</td>\n",
       "      <td>0.0</td>\n",
       "      <td>0.0</td>\n",
       "      <td>0.0</td>\n",
       "      <td>0.00000</td>\n",
       "      <td>0.0</td>\n",
       "      <td>0.00000</td>\n",
       "      <td>42.98455</td>\n",
       "      <td>0.0</td>\n",
       "      <td>...</td>\n",
       "      <td>37.69201</td>\n",
       "      <td>40.68030</td>\n",
       "      <td>53.43953</td>\n",
       "      <td>0.0</td>\n",
       "      <td>36.60715</td>\n",
       "      <td>64.48697</td>\n",
       "      <td>45.18127</td>\n",
       "      <td>0.00000</td>\n",
       "      <td>0.00000</td>\n",
       "      <td>0.00000</td>\n",
       "    </tr>\n",
       "    <tr>\n",
       "      <th>2</th>\n",
       "      <td>2017-01-03 21:23:00</td>\n",
       "      <td>12.69538</td>\n",
       "      <td>0.0</td>\n",
       "      <td>0.0</td>\n",
       "      <td>0.0</td>\n",
       "      <td>0.00000</td>\n",
       "      <td>0.0</td>\n",
       "      <td>0.00000</td>\n",
       "      <td>41.87401</td>\n",
       "      <td>0.0</td>\n",
       "      <td>...</td>\n",
       "      <td>37.71147</td>\n",
       "      <td>40.69286</td>\n",
       "      <td>53.42733</td>\n",
       "      <td>0.0</td>\n",
       "      <td>36.60194</td>\n",
       "      <td>64.48034</td>\n",
       "      <td>45.00529</td>\n",
       "      <td>75.84169</td>\n",
       "      <td>0.00000</td>\n",
       "      <td>0.00000</td>\n",
       "    </tr>\n",
       "    <tr>\n",
       "      <th>3</th>\n",
       "      <td>2017-01-03 21:24:00</td>\n",
       "      <td>12.84726</td>\n",
       "      <td>0.0</td>\n",
       "      <td>0.0</td>\n",
       "      <td>0.0</td>\n",
       "      <td>0.00000</td>\n",
       "      <td>0.0</td>\n",
       "      <td>0.00000</td>\n",
       "      <td>41.78006</td>\n",
       "      <td>0.0</td>\n",
       "      <td>...</td>\n",
       "      <td>37.70427</td>\n",
       "      <td>40.61716</td>\n",
       "      <td>53.44097</td>\n",
       "      <td>0.0</td>\n",
       "      <td>36.61879</td>\n",
       "      <td>64.50220</td>\n",
       "      <td>45.10987</td>\n",
       "      <td>0.00000</td>\n",
       "      <td>93.62097</td>\n",
       "      <td>0.00000</td>\n",
       "    </tr>\n",
       "    <tr>\n",
       "      <th>4</th>\n",
       "      <td>2017-01-03 21:25:00</td>\n",
       "      <td>12.98246</td>\n",
       "      <td>0.0</td>\n",
       "      <td>0.0</td>\n",
       "      <td>0.0</td>\n",
       "      <td>0.00000</td>\n",
       "      <td>0.0</td>\n",
       "      <td>0.00000</td>\n",
       "      <td>0.00000</td>\n",
       "      <td>0.0</td>\n",
       "      <td>...</td>\n",
       "      <td>37.69343</td>\n",
       "      <td>40.64507</td>\n",
       "      <td>53.51237</td>\n",
       "      <td>0.0</td>\n",
       "      <td>36.59875</td>\n",
       "      <td>64.48300</td>\n",
       "      <td>45.12246</td>\n",
       "      <td>0.00000</td>\n",
       "      <td>0.00000</td>\n",
       "      <td>56.14647</td>\n",
       "    </tr>\n",
       "    <tr>\n",
       "      <th>5</th>\n",
       "      <td>2017-01-03 21:26:00</td>\n",
       "      <td>13.06327</td>\n",
       "      <td>0.0</td>\n",
       "      <td>0.0</td>\n",
       "      <td>0.0</td>\n",
       "      <td>39.64622</td>\n",
       "      <td>0.0</td>\n",
       "      <td>0.00000</td>\n",
       "      <td>41.71222</td>\n",
       "      <td>0.0</td>\n",
       "      <td>...</td>\n",
       "      <td>37.70758</td>\n",
       "      <td>40.64710</td>\n",
       "      <td>53.50909</td>\n",
       "      <td>0.0</td>\n",
       "      <td>36.59168</td>\n",
       "      <td>64.48560</td>\n",
       "      <td>44.98694</td>\n",
       "      <td>0.00000</td>\n",
       "      <td>0.00000</td>\n",
       "      <td>0.00000</td>\n",
       "    </tr>\n",
       "    <tr>\n",
       "      <th>6</th>\n",
       "      <td>2017-01-03 21:27:00</td>\n",
       "      <td>13.12038</td>\n",
       "      <td>0.0</td>\n",
       "      <td>0.0</td>\n",
       "      <td>0.0</td>\n",
       "      <td>0.00000</td>\n",
       "      <td>0.0</td>\n",
       "      <td>0.00000</td>\n",
       "      <td>42.89294</td>\n",
       "      <td>0.0</td>\n",
       "      <td>...</td>\n",
       "      <td>37.70525</td>\n",
       "      <td>40.57602</td>\n",
       "      <td>53.50201</td>\n",
       "      <td>0.0</td>\n",
       "      <td>36.60939</td>\n",
       "      <td>64.49936</td>\n",
       "      <td>44.99689</td>\n",
       "      <td>0.00000</td>\n",
       "      <td>0.00000</td>\n",
       "      <td>0.00000</td>\n",
       "    </tr>\n",
       "    <tr>\n",
       "      <th>7</th>\n",
       "      <td>2017-01-03 21:28:00</td>\n",
       "      <td>13.22440</td>\n",
       "      <td>0.0</td>\n",
       "      <td>0.0</td>\n",
       "      <td>0.0</td>\n",
       "      <td>0.00000</td>\n",
       "      <td>0.0</td>\n",
       "      <td>0.00000</td>\n",
       "      <td>0.00000</td>\n",
       "      <td>0.0</td>\n",
       "      <td>...</td>\n",
       "      <td>37.73154</td>\n",
       "      <td>40.57756</td>\n",
       "      <td>53.49405</td>\n",
       "      <td>0.0</td>\n",
       "      <td>36.60468</td>\n",
       "      <td>64.50407</td>\n",
       "      <td>45.13005</td>\n",
       "      <td>75.90825</td>\n",
       "      <td>93.62560</td>\n",
       "      <td>0.00000</td>\n",
       "    </tr>\n",
       "    <tr>\n",
       "      <th>8</th>\n",
       "      <td>2017-01-03 21:29:00</td>\n",
       "      <td>13.26141</td>\n",
       "      <td>0.0</td>\n",
       "      <td>0.0</td>\n",
       "      <td>0.0</td>\n",
       "      <td>0.00000</td>\n",
       "      <td>0.0</td>\n",
       "      <td>0.00000</td>\n",
       "      <td>43.36194</td>\n",
       "      <td>0.0</td>\n",
       "      <td>...</td>\n",
       "      <td>37.74234</td>\n",
       "      <td>40.61502</td>\n",
       "      <td>53.48433</td>\n",
       "      <td>0.0</td>\n",
       "      <td>36.62055</td>\n",
       "      <td>64.51199</td>\n",
       "      <td>45.03414</td>\n",
       "      <td>0.00000</td>\n",
       "      <td>0.00000</td>\n",
       "      <td>56.29597</td>\n",
       "    </tr>\n",
       "    <tr>\n",
       "      <th>9</th>\n",
       "      <td>2017-01-03 21:30:00</td>\n",
       "      <td>13.34773</td>\n",
       "      <td>0.0</td>\n",
       "      <td>0.0</td>\n",
       "      <td>0.0</td>\n",
       "      <td>0.00000</td>\n",
       "      <td>0.0</td>\n",
       "      <td>0.00000</td>\n",
       "      <td>41.98836</td>\n",
       "      <td>0.0</td>\n",
       "      <td>...</td>\n",
       "      <td>37.72842</td>\n",
       "      <td>40.66755</td>\n",
       "      <td>53.52201</td>\n",
       "      <td>0.0</td>\n",
       "      <td>36.61348</td>\n",
       "      <td>64.51476</td>\n",
       "      <td>45.03766</td>\n",
       "      <td>0.00000</td>\n",
       "      <td>0.00000</td>\n",
       "      <td>0.00000</td>\n",
       "    </tr>\n",
       "  </tbody>\n",
       "</table>\n",
       "<p>10 rows × 80 columns</p>\n",
       "</div>"
      ],
      "text/plain": [
       "            Unnamed: 0      tag1  tag2  tag3  tag4      tag5  tag6      tag7  \\\n",
       "0  2017-01-03 21:21:00  12.59972   0.0   0.0   0.0   0.00000   0.0  45.27993   \n",
       "1  2017-01-03 21:22:00  12.65850   0.0   0.0   0.0   0.00000   0.0   0.00000   \n",
       "2  2017-01-03 21:23:00  12.69538   0.0   0.0   0.0   0.00000   0.0   0.00000   \n",
       "3  2017-01-03 21:24:00  12.84726   0.0   0.0   0.0   0.00000   0.0   0.00000   \n",
       "4  2017-01-03 21:25:00  12.98246   0.0   0.0   0.0   0.00000   0.0   0.00000   \n",
       "5  2017-01-03 21:26:00  13.06327   0.0   0.0   0.0  39.64622   0.0   0.00000   \n",
       "6  2017-01-03 21:27:00  13.12038   0.0   0.0   0.0   0.00000   0.0   0.00000   \n",
       "7  2017-01-03 21:28:00  13.22440   0.0   0.0   0.0   0.00000   0.0   0.00000   \n",
       "8  2017-01-03 21:29:00  13.26141   0.0   0.0   0.0   0.00000   0.0   0.00000   \n",
       "9  2017-01-03 21:30:00  13.34773   0.0   0.0   0.0   0.00000   0.0   0.00000   \n",
       "\n",
       "       tag8  tag9  ...     tag70     tag71     tag72  tag73     tag74  \\\n",
       "0  43.13644   0.0  ...  37.63644  40.64410  53.44470    0.0  36.59567   \n",
       "1  42.98455   0.0  ...  37.69201  40.68030  53.43953    0.0  36.60715   \n",
       "2  41.87401   0.0  ...  37.71147  40.69286  53.42733    0.0  36.60194   \n",
       "3  41.78006   0.0  ...  37.70427  40.61716  53.44097    0.0  36.61879   \n",
       "4   0.00000   0.0  ...  37.69343  40.64507  53.51237    0.0  36.59875   \n",
       "5  41.71222   0.0  ...  37.70758  40.64710  53.50909    0.0  36.59168   \n",
       "6  42.89294   0.0  ...  37.70525  40.57602  53.50201    0.0  36.60939   \n",
       "7   0.00000   0.0  ...  37.73154  40.57756  53.49405    0.0  36.60468   \n",
       "8  43.36194   0.0  ...  37.74234  40.61502  53.48433    0.0  36.62055   \n",
       "9  41.98836   0.0  ...  37.72842  40.66755  53.52201    0.0  36.61348   \n",
       "\n",
       "      tag75     tag76     tag77     tag78     tag79  \n",
       "0  64.47523  45.08920   0.00000   0.00000   0.00000  \n",
       "1  64.48697  45.18127   0.00000   0.00000   0.00000  \n",
       "2  64.48034  45.00529  75.84169   0.00000   0.00000  \n",
       "3  64.50220  45.10987   0.00000  93.62097   0.00000  \n",
       "4  64.48300  45.12246   0.00000   0.00000  56.14647  \n",
       "5  64.48560  44.98694   0.00000   0.00000   0.00000  \n",
       "6  64.49936  44.99689   0.00000   0.00000   0.00000  \n",
       "7  64.50407  45.13005  75.90825  93.62560   0.00000  \n",
       "8  64.51199  45.03414   0.00000   0.00000  56.29597  \n",
       "9  64.51476  45.03766   0.00000   0.00000   0.00000  \n",
       "\n",
       "[10 rows x 80 columns]"
      ]
     },
     "execution_count": 38,
     "metadata": {},
     "output_type": "execute_result"
    }
   ],
   "source": [
    "df_test.head(10)"
   ]
  },
  {
   "cell_type": "code",
   "execution_count": 39,
   "id": "postal-ivory",
   "metadata": {},
   "outputs": [
    {
     "name": "stdout",
     "output_type": "stream",
     "text": [
      "<class 'pandas.core.frame.DataFrame'>\n",
      "RangeIndex: 100000 entries, 0 to 99999\n",
      "Data columns (total 80 columns):\n",
      " #   Column      Non-Null Count   Dtype  \n",
      "---  ------      --------------   -----  \n",
      " 0   Unnamed: 0  100000 non-null  object \n",
      " 1   tag1        100000 non-null  float64\n",
      " 2   tag2        100000 non-null  float64\n",
      " 3   tag3        100000 non-null  float64\n",
      " 4   tag4        100000 non-null  float64\n",
      " 5   tag5        100000 non-null  float64\n",
      " 6   tag6        100000 non-null  float64\n",
      " 7   tag7        100000 non-null  float64\n",
      " 8   tag8        100000 non-null  float64\n",
      " 9   tag9        100000 non-null  float64\n",
      " 10  tag10       100000 non-null  float64\n",
      " 11  tag11       100000 non-null  float64\n",
      " 12  tag12       100000 non-null  float64\n",
      " 13  tag13       100000 non-null  float64\n",
      " 14  tag14       100000 non-null  float64\n",
      " 15  tag15       100000 non-null  float64\n",
      " 16  tag16       100000 non-null  float64\n",
      " 17  tag17       100000 non-null  float64\n",
      " 18  tag18       100000 non-null  float64\n",
      " 19  tag19       100000 non-null  float64\n",
      " 20  tag20       100000 non-null  float64\n",
      " 21  tag21       100000 non-null  float64\n",
      " 22  tag22       100000 non-null  float64\n",
      " 23  tag23       100000 non-null  float64\n",
      " 24  tag24       100000 non-null  float64\n",
      " 25  tag25       100000 non-null  float64\n",
      " 26  tag26       100000 non-null  float64\n",
      " 27  tag27       100000 non-null  float64\n",
      " 28  tag28       100000 non-null  float64\n",
      " 29  tag29       100000 non-null  float64\n",
      " 30  tag30       100000 non-null  float64\n",
      " 31  tag31       100000 non-null  float64\n",
      " 32  tag32       100000 non-null  float64\n",
      " 33  tag33       100000 non-null  float64\n",
      " 34  tag34       100000 non-null  float64\n",
      " 35  tag35       100000 non-null  float64\n",
      " 36  tag36       100000 non-null  float64\n",
      " 37  tag37       100000 non-null  float64\n",
      " 38  tag38       100000 non-null  float64\n",
      " 39  tag39       100000 non-null  float64\n",
      " 40  tag40       100000 non-null  float64\n",
      " 41  tag41       100000 non-null  float64\n",
      " 42  tag42       100000 non-null  float64\n",
      " 43  tag43       100000 non-null  float64\n",
      " 44  tag44       100000 non-null  float64\n",
      " 45  tag45       100000 non-null  float64\n",
      " 46  tag46       100000 non-null  float64\n",
      " 47  tag47       100000 non-null  float64\n",
      " 48  tag48       100000 non-null  float64\n",
      " 49  tag49       100000 non-null  float64\n",
      " 50  tag50       100000 non-null  float64\n",
      " 51  tag51       100000 non-null  float64\n",
      " 52  tag52       100000 non-null  float64\n",
      " 53  tag53       100000 non-null  float64\n",
      " 54  tag54       100000 non-null  float64\n",
      " 55  tag55       100000 non-null  float64\n",
      " 56  tag56       100000 non-null  float64\n",
      " 57  tag57       100000 non-null  float64\n",
      " 58  tag58       100000 non-null  float64\n",
      " 59  tag59       100000 non-null  float64\n",
      " 60  tag60       100000 non-null  float64\n",
      " 61  tag61       100000 non-null  float64\n",
      " 62  tag62       100000 non-null  float64\n",
      " 63  tag63       100000 non-null  float64\n",
      " 64  tag64       100000 non-null  float64\n",
      " 65  tag65       100000 non-null  float64\n",
      " 66  tag66       100000 non-null  float64\n",
      " 67  tag67       100000 non-null  float64\n",
      " 68  tag68       100000 non-null  float64\n",
      " 69  tag69       100000 non-null  float64\n",
      " 70  tag70       100000 non-null  float64\n",
      " 71  tag71       100000 non-null  float64\n",
      " 72  tag72       100000 non-null  float64\n",
      " 73  tag73       100000 non-null  float64\n",
      " 74  tag74       100000 non-null  float64\n",
      " 75  tag75       100000 non-null  float64\n",
      " 76  tag76       100000 non-null  float64\n",
      " 77  tag77       100000 non-null  float64\n",
      " 78  tag78       100000 non-null  float64\n",
      " 79  tag79       100000 non-null  float64\n",
      "dtypes: float64(79), object(1)\n",
      "memory usage: 61.0+ MB\n"
     ]
    }
   ],
   "source": [
    "df_test.info()"
   ]
  },
  {
   "cell_type": "code",
   "execution_count": 40,
   "id": "expired-defeat",
   "metadata": {},
   "outputs": [],
   "source": [
    "X_test = df_test[['tag1', 'tag2', 'tag3', 'tag4', 'tag5', 'tag6', 'tag7', 'tag8', 'tag9', 'tag10', \n",
    "                    'tag11', 'tag12', 'tag13', 'tag14', 'tag15', 'tag16', 'tag17', 'tag18', 'tag19', \n",
    "                    'tag20', 'tag21', 'tag22', 'tag23', 'tag24', 'tag25', 'tag26', 'tag27', 'tag28', 'tag29', \n",
    "                    'tag30', 'tag31', 'tag32', 'tag33', 'tag34', 'tag35', 'tag36', 'tag37', 'tag38', 'tag39', \n",
    "                    'tag40', 'tag41', 'tag42', 'tag43', 'tag44', 'tag45', 'tag46', 'tag47', 'tag48', 'tag49', \n",
    "                    'tag50', 'tag51', 'tag52', 'tag53', 'tag54', 'tag55', 'tag56', 'tag57', 'tag58', 'tag59', \n",
    "                    'tag60', 'tag61', 'tag62', 'tag63', 'tag64', 'tag65', 'tag66', 'tag67', 'tag68', 'tag69', \n",
    "                    'tag70', 'tag71', 'tag72', 'tag73', 'tag74', 'tag75', 'tag76', 'tag77', 'tag78', 'tag79']]"
   ]
  },
  {
   "cell_type": "markdown",
   "id": "absent-depression",
   "metadata": {},
   "source": [
    "# Прогнозы"
   ]
  },
  {
   "cell_type": "markdown",
   "id": "abstract-luther",
   "metadata": {},
   "source": [
    "## Predict Target 1"
   ]
  },
  {
   "cell_type": "code",
   "execution_count": 41,
   "id": "intended-baking",
   "metadata": {},
   "outputs": [
    {
     "data": {
      "text/plain": [
       "array([0.00156929, 0.00156232, 0.00156762, ..., 0.00118233, 0.00117809,\n",
       "       0.00119166])"
      ]
     },
     "execution_count": 41,
     "metadata": {},
     "output_type": "execute_result"
    }
   ],
   "source": [
    "y_pred_target_1 = model_target_1.predict(X_test)\n",
    "y_pred_target_1"
   ]
  },
  {
   "cell_type": "code",
   "execution_count": null,
   "id": "homeless-juice",
   "metadata": {},
   "outputs": [],
   "source": []
  },
  {
   "cell_type": "markdown",
   "id": "parental-chuck",
   "metadata": {},
   "source": [
    "## Predict Target 2"
   ]
  },
  {
   "cell_type": "code",
   "execution_count": 42,
   "id": "interracial-course",
   "metadata": {},
   "outputs": [
    {
     "data": {
      "text/plain": [
       "array([0.06763768, 0.06733749, 0.06756549, ..., 0.05096251, 0.05077984,\n",
       "       0.05136514])"
      ]
     },
     "execution_count": 42,
     "metadata": {},
     "output_type": "execute_result"
    }
   ],
   "source": [
    "y_pred_target_2 = model_target_2.predict(X_test)\n",
    "y_pred_target_2"
   ]
  },
  {
   "cell_type": "markdown",
   "id": "tested-synthesis",
   "metadata": {},
   "source": [
    "## Predict Target 3"
   ]
  },
  {
   "cell_type": "code",
   "execution_count": 43,
   "id": "confirmed-vintage",
   "metadata": {},
   "outputs": [
    {
     "data": {
      "text/plain": [
       "array([0.92616105, 0.9265039 , 0.92635959, ..., 0.94368534, 0.94372851,\n",
       "       0.94323719])"
      ]
     },
     "execution_count": 43,
     "metadata": {},
     "output_type": "execute_result"
    }
   ],
   "source": [
    "y_pred_target_3 = model_target_3.predict(X_test)\n",
    "y_pred_target_3"
   ]
  },
  {
   "cell_type": "markdown",
   "id": "leading-constant",
   "metadata": {},
   "source": [
    "## Predict Target 4"
   ]
  },
  {
   "cell_type": "code",
   "execution_count": 44,
   "id": "mediterranean-remark",
   "metadata": {},
   "outputs": [
    {
     "data": {
      "text/plain": [
       "array([0.00385479, 0.0038258 , 0.00385646, ..., 0.00430373, 0.00428269,\n",
       "       0.0042619 ])"
      ]
     },
     "execution_count": 44,
     "metadata": {},
     "output_type": "execute_result"
    }
   ],
   "source": [
    "y_pred_target_4 = model_target_4.predict(X_test)\n",
    "y_pred_target_4"
   ]
  },
  {
   "cell_type": "code",
   "execution_count": null,
   "id": "charged-arkansas",
   "metadata": {},
   "outputs": [],
   "source": []
  }
 ],
 "metadata": {
  "kernelspec": {
   "display_name": "Python 3",
   "language": "python",
   "name": "python3"
  },
  "language_info": {
   "codemirror_mode": {
    "name": "ipython",
    "version": 3
   },
   "file_extension": ".py",
   "mimetype": "text/x-python",
   "name": "python",
   "nbconvert_exporter": "python",
   "pygments_lexer": "ipython3",
   "version": "3.8.5"
  }
 },
 "nbformat": 4,
 "nbformat_minor": 5
}
