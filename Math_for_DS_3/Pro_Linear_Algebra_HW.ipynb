{
 "cells": [
  {
   "cell_type": "markdown",
   "id": "biblical-luther",
   "metadata": {},
   "source": [
    "# Домашнее задание \"Продвинутая линейная алгебра\".\n",
    "## Уровень 0:\n",
    "Придумайте матрицы, которые обладают следующими свойствами:\n",
    "\n",
    "a) Диагональная, ортогональная, но не единичная(!)\n",
    "\n",
    "b) Верхнетреугольная, ортогональная\n",
    "\n",
    "c) Нижнетреугольная, ортогональная\n",
    "\n",
    "d) Матрица, у которой определитель = 1, и все элементы не равны 0  \n",
    "\n",
    "P.S. Во всех пунктах ответом должна быть ненулевая матрица размерности не менее 2!  \n",
    "\n",
    "Найдите собственные значения и собственные вектора матриц:  \n",
    "\n",
    "m = np.array([[2, 2],  \n",
    "              [1, 3]])  \n",
    "print(m)\n",
    "## Уровень 1:\n",
    "Найдите спектральное разложение матрицы:\n",
    "\n",
    "m = np.array([[1, 2],  \n",
    "              [2,3]])  \n",
    "print(m)  \n",
    "Постройте зависимость качества восстановления рукописных цифр (MNIST) в зависимости от различного количества компонент PCA. В качестве метрики различия предлагаю использовать MSE.*\n",
    "\n",
    "У PCA есть метод transform и inverse_transofrm. Первый - снижает размерность, второй - восстанавливает оригинальные данные с потерей информации. Надо посчитать насколько в среднем точно восстанавливается оригинальная картинка в зависимости от количества компонент в PCA.\n",
    "\n",
    "В качестве справки можно использовать:\n",
    "\n",
    "https://scikit-learn.org/stable/modules/generated/sklearn.decomposition.PCA.html - Документация по PCA\n",
    "\n",
    "https://scikit-learn.org/stable/modules/generated/sklearn.metrics.mean_squared_error.html - Документация по MSE\n",
    "\n",
    "Картинки цифр можно взять отсюда - https://scikit-learn.org/stable/modules/generated/sklearn.datasets.load_digits.html"
   ]
  },
  {
   "cell_type": "code",
   "execution_count": 1,
   "id": "eligible-jacksonville",
   "metadata": {},
   "outputs": [],
   "source": [
    "import numpy as np\n",
    "from numpy import linalg as LA"
   ]
  },
  {
   "cell_type": "markdown",
   "id": "general-hampshire",
   "metadata": {},
   "source": [
    "### Уровень 0"
   ]
  },
  {
   "cell_type": "code",
   "execution_count": 2,
   "id": "integral-congo",
   "metadata": {},
   "outputs": [
    {
     "name": "stdout",
     "output_type": "stream",
     "text": [
      "[[-1  0  0  0]\n",
      " [ 0 -1  0  0]\n",
      " [ 0  0 -1  0]\n",
      " [ 0  0  0 -1]]\n",
      "[[-1  0  0  0]\n",
      " [ 0 -1  0  0]\n",
      " [ 0  0 -1  0]\n",
      " [ 0  0  0 -1]]\n",
      "[[1 0 0 0]\n",
      " [0 1 0 0]\n",
      " [0 0 1 0]\n",
      " [0 0 0 1]]\n",
      "1.0\n"
     ]
    }
   ],
   "source": [
    "# Диагональная, ортогональная, но не единичная(!)\n",
    "MX = np.diag([-1, -1, -1, -1])\n",
    "MXT = MX.T\n",
    "print(MX)\n",
    "print(MXT)\n",
    "print(MX.dot(MXT))\n",
    "print(LA.det(MX))"
   ]
  },
  {
   "cell_type": "code",
   "execution_count": 3,
   "id": "necessary-approach",
   "metadata": {},
   "outputs": [
    {
     "name": "stdout",
     "output_type": "stream",
     "text": [
      "[[-1  0  0]\n",
      " [ 0 -1  0]\n",
      " [ 0  0 -1]]\n",
      "[[1 0 0]\n",
      " [0 1 0]\n",
      " [0 0 1]]\n"
     ]
    }
   ],
   "source": [
    "# Верхнетреугольная, ортогональная\n",
    "# Нижнетреугольная, ортогональная\n",
    "TR = [[-1,  0,  0],\n",
    "      [ 0, -1,  0],\n",
    "      [ 0,  0, -1]]\n",
    "TR = np.array(TR)\n",
    "print(TR)\n",
    "print(TR.dot(TR.T))"
   ]
  },
  {
   "cell_type": "code",
   "execution_count": 4,
   "id": "welsh-carolina",
   "metadata": {},
   "outputs": [
    {
     "name": "stdout",
     "output_type": "stream",
     "text": [
      "Матрица:\n",
      " [[1. 2. 1.]\n",
      " [1. 1. 4.]\n",
      " [2. 3. 4.]]\n",
      "Определитель:\n",
      " 1.0\n"
     ]
    }
   ],
   "source": [
    "# Матрица, у которой определитель = 1, и все элементы не равны 0\n",
    "\n",
    "M = np.array([[1, 2, 1], [1, 1, 4], [2, 3, 4]], dtype=np.float32)\n",
    "det = np.linalg.det(M)\n",
    "print(\"Матрица:\\n\", M)\n",
    "print(\"Определитель:\\n\", det)"
   ]
  },
  {
   "cell_type": "code",
   "execution_count": 5,
   "id": "statewide-labor",
   "metadata": {},
   "outputs": [
    {
     "name": "stdout",
     "output_type": "stream",
     "text": [
      "Матрица:\n",
      " [[2 2]\n",
      " [1 3]]\n",
      "Собственное значение 1.0\n",
      "соответствующий ему собственный вектор [-0.89442719  0.4472136 ]\n",
      "Собственное значение 4.0\n",
      "соответствующий ему собственный вектор [-0.70710678 -0.70710678]\n"
     ]
    }
   ],
   "source": [
    "# Найдите собственные значения и собственные вектора матриц:\n",
    "\n",
    "m = np.array([[2, 2],\n",
    "[1, 3]])\n",
    "print(\"Матрица:\\n\", m)\n",
    "\n",
    "w, v = np.linalg.eig(m)\n",
    "\n",
    "for i in range(len(w)):\n",
    "    print(\"Собственное значение \" + str(w[i]))\n",
    "    print(\"соответствующий ему собственный вектор \" + str(v[:,i]))"
   ]
  },
  {
   "cell_type": "markdown",
   "id": "illegal-halifax",
   "metadata": {},
   "source": [
    "### Уровень 1"
   ]
  },
  {
   "cell_type": "code",
   "execution_count": 6,
   "id": "rural-converter",
   "metadata": {},
   "outputs": [
    {
     "name": "stdout",
     "output_type": "stream",
     "text": [
      "Матрица:\n",
      " [[1 2]\n",
      " [2 3]]\n"
     ]
    }
   ],
   "source": [
    "# Найдите спектральное разложение матрицы:\n",
    "\n",
    "m = np.array([[1, 2],\n",
    "[2,3]])\n",
    "print(\"Матрица:\\n\", m)"
   ]
  },
  {
   "cell_type": "code",
   "execution_count": 7,
   "id": "moral-needle",
   "metadata": {},
   "outputs": [
    {
     "name": "stdout",
     "output_type": "stream",
     "text": [
      "Eigenvalues:\n",
      "[-0.23606798  4.23606798]\n",
      "\n",
      "Eigenvectors:\n",
      "[[-0.85065081 -0.52573111]\n",
      " [ 0.52573111 -0.85065081]]\n"
     ]
    }
   ],
   "source": [
    "a, U = LA.eig(m)\n",
    "print('Eigenvalues:')\n",
    "print(np.array(a, dtype=float))\n",
    "print('\\nEigenvectors:')\n",
    "print(U)"
   ]
  },
  {
   "cell_type": "code",
   "execution_count": 8,
   "id": "successful-acrobat",
   "metadata": {},
   "outputs": [
    {
     "name": "stdout",
     "output_type": "stream",
     "text": [
      "[[1. 2.]\n",
      " [2. 3.]]\n"
     ]
    }
   ],
   "source": [
    "print(np.array(U.dot(np.diag(a)).dot(U.T), dtype=float))"
   ]
  },
  {
   "cell_type": "code",
   "execution_count": 9,
   "id": "imposed-douglas",
   "metadata": {},
   "outputs": [],
   "source": [
    "# Постройте зависимость качества восстановления рукописных цифр (MNIST) в зависимости от различного количества компонент PCA. \n",
    "# В качестве метрики различия предлагаю использовать MSE.*"
   ]
  },
  {
   "cell_type": "code",
   "execution_count": 10,
   "id": "facial-trust",
   "metadata": {},
   "outputs": [
    {
     "name": "stdout",
     "output_type": "stream",
     "text": [
      "(1797, 64)\n"
     ]
    }
   ],
   "source": [
    "from sklearn.datasets import load_digits\n",
    "digits = load_digits()\n",
    "print(digits.data.shape)"
   ]
  },
  {
   "cell_type": "code",
   "execution_count": 11,
   "id": "canadian-calculation",
   "metadata": {},
   "outputs": [],
   "source": [
    "X, y = load_digits(return_X_y=True)"
   ]
  },
  {
   "cell_type": "code",
   "execution_count": 16,
   "id": "bright-amsterdam",
   "metadata": {},
   "outputs": [],
   "source": [
    "from sklearn.decomposition import PCA\n",
    "from sklearn.metrics import mean_squared_error\n",
    "import matplotlib.pyplot as plt"
   ]
  },
  {
   "cell_type": "code",
   "execution_count": 17,
   "id": "owned-session",
   "metadata": {},
   "outputs": [],
   "source": [
    "list_components = []\n",
    "list_MSE = []\n",
    "\n",
    "for i in range(1, 51, 2):\n",
    "    pca = PCA(n_components=i)\n",
    "    pca.fit(X)\n",
    "    New_X = pca.transform(X)\n",
    "    Original_X = pca.inverse_transform(New_X)\n",
    "    MSE = mean_squared_error(X, Original_X)\n",
    "    list_components.append(i)\n",
    "    list_MSE.append(MSE)\n",
    "    #print(f'Количество компонент: {i}')\n",
    "    #print(f'Значение показателя MSE: {MSE}')\n",
    "    #print('=====================================================================')"
   ]
  },
  {
   "cell_type": "code",
   "execution_count": 18,
   "id": "separated-massage",
   "metadata": {},
   "outputs": [
    {
     "data": {
      "image/png": "[encoded data removed]",
      "text/plain": [
       "<Figure size 432x432 with 1 Axes>"
      ]
     },
     "metadata": {
      "needs_background": "light"
     },
     "output_type": "display_data"
    }
   ],
   "source": [
    "fig = plt.figure(figsize=(6, 6))\n",
    "plt.subplot(1, 1, 1)\n",
    "plt.title('MSE vs. Count components')\n",
    "plt.plot(list_components, 'b-', label='Count components')\n",
    "plt.plot(list_MSE, 'r-', label='MSE')\n",
    "plt.legend(loc='upper left')\n",
    "plt.xlabel('MSE')\n",
    "plt.ylabel('Component')\n",
    "plt.grid(True)\n",
    "fig.tight_layout()\n",
    "plt.show()"
   ]
  },
  {
   "cell_type": "markdown",
   "id": "addressed-method",
   "metadata": {},
   "source": [
    "### Вывод:\n",
    "При увеличении числа компонент, MSE стремится к 0."
   ]
  },
  {
   "cell_type": "code",
   "execution_count": null,
   "id": "velvet-discrimination",
   "metadata": {},
   "outputs": [],
   "source": []
  }
 ],
 "metadata": {
  "kernelspec": {
   "display_name": "Python 3",
   "language": "python",
   "name": "python3"
  },
  "language_info": {
   "codemirror_mode": {
    "name": "ipython",
    "version": 3
   },
   "file_extension": ".py",
   "mimetype": "text/x-python",
   "name": "python",
   "nbconvert_exporter": "python",
   "pygments_lexer": "ipython3",
   "version": "3.8.5"
  }
 },
 "nbformat": 4,
 "nbformat_minor": 5
}
