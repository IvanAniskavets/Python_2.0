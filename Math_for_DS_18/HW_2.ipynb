{
 "cells": [
  {
   "cell_type": "code",
   "execution_count": 37,
   "id": "silver-house",
   "metadata": {},
   "outputs": [],
   "source": [
    "import numpy as np\n",
    "from sympy import *"
   ]
  },
  {
   "cell_type": "markdown",
   "id": "awful-practice",
   "metadata": {},
   "source": [
    "## Домашнее задание\n",
    "\n",
    "● Создайте случайную матрицу А1 размерностью 5 на 5  \n",
    "● Транспонируйте матрицу A1  \n",
    "● Найдите обратную матрицу для А1  \n",
    "● Создайте диагональную матрицу - поэлементно перемножив единичную  \n",
    "матрицу I и случайную матрицу A2 размерности 4 на 4  \n",
    "● Создайте нулевую матрицу размерности 3 на 3  \n",
    "● Для всех полученных матриц найдите: определитель, ранг и собственные значения  \n",
    "● Проанализируйте результаты  "
   ]
  },
  {
   "cell_type": "markdown",
   "id": "relevant-sentence",
   "metadata": {},
   "source": [
    "### Создайте случайную матрицу А1 размерностью 5 на 5"
   ]
  },
  {
   "cell_type": "code",
   "execution_count": 49,
   "id": "alert-stress",
   "metadata": {},
   "outputs": [
    {
     "name": "stderr",
     "output_type": "stream",
     "text": [
      "<ipython-input-49-0ffb114db94f>:1: DeprecationWarning: This function is deprecated. Please call randint(1, 20 + 1) instead\n",
      "  A1 = np.random.random_integers(1, 20, size = (5, 5))\n"
     ]
    },
    {
     "data": {
      "text/plain": [
       "array([[ 1, 12, 12,  9, 14],\n",
       "       [17, 17,  8, 10, 16],\n",
       "       [13, 13, 12,  3, 13],\n",
       "       [19, 10,  6,  5,  3],\n",
       "       [20, 15, 20, 13, 10]])"
      ]
     },
     "execution_count": 49,
     "metadata": {},
     "output_type": "execute_result"
    }
   ],
   "source": [
    "A1 = np.random.random_integers(1, 20, size = (5, 5))\n",
    "A1"
   ]
  },
  {
   "cell_type": "markdown",
   "id": "processed-tunnel",
   "metadata": {},
   "source": [
    "### Транспонируйте матрицу A1"
   ]
  },
  {
   "cell_type": "code",
   "execution_count": 50,
   "id": "familiar-addition",
   "metadata": {},
   "outputs": [
    {
     "data": {
      "text/plain": [
       "array([[ 1, 17, 13, 19, 20],\n",
       "       [12, 17, 13, 10, 15],\n",
       "       [12,  8, 12,  6, 20],\n",
       "       [ 9, 10,  3,  5, 13],\n",
       "       [14, 16, 13,  3, 10]])"
      ]
     },
     "execution_count": 50,
     "metadata": {},
     "output_type": "execute_result"
    }
   ],
   "source": [
    "A1 = A1.transpose()\n",
    "A1"
   ]
  },
  {
   "cell_type": "markdown",
   "id": "otherwise-defense",
   "metadata": {},
   "source": [
    "### Найдите обратную матрицу для А1"
   ]
  },
  {
   "cell_type": "code",
   "execution_count": 51,
   "id": "lasting-malta",
   "metadata": {},
   "outputs": [
    {
     "data": {
      "text/plain": [
       "array([[-0.14305293,  0.34400317,  0.00229945, -0.02939027, -0.19629043],\n",
       "       [ 0.08207955, -0.21377231, -0.07508985,  0.09883048,  0.17819943],\n",
       "       [ 0.02278126, -0.02667966,  0.05466894, -0.13583481,  0.06170433],\n",
       "       [-0.10269842,  0.4411281 , -0.02719742, -0.08284096, -0.29420722],\n",
       "       [ 0.07014071, -0.23722361,  0.05401413,  0.08445514,  0.09773406]])"
      ]
     },
     "execution_count": 51,
     "metadata": {},
     "output_type": "execute_result"
    }
   ],
   "source": [
    "A_inv = np.linalg.inv(A1)\n",
    "A_inv"
   ]
  },
  {
   "cell_type": "markdown",
   "id": "median-sender",
   "metadata": {},
   "source": [
    "### Создайте диагональную матрицу - поэлементно перемножив единичную матрицу I и случайную матрицу A2 размерности 4 на 4"
   ]
  },
  {
   "cell_type": "code",
   "execution_count": 56,
   "id": "twenty-transsexual",
   "metadata": {},
   "outputs": [
    {
     "data": {
      "text/plain": [
       "array([[1., 0., 0., 0.],\n",
       "       [0., 1., 0., 0.],\n",
       "       [0., 0., 1., 0.],\n",
       "       [0., 0., 0., 1.]])"
      ]
     },
     "execution_count": 56,
     "metadata": {},
     "output_type": "execute_result"
    }
   ],
   "source": [
    "I = np.eye(4)\n",
    "I"
   ]
  },
  {
   "cell_type": "code",
   "execution_count": 57,
   "id": "latin-compact",
   "metadata": {},
   "outputs": [
    {
     "data": {
      "text/plain": [
       "array([[0.67895873, 0.01165327, 0.40013449, 0.69217584],\n",
       "       [0.14520786, 0.01379263, 0.04090718, 0.30451367],\n",
       "       [0.04500292, 0.52925396, 0.01123009, 0.82236048],\n",
       "       [0.8600829 , 0.34521738, 0.4172863 , 0.66572719]])"
      ]
     },
     "execution_count": 57,
     "metadata": {},
     "output_type": "execute_result"
    }
   ],
   "source": [
    "A2 = np.random.random((4, 4))\n",
    "A2"
   ]
  },
  {
   "cell_type": "code",
   "execution_count": 59,
   "id": "olympic-shape",
   "metadata": {},
   "outputs": [
    {
     "data": {
      "text/plain": [
       "array([[0.67895873, 0.        , 0.        , 0.        ],\n",
       "       [0.        , 0.01379263, 0.        , 0.        ],\n",
       "       [0.        , 0.        , 0.01123009, 0.        ],\n",
       "       [0.        , 0.        , 0.        , 0.66572719]])"
      ]
     },
     "execution_count": 59,
     "metadata": {},
     "output_type": "execute_result"
    }
   ],
   "source": [
    "Diag_matrix = I * A2\n",
    "Diag_matrix"
   ]
  },
  {
   "cell_type": "markdown",
   "id": "legitimate-windsor",
   "metadata": {},
   "source": [
    "### Создайте нулевую матрицу размерности 3 на 3"
   ]
  },
  {
   "cell_type": "code",
   "execution_count": 55,
   "id": "female-slovak",
   "metadata": {},
   "outputs": [
    {
     "data": {
      "text/plain": [
       "array([[0., 0., 0.],\n",
       "       [0., 0., 0.],\n",
       "       [0., 0., 0.]])"
      ]
     },
     "execution_count": 55,
     "metadata": {},
     "output_type": "execute_result"
    }
   ],
   "source": [
    "Zeros_matrix = np.zeros((3, 3))\n",
    "Zeros_matrix"
   ]
  },
  {
   "cell_type": "markdown",
   "id": "normal-winter",
   "metadata": {},
   "source": [
    "### Для всех полученных матриц найдите: определитель, ранг и собственные значения"
   ]
  },
  {
   "cell_type": "code",
   "execution_count": 71,
   "id": "unique-precipitation",
   "metadata": {},
   "outputs": [],
   "source": [
    "dict_matrix = {'A1': A1, \n",
    "               'A_inv': A_inv,\n",
    "               'I': I,\n",
    "               'A2': A2,\n",
    "               'Diag_matrix': Diag_matrix,\n",
    "               'Zeros_matrix': Zeros_matrix}"
   ]
  },
  {
   "cell_type": "code",
   "execution_count": 72,
   "id": "casual-greenhouse",
   "metadata": {},
   "outputs": [
    {
     "name": "stdout",
     "output_type": "stream",
     "text": [
      "Определитель матрицы A1: -65668.0\n",
      "=================================================================\n",
      "Определитель матрицы A_inv: -0.0\n",
      "=================================================================\n",
      "Определитель матрицы I: 1.0\n",
      "=================================================================\n",
      "Определитель матрицы A2: -0.02\n",
      "=================================================================\n",
      "Определитель матрицы Diag_matrix: 0.0\n",
      "=================================================================\n",
      "Определитель матрицы Zeros_matrix: 0.0\n",
      "=================================================================\n"
     ]
    }
   ],
   "source": [
    "for key, value in dict_matrix.items():\n",
    "    print(f'Определитель матрицы {key}: {round(np.linalg.det(value), 2)}')\n",
    "    print('=================================================================')"
   ]
  },
  {
   "cell_type": "code",
   "execution_count": 73,
   "id": "transparent-office",
   "metadata": {},
   "outputs": [
    {
     "name": "stdout",
     "output_type": "stream",
     "text": [
      "Ранг матрицы A1: 5\n",
      "=================================================================\n",
      "Ранг матрицы A_inv: 5\n",
      "=================================================================\n",
      "Ранг матрицы I: 4\n",
      "=================================================================\n",
      "Ранг матрицы A2: 4\n",
      "=================================================================\n",
      "Ранг матрицы Diag_matrix: 4\n",
      "=================================================================\n",
      "Ранг матрицы Zeros_matrix: 0\n",
      "=================================================================\n"
     ]
    }
   ],
   "source": [
    "for key, value in dict_matrix.items():\n",
    "    print(f'Ранг матрицы {key}: {round(np.linalg.matrix_rank(value), 2)}')\n",
    "    print('=================================================================')"
   ]
  },
  {
   "cell_type": "code",
   "execution_count": 74,
   "id": "unauthorized-polyester",
   "metadata": {},
   "outputs": [
    {
     "name": "stdout",
     "output_type": "stream",
     "text": [
      "Собственное значение матрицы A1: [ 59.16899225 -12.6598912   -3.41086887  -3.41086887   5.31263668]\n",
      "=================================================================\n",
      "Собственное значение матрицы A_inv: [-0.20670239 -0.20670239  0.18823045 -0.07898962  0.01690074]\n",
      "=================================================================\n",
      "Собственное значение матрицы I: [1. 1. 1. 1.]\n",
      "=================================================================\n",
      "Собственное значение матрицы A2: [ 1.74464355 -0.28839339 -0.04327076 -0.04327076]\n",
      "=================================================================\n",
      "Собственное значение матрицы Diag_matrix: [0.67895873 0.01379263 0.01123009 0.66572719]\n",
      "=================================================================\n",
      "Собственное значение матрицы Zeros_matrix: [0. 0. 0.]\n",
      "=================================================================\n"
     ]
    },
    {
     "name": "stderr",
     "output_type": "stream",
     "text": [
      "<ipython-input-74-6693f7c3c57b>:3: ComplexWarning: Casting complex values to real discards the imaginary part\n",
      "  print(f'Собственное значение матрицы {key}: {np.array(w, dtype=float)}')\n"
     ]
    }
   ],
   "source": [
    "for key, value in dict_matrix.items():\n",
    "    w, v = np.linalg.eig(value)\n",
    "    print(f'Собственное значение матрицы {key}: {np.array(w, dtype=float)}')\n",
    "    print('=================================================================')"
   ]
  },
  {
   "cell_type": "code",
   "execution_count": null,
   "id": "motivated-training",
   "metadata": {},
   "outputs": [],
   "source": []
  }
 ],
 "metadata": {
  "kernelspec": {
   "display_name": "Python 3",
   "language": "python",
   "name": "python3"
  },
  "language_info": {
   "codemirror_mode": {
    "name": "ipython",
    "version": 3
   },
   "file_extension": ".py",
   "mimetype": "text/x-python",
   "name": "python",
   "nbconvert_exporter": "python",
   "pygments_lexer": "ipython3",
   "version": "3.8.5"
  }
 },
 "nbformat": 4,
 "nbformat_minor": 5
}
