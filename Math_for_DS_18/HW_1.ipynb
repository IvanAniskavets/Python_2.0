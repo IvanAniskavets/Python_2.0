{
 "cells": [
  {
   "cell_type": "code",
   "execution_count": 4,
   "id": "stupid-range",
   "metadata": {},
   "outputs": [],
   "source": [
    "import numpy as np\n",
    "import math\n",
    "from sympy import *\n",
    "from scipy.misc import derivative\n",
    "import matplotlib.pyplot as plt"
   ]
  },
  {
   "cell_type": "markdown",
   "id": "adaptive-testimony",
   "metadata": {},
   "source": [
    "# Домашнее задание \"Линейная алгебра. Векторы\".\n"
   ]
  },
  {
   "cell_type": "markdown",
   "id": "threatened-district",
   "metadata": {},
   "source": [
    "## Задание 1\n",
    "\n",
    "Даны вектора x = (1,1), y = (2, 0) и z = (0,2)\n",
    "\n",
    "Надо:\n",
    "\n",
    "* Изобразить вектора на экране\n",
    "* Изобразить точку x + y + z\n",
    "* Найти угол между векторами x и y"
   ]
  },
  {
   "cell_type": "code",
   "execution_count": 5,
   "id": "reduced-operations",
   "metadata": {},
   "outputs": [],
   "source": [
    "x = np.array([1., 1.])\n",
    "y = np.array([2., 0.])\n",
    "z = np.array([0., 2.])"
   ]
  },
  {
   "cell_type": "code",
   "execution_count": 19,
   "id": "desperate-pendant",
   "metadata": {},
   "outputs": [
    {
     "data": {
      "image/png": "[encoded data removed]",
      "text/plain": [
       "<Figure size 432x288 with 1 Axes>"
      ]
     },
     "metadata": {
      "needs_background": "light"
     },
     "output_type": "display_data"
    }
   ],
   "source": [
    "# изображаем вектора\n",
    "\n",
    "plt.figure()\n",
    "plt.plot((0, 1), (0, 1), 'y', marker='o')    \n",
    "plt.plot((0, 2), (0, 0), 'r', marker='o')   \n",
    "plt.plot((0, 0), (0, 2), 'g', marker='o')    \n",
    "plt.grid(True)"
   ]
  },
  {
   "cell_type": "code",
   "execution_count": 25,
   "id": "heavy-stretch",
   "metadata": {},
   "outputs": [
    {
     "data": {
      "image/png": "[encoded data removed]",
      "text/plain": [
       "<Figure size 432x288 with 1 Axes>"
      ]
     },
     "metadata": {
      "needs_background": "light"
     },
     "output_type": "display_data"
    }
   ],
   "source": [
    "# изображаем вектор равный сумме векторов x, y, z\n",
    "\n",
    "sum_vec = x + y + z\n",
    "sum_vec\n",
    "\n",
    "plt.figure()\n",
    "plt.plot((0, sum_vec[0]), (0, sum_vec[1]), 'r')\n",
    "plt.grid(True)\n"
   ]
  },
  {
   "cell_type": "code",
   "execution_count": 11,
   "id": "physical-protein",
   "metadata": {},
   "outputs": [
    {
     "name": "stdout",
     "output_type": "stream",
     "text": [
      "Угол между векторами равен 0.78 rad = 45.0°\n"
     ]
    }
   ],
   "source": [
    "# косинус угла между векторами x и y\n",
    "xLength = np.linalg.norm(x)\n",
    "yLength = np.linalg.norm(y)\n",
    "cosine_1 = round(np.dot(x, y) / (xLength * yLength), 2)\n",
    "cosine_1\n",
    "\n",
    "# Расчёт угла\n",
    "degree_xy = round(math.degrees(math.acos(cosine_1)), 2)\n",
    "\n",
    "print(f'Угол между векторами равен {round(math.acos(cosine_1), 2)} rad = {round(degree_xy, 0)}\\u00B0')"
   ]
  },
  {
   "cell_type": "code",
   "execution_count": 12,
   "id": "seeing-discretion",
   "metadata": {},
   "outputs": [],
   "source": [
    "# угл в радианах между векторами x и y\n",
    "\n",
    "# angle = round(np.arccos(np.clip(cosine_1, -1., 1.)), 2)\n",
    "# angle"
   ]
  },
  {
   "cell_type": "code",
   "execution_count": 13,
   "id": "dramatic-negative",
   "metadata": {},
   "outputs": [],
   "source": [
    "# косинус угла между векторами x и y\n",
    "\n",
    "# cosine_2 = round(np.dot(x,y)/np.linalg.norm(x)/np.linalg.norm(y), 2) \n",
    "# cosine_2"
   ]
  },
  {
   "cell_type": "code",
   "execution_count": 14,
   "id": "approximate-victim",
   "metadata": {},
   "outputs": [],
   "source": [
    "# угл в радианах между векторами x и y\n",
    "\n",
    "# angle = round(np.arccos(np.clip(cosine_2, -1., 1.)), 2)\n",
    "# angle"
   ]
  },
  {
   "cell_type": "markdown",
   "id": "through-checkout",
   "metadata": {},
   "source": [
    "## Задание 2\n",
    "\n",
    "● Создайте матрицу 3 на 3, заполненную числами от 1 до 9  \n",
    "● Прибавьте к ней матрицу с единицами на диагонали  \n",
    "● Умножьте полученную матрицу на вектор (1, 2, 3)  "
   ]
  },
  {
   "cell_type": "code",
   "execution_count": 12,
   "id": "professional-parish",
   "metadata": {},
   "outputs": [
    {
     "data": {
      "text/plain": [
       "array([[1, 2, 3],\n",
       "       [4, 5, 6],\n",
       "       [7, 8, 9]])"
      ]
     },
     "execution_count": 12,
     "metadata": {},
     "output_type": "execute_result"
    }
   ],
   "source": [
    "A = np.arange(1, 10).reshape(3,3)\n",
    "\n",
    "A"
   ]
  },
  {
   "cell_type": "code",
   "execution_count": 13,
   "id": "valued-wrapping",
   "metadata": {},
   "outputs": [
    {
     "data": {
      "text/plain": [
       "array([[1., 0., 0.],\n",
       "       [0., 1., 0.],\n",
       "       [0., 0., 1.]])"
      ]
     },
     "execution_count": 13,
     "metadata": {},
     "output_type": "execute_result"
    }
   ],
   "source": [
    "B = np.eye(3)\n",
    "B"
   ]
  },
  {
   "cell_type": "code",
   "execution_count": 16,
   "id": "preliminary-argument",
   "metadata": {},
   "outputs": [
    {
     "data": {
      "text/plain": [
       "array([[ 2.,  2.,  3.],\n",
       "       [ 4.,  6.,  6.],\n",
       "       [ 7.,  8., 10.]])"
      ]
     },
     "execution_count": 16,
     "metadata": {},
     "output_type": "execute_result"
    }
   ],
   "source": [
    "C = A + B\n",
    "C"
   ]
  },
  {
   "cell_type": "code",
   "execution_count": 17,
   "id": "precise-grill",
   "metadata": {},
   "outputs": [],
   "source": [
    "Vec = np.array([1, 2, 3])"
   ]
  },
  {
   "cell_type": "code",
   "execution_count": 18,
   "id": "nominated-adrian",
   "metadata": {},
   "outputs": [
    {
     "data": {
      "text/plain": [
       "array([15., 34., 53.])"
      ]
     },
     "execution_count": 18,
     "metadata": {},
     "output_type": "execute_result"
    }
   ],
   "source": [
    "D = C @ Vec\n",
    "D"
   ]
  },
  {
   "cell_type": "markdown",
   "id": "fossil-broadway",
   "metadata": {},
   "source": [
    "## Задание 3\n",
    "\n",
    "f(x) = 3x(x^2 + x)^3   \n",
    "Посчитайте значение первой и второй производной функции  \n",
    "В точке x = 1  "
   ]
  },
  {
   "cell_type": "code",
   "execution_count": 2,
   "id": "meaningful-duplicate",
   "metadata": {},
   "outputs": [
    {
     "name": "stdout",
     "output_type": "stream",
     "text": [
      "Первая производная : 3*x*(6*x + 3)*(x**2 + x)**2 + 3*(x**2 + x)**3\n",
      "Вторая производная : 3*x*(4*x + 2)*(6*x + 3)*(x**2 + x) + 18*x*(x**2 + x)**2 + 6*(6*x + 3)*(x**2 + x)**2\n"
     ]
    }
   ],
   "source": [
    "x, y = symbols('x y')\n",
    "function = 3*x*(x**2 + x)**3\n",
    "dif_1 = diff(function, x)\n",
    "dif_2 = diff(diff(function, x))\n",
    "print(\"Первая производная : {}\".format(dif_1))\n",
    "print(\"Вторая производная : {}\".format(dif_2))"
   ]
  },
  {
   "cell_type": "code",
   "execution_count": 3,
   "id": "outer-transsexual",
   "metadata": {},
   "outputs": [
    {
     "name": "stdout",
     "output_type": "stream",
     "text": [
      "Значение первой производная : 132.000000000000\n",
      "Значение второй производная : 612.000000000000\n"
     ]
    }
   ],
   "source": [
    "x = symbols('x')\n",
    "dif_1 = diff(function, x).evalf(subs={'x':1})\n",
    "dif_2 = diff(diff(function, x)).evalf(subs={'x':1})\n",
    "print(\"Значение первой производная : {}\".format(dif_1))\n",
    "print(\"Значение второй производная : {}\".format(dif_2))"
   ]
  },
  {
   "cell_type": "code",
   "execution_count": null,
   "id": "compound-playing",
   "metadata": {},
   "outputs": [],
   "source": []
  }
 ],
 "metadata": {
  "kernelspec": {
   "display_name": "Python 3",
   "language": "python",
   "name": "python3"
  },
  "language_info": {
   "codemirror_mode": {
    "name": "ipython",
    "version": 3
   },
   "file_extension": ".py",
   "mimetype": "text/x-python",
   "name": "python",
   "nbconvert_exporter": "python",
   "pygments_lexer": "ipython3",
   "version": "3.8.5"
  }
 },
 "nbformat": 4,
 "nbformat_minor": 5
}
