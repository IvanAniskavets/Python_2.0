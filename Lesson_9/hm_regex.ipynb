{
 "cells": [
  {
   "cell_type": "code",
   "execution_count": 1,
   "id": "physical-hamilton",
   "metadata": {},
   "outputs": [],
   "source": [
    "import re"
   ]
  },
  {
   "cell_type": "markdown",
   "id": "competent-vocabulary",
   "metadata": {},
   "source": [
    "# Задание 1\n",
    "Напишите функцию, которая принимает на вход строку и проверяет является ли она валидным транспортным номером (1 буква, 3 цифры, 2 буквы, 2-3 цифры). Обратите внимание, что не все буквы кириллического алфавита используются в транспортных номерах.\n",
    "\n",
    "Если номер валиден, то функция должна возвращать отдельно номер и регион."
   ]
  },
  {
   "cell_type": "code",
   "execution_count": 2,
   "id": "unusual-parallel",
   "metadata": {},
   "outputs": [
    {
     "name": "stdout",
     "output_type": "stream",
     "text": [
      "Результат: Номер валиден М259РВ. Регион: 178\n"
     ]
    }
   ],
   "source": [
    "car_id = 'М259РВ178'\n",
    "\n",
    "def car_num_valid(car_id):\n",
    "    car_pattern = r'[АВЕКМНОРСТУХ]{1}[0-9]{3}[АВЕКМНОРСТУХ]{2}[0-9]{2,3}'\n",
    "    if re.fullmatch(car_pattern, car_id):\n",
    "        if len(car_id) == 8:\n",
    "            print(f'Результат: Номер валиден {car_id[0:6]}. Регион: {car_id[-2:]}')\n",
    "        elif len(car_id) == 9:\n",
    "            print(f'Результат: Номер валиден {car_id[0:6]}. Регион: {car_id[-3:]}')\n",
    "    else:\n",
    "        print('Результат: Номер не валиден')\n",
    "        \n",
    "car_num_valid(car_id)"
   ]
  },
  {
   "cell_type": "code",
   "execution_count": 5,
   "id": "funky-closure",
   "metadata": {},
   "outputs": [
    {
     "name": "stdout",
     "output_type": "stream",
     "text": [
      "Результат: Номер валиден АВ223В. Регион: 193\n"
     ]
    }
   ],
   "source": [
    "car_id = 'АВ223В193'\n",
    "\n",
    "def car_num_valid(car_id):\n",
    "    car_pattern = r'[АВЕКМНОРСТУХ]{2}\\d{3}[АВЕКМНОРСТУХ]{1}\\d{2,3}'\n",
    "    if re.fullmatch(car_pattern, car_id):\n",
    "        if len(car_id) == 8:\n",
    "            print(f'Результат: Номер валиден {car_id[0:6]}. Регион: {car_id[-2:]}')\n",
    "        elif len(car_id) == 9:\n",
    "            print(f'Результат: Номер валиден {car_id[0:6]}. Регион: {car_id[-3:]}')\n",
    "    else:\n",
    "        print('Результат: Номер не валиден')\n",
    "        \n",
    "car_num_valid(car_id)"
   ]
  },
  {
   "cell_type": "markdown",
   "id": "recorded-morgan",
   "metadata": {},
   "source": [
    "# Задание 2\n",
    "\n",
    "Напишите функцию, которая будет удалять все последовательные повторы слов из заданной строки при помощи регулярных выражений."
   ]
  },
  {
   "cell_type": "code",
   "execution_count": 17,
   "id": "entitled-section",
   "metadata": {},
   "outputs": [],
   "source": [
    "some_string = 'Напишите функцию функцию, которая будет будет будет будет удалять все все все все последовательные повторы слов из из из из заданной строки строки при помощи регулярных выражений'"
   ]
  },
  {
   "cell_type": "code",
   "execution_count": 18,
   "id": "resistant-routine",
   "metadata": {},
   "outputs": [],
   "source": [
    "def remove_repeat_1(some_string):\n",
    "    return re.sub(r'(\\w+)(\\s+\\1)+', r'\\1', some_string)"
   ]
  },
  {
   "cell_type": "code",
   "execution_count": 19,
   "id": "ranking-devices",
   "metadata": {},
   "outputs": [
    {
     "data": {
      "text/plain": [
       "'Напишите функцию, которая будет удалять все последовательные повторы слов из заданной строки при помощи регулярных выражений'"
      ]
     },
     "execution_count": 19,
     "metadata": {},
     "output_type": "execute_result"
    }
   ],
   "source": [
    "remove_repeat_1(some_string)"
   ]
  },
  {
   "cell_type": "code",
   "execution_count": 20,
   "id": "emotional-niger",
   "metadata": {},
   "outputs": [],
   "source": [
    "def remove_repeat_2(some_string):\n",
    "    return re.sub(r'\\b([^\\W\\d]+)(\\s+\\1)+\\b', r'\\1', some_string)"
   ]
  },
  {
   "cell_type": "code",
   "execution_count": 21,
   "id": "specialized-stretch",
   "metadata": {},
   "outputs": [
    {
     "data": {
      "text/plain": [
       "'Напишите функцию, которая будет удалять все последовательные повторы слов из заданной строки при помощи регулярных выражений'"
      ]
     },
     "execution_count": 21,
     "metadata": {},
     "output_type": "execute_result"
    }
   ],
   "source": [
    "remove_repeat_2(some_string)"
   ]
  },
  {
   "cell_type": "markdown",
   "id": "standard-instrumentation",
   "metadata": {},
   "source": [
    "# Задание 3\n",
    "Напишите функцию, которая будет возвращать акроним по переданной в нее строке со словами."
   ]
  },
  {
   "cell_type": "code",
   "execution_count": 22,
   "id": "black-activity",
   "metadata": {},
   "outputs": [],
   "source": [
    "some_words = 'Информационные технологии'"
   ]
  },
  {
   "cell_type": "code",
   "execution_count": 23,
   "id": "recovered-beast",
   "metadata": {},
   "outputs": [],
   "source": [
    "def get_acronym(some_words):\n",
    "    return re.sub(r'(\\w)\\w+(\\s|$)', r'\\1', some_words).upper()"
   ]
  },
  {
   "cell_type": "code",
   "execution_count": 24,
   "id": "hearing-amateur",
   "metadata": {},
   "outputs": [
    {
     "data": {
      "text/plain": [
       "'ИТ'"
      ]
     },
     "execution_count": 24,
     "metadata": {},
     "output_type": "execute_result"
    }
   ],
   "source": [
    "get_acronym(some_words)"
   ]
  },
  {
   "cell_type": "markdown",
   "id": "novel-earthquake",
   "metadata": {},
   "source": [
    "# Задание 4\n",
    "\n",
    "Напишите функцию, которая будет принимать на вход список email-адресов и выводить их распределение по доменным зонам."
   ]
  },
  {
   "cell_type": "code",
   "execution_count": 42,
   "id": "portable-defensive",
   "metadata": {},
   "outputs": [],
   "source": [
    "emails = ['test@gmail.com, xyz@test.in, test@ya.ru, xyz@mail.ru, xyz@ya.ru, xyz@gmail.com']"
   ]
  },
  {
   "cell_type": "code",
   "execution_count": 26,
   "id": "powered-patrick",
   "metadata": {},
   "outputs": [],
   "source": [
    "def count_domain_1(emails):\n",
    "    res = {}\n",
    "    for email in emails:\n",
    "        domain = re.findall(r'\\@\\w+.\\w+', email)\n",
    "        for el in domain:\n",
    "            res[el] = domain.count(el)\n",
    "        for i in res.items():\n",
    "            print(i[0], ':', i[1])"
   ]
  },
  {
   "cell_type": "code",
   "execution_count": 27,
   "id": "finnish-bennett",
   "metadata": {},
   "outputs": [
    {
     "name": "stdout",
     "output_type": "stream",
     "text": [
      "@gmail.com : 2\n",
      "@test.in : 1\n",
      "@ya.ru : 2\n",
      "@mail.ru : 1\n"
     ]
    }
   ],
   "source": [
    "count_domain_1(emails)"
   ]
  },
  {
   "cell_type": "code",
   "execution_count": 56,
   "id": "described-simpson",
   "metadata": {},
   "outputs": [],
   "source": [
    "def count_domain_2(emails):\n",
    "    result = r'(\\w*\\d*)@(\\w*\\.\\w*)'\n",
    "    domens = [re.search(result, email).group(2) for email in [email.split() for email in emails][0]]\n",
    "    for domen in set(domens):\n",
    "        print(f\"{domen}: {domens.count(domen)}\")"
   ]
  },
  {
   "cell_type": "code",
   "execution_count": 57,
   "id": "biological-mills",
   "metadata": {},
   "outputs": [
    {
     "name": "stdout",
     "output_type": "stream",
     "text": [
      "ya.ru: 2\n",
      "mail.ru: 1\n",
      "gmail.com: 2\n",
      "test.in: 1\n"
     ]
    }
   ],
   "source": [
    "count_domain_2(emails)"
   ]
  },
  {
   "cell_type": "markdown",
   "id": "burning-fever",
   "metadata": {},
   "source": [
    "# Задание 5\n",
    "Напишите функцию, которая будет подсчитывать сколько слов начинается на гласные, а сколько на согласные буквы в тексте (текст может быть написан как с использованием букв кириллицы, так и латиницы)"
   ]
  },
  {
   "cell_type": "code",
   "execution_count": 58,
   "id": "qualified-begin",
   "metadata": {},
   "outputs": [],
   "source": [
    "some_text_1 = \"\"\"Эталонной реализацией Python является интерпретатор CPython, \n",
    "поддерживающий большинство активно используемых платформ. \n",
    "Он распространяется под свободной лицензией Python Software Foundation License, \n",
    "позволяющей использовать его без ограничений в любых приложениях, включая проприетарные.\"\"\"\n",
    "\n",
    "some_text_2 = \"\"\"The American wife stood at the window looking out. \n",
    "Outside right under their window a cat was crouched under one of the dripping green tables. \n",
    "The cat was trying to make herself so compact that she would not be dripped on.\"\"\""
   ]
  },
  {
   "cell_type": "code",
   "execution_count": 59,
   "id": "worst-auditor",
   "metadata": {},
   "outputs": [],
   "source": [
    "def count_word(some_text):\n",
    "    list_vowels = re.findall(r'\\b[ауоыиэяюёеАУОЫИЭЯЮЁЕ|aeiouAEIOU]\\S+\\b', some_text)\n",
    "    list_consonants = re.findall(r'\\b[бвгджзйклмнпрстфхцчшщБВГДЖЗЙКЛМНПРСТФХЦ|bcdfghjklmnpqrstvwxyzBCDFGHJKLMNPQRSTVWXYZ]\\S+\\b', some_text)\n",
    "    print('Слов на гласные буквы:', len(list_vowels))\n",
    "    print('Слов на согласные буквы:', len(list_consonants))"
   ]
  },
  {
   "cell_type": "code",
   "execution_count": 60,
   "id": "overall-shipping",
   "metadata": {},
   "outputs": [
    {
     "name": "stdout",
     "output_type": "stream",
     "text": [
      "Слов на гласные буквы: 9\n",
      "Слов на согласные буквы: 20\n"
     ]
    }
   ],
   "source": [
    "count_word(some_text_1)"
   ]
  },
  {
   "cell_type": "code",
   "execution_count": 61,
   "id": "indonesian-banks",
   "metadata": {},
   "outputs": [
    {
     "name": "stdout",
     "output_type": "stream",
     "text": [
      "Слов на гласные буквы: 9\n",
      "Слов на согласные буквы: 31\n"
     ]
    }
   ],
   "source": [
    "count_word(some_text_2)"
   ]
  },
  {
   "cell_type": "markdown",
   "id": "postal-commercial",
   "metadata": {},
   "source": [
    "# Задание 6\n",
    "Напишите функцию, которая будет проверять номер сотового телефона на валидность, если он валиден, то переводить его в формат:\n",
    "+7-xxx-xxx-xx-xx\n",
    "Постарайтесь предусмотреть как можно больше адекватных форматов изначального ввода номера."
   ]
  },
  {
   "cell_type": "code",
   "execution_count": 62,
   "id": "drawn-promise",
   "metadata": {},
   "outputs": [],
   "source": [
    "my_number_phone = '8(950)555-55-55'"
   ]
  },
  {
   "cell_type": "code",
   "execution_count": 63,
   "id": "perfect-jerusalem",
   "metadata": {},
   "outputs": [],
   "source": [
    "my_pattern = re.findall(r'^\\+?[78][-\\(]?\\s?[9]\\d{2}\\)?-?\\s?\\d{3}-?\\s?\\d{2}-?\\s?\\d{2}$', my_number_phone)"
   ]
  },
  {
   "cell_type": "code",
   "execution_count": 64,
   "id": "musical-communication",
   "metadata": {},
   "outputs": [],
   "source": [
    "def valid_number_phone(phone):\n",
    "    pattern = r'^\\+?[78][-\\(]?\\s?[9]\\d{2}\\)?-?\\s?\\d{3}-?\\s?\\d{2}-?\\s?\\d{2}$'\n",
    "    if re.findall(pattern, phone):\n",
    "        number_phone = re.findall(pattern, phone)\n",
    "        res = []\n",
    "        for el_1 in number_phone:\n",
    "            for el_2 in el_1:\n",
    "                try:\n",
    "                    el_2 == int(el_2)\n",
    "                    res.append(el_2)\n",
    "                except ValueError:\n",
    "                    pass\n",
    "        my_str = ''.join(res)    \n",
    "        print (f'Результат: +7-{my_str[1:4]}-{my_str[4:7]}-{my_str[7:9]}-{my_str[-2:]}')\n",
    "    else:\n",
    "        print('Номер не валиден')"
   ]
  },
  {
   "cell_type": "code",
   "execution_count": 65,
   "id": "environmental-canberra",
   "metadata": {},
   "outputs": [
    {
     "name": "stdout",
     "output_type": "stream",
     "text": [
      "Номер не валиден\n"
     ]
    }
   ],
   "source": [
    "valid_number_phone('423-555-55-5555')"
   ]
  },
  {
   "cell_type": "code",
   "execution_count": 66,
   "id": "regulation-technician",
   "metadata": {},
   "outputs": [
    {
     "name": "stdout",
     "output_type": "stream",
     "text": [
      "Результат: +7-950-555-55-55\n"
     ]
    }
   ],
   "source": [
    "valid_number_phone('8(950)555-55-55')"
   ]
  },
  {
   "cell_type": "code",
   "execution_count": 67,
   "id": "opposite-stocks",
   "metadata": {},
   "outputs": [
    {
     "name": "stdout",
     "output_type": "stream",
     "text": [
      "Результат: +7-950-555-55-55\n"
     ]
    }
   ],
   "source": [
    "valid_number_phone('+7 950 555-55-55')"
   ]
  },
  {
   "cell_type": "code",
   "execution_count": 68,
   "id": "bulgarian-logan",
   "metadata": {},
   "outputs": [
    {
     "name": "stdout",
     "output_type": "stream",
     "text": [
      "Результат: +7-955-555-55-55\n"
     ]
    }
   ],
   "source": [
    "valid_number_phone('+7 955 555 55 55')"
   ]
  },
  {
   "cell_type": "code",
   "execution_count": 69,
   "id": "fitting-consent",
   "metadata": {},
   "outputs": [
    {
     "name": "stdout",
     "output_type": "stream",
     "text": [
      "Результат: +7-950-555-55-55\n"
     ]
    }
   ],
   "source": [
    "valid_number_phone('7(950) 555-55-55')"
   ]
  },
  {
   "cell_type": "code",
   "execution_count": 70,
   "id": "dental-dimension",
   "metadata": {},
   "outputs": [
    {
     "name": "stdout",
     "output_type": "stream",
     "text": [
      "Номер не валиден\n"
     ]
    }
   ],
   "source": [
    "valid_number_phone('123-456-789')"
   ]
  },
  {
   "cell_type": "code",
   "execution_count": 71,
   "id": "ideal-window",
   "metadata": {},
   "outputs": [
    {
     "name": "stdout",
     "output_type": "stream",
     "text": [
      "Результат: +7-981-910-54-64\n"
     ]
    }
   ],
   "source": [
    "valid_number_phone('7981-910-5464')"
   ]
  }
 ],
 "metadata": {
  "kernelspec": {
   "display_name": "Python 3",
   "language": "python",
   "name": "python3"
  },
  "language_info": {
   "codemirror_mode": {
    "name": "ipython",
    "version": 3
   },
   "file_extension": ".py",
   "mimetype": "text/x-python",
   "name": "python",
   "nbconvert_exporter": "python",
   "pygments_lexer": "ipython3",
   "version": "3.8.5"
  }
 },
 "nbformat": 4,
 "nbformat_minor": 5
}
