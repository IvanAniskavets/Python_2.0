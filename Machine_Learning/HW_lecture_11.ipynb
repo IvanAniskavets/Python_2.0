{
 "cells": [
  {
   "cell_type": "code",
   "execution_count": 20,
   "id": "verbal-freight",
   "metadata": {},
   "outputs": [],
   "source": [
    "import pandas as pd\n",
    "import numpy as np\n",
    "from matplotlib import pyplot as plt\n",
    "from sklearn.model_selection import train_test_split\n",
    "from sklearn.ensemble import RandomForestRegressor"
   ]
  },
  {
   "cell_type": "code",
   "execution_count": 4,
   "id": "wooden-tribe",
   "metadata": {},
   "outputs": [],
   "source": [
    "data = pd.read_csv('C:/Netology/Machine_Learning/Lecture_11/train_h.csv')"
   ]
  },
  {
   "cell_type": "code",
   "execution_count": 5,
   "id": "amended-celebration",
   "metadata": {},
   "outputs": [
    {
     "data": {
      "text/html": [
       "<div>\n",
       "<style scoped>\n",
       "    .dataframe tbody tr th:only-of-type {\n",
       "        vertical-align: middle;\n",
       "    }\n",
       "\n",
       "    .dataframe tbody tr th {\n",
       "        vertical-align: top;\n",
       "    }\n",
       "\n",
       "    .dataframe thead th {\n",
       "        text-align: right;\n",
       "    }\n",
       "</style>\n",
       "<table border=\"1\" class=\"dataframe\">\n",
       "  <thead>\n",
       "    <tr style=\"text-align: right;\">\n",
       "      <th></th>\n",
       "      <th>Id</th>\n",
       "      <th>MSSubClass</th>\n",
       "      <th>MSZoning</th>\n",
       "      <th>LotFrontage</th>\n",
       "      <th>LotArea</th>\n",
       "      <th>Street</th>\n",
       "      <th>Alley</th>\n",
       "      <th>LotShape</th>\n",
       "      <th>LandContour</th>\n",
       "      <th>Utilities</th>\n",
       "      <th>...</th>\n",
       "      <th>PoolArea</th>\n",
       "      <th>PoolQC</th>\n",
       "      <th>Fence</th>\n",
       "      <th>MiscFeature</th>\n",
       "      <th>MiscVal</th>\n",
       "      <th>MoSold</th>\n",
       "      <th>YrSold</th>\n",
       "      <th>SaleType</th>\n",
       "      <th>SaleCondition</th>\n",
       "      <th>SalePrice</th>\n",
       "    </tr>\n",
       "  </thead>\n",
       "  <tbody>\n",
       "    <tr>\n",
       "      <th>0</th>\n",
       "      <td>1</td>\n",
       "      <td>60</td>\n",
       "      <td>RL</td>\n",
       "      <td>65.0</td>\n",
       "      <td>8450</td>\n",
       "      <td>Pave</td>\n",
       "      <td>NaN</td>\n",
       "      <td>Reg</td>\n",
       "      <td>Lvl</td>\n",
       "      <td>AllPub</td>\n",
       "      <td>...</td>\n",
       "      <td>0</td>\n",
       "      <td>NaN</td>\n",
       "      <td>NaN</td>\n",
       "      <td>NaN</td>\n",
       "      <td>0</td>\n",
       "      <td>2</td>\n",
       "      <td>2008</td>\n",
       "      <td>WD</td>\n",
       "      <td>Normal</td>\n",
       "      <td>208500</td>\n",
       "    </tr>\n",
       "    <tr>\n",
       "      <th>1</th>\n",
       "      <td>2</td>\n",
       "      <td>20</td>\n",
       "      <td>RL</td>\n",
       "      <td>80.0</td>\n",
       "      <td>9600</td>\n",
       "      <td>Pave</td>\n",
       "      <td>NaN</td>\n",
       "      <td>Reg</td>\n",
       "      <td>Lvl</td>\n",
       "      <td>AllPub</td>\n",
       "      <td>...</td>\n",
       "      <td>0</td>\n",
       "      <td>NaN</td>\n",
       "      <td>NaN</td>\n",
       "      <td>NaN</td>\n",
       "      <td>0</td>\n",
       "      <td>5</td>\n",
       "      <td>2007</td>\n",
       "      <td>WD</td>\n",
       "      <td>Normal</td>\n",
       "      <td>181500</td>\n",
       "    </tr>\n",
       "    <tr>\n",
       "      <th>2</th>\n",
       "      <td>3</td>\n",
       "      <td>60</td>\n",
       "      <td>RL</td>\n",
       "      <td>68.0</td>\n",
       "      <td>11250</td>\n",
       "      <td>Pave</td>\n",
       "      <td>NaN</td>\n",
       "      <td>IR1</td>\n",
       "      <td>Lvl</td>\n",
       "      <td>AllPub</td>\n",
       "      <td>...</td>\n",
       "      <td>0</td>\n",
       "      <td>NaN</td>\n",
       "      <td>NaN</td>\n",
       "      <td>NaN</td>\n",
       "      <td>0</td>\n",
       "      <td>9</td>\n",
       "      <td>2008</td>\n",
       "      <td>WD</td>\n",
       "      <td>Normal</td>\n",
       "      <td>223500</td>\n",
       "    </tr>\n",
       "    <tr>\n",
       "      <th>3</th>\n",
       "      <td>4</td>\n",
       "      <td>70</td>\n",
       "      <td>RL</td>\n",
       "      <td>60.0</td>\n",
       "      <td>9550</td>\n",
       "      <td>Pave</td>\n",
       "      <td>NaN</td>\n",
       "      <td>IR1</td>\n",
       "      <td>Lvl</td>\n",
       "      <td>AllPub</td>\n",
       "      <td>...</td>\n",
       "      <td>0</td>\n",
       "      <td>NaN</td>\n",
       "      <td>NaN</td>\n",
       "      <td>NaN</td>\n",
       "      <td>0</td>\n",
       "      <td>2</td>\n",
       "      <td>2006</td>\n",
       "      <td>WD</td>\n",
       "      <td>Abnorml</td>\n",
       "      <td>140000</td>\n",
       "    </tr>\n",
       "    <tr>\n",
       "      <th>4</th>\n",
       "      <td>5</td>\n",
       "      <td>60</td>\n",
       "      <td>RL</td>\n",
       "      <td>84.0</td>\n",
       "      <td>14260</td>\n",
       "      <td>Pave</td>\n",
       "      <td>NaN</td>\n",
       "      <td>IR1</td>\n",
       "      <td>Lvl</td>\n",
       "      <td>AllPub</td>\n",
       "      <td>...</td>\n",
       "      <td>0</td>\n",
       "      <td>NaN</td>\n",
       "      <td>NaN</td>\n",
       "      <td>NaN</td>\n",
       "      <td>0</td>\n",
       "      <td>12</td>\n",
       "      <td>2008</td>\n",
       "      <td>WD</td>\n",
       "      <td>Normal</td>\n",
       "      <td>250000</td>\n",
       "    </tr>\n",
       "  </tbody>\n",
       "</table>\n",
       "<p>5 rows × 81 columns</p>\n",
       "</div>"
      ],
      "text/plain": [
       "   Id  MSSubClass MSZoning  LotFrontage  LotArea Street Alley LotShape  \\\n",
       "0   1          60       RL         65.0     8450   Pave   NaN      Reg   \n",
       "1   2          20       RL         80.0     9600   Pave   NaN      Reg   \n",
       "2   3          60       RL         68.0    11250   Pave   NaN      IR1   \n",
       "3   4          70       RL         60.0     9550   Pave   NaN      IR1   \n",
       "4   5          60       RL         84.0    14260   Pave   NaN      IR1   \n",
       "\n",
       "  LandContour Utilities  ... PoolArea PoolQC Fence MiscFeature MiscVal MoSold  \\\n",
       "0         Lvl    AllPub  ...        0    NaN   NaN         NaN       0      2   \n",
       "1         Lvl    AllPub  ...        0    NaN   NaN         NaN       0      5   \n",
       "2         Lvl    AllPub  ...        0    NaN   NaN         NaN       0      9   \n",
       "3         Lvl    AllPub  ...        0    NaN   NaN         NaN       0      2   \n",
       "4         Lvl    AllPub  ...        0    NaN   NaN         NaN       0     12   \n",
       "\n",
       "  YrSold  SaleType  SaleCondition  SalePrice  \n",
       "0   2008        WD         Normal     208500  \n",
       "1   2007        WD         Normal     181500  \n",
       "2   2008        WD         Normal     223500  \n",
       "3   2006        WD        Abnorml     140000  \n",
       "4   2008        WD         Normal     250000  \n",
       "\n",
       "[5 rows x 81 columns]"
      ]
     },
     "execution_count": 5,
     "metadata": {},
     "output_type": "execute_result"
    }
   ],
   "source": [
    "data.head()"
   ]
  },
  {
   "cell_type": "code",
   "execution_count": 8,
   "id": "disciplinary-format",
   "metadata": {},
   "outputs": [],
   "source": [
    "#Разделяем на тренировочные и тестовые данные\n",
    "\n",
    "data_train, data_test, y_train, y_test = train_test_split(data.drop(columns='SalePrice'), data['SalePrice'], test_size=0.30, random_state=42)"
   ]
  },
  {
   "cell_type": "code",
   "execution_count": 9,
   "id": "radio-entrepreneur",
   "metadata": {},
   "outputs": [],
   "source": [
    "#Находим категориальные признаки\n",
    "\n",
    "categorials = list(data.dtypes[data.dtypes == object].index)\n",
    "\n",
    "categorials_nunique = data_train[categorials].nunique()\n",
    "\n",
    "#закодируем пропущенные значений строкой, факт пропущенного значения тоже может нести в себе информацию\n",
    "\n",
    "data[categorials] = data[categorials].fillna('nan')"
   ]
  },
  {
   "cell_type": "code",
   "execution_count": 10,
   "id": "compressed-joining",
   "metadata": {},
   "outputs": [],
   "source": [
    "#отфильтруем непрерывные признаки\n",
    "\n",
    "integer = [f for f in data if f not in (categorials + ['ID', 'SalePrice'])]"
   ]
  },
  {
   "cell_type": "code",
   "execution_count": 11,
   "id": "latest-insurance",
   "metadata": {},
   "outputs": [],
   "source": [
    "# Создаем дамми-переменные для категорий\n",
    "\n",
    "dummy_train = pd.get_dummies(data_train[categorials], columns=categorials)\n",
    "dummy_test = pd.get_dummies(data_test[categorials], columns=categorials)\n",
    "\n",
    "dummy_cols = list(set(dummy_train) & set(dummy_test))\n",
    "\n",
    "dummy_train = dummy_train[dummy_cols]\n",
    "dummy_test = dummy_test[dummy_cols]\n",
    "\n",
    "# Заменяем пропуски на специальное значение -999, чтобы деревья могли их отличить\n",
    "\n",
    "X_train = pd.concat([data_train[integer].fillna(-999), dummy_train], axis=1)\n",
    "\n",
    "X_test = pd.concat([data_test[integer].fillna(-999), dummy_test], axis=1)"
   ]
  },
  {
   "cell_type": "code",
   "execution_count": 12,
   "id": "polyphonic-springfield",
   "metadata": {},
   "outputs": [
    {
     "data": {
      "text/html": [
       "<div>\n",
       "<style scoped>\n",
       "    .dataframe tbody tr th:only-of-type {\n",
       "        vertical-align: middle;\n",
       "    }\n",
       "\n",
       "    .dataframe tbody tr th {\n",
       "        vertical-align: top;\n",
       "    }\n",
       "\n",
       "    .dataframe thead th {\n",
       "        text-align: right;\n",
       "    }\n",
       "</style>\n",
       "<table border=\"1\" class=\"dataframe\">\n",
       "  <thead>\n",
       "    <tr style=\"text-align: right;\">\n",
       "      <th></th>\n",
       "      <th>Id</th>\n",
       "      <th>MSSubClass</th>\n",
       "      <th>LotFrontage</th>\n",
       "      <th>LotArea</th>\n",
       "      <th>OverallQual</th>\n",
       "      <th>OverallCond</th>\n",
       "      <th>YearBuilt</th>\n",
       "      <th>YearRemodAdd</th>\n",
       "      <th>MasVnrArea</th>\n",
       "      <th>BsmtFinSF1</th>\n",
       "      <th>...</th>\n",
       "      <th>Alley_Grvl</th>\n",
       "      <th>Neighborhood_NWAmes</th>\n",
       "      <th>SaleType_ConLI</th>\n",
       "      <th>Functional_Maj2</th>\n",
       "      <th>Foundation_Stone</th>\n",
       "      <th>BsmtExposure_Av</th>\n",
       "      <th>SaleType_ConLw</th>\n",
       "      <th>LandSlope_Mod</th>\n",
       "      <th>Heating_GasA</th>\n",
       "      <th>GarageCond_Gd</th>\n",
       "    </tr>\n",
       "  </thead>\n",
       "  <tbody>\n",
       "    <tr>\n",
       "      <th>135</th>\n",
       "      <td>136</td>\n",
       "      <td>20</td>\n",
       "      <td>80.0</td>\n",
       "      <td>10400</td>\n",
       "      <td>7</td>\n",
       "      <td>6</td>\n",
       "      <td>1970</td>\n",
       "      <td>1970</td>\n",
       "      <td>288.0</td>\n",
       "      <td>0</td>\n",
       "      <td>...</td>\n",
       "      <td>0</td>\n",
       "      <td>1</td>\n",
       "      <td>0</td>\n",
       "      <td>0</td>\n",
       "      <td>0</td>\n",
       "      <td>0</td>\n",
       "      <td>0</td>\n",
       "      <td>0</td>\n",
       "      <td>1</td>\n",
       "      <td>0</td>\n",
       "    </tr>\n",
       "    <tr>\n",
       "      <th>1452</th>\n",
       "      <td>1453</td>\n",
       "      <td>180</td>\n",
       "      <td>35.0</td>\n",
       "      <td>3675</td>\n",
       "      <td>5</td>\n",
       "      <td>5</td>\n",
       "      <td>2005</td>\n",
       "      <td>2005</td>\n",
       "      <td>80.0</td>\n",
       "      <td>547</td>\n",
       "      <td>...</td>\n",
       "      <td>0</td>\n",
       "      <td>0</td>\n",
       "      <td>0</td>\n",
       "      <td>0</td>\n",
       "      <td>0</td>\n",
       "      <td>0</td>\n",
       "      <td>0</td>\n",
       "      <td>0</td>\n",
       "      <td>1</td>\n",
       "      <td>0</td>\n",
       "    </tr>\n",
       "    <tr>\n",
       "      <th>762</th>\n",
       "      <td>763</td>\n",
       "      <td>60</td>\n",
       "      <td>72.0</td>\n",
       "      <td>8640</td>\n",
       "      <td>7</td>\n",
       "      <td>5</td>\n",
       "      <td>2009</td>\n",
       "      <td>2009</td>\n",
       "      <td>0.0</td>\n",
       "      <td>24</td>\n",
       "      <td>...</td>\n",
       "      <td>0</td>\n",
       "      <td>0</td>\n",
       "      <td>0</td>\n",
       "      <td>0</td>\n",
       "      <td>0</td>\n",
       "      <td>0</td>\n",
       "      <td>0</td>\n",
       "      <td>0</td>\n",
       "      <td>1</td>\n",
       "      <td>0</td>\n",
       "    </tr>\n",
       "    <tr>\n",
       "      <th>932</th>\n",
       "      <td>933</td>\n",
       "      <td>20</td>\n",
       "      <td>84.0</td>\n",
       "      <td>11670</td>\n",
       "      <td>9</td>\n",
       "      <td>5</td>\n",
       "      <td>2006</td>\n",
       "      <td>2006</td>\n",
       "      <td>302.0</td>\n",
       "      <td>0</td>\n",
       "      <td>...</td>\n",
       "      <td>0</td>\n",
       "      <td>0</td>\n",
       "      <td>0</td>\n",
       "      <td>0</td>\n",
       "      <td>0</td>\n",
       "      <td>0</td>\n",
       "      <td>0</td>\n",
       "      <td>0</td>\n",
       "      <td>1</td>\n",
       "      <td>0</td>\n",
       "    </tr>\n",
       "    <tr>\n",
       "      <th>435</th>\n",
       "      <td>436</td>\n",
       "      <td>60</td>\n",
       "      <td>43.0</td>\n",
       "      <td>10667</td>\n",
       "      <td>7</td>\n",
       "      <td>6</td>\n",
       "      <td>1996</td>\n",
       "      <td>1996</td>\n",
       "      <td>0.0</td>\n",
       "      <td>385</td>\n",
       "      <td>...</td>\n",
       "      <td>0</td>\n",
       "      <td>0</td>\n",
       "      <td>0</td>\n",
       "      <td>0</td>\n",
       "      <td>0</td>\n",
       "      <td>1</td>\n",
       "      <td>1</td>\n",
       "      <td>0</td>\n",
       "      <td>1</td>\n",
       "      <td>0</td>\n",
       "    </tr>\n",
       "  </tbody>\n",
       "</table>\n",
       "<p>5 rows × 255 columns</p>\n",
       "</div>"
      ],
      "text/plain": [
       "        Id  MSSubClass  LotFrontage  LotArea  OverallQual  OverallCond  \\\n",
       "135    136          20         80.0    10400            7            6   \n",
       "1452  1453         180         35.0     3675            5            5   \n",
       "762    763          60         72.0     8640            7            5   \n",
       "932    933          20         84.0    11670            9            5   \n",
       "435    436          60         43.0    10667            7            6   \n",
       "\n",
       "      YearBuilt  YearRemodAdd  MasVnrArea  BsmtFinSF1  ...  Alley_Grvl  \\\n",
       "135        1970          1970       288.0           0  ...           0   \n",
       "1452       2005          2005        80.0         547  ...           0   \n",
       "762        2009          2009         0.0          24  ...           0   \n",
       "932        2006          2006       302.0           0  ...           0   \n",
       "435        1996          1996         0.0         385  ...           0   \n",
       "\n",
       "      Neighborhood_NWAmes  SaleType_ConLI  Functional_Maj2  Foundation_Stone  \\\n",
       "135                     1               0                0                 0   \n",
       "1452                    0               0                0                 0   \n",
       "762                     0               0                0                 0   \n",
       "932                     0               0                0                 0   \n",
       "435                     0               0                0                 0   \n",
       "\n",
       "      BsmtExposure_Av  SaleType_ConLw  LandSlope_Mod  Heating_GasA  \\\n",
       "135                 0               0              0             1   \n",
       "1452                0               0              0             1   \n",
       "762                 0               0              0             1   \n",
       "932                 0               0              0             1   \n",
       "435                 1               1              0             1   \n",
       "\n",
       "      GarageCond_Gd  \n",
       "135               0  \n",
       "1452              0  \n",
       "762               0  \n",
       "932               0  \n",
       "435               0  \n",
       "\n",
       "[5 rows x 255 columns]"
      ]
     },
     "execution_count": 12,
     "metadata": {},
     "output_type": "execute_result"
    }
   ],
   "source": [
    "X_train.head()"
   ]
  },
  {
   "cell_type": "code",
   "execution_count": 14,
   "id": "framed-brazil",
   "metadata": {},
   "outputs": [
    {
     "data": {
      "text/plain": [
       "RandomForestRegressor()"
      ]
     },
     "execution_count": 14,
     "metadata": {},
     "output_type": "execute_result"
    }
   ],
   "source": [
    "# Создаем модель RandomForest\n",
    "\n",
    "clf_rf = RandomForestRegressor()\n",
    "clf_rf.fit(X_train, y_train)"
   ]
  },
  {
   "cell_type": "code",
   "execution_count": 15,
   "id": "unauthorized-investigator",
   "metadata": {},
   "outputs": [
    {
     "data": {
      "text/plain": [
       "0.9758491123391011"
      ]
     },
     "execution_count": 15,
     "metadata": {},
     "output_type": "execute_result"
    }
   ],
   "source": [
    "# проверяем полученные данные на тренировочных данных\n",
    "\n",
    "clf_rf.score(X_train, y_train)"
   ]
  },
  {
   "cell_type": "code",
   "execution_count": 16,
   "id": "alike-philadelphia",
   "metadata": {},
   "outputs": [
    {
     "data": {
      "text/plain": [
       "0.8916813824964428"
      ]
     },
     "execution_count": 16,
     "metadata": {},
     "output_type": "execute_result"
    }
   ],
   "source": [
    "# проверяем полученные данные на тестовых данных\n",
    "\n",
    "clf_rf.score(X_test, y_test)\n",
    "\n",
    "#Модель получилась не много переобученной"
   ]
  },
  {
   "cell_type": "code",
   "execution_count": 17,
   "id": "bizarre-clinton",
   "metadata": {},
   "outputs": [],
   "source": [
    "# Выявляем наиболее важные признаки и выводим на график. Большое значение имеет признак Overall Qual, остальные почти равны нулю\n",
    "\n",
    "imp = pd.Series(clf_rf.feature_importances_)"
   ]
  },
  {
   "cell_type": "code",
   "execution_count": 18,
   "id": "specified-narrow",
   "metadata": {},
   "outputs": [],
   "source": [
    "imp.index = pd.Series(X_train.columns)"
   ]
  },
  {
   "cell_type": "code",
   "execution_count": 21,
   "id": "artistic-mongolia",
   "metadata": {},
   "outputs": [
    {
     "data": {
      "image/png": "[encoded data removed]",
      "text/plain": [
       "<Figure size 432x288 with 1 Axes>"
      ]
     },
     "metadata": {
      "needs_background": "light"
     },
     "output_type": "display_data"
    }
   ],
   "source": [
    "plt.title('Top 5 feature importances')\n",
    "plt.xlabel('Features')\n",
    "plt.ylabel('Gini')\n",
    "plt.bar(imp.sort_values(ascending=False).head().index, imp.sort_values(ascending=False).head())\n",
    "plt.show()"
   ]
  },
  {
   "cell_type": "markdown",
   "id": "dietary-upset",
   "metadata": {},
   "source": [
    "## Стекинг"
   ]
  },
  {
   "cell_type": "code",
   "execution_count": 30,
   "id": "average-johns",
   "metadata": {},
   "outputs": [],
   "source": [
    "from sklearn.ensemble import StackingRegressor\n",
    "from sklearn.linear_model import LinearRegression\n",
    "from sklearn.linear_model import LassoCV\n",
    "from sklearn.tree import DecisionTreeRegressor\n",
    "from sklearn.linear_model import ElasticNetCV\n",
    "from sklearn.linear_model import RidgeCV"
   ]
  },
  {
   "cell_type": "code",
   "execution_count": 31,
   "id": "eligible-drinking",
   "metadata": {},
   "outputs": [],
   "source": [
    "# Создаем стэккинг и обучаем его на наших данных \n",
    "\n",
    "Regressor = StackingRegressor(\n",
    "    [\n",
    "        ('LinearRegression', LinearRegression()),\n",
    "        ('LassoCV', LassoCV()),\n",
    "        ('DecisionTree', DecisionTreeRegressor()),\n",
    "        ('ElasticNetCV', ElasticNetCV()),\n",
    "        ('RidgeCV', RidgeCV())\n",
    "    ])"
   ]
  },
  {
   "cell_type": "code",
   "execution_count": 32,
   "id": "agreed-seven",
   "metadata": {},
   "outputs": [
    {
     "data": {
      "text/plain": [
       "StackingRegressor(estimators=[('LinearRegression', LinearRegression()),\n",
       "                              ('LassoCV', LassoCV()),\n",
       "                              ('DecisionTree', DecisionTreeRegressor()),\n",
       "                              ('ElasticNetCV', ElasticNetCV()),\n",
       "                              ('RidgeCV',\n",
       "                               RidgeCV(alphas=array([ 0.1,  1. , 10. ])))])"
      ]
     },
     "execution_count": 32,
     "metadata": {},
     "output_type": "execute_result"
    }
   ],
   "source": [
    "Regressor.fit(X_train, y_train)"
   ]
  },
  {
   "cell_type": "code",
   "execution_count": 33,
   "id": "noble-basement",
   "metadata": {},
   "outputs": [
    {
     "name": "stdout",
     "output_type": "stream",
     "text": [
      "Score on train data 0.9179581994186965\n",
      "Score on test data 0.8637698985994018\n",
      "Score on train data with model LinearRegression 0.9221085403562431\n",
      "Score on test data with model LinearRegression 0.8533836050579278\n",
      "Score on train data with model LassoCV 0.6928223603294468\n",
      "Score on test data with model LassoCV 0.7658868514414778\n",
      "Score on train data with model DecisionTree 1.0\n",
      "Score on test data with model DecisionTree 0.7256868495729198\n",
      "Score on train data with model ElasticNetCV 0.56045771857828\n",
      "Score on test data with model ElasticNetCV 0.6106792924774815\n",
      "Score on train data with model RidgeCV 0.893813313074804\n",
      "Score on test data with model RidgeCV 0.8743354509181865\n"
     ]
    }
   ],
   "source": [
    "print(f'Score on train data {Regressor.score(X_train, y_train)}')\n",
    "print(f'Score on test data {Regressor.score(X_test, y_test)}')\n",
    "\n",
    "for i in Regressor.named_estimators:\n",
    "    print(f'Score on train data with model {i} {Regressor.named_estimators_[i].score(X_train, y_train)}')\n",
    "    print(f'Score on test data with model {i} {Regressor.named_estimators_[i].score(X_test, y_test)}')"
   ]
  },
  {
   "cell_type": "markdown",
   "id": "sublime-flashing",
   "metadata": {},
   "source": [
    "Лучше всего справилась линейная регрессия."
   ]
  },
  {
   "cell_type": "code",
   "execution_count": 34,
   "id": "spread-factory",
   "metadata": {},
   "outputs": [],
   "source": [
    "score_train = {}\n",
    "score_test = {}\n",
    "\n",
    "for i in Regressor.named_estimators:\n",
    "    score_train[i] = Regressor.named_estimators_[i].score(X_train, y_train)\n",
    "    score_test[i] = Regressor.named_estimators_[i].score(X_test, y_test)\n",
    "\n",
    "score_train['Total']= Regressor.score(X_train, y_train)\n",
    "score_test['Total']= Regressor.score(X_test, y_test)"
   ]
  },
  {
   "cell_type": "code",
   "execution_count": 35,
   "id": "downtown-polish",
   "metadata": {},
   "outputs": [
    {
     "data": {
      "text/plain": [
       "<matplotlib.legend.Legend at 0x252c353a490>"
      ]
     },
     "execution_count": 35,
     "metadata": {},
     "output_type": "execute_result"
    },
    {
     "data": {
      "image/png": "[encoded data removed]",
      "text/plain": [
       "<Figure size 720x360 with 1 Axes>"
      ]
     },
     "metadata": {
      "needs_background": "light"
     },
     "output_type": "display_data"
    }
   ],
   "source": [
    "plt.figure(figsize=(10,5))\n",
    "plt.bar(range(len(score_train)), score_train.values(), align=\"center\", label='Train')\n",
    "plt.xticks(range(len(score_train)), list(score_train.keys()))\n",
    "plt.bar(range(len(score_test)), score_test.values(), align=\"center\", label='Test')\n",
    "plt.xticks(range(len(score_test)), list(score_test.keys()))\n",
    "plt.autoscale\n",
    "plt.title('Stacking result')\n",
    "plt.xlabel('Models')\n",
    "plt.ylabel('Scores')\n",
    "plt.legend()"
   ]
  },
  {
   "cell_type": "code",
   "execution_count": null,
   "id": "relevant-beatles",
   "metadata": {},
   "outputs": [],
   "source": []
  }
 ],
 "metadata": {
  "kernelspec": {
   "display_name": "Python 3",
   "language": "python",
   "name": "python3"
  },
  "language_info": {
   "codemirror_mode": {
    "name": "ipython",
    "version": 3
   },
   "file_extension": ".py",
   "mimetype": "text/x-python",
   "name": "python",
   "nbconvert_exporter": "python",
   "pygments_lexer": "ipython3",
   "version": "3.8.5"
  }
 },
 "nbformat": 4,
 "nbformat_minor": 5
}
