{
 "cells": [
  {
   "cell_type": "markdown",
   "id": "coastal-brunei",
   "metadata": {},
   "source": [
    "# Домашнее задание\n",
    "\n",
    "Прочитать про методы оптимизации для нейронных сетей https://habr.com/post/318970/  \n",
    "Реализовать самостоятельно логистическую регрессию  \n",
    "Обучить ее методом градиентного спуска  \n",
    "Методом nesterov momentum  \n",
    "Методом rmsprop  \n",
    "\n",
    "## Дополнительное задание *  \n",
    "В качестве dataset’а взять Iris, оставив 2 класса:  \n",
    "Iris Versicolor  \n",
    "Iris Virginica  "
   ]
  },
  {
   "cell_type": "code",
   "execution_count": 194,
   "id": "perceived-transition",
   "metadata": {},
   "outputs": [],
   "source": [
    "from sklearn import datasets\n",
    "from sklearn.linear_model import LogisticRegression\n",
    "import pandas as pd\n",
    "import numpy as np\n",
    "import matplotlib.pyplot as plt\n",
    "%matplotlib inline"
   ]
  },
  {
   "cell_type": "code",
   "execution_count": 81,
   "id": "occasional-scroll",
   "metadata": {},
   "outputs": [],
   "source": [
    "# загружаем датасет про ирисы\n",
    "\n",
    "iris = datasets.load_iris()"
   ]
  },
  {
   "cell_type": "code",
   "execution_count": 82,
   "id": "affiliated-press",
   "metadata": {},
   "outputs": [
    {
     "data": {
      "text/plain": [
       "sklearn.utils.Bunch"
      ]
     },
     "execution_count": 82,
     "metadata": {},
     "output_type": "execute_result"
    }
   ],
   "source": [
    "type(iris)"
   ]
  },
  {
   "cell_type": "code",
   "execution_count": 83,
   "id": "backed-heather",
   "metadata": {},
   "outputs": [
    {
     "name": "stdout",
     "output_type": "stream",
     "text": [
      "data\n",
      "target\n",
      "frame\n",
      "target_names\n",
      "DESCR\n",
      "feature_names\n",
      "filename\n"
     ]
    }
   ],
   "source": [
    "for key in iris.keys():\n",
    "    print( key )"
   ]
  },
  {
   "cell_type": "code",
   "execution_count": 84,
   "id": "alpine-medline",
   "metadata": {},
   "outputs": [
    {
     "data": {
      "text/plain": [
       "array(['setosa', 'versicolor', 'virginica'], dtype='<U10')"
      ]
     },
     "execution_count": 84,
     "metadata": {},
     "output_type": "execute_result"
    }
   ],
   "source": [
    "iris.target_names"
   ]
  },
  {
   "cell_type": "code",
   "execution_count": 85,
   "id": "roman-correspondence",
   "metadata": {},
   "outputs": [
    {
     "data": {
      "text/plain": [
       "['sepal length (cm)',\n",
       " 'sepal width (cm)',\n",
       " 'petal length (cm)',\n",
       " 'petal width (cm)']"
      ]
     },
     "execution_count": 85,
     "metadata": {},
     "output_type": "execute_result"
    }
   ],
   "source": [
    "iris.feature_names"
   ]
  },
  {
   "cell_type": "code",
   "execution_count": 86,
   "id": "noticed-movie",
   "metadata": {},
   "outputs": [
    {
     "data": {
      "text/html": [
       "<div>\n",
       "<style scoped>\n",
       "    .dataframe tbody tr th:only-of-type {\n",
       "        vertical-align: middle;\n",
       "    }\n",
       "\n",
       "    .dataframe tbody tr th {\n",
       "        vertical-align: top;\n",
       "    }\n",
       "\n",
       "    .dataframe thead th {\n",
       "        text-align: right;\n",
       "    }\n",
       "</style>\n",
       "<table border=\"1\" class=\"dataframe\">\n",
       "  <thead>\n",
       "    <tr style=\"text-align: right;\">\n",
       "      <th></th>\n",
       "      <th>sepal length (cm)</th>\n",
       "      <th>sepal width (cm)</th>\n",
       "      <th>petal length (cm)</th>\n",
       "      <th>petal width (cm)</th>\n",
       "      <th>variety_num</th>\n",
       "    </tr>\n",
       "  </thead>\n",
       "  <tbody>\n",
       "    <tr>\n",
       "      <th>0</th>\n",
       "      <td>5.1</td>\n",
       "      <td>3.5</td>\n",
       "      <td>1.4</td>\n",
       "      <td>0.2</td>\n",
       "      <td>0</td>\n",
       "    </tr>\n",
       "    <tr>\n",
       "      <th>1</th>\n",
       "      <td>4.9</td>\n",
       "      <td>3.0</td>\n",
       "      <td>1.4</td>\n",
       "      <td>0.2</td>\n",
       "      <td>0</td>\n",
       "    </tr>\n",
       "    <tr>\n",
       "      <th>2</th>\n",
       "      <td>4.7</td>\n",
       "      <td>3.2</td>\n",
       "      <td>1.3</td>\n",
       "      <td>0.2</td>\n",
       "      <td>0</td>\n",
       "    </tr>\n",
       "    <tr>\n",
       "      <th>3</th>\n",
       "      <td>4.6</td>\n",
       "      <td>3.1</td>\n",
       "      <td>1.5</td>\n",
       "      <td>0.2</td>\n",
       "      <td>0</td>\n",
       "    </tr>\n",
       "    <tr>\n",
       "      <th>4</th>\n",
       "      <td>5.0</td>\n",
       "      <td>3.6</td>\n",
       "      <td>1.4</td>\n",
       "      <td>0.2</td>\n",
       "      <td>0</td>\n",
       "    </tr>\n",
       "  </tbody>\n",
       "</table>\n",
       "</div>"
      ],
      "text/plain": [
       "   sepal length (cm)  sepal width (cm)  petal length (cm)  petal width (cm)  \\\n",
       "0                5.1               3.5                1.4               0.2   \n",
       "1                4.9               3.0                1.4               0.2   \n",
       "2                4.7               3.2                1.3               0.2   \n",
       "3                4.6               3.1                1.5               0.2   \n",
       "4                5.0               3.6                1.4               0.2   \n",
       "\n",
       "   variety_num  \n",
       "0            0  \n",
       "1            0  \n",
       "2            0  \n",
       "3            0  \n",
       "4            0  "
      ]
     },
     "execution_count": 86,
     "metadata": {},
     "output_type": "execute_result"
    }
   ],
   "source": [
    "# формируем единый датафрейм с признаками и целевой переменной 'variety_num'\n",
    "\n",
    "X = pd.DataFrame(data=iris.data, columns=iris.feature_names)\n",
    "y = pd.DataFrame(data=iris.target, columns=['variety_num'])\n",
    "data_iris = pd.concat([X, y], axis=1)\n",
    "\n",
    "data_iris.head()"
   ]
  },
  {
   "cell_type": "code",
   "execution_count": 87,
   "id": "essential-mustang",
   "metadata": {},
   "outputs": [
    {
     "data": {
      "text/plain": [
       "2    50\n",
       "1    50\n",
       "0    50\n",
       "Name: variety_num, dtype: int64"
      ]
     },
     "execution_count": 87,
     "metadata": {},
     "output_type": "execute_result"
    }
   ],
   "source": [
    "data_iris['variety_num'].value_counts()"
   ]
  },
  {
   "cell_type": "code",
   "execution_count": 88,
   "id": "assured-belle",
   "metadata": {},
   "outputs": [
    {
     "data": {
      "image/png": "[encoded data removed]",
      "text/plain": [
       "<Figure size 432x288 with 1 Axes>"
      ]
     },
     "metadata": {
      "needs_background": "light"
     },
     "output_type": "display_data"
    }
   ],
   "source": [
    "# строим график распределения классов цветков ириса\n",
    "\n",
    "plt.scatter(data_iris['petal length (cm)'], data_iris['petal width (cm)'], c=data_iris.variety_num, cmap='autumn', s=60)\n",
    "plt.show()"
   ]
  },
  {
   "cell_type": "code",
   "execution_count": 89,
   "id": "rotary-factor",
   "metadata": {},
   "outputs": [],
   "source": [
    "# исключаем класс Setosa, фильтруя датафрейм \n",
    "\n",
    "data_iris = data_iris.query('variety_num != 0')"
   ]
  },
  {
   "cell_type": "code",
   "execution_count": 90,
   "id": "pressing-despite",
   "metadata": {},
   "outputs": [],
   "source": [
    "# зададим марки классов для цветков, в правильной нумерации, 0 - versicolor, 1 - virginica\n",
    "\n",
    "data_iris['variety_num'] = data_iris.variety_num.replace({1: 0, 2: 1})"
   ]
  },
  {
   "cell_type": "code",
   "execution_count": 91,
   "id": "nonprofit-reception",
   "metadata": {},
   "outputs": [
    {
     "data": {
      "image/png": "[encoded data removed]",
      "text/plain": [
       "<Figure size 432x288 with 1 Axes>"
      ]
     },
     "metadata": {
      "needs_background": "light"
     },
     "output_type": "display_data"
    }
   ],
   "source": [
    "plt.scatter(data_iris['petal length (cm)'], data_iris['petal width (cm)'], c=data_iris.variety_num, cmap='autumn', s=60)\n",
    "plt.show()"
   ]
  },
  {
   "cell_type": "code",
   "execution_count": 103,
   "id": "copyrighted-hebrew",
   "metadata": {},
   "outputs": [],
   "source": [
    "columns = ['sepal_length', 'sepal_width', 'petal_length', 'petal_width', 'variety_num'] \n",
    "data_iris.columns = columns"
   ]
  },
  {
   "cell_type": "code",
   "execution_count": 104,
   "id": "statistical-computer",
   "metadata": {},
   "outputs": [
    {
     "data": {
      "text/html": [
       "<div>\n",
       "<style scoped>\n",
       "    .dataframe tbody tr th:only-of-type {\n",
       "        vertical-align: middle;\n",
       "    }\n",
       "\n",
       "    .dataframe tbody tr th {\n",
       "        vertical-align: top;\n",
       "    }\n",
       "\n",
       "    .dataframe thead th {\n",
       "        text-align: right;\n",
       "    }\n",
       "</style>\n",
       "<table border=\"1\" class=\"dataframe\">\n",
       "  <thead>\n",
       "    <tr style=\"text-align: right;\">\n",
       "      <th></th>\n",
       "      <th>sepal_length</th>\n",
       "      <th>sepal_width</th>\n",
       "      <th>petal_length</th>\n",
       "      <th>petal_width</th>\n",
       "      <th>variety_num</th>\n",
       "    </tr>\n",
       "  </thead>\n",
       "  <tbody>\n",
       "    <tr>\n",
       "      <th>50</th>\n",
       "      <td>7.0</td>\n",
       "      <td>3.2</td>\n",
       "      <td>4.7</td>\n",
       "      <td>1.4</td>\n",
       "      <td>0</td>\n",
       "    </tr>\n",
       "    <tr>\n",
       "      <th>51</th>\n",
       "      <td>6.4</td>\n",
       "      <td>3.2</td>\n",
       "      <td>4.5</td>\n",
       "      <td>1.5</td>\n",
       "      <td>0</td>\n",
       "    </tr>\n",
       "    <tr>\n",
       "      <th>52</th>\n",
       "      <td>6.9</td>\n",
       "      <td>3.1</td>\n",
       "      <td>4.9</td>\n",
       "      <td>1.5</td>\n",
       "      <td>0</td>\n",
       "    </tr>\n",
       "    <tr>\n",
       "      <th>53</th>\n",
       "      <td>5.5</td>\n",
       "      <td>2.3</td>\n",
       "      <td>4.0</td>\n",
       "      <td>1.3</td>\n",
       "      <td>0</td>\n",
       "    </tr>\n",
       "    <tr>\n",
       "      <th>54</th>\n",
       "      <td>6.5</td>\n",
       "      <td>2.8</td>\n",
       "      <td>4.6</td>\n",
       "      <td>1.5</td>\n",
       "      <td>0</td>\n",
       "    </tr>\n",
       "  </tbody>\n",
       "</table>\n",
       "</div>"
      ],
      "text/plain": [
       "    sepal_length  sepal_width  petal_length  petal_width  variety_num\n",
       "50           7.0          3.2           4.7          1.4            0\n",
       "51           6.4          3.2           4.5          1.5            0\n",
       "52           6.9          3.1           4.9          1.5            0\n",
       "53           5.5          2.3           4.0          1.3            0\n",
       "54           6.5          2.8           4.6          1.5            0"
      ]
     },
     "execution_count": 104,
     "metadata": {},
     "output_type": "execute_result"
    }
   ],
   "source": [
    "data_iris.head()"
   ]
  },
  {
   "cell_type": "markdown",
   "id": "gothic-absolute",
   "metadata": {},
   "source": [
    "## Реализация методом градиентного спуска"
   ]
  },
  {
   "cell_type": "code",
   "execution_count": 177,
   "id": "infinite-membership",
   "metadata": {},
   "outputs": [
    {
     "name": "stdout",
     "output_type": "stream",
     "text": [
      "4.75988717776054\n",
      "0.9152862970459443\n",
      "0.8978437520810278\n",
      "0.8829656372402284\n",
      "0.8684426985063541\n",
      "0.8542694257827854\n",
      "0.8404401075528051\n",
      "0.8269488520033209\n",
      "0.8137896079775959\n",
      "0.8009561856259669\n",
      "=====================================================================================================\n",
      "0.1981965268345224 -0.329339921127702 1.147187170190122 -0.2706829424888639 0.0481054698525843\n"
     ]
    }
   ],
   "source": [
    "x1, x2, x3, x4, y = data_iris.sepal_length, data_iris.sepal_width, data_iris.petal_length, data_iris.petal_width, data_iris.variety_num\n",
    "EPOCHS = 50\n",
    "lr =  0.05\n",
    "\n",
    "grad_loss = []\n",
    "theta = np.random.normal(size=(5,))\n",
    "\n",
    "for _ in range(EPOCHS):\n",
    "    \n",
    "    # Классифицирующая функция, пропущенная через сигмоиду\n",
    "    predictions = theta[0] + theta[1] * x1 + theta[2] * x2 + theta[3] * x3 + theta[4] * x4\n",
    "    h = 1. / (1 + np.exp(-predictions))\n",
    "    \n",
    "    theta[0] -= lr * np.sum(h - y) / len(predictions)\n",
    "    theta[1] -= lr * np.sum(x1 * (h - y))/ len(predictions)\n",
    "    theta[2] -= lr * np.sum(x2 * (h - y)) / len(predictions)\n",
    "    theta[3] -= lr * np.sum(x3 * (h - y)) / len(predictions)\n",
    "    theta[4] -= lr * np.sum(x4 * (h - y)) / len(predictions)\n",
    "    \n",
    "    loss = np.sum(((-y) * np.log(h)) - ((1 - y) * np.log(1 - h))) / len(predictions)\n",
    "    grad_loss.append(loss)\n",
    "    \n",
    "    if _ % 5 == 0:\n",
    "        print(loss)\n",
    "        \n",
    "print('=====================================================================================================')    \n",
    "print(theta[0], theta[1], theta[2], theta[3], theta[4])"
   ]
  },
  {
   "cell_type": "code",
   "execution_count": 178,
   "id": "worth-surge",
   "metadata": {},
   "outputs": [
    {
     "data": {
      "image/png": "[encoded data removed]",
      "text/plain": [
       "<Figure size 432x288 with 1 Axes>"
      ]
     },
     "metadata": {
      "needs_background": "light"
     },
     "output_type": "display_data"
    }
   ],
   "source": [
    "plt.plot(grad_loss);"
   ]
  },
  {
   "cell_type": "markdown",
   "id": "level-bhutan",
   "metadata": {},
   "source": [
    "### Реализация методом nesterov momentum"
   ]
  },
  {
   "cell_type": "code",
   "execution_count": 234,
   "id": "electoral-senate",
   "metadata": {},
   "outputs": [
    {
     "name": "stdout",
     "output_type": "stream",
     "text": [
      "1.1629634217358231\n",
      "0.5302180162311249\n",
      "0.48616937941756583\n",
      "0.338249600908806\n",
      "0.30126592999395163\n",
      "=====================================================================================================\n",
      "-1.3753896585236303 -2.031014201457457 -0.8146404524465622 3.280397961192116 0.2588656939761262\n"
     ]
    }
   ],
   "source": [
    "x1, x2, x3, x4, y = data_iris.sepal_length, data_iris.sepal_width, data_iris.petal_length, data_iris.petal_width, data_iris.variety_num\n",
    "EPOCHS = 50\n",
    "lr =  0.5\n",
    "alpha = 0.8\n",
    "exp_avg_0, exp_avg_1, exp_avg_2, exp_avg_3, exp_avg_4 = 0, 0, 0, 0, 0\n",
    "\n",
    "nest_loss = []\n",
    "theta = np.random.normal(size=(5,))\n",
    "\n",
    "for _ in range(EPOCHS):\n",
    "    nester_0 = theta[0] - (alpha * exp_avg_0)\n",
    "    nester_1 = theta[1] - (alpha * exp_avg_1)\n",
    "    nester_2 = theta[2] - (alpha * exp_avg_2)\n",
    "    nester_3 = theta[3] - (alpha * exp_avg_3)\n",
    "    nester_4 = theta[4] - (alpha * exp_avg_4)\n",
    "    predictions = nester_0 + nester_1 * x1 + nester_2 * x2 + nester_3 * x3 + nester_4 * x4\n",
    "    \n",
    "    h = 1. / (1 + np.exp(-predictions))\n",
    "    loss = np.sum(((-y) * np.log(h)) - ((1 - y) * np.log(1 - h))) / len(predictions)\n",
    "    nest_loss.append(loss)\n",
    "\n",
    "    exp_avg_0 = (alpha * exp_avg_0) + (lr*(1-alpha)) * np.sum(h - y) / len(predictions)\n",
    "    exp_avg_1 = (alpha * exp_avg_1) + (lr*(1-alpha)) * np.sum(x1 * (h - y)) / len(predictions)\n",
    "    exp_avg_2 = (alpha * exp_avg_2) + (lr*(1-alpha)) * np.sum(x2 * (h - y)) / len(predictions)\n",
    "    exp_avg_3 = (alpha * exp_avg_3) + (lr*(1-alpha)) * np.sum(x3 * (h - y)) / len(predictions)\n",
    "    exp_avg_4 = (alpha * exp_avg_4) + (lr*(1-alpha)) * np.sum(x4 * (h - y)) / len(predictions)\n",
    "    \n",
    "    \n",
    "    theta[0] -= exp_avg_0\n",
    "    theta[1] -= exp_avg_1\n",
    "    theta[2] -= exp_avg_2\n",
    "    theta[3] -= exp_avg_3\n",
    "    theta[4] -= exp_avg_4\n",
    "    \n",
    "    if _ % 10 == 0:\n",
    "        print(loss)\n",
    "\n",
    "print('=====================================================================================================')   \n",
    "print(theta[0], theta[1], theta[2], theta[3], theta[4])"
   ]
  },
  {
   "cell_type": "code",
   "execution_count": 235,
   "id": "important-scanning",
   "metadata": {},
   "outputs": [
    {
     "data": {
      "image/png": "[encoded data removed]",
      "text/plain": [
       "<Figure size 432x288 with 1 Axes>"
      ]
     },
     "metadata": {
      "needs_background": "light"
     },
     "output_type": "display_data"
    }
   ],
   "source": [
    "plt.plot(nest_loss);"
   ]
  },
  {
   "cell_type": "markdown",
   "id": "minute-maine",
   "metadata": {},
   "source": [
    "### Реализация методом rmsprop"
   ]
  },
  {
   "cell_type": "code",
   "execution_count": 238,
   "id": "appointed-nicaragua",
   "metadata": {},
   "outputs": [
    {
     "name": "stdout",
     "output_type": "stream",
     "text": [
      "2.302412774041258\n",
      "0.5660768988912556\n",
      "0.5596061326656988\n",
      "0.5533891565531651\n",
      "0.547309324769451\n",
      "0.5413693172314362\n",
      "0.5355663227025884\n",
      "0.5298967076259736\n",
      "0.5243567855601788\n",
      "0.5189429425946335\n",
      "=====================================================================================================\n",
      "-0.25243851362638625 -1.2546376317269492 1.0652671015071766 0.7749159087263022 0.832315675888724\n"
     ]
    }
   ],
   "source": [
    "x1, x2, x3, x4, y = data_iris.sepal_length, data_iris.sepal_width, data_iris.petal_length, data_iris.petal_width, data_iris.variety_num\n",
    "EPOCHS = 50\n",
    "lr =  0.05\n",
    "alpha = 0.7\n",
    "exp_avg_0, exp_avg_1, exp_avg_2, exp_avg_3, exp_avg_4 = 0, 0, 0, 0, 0\n",
    "eps = 1\n",
    "\n",
    "rmsp_loss = []\n",
    "theta = np.random.normal(size=(5,))\n",
    "\n",
    "for _ in range(EPOCHS):\n",
    "    \n",
    "    predictions = theta[0] + theta[1] * x1 + theta[2] * x2 + theta[3] * x3 + theta[4] * x4\n",
    "    \n",
    "    h = 1. / (1 + np.exp(-predictions))\n",
    "    loss = np.sum(((-y) * np.log(h)) - ((1 - y) * np.log(1 - h))) / len(predictions)\n",
    "    rmsp_loss.append(loss)\n",
    "\n",
    "    exp_avg_0 = (alpha * exp_avg_0) + (lr*(1-alpha)) * ((np.sum(h - y) / len(predictions))**2)\n",
    "    exp_avg_1 = (alpha * exp_avg_1) + (lr*(1-alpha)) * ((np.sum(x1 * (h - y)) / len(predictions))**2)\n",
    "    exp_avg_2 = (alpha * exp_avg_2) + (lr*(1-alpha)) * ((np.sum(x2 * (h - y)) / len(predictions))**2)\n",
    "    exp_avg_3 = (alpha * exp_avg_3) + (lr*(1-alpha)) * ((np.sum(x3 * (h - y)) / len(predictions))**2)\n",
    "    exp_avg_4 = (alpha * exp_avg_4) + (lr*(1-alpha)) * ((np.sum(x4 * (h - y)) / len(predictions))**2)\n",
    "    \n",
    "    \n",
    "    theta[0] -= (lr / np.sqrt(exp_avg_0 + eps)) * (np.sum(h - y) / len(predictions))\n",
    "    theta[1] -= (lr / np.sqrt(exp_avg_1 + eps)) * (np.sum(x1 * (h - y)) / len(predictions))\n",
    "    theta[2] -= (lr / np.sqrt(exp_avg_2 + eps)) * (np.sum(x2 * (h - y)) / len(predictions))\n",
    "    theta[3] -= (lr / np.sqrt(exp_avg_3 + eps)) * (np.sum(x3 * (h - y)) / len(predictions))\n",
    "    theta[4] -= (lr / np.sqrt(exp_avg_4 + eps)) * (np.sum(x4 * (h - y)) / len(predictions))\n",
    "    \n",
    "    if _ % 5 == 0:\n",
    "        print(loss)\n",
    "    \n",
    "print('=====================================================================================================')   \n",
    "print(theta[0], theta[1], theta[2], theta[3], theta[4])"
   ]
  },
  {
   "cell_type": "code",
   "execution_count": 239,
   "id": "transparent-clear",
   "metadata": {},
   "outputs": [
    {
     "data": {
      "image/png": "[encoded data removed]",
      "text/plain": [
       "<Figure size 432x288 with 1 Axes>"
      ]
     },
     "metadata": {
      "needs_background": "light"
     },
     "output_type": "display_data"
    }
   ],
   "source": [
    "plt.plot(rmsp_loss);"
   ]
  },
  {
   "cell_type": "code",
   "execution_count": 240,
   "id": "accepting-ideal",
   "metadata": {},
   "outputs": [
    {
     "data": {
      "image/png": "[encoded data removed]",
      "text/plain": [
       "<Figure size 1152x864 with 1 Axes>"
      ]
     },
     "metadata": {
      "needs_background": "light"
     },
     "output_type": "display_data"
    }
   ],
   "source": [
    "# Сравним скорость убывания ошибки\n",
    "\n",
    "plt.figure(figsize=(16,12), edgecolor = 'black')\n",
    "plt.plot(range(50), grad_loss, label='Gradient loss' )\n",
    "plt.plot(range(50), nest_loss, label='Nesterov momentum loss' )\n",
    "plt.plot(range(50), rmsp_loss, label='RMSProp loss' )\n",
    "plt.title('Compare losses')\n",
    "plt.xlabel('$Step$', fontsize=35)\n",
    "plt.ylabel('$Loss$', fontsize=35)\n",
    "plt.legend()\n",
    "plt.grid()\n",
    "plt.show()"
   ]
  },
  {
   "cell_type": "code",
   "execution_count": null,
   "id": "coated-zoning",
   "metadata": {},
   "outputs": [],
   "source": []
  }
 ],
 "metadata": {
  "kernelspec": {
   "display_name": "Python 3",
   "language": "python",
   "name": "python3"
  },
  "language_info": {
   "codemirror_mode": {
    "name": "ipython",
    "version": 3
   },
   "file_extension": ".py",
   "mimetype": "text/x-python",
   "name": "python",
   "nbconvert_exporter": "python",
   "pygments_lexer": "ipython3",
   "version": "3.8.5"
  }
 },
 "nbformat": 4,
 "nbformat_minor": 5
}
