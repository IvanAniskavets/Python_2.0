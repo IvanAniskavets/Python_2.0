{
 "cells": [
  {
   "cell_type": "markdown",
   "id": "corrected-bolivia",
   "metadata": {},
   "source": [
    "### Уровень 0:  \n",
    "Посчитайте значение первой и второй производной функции:  \n",
    "\n",
    "$f(x) = x^5 + 4sin(2x) + cos(3x+3)$  \n",
    "\n",
    "В точке x = 1.  \n",
    "\n",
    "### Уровень 1:  \n",
    "Постройте график первой и второй производной функции:  \n",
    "\n",
    "$f(x) = sin^5(2x+1)$  \n",
    "\n",
    "На отрезке [-5; 5].  "
   ]
  },
  {
   "cell_type": "code",
   "execution_count": 1,
   "id": "dutch-proposal",
   "metadata": {},
   "outputs": [],
   "source": [
    "import numpy as np\n",
    "from sympy import *\n",
    "from scipy.misc import derivative\n",
    "import matplotlib.pyplot as plt"
   ]
  },
  {
   "cell_type": "markdown",
   "id": "prostate-means",
   "metadata": {},
   "source": [
    "### Уровень 0:  "
   ]
  },
  {
   "cell_type": "code",
   "execution_count": 10,
   "id": "comic-advocacy",
   "metadata": {},
   "outputs": [
    {
     "name": "stdout",
     "output_type": "stream",
     "text": [
      "Первая производная : 5*x**4 - 3*sin(3*x + 3) + 8*cos(2*x)\n",
      "Вторая производная : 20*x**3 - 16*sin(2*x) - 9*cos(3*x + 3)\n"
     ]
    }
   ],
   "source": [
    "x, y = symbols('x y')\n",
    "function = x**5 + 4 * sin(2 * x) + cos( 3 * x + 3)\n",
    "dif_1 = diff(function, x)\n",
    "dif_2 = diff(diff(function, x))\n",
    "print(\"Первая производная : {}\".format(dif_1))\n",
    "print(\"Вторая производная : {}\".format(dif_2))"
   ]
  },
  {
   "cell_type": "code",
   "execution_count": 12,
   "id": "valuable-metadata",
   "metadata": {},
   "outputs": [
    {
     "name": "stdout",
     "output_type": "stream",
     "text": [
      "Значение первой производная : 2.50907180221964\n",
      "Значение второй производная : -3.19029140906420\n"
     ]
    }
   ],
   "source": [
    "x = symbols('x')\n",
    "dif_1 = diff(function, x).evalf(subs={'x':1})\n",
    "dif_2 = diff(diff(function, x)).evalf(subs={'x':1})\n",
    "print(\"Значение первой производная : {}\".format(dif_1))\n",
    "print(\"Значение второй производная : {}\".format(dif_2))"
   ]
  },
  {
   "cell_type": "code",
   "execution_count": 6,
   "id": "mysterious-equilibrium",
   "metadata": {},
   "outputs": [
    {
     "name": "stdout",
     "output_type": "stream",
     "text": [
      "5.597359993953093\n"
     ]
    }
   ],
   "source": [
    "x, y = symbols('x y')\n",
    "x = 1\n",
    "function = x**5 + 4 * np.sin(2 * x) + np.cos( 3 * x + 3)\n",
    "\n",
    "print(function)"
   ]
  },
  {
   "cell_type": "code",
   "execution_count": 7,
   "id": "neutral-white",
   "metadata": {},
   "outputs": [],
   "source": [
    "# функция\n",
    "\n",
    "def f(x):\n",
    "    return x**5 + 4 * np.sin(2 * x) + np.cos( 3 * x + 3)"
   ]
  },
  {
   "cell_type": "code",
   "execution_count": 8,
   "id": "charitable-rogers",
   "metadata": {},
   "outputs": [
    {
     "name": "stdout",
     "output_type": "stream",
     "text": [
      "2.509071801881646\n",
      "-3.19033688356285\n"
     ]
    }
   ],
   "source": [
    "x = 1.\n",
    "\n",
    "print(derivative(f, x, dx=1e-6)) # первая производная\n",
    "print(derivative(f, x, dx=1e-6, n=2)) # вторая производная"
   ]
  },
  {
   "cell_type": "markdown",
   "id": "russian-series",
   "metadata": {},
   "source": [
    "### Уровень 1:  "
   ]
  },
  {
   "cell_type": "code",
   "execution_count": 13,
   "id": "concerned-architect",
   "metadata": {},
   "outputs": [
    {
     "name": "stdout",
     "output_type": "stream",
     "text": [
      "Первая производная : 10*sin(2*x + 1)**4*cos(2*x + 1)\n",
      "Вторая производная : -20*sin(2*x + 1)**5 + 80*sin(2*x + 1)**3*cos(2*x + 1)**2\n"
     ]
    }
   ],
   "source": [
    "x, y = symbols('x y')\n",
    "function = sin(2*x + 1)**5\n",
    "dif_1 = diff(function, x)\n",
    "dif_2 = diff(diff(function, x))\n",
    "print(\"Первая производная : {}\".format(dif_1))\n",
    "print(\"Вторая производная : {}\".format(dif_2))"
   ]
  },
  {
   "cell_type": "code",
   "execution_count": 14,
   "id": "crude-toyota",
   "metadata": {},
   "outputs": [
    {
     "name": "stdout",
     "output_type": "stream",
     "text": [
      "Значение первой производная : -0.00392632525355076\n",
      "Значение второй производная : 0.219233937838113\n"
     ]
    }
   ],
   "source": [
    "x = symbols('x')\n",
    "dif_1 = diff(function, x).evalf(subs={'x':1})\n",
    "dif_2 = diff(diff(function, x)).evalf(subs={'x':1})\n",
    "print(\"Значение первой производная : {}\".format(dif_1))\n",
    "print(\"Значение второй производная : {}\".format(dif_2))"
   ]
  },
  {
   "cell_type": "code",
   "execution_count": 16,
   "id": "individual-angel",
   "metadata": {},
   "outputs": [
    {
     "name": "stdout",
     "output_type": "stream",
     "text": [
      "5.596840918788986e-05\n"
     ]
    }
   ],
   "source": [
    "x, y = symbols('x y')\n",
    "x = 1\n",
    "function = np.sin(2*x + 1)**5\n",
    "\n",
    "print(function)"
   ]
  },
  {
   "cell_type": "code",
   "execution_count": 17,
   "id": "million-malawi",
   "metadata": {},
   "outputs": [],
   "source": [
    "def f(x):\n",
    "    return np.sin(2*x + 1)**5"
   ]
  },
  {
   "cell_type": "code",
   "execution_count": 18,
   "id": "romantic-vision",
   "metadata": {},
   "outputs": [
    {
     "name": "stdout",
     "output_type": "stream",
     "text": [
      "-0.003926325255169277\n",
      "0.21923485433745366\n"
     ]
    }
   ],
   "source": [
    "x = 1.\n",
    "\n",
    "print(derivative(f, x, dx=1e-6)) # первая производная\n",
    "print(derivative(f, x, dx=1e-6, n=2)) # вторая производная"
   ]
  },
  {
   "cell_type": "code",
   "execution_count": null,
   "id": "acoustic-antigua",
   "metadata": {},
   "outputs": [],
   "source": [
    "x, y = symbols('x y')\n",
    "function = sin(2*x + 1)**5\n",
    "dif_1 = diff(function, x)\n",
    "dif_2 = diff(dif, x)\n",
    "print(\"Первая производная : {}\".format(dif_1))\n",
    "print(\"Вторая производная : {}\".format(dif_2))"
   ]
  },
  {
   "cell_type": "code",
   "execution_count": null,
   "id": "outstanding-schedule",
   "metadata": {},
   "outputs": [],
   "source": [
    "x = symbols('x')\n",
    "dif_1 = diff(function, x).evalf(subs={'x':1})\n",
    "dif_2 = diff(dif_1, x).evalf(subs={'x':1})\n",
    "print(\"Значение первой производная : {}\".format(dif_1))\n",
    "print(\"Значение второй производная : {}\".format(dif_2))"
   ]
  },
  {
   "cell_type": "code",
   "execution_count": null,
   "id": "solid-mailing",
   "metadata": {},
   "outputs": [],
   "source": [
    "x = 1.\n",
    "\n",
    "print(derivative(f, x, dx=1e-6)) # первая производная\n",
    "print(derivative(f, x, dx=1e-6, n=2)) # вторая производная"
   ]
  },
  {
   "cell_type": "code",
   "execution_count": null,
   "id": "correct-disability",
   "metadata": {},
   "outputs": [],
   "source": [
    "def f(x):\n",
    "    return np.sin(2*x + 1)**5"
   ]
  },
  {
   "cell_type": "code",
   "execution_count": 41,
   "id": "aging-conclusion",
   "metadata": {},
   "outputs": [
    {
     "name": "stdout",
     "output_type": "stream",
     "text": [
      "Shape x: (500,)\n",
      "========================================================\n",
      "Shape y: (500,)\n",
      "Shape yp: (500,)\n",
      "Shape ypp: (500,)\n"
     ]
    }
   ],
   "source": [
    "#x = np.arange(-5., 6.)\n",
    "x_array = np.linspace(-5., 5., 500)\n",
    "\n",
    "print(\"Shape x:\", x_array.shape)\n",
    "print('========================================================')\n",
    "\n",
    "\n",
    "\n",
    "y = np.array([f(x) for x in x_array])\n",
    "yp = np.array([derivative(f, x, dx=1e-6) for x in x_array])\n",
    "ypp = np.array([derivative(f, x, dx=1e-6, n=2) for x in x_array])\n",
    "\n",
    "\n",
    "print(\"Shape y:\", y.shape)\n",
    "print(\"Shape yp:\", yp.shape)\n",
    "print(\"Shape ypp:\", ypp.shape)"
   ]
  },
  {
   "cell_type": "code",
   "execution_count": 40,
   "id": "preliminary-negative",
   "metadata": {},
   "outputs": [
    {
     "data": {
      "image/png": "[encoded data removed]",
      "text/plain": [
       "<Figure size 432x288 with 1 Axes>"
      ]
     },
     "metadata": {
      "needs_background": "light"
     },
     "output_type": "display_data"
    }
   ],
   "source": [
    "plt.plot(x_array, y, label='y')\n",
    "plt.plot(x_array, yp, label=\"y'\")\n",
    "plt.plot(x_array, ypp, label=\"y''\")\n",
    "plt.grid(True)\n",
    "plt.axis([-6, 6, -12, 20])\n",
    "plt.xlabel(\"x\")\n",
    "plt.ylabel(\"y\")\n",
    "plt.legend()\n",
    "plt.show()"
   ]
  },
  {
   "cell_type": "code",
   "execution_count": null,
   "id": "magnetic-content",
   "metadata": {},
   "outputs": [],
   "source": []
  }
 ],
 "metadata": {
  "kernelspec": {
   "display_name": "Python 3",
   "language": "python",
   "name": "python3"
  },
  "language_info": {
   "codemirror_mode": {
    "name": "ipython",
    "version": 3
   },
   "file_extension": ".py",
   "mimetype": "text/x-python",
   "name": "python",
   "nbconvert_exporter": "python",
   "pygments_lexer": "ipython3",
   "version": "3.8.5"
  }
 },
 "nbformat": 4,
 "nbformat_minor": 5
}
